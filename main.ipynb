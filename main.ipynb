{
 "cells": [
  {
   "cell_type": "code",
   "execution_count": 122,
   "metadata": {},
   "outputs": [],
   "source": [
    "import os\n",
    "\n",
    "import pandas as pd\n",
    "import numpy as np\n",
    "\n",
    "from sklearn.model_selection import train_test_split"
   ]
  },
  {
   "cell_type": "markdown",
   "metadata": {},
   "source": [
    "## Import dataset"
   ]
  },
  {
   "cell_type": "code",
   "execution_count": 106,
   "metadata": {},
   "outputs": [
    {
     "output_type": "execute_result",
     "data": {
      "text/plain": "'/home/brendan/Documents/Jupyter/projet_data'"
     },
     "metadata": {},
     "execution_count": 106
    }
   ],
   "source": [
    "# See working directory (No need, just for myself)\n",
    "os.getcwd()"
   ]
  },
  {
   "cell_type": "code",
   "execution_count": 107,
   "metadata": {},
   "outputs": [],
   "source": [
    "df = pd.read_csv('./data_cars.csv')"
   ]
  },
  {
   "cell_type": "code",
   "execution_count": 108,
   "metadata": {},
   "outputs": [
    {
     "output_type": "execute_result",
     "data": {
      "text/plain": "      Price        Make         Model  Model_year      Mileage  \\\n0   11220.0     PEUGEOT           308        2014   94341.0 km   \n1   57526.0         BMW            X6        2015   39051.0 km   \n2   80379.0        AUDI           RS6        2014   75381.0 km   \n3    2830.0        FORD            KA        2007   92282.0 km   \n4   12925.0        FIAT          TIPO        2018      10.0 km   \n5   27956.0         BMW            X3        2012   95623.0 km   \n6   16888.0        AUDI            A3        2013   49018.0 km   \n7   18188.0     RENAULT        MEGANE        2017    9795.0 km   \n8   10594.0        FORD         C-MAX        2012  126670.0 km   \n9   69131.0    MERCEDES      CLASSE C        2015   39439.0 km   \n10  14158.0        SEAT         IBIZA        2017   12464.0 km   \n11  18824.0        MINI          MINI        2015   25662.0 km   \n12  18683.0        FIAT         500 X        2017   25693.0 km   \n13   2945.0        FORD        MONDEO        2004  113417.0 km   \n14   6934.0     HYUNDAI           I20        2012   38494.0 km   \n15  11906.0       DACIA       SANDERO        2017      50.0 km   \n16  14384.0     PEUGEOT           208        2018      10.0 km   \n17   6432.0  VOLKSWAGEN          GOLF        2010  229377.0 km   \n18   6824.0     CITROEN            C3        2014  111206.0 km   \n19  20675.0      TOYOTA         AURIS        2017   25282.0 km   \n20  21439.0     HYUNDAI           I30        2017     987.0 km   \n21  13934.0  VOLKSWAGEN          POLO        2017   10319.0 km   \n22  25407.0     RENAULT        MEGANE        2018      20.0 km   \n23  32472.0         BMW       SERIE 1        2017      10.0 km   \n24  34948.0      JAGUAR           XKR        2007   74235.0 km   \n25  23750.0    MERCEDES      CLASSE B        2016   19970.0 km   \n26  12887.0     PEUGEOT           208        2016   13039.0 km   \n27  24466.0         BMW       SERIE 1        2016   20082.0 km   \n28  12925.0     RENAULT          CLIO        2016    9231.0 km   \n29  18746.0  VOLKSWAGEN        TOURAN        2017   22623.0 km   \n30  23165.0        AUDI            A3        2015   75407.0 km   \n31   8927.0     PEUGEOT           308        2011   52000.0 km   \n32  10384.0    MERCEDES      CLASSE R        2006  194688.0 km   \n33  29862.0  VOLKSWAGEN        TIGUAN        2017   11423.0 km   \n34  23990.0     RENAULT      TALISMAN        2017    8096.0 km   \n35  12938.0        OPEL         ASTRA        2016   36573.0 km   \n36   7410.0     RENAULT  GRAND SCENIC        2013  186595.0 km   \n37  13428.0     PEUGEOT           208        2017    9760.0 km   \n38   9016.0        AUDI            A4        2007  138690.0 km   \n39   9831.0     CITROEN           DS3        2011  120749.0 km   \n40   4010.0     PEUGEOT           407        2007  205437.0 km   \n41  11894.0  VOLKSWAGEN          GOLF        2013   99699.0 km   \n42  18382.0       DACIA        DUSTER        2017      10.0 km   \n43  57298.0     PORSCHE         MACAN        2015   93902.0 km   \n44   8909.0     RENAULT          CLIO        2008   71630.0 km   \n45  34126.0        AUDI            A3        2018    8248.0 km   \n46  19032.0      NISSAN       QASHQAI        2015   52920.0 km   \n47  27733.0         BMW       SERIE 1        2018     100.0 km   \n48  23933.0     RENAULT        KADJAR        2016   12078.0 km   \n49   9910.0     CITROEN            C3        2014   59905.0 km   \n\n                          Fuel      Gearbox              Online  \\\n0                       Diesel    mécanique   06/07/2018 à 3h47   \n1                       Diesel  automatique  03/04/2018 à 16h41   \n2                      Essence  automatique   30/07/2018 à 1h55   \n3                      Essence    mécanique  09/07/2018 à 14h12   \n4                      Essence    mécanique   19/05/2018 à 3h52   \n5                       Diesel  automatique   14/03/2018 à 4h24   \n6                       Diesel    mécanique  16/04/2018 à 21h35   \n7                       Diesel  automatique  29/04/2018 à 12h44   \n8                       Diesel    mécanique   22/06/2018 à 5h11   \n9                      Essence  automatique  08/03/2018 à 17h35   \n10                      Diesel    mécanique   25/02/2018 à 1h15   \n11                      Diesel  automatique   02/06/2018 à 5h31   \n12                     Essence  automatique   14/03/2018 à 7h49   \n13                     Essence    mécanique  02/05/2018 à 10h17   \n14                      Diesel    mécanique  01/07/2018 à 15h43   \n15                     Essence    mécanique   15/05/2018 à 8h10   \n16                     Essence    mécanique   12/05/2018 à 6h19   \n17                      Diesel  automatique  02/07/2018 à 14h29   \n18                      Diesel    mécanique  05/09/2018 à 20h56   \n19  Hybride essence électrique  automatique   31/03/2018 à 7h57   \n20                      Diesel    mécanique  02/10/2018 à 17h52   \n21                     Essence    mécanique   05/04/2018 à 1h18   \n22                     Essence  automatique  26/08/2018 à 21h30   \n23                      Diesel  automatique  22/06/2018 à 14h41   \n24                     Essence  automatique   05/09/2018 à 1h11   \n25                      Diesel  automatique  12/06/2018 à 14h45   \n26                      Diesel    mécanique   16/07/2018 à 9h13   \n27                      Diesel    mécanique  18/07/2018 à 20h38   \n28                      Diesel    mécanique   10/05/2018 à 7h29   \n29                      Diesel    mécanique  30/07/2018 à 12h31   \n30                      Diesel  automatique   15/04/2018 à 5h16   \n31                     Essence    mécanique  08/06/2018 à 22h32   \n32                      Diesel  automatique  13/08/2018 à 15h30   \n33                      Diesel    mécanique  10/04/2018 à 19h34   \n34                      Diesel  automatique   03/07/2018 à 5h53   \n35                      Diesel    mécanique   24/04/2018 à 3h34   \n36                      Diesel  automatique   28/05/2018 à 9h53   \n37                     Essence    mécanique  04/08/2018 à 16h40   \n38                      Diesel    mécanique   15/02/2018 à 6h38   \n39                      Diesel    mécanique  15/05/2018 à 10h14   \n40                      Diesel    mécanique   22/07/2018 à 7h25   \n41                      Diesel    mécanique   06/02/2018 à 8h51   \n42                      Diesel    mécanique  31/08/2018 à 19h37   \n43                      Diesel  automatique   02/04/2018 à 9h31   \n44                     Essence    mécanique  30/08/2018 à 15h32   \n45                      Diesel  automatique   01/04/2018 à 2h54   \n46                      Diesel  automatique   21/05/2018 à 5h40   \n47                      Diesel    mécanique  21/05/2018 à 12h18   \n48                      Diesel    mécanique  10/07/2018 à 12h40   \n49                      Diesel    mécanique   29/05/2018 à 7h50   \n\n                                          Description  \n0   modele: 308 (2E GENERATION), version: 1.6 HDI ...  \n1   modele: X6 F16, version: (F16) XDRIVE30D 258 M...  \n2   modele: RS6 (3E GENERATION) AVANT, version: II...  \n3   modele: KA, version: 1.3 70 FUN, puissance_fis...  \n4   modele: TIPO 2 SW, version: II SW 1.4 95 POP, ...  \n5   modele: X3 F25, version: (F25) XDRIVE35D 313 S...  \n6   modele: A3 (2E GENERATION) SPORTBACK, version:...  \n7   modele: MEGANE 4 ESTATE, version: IV ESTATE 1....  \n8   modele: C-MAX 2, version: II 1.6 TDCI 115 FAP ...  \n9   modele: CLASSE C 4 AMG, version: (W205) 63 AMG...  \n10  modele: IBIZA 4, version: IV (2) 1.4 TDI 90 CO...  \n11  modele: MINI 3 5P, version: III 1.5 COOPER D 1...  \n12  modele: 500 X, version: 1.4 MULTIAIR 140 LOUNG...  \n13  modele: MONDEO, version: (2) 1.8 125 GHIA 5P, ...  \n14  modele: I20, version: (2) 1.1 CRDI 75 PACK INV...  \n15  modele: SANDERO 2 STEPWAY, version: II (2) STE...  \n16  modele: 208, version: (2) 1.2 PURETECH 82 ALLU...  \n17  modele: GOLF 6, version: VI 2.0 TDI 110 FAP BL...  \n18  modele: C3 (2E GENERATION), version: II (2) 1....  \n19  modele: AURIS 2 TOURING SPORTS, version: HSD 1...  \n20  modele: I30 (3E GENERATION) SW, version: III S...  \n21  modele: POLO 5, version: V (2) 1.0 75 MATCH 5P...  \n22  modele: , version: 1.6 TCE 205 EDC GT BOSE TPA...  \n23  modele: SERIE 1 F20 5 PORTES, version: (F20) (...  \n24  modele: XKR CABRIOLET, version: CABRIOLET 4.2 ...  \n25  modele: CLASSE B 2, version: II (2) 180 D SENS...  \n26  modele: 208, version: (2) 1.6 BLUEHDI 75 ACTIV...  \n27  modele: SERIE 1 F20 5 PORTES, version: (F20) (...  \n28  modele: CLIO 4, version: IV 1.5 DCI 90 INTENS ...  \n29  modele: TOURAN 3, version: 1.6 TDI 115 EDITION...  \n30  modele: A3 (3E GENERATION) CABRIOLET, version:...  \n31  modele: 308, version: (2) 1.6 VTI 120 ACTIVE B...  \n32  modele: CLASSE R, version: COURT 320 CDI 4MATI...  \n33  modele: TIGUAN 2, version: II 2.0 TDI 150 BLUE...  \n34  modele: TALISMAN, version: 1.6 DCI 130 ENERGY ...  \n35  modele: ASTRA 5, version: V 1.6 CDTI 110 EDITI...  \n36  modele: GRAND SCENIC 3, version: III (2) 1.5 D...  \n37  modele: 208, version: (2) 1.2 PURETECH 82 ALLU...  \n38  modele: A4 (3E GENERATION) AVANT, version: III...  \n39  modele: DS3, version: 1.6 HDI 110 FAP 6CV AIRD...  \n40  modele: 407, version: 2.0 HDI 136 EXECUTIVE, p...  \n41  modele: GOLF 7, version: VII 1.6 TDI 105 BLUEM...  \n42  modele: DUSTER 2, version: II 1.5 DCI 110 PRES...  \n43  modele: MACAN, version: 3.0 V6 S DIESEL, puiss...  \n44  modele: CLIO 3 RS, version: III 2.0 16V 200 RS...  \n45  modele: A3 (3E GENERATION) SPORTBACK, version:...  \n46  modele: QASHQAI 2, version: II 1.6 DCI 130 TEK...  \n47  modele: SERIE 1 F20 5 PORTES, version: (F20) (...  \n48  modele: KADJAR, version: 1.6 DCI 130 ENERGY IN...  \n49  modele: C3 (2E GENERATION), version: II (2) 1....  ",
      "text/html": "<div>\n<style scoped>\n    .dataframe tbody tr th:only-of-type {\n        vertical-align: middle;\n    }\n\n    .dataframe tbody tr th {\n        vertical-align: top;\n    }\n\n    .dataframe thead th {\n        text-align: right;\n    }\n</style>\n<table border=\"1\" class=\"dataframe\">\n  <thead>\n    <tr style=\"text-align: right;\">\n      <th></th>\n      <th>Price</th>\n      <th>Make</th>\n      <th>Model</th>\n      <th>Model_year</th>\n      <th>Mileage</th>\n      <th>Fuel</th>\n      <th>Gearbox</th>\n      <th>Online</th>\n      <th>Description</th>\n    </tr>\n  </thead>\n  <tbody>\n    <tr>\n      <th>0</th>\n      <td>11220.0</td>\n      <td>PEUGEOT</td>\n      <td>308</td>\n      <td>2014</td>\n      <td>94341.0 km</td>\n      <td>Diesel</td>\n      <td>mécanique</td>\n      <td>06/07/2018 à 3h47</td>\n      <td>modele: 308 (2E GENERATION), version: 1.6 HDI ...</td>\n    </tr>\n    <tr>\n      <th>1</th>\n      <td>57526.0</td>\n      <td>BMW</td>\n      <td>X6</td>\n      <td>2015</td>\n      <td>39051.0 km</td>\n      <td>Diesel</td>\n      <td>automatique</td>\n      <td>03/04/2018 à 16h41</td>\n      <td>modele: X6 F16, version: (F16) XDRIVE30D 258 M...</td>\n    </tr>\n    <tr>\n      <th>2</th>\n      <td>80379.0</td>\n      <td>AUDI</td>\n      <td>RS6</td>\n      <td>2014</td>\n      <td>75381.0 km</td>\n      <td>Essence</td>\n      <td>automatique</td>\n      <td>30/07/2018 à 1h55</td>\n      <td>modele: RS6 (3E GENERATION) AVANT, version: II...</td>\n    </tr>\n    <tr>\n      <th>3</th>\n      <td>2830.0</td>\n      <td>FORD</td>\n      <td>KA</td>\n      <td>2007</td>\n      <td>92282.0 km</td>\n      <td>Essence</td>\n      <td>mécanique</td>\n      <td>09/07/2018 à 14h12</td>\n      <td>modele: KA, version: 1.3 70 FUN, puissance_fis...</td>\n    </tr>\n    <tr>\n      <th>4</th>\n      <td>12925.0</td>\n      <td>FIAT</td>\n      <td>TIPO</td>\n      <td>2018</td>\n      <td>10.0 km</td>\n      <td>Essence</td>\n      <td>mécanique</td>\n      <td>19/05/2018 à 3h52</td>\n      <td>modele: TIPO 2 SW, version: II SW 1.4 95 POP, ...</td>\n    </tr>\n    <tr>\n      <th>5</th>\n      <td>27956.0</td>\n      <td>BMW</td>\n      <td>X3</td>\n      <td>2012</td>\n      <td>95623.0 km</td>\n      <td>Diesel</td>\n      <td>automatique</td>\n      <td>14/03/2018 à 4h24</td>\n      <td>modele: X3 F25, version: (F25) XDRIVE35D 313 S...</td>\n    </tr>\n    <tr>\n      <th>6</th>\n      <td>16888.0</td>\n      <td>AUDI</td>\n      <td>A3</td>\n      <td>2013</td>\n      <td>49018.0 km</td>\n      <td>Diesel</td>\n      <td>mécanique</td>\n      <td>16/04/2018 à 21h35</td>\n      <td>modele: A3 (2E GENERATION) SPORTBACK, version:...</td>\n    </tr>\n    <tr>\n      <th>7</th>\n      <td>18188.0</td>\n      <td>RENAULT</td>\n      <td>MEGANE</td>\n      <td>2017</td>\n      <td>9795.0 km</td>\n      <td>Diesel</td>\n      <td>automatique</td>\n      <td>29/04/2018 à 12h44</td>\n      <td>modele: MEGANE 4 ESTATE, version: IV ESTATE 1....</td>\n    </tr>\n    <tr>\n      <th>8</th>\n      <td>10594.0</td>\n      <td>FORD</td>\n      <td>C-MAX</td>\n      <td>2012</td>\n      <td>126670.0 km</td>\n      <td>Diesel</td>\n      <td>mécanique</td>\n      <td>22/06/2018 à 5h11</td>\n      <td>modele: C-MAX 2, version: II 1.6 TDCI 115 FAP ...</td>\n    </tr>\n    <tr>\n      <th>9</th>\n      <td>69131.0</td>\n      <td>MERCEDES</td>\n      <td>CLASSE C</td>\n      <td>2015</td>\n      <td>39439.0 km</td>\n      <td>Essence</td>\n      <td>automatique</td>\n      <td>08/03/2018 à 17h35</td>\n      <td>modele: CLASSE C 4 AMG, version: (W205) 63 AMG...</td>\n    </tr>\n    <tr>\n      <th>10</th>\n      <td>14158.0</td>\n      <td>SEAT</td>\n      <td>IBIZA</td>\n      <td>2017</td>\n      <td>12464.0 km</td>\n      <td>Diesel</td>\n      <td>mécanique</td>\n      <td>25/02/2018 à 1h15</td>\n      <td>modele: IBIZA 4, version: IV (2) 1.4 TDI 90 CO...</td>\n    </tr>\n    <tr>\n      <th>11</th>\n      <td>18824.0</td>\n      <td>MINI</td>\n      <td>MINI</td>\n      <td>2015</td>\n      <td>25662.0 km</td>\n      <td>Diesel</td>\n      <td>automatique</td>\n      <td>02/06/2018 à 5h31</td>\n      <td>modele: MINI 3 5P, version: III 1.5 COOPER D 1...</td>\n    </tr>\n    <tr>\n      <th>12</th>\n      <td>18683.0</td>\n      <td>FIAT</td>\n      <td>500 X</td>\n      <td>2017</td>\n      <td>25693.0 km</td>\n      <td>Essence</td>\n      <td>automatique</td>\n      <td>14/03/2018 à 7h49</td>\n      <td>modele: 500 X, version: 1.4 MULTIAIR 140 LOUNG...</td>\n    </tr>\n    <tr>\n      <th>13</th>\n      <td>2945.0</td>\n      <td>FORD</td>\n      <td>MONDEO</td>\n      <td>2004</td>\n      <td>113417.0 km</td>\n      <td>Essence</td>\n      <td>mécanique</td>\n      <td>02/05/2018 à 10h17</td>\n      <td>modele: MONDEO, version: (2) 1.8 125 GHIA 5P, ...</td>\n    </tr>\n    <tr>\n      <th>14</th>\n      <td>6934.0</td>\n      <td>HYUNDAI</td>\n      <td>I20</td>\n      <td>2012</td>\n      <td>38494.0 km</td>\n      <td>Diesel</td>\n      <td>mécanique</td>\n      <td>01/07/2018 à 15h43</td>\n      <td>modele: I20, version: (2) 1.1 CRDI 75 PACK INV...</td>\n    </tr>\n    <tr>\n      <th>15</th>\n      <td>11906.0</td>\n      <td>DACIA</td>\n      <td>SANDERO</td>\n      <td>2017</td>\n      <td>50.0 km</td>\n      <td>Essence</td>\n      <td>mécanique</td>\n      <td>15/05/2018 à 8h10</td>\n      <td>modele: SANDERO 2 STEPWAY, version: II (2) STE...</td>\n    </tr>\n    <tr>\n      <th>16</th>\n      <td>14384.0</td>\n      <td>PEUGEOT</td>\n      <td>208</td>\n      <td>2018</td>\n      <td>10.0 km</td>\n      <td>Essence</td>\n      <td>mécanique</td>\n      <td>12/05/2018 à 6h19</td>\n      <td>modele: 208, version: (2) 1.2 PURETECH 82 ALLU...</td>\n    </tr>\n    <tr>\n      <th>17</th>\n      <td>6432.0</td>\n      <td>VOLKSWAGEN</td>\n      <td>GOLF</td>\n      <td>2010</td>\n      <td>229377.0 km</td>\n      <td>Diesel</td>\n      <td>automatique</td>\n      <td>02/07/2018 à 14h29</td>\n      <td>modele: GOLF 6, version: VI 2.0 TDI 110 FAP BL...</td>\n    </tr>\n    <tr>\n      <th>18</th>\n      <td>6824.0</td>\n      <td>CITROEN</td>\n      <td>C3</td>\n      <td>2014</td>\n      <td>111206.0 km</td>\n      <td>Diesel</td>\n      <td>mécanique</td>\n      <td>05/09/2018 à 20h56</td>\n      <td>modele: C3 (2E GENERATION), version: II (2) 1....</td>\n    </tr>\n    <tr>\n      <th>19</th>\n      <td>20675.0</td>\n      <td>TOYOTA</td>\n      <td>AURIS</td>\n      <td>2017</td>\n      <td>25282.0 km</td>\n      <td>Hybride essence électrique</td>\n      <td>automatique</td>\n      <td>31/03/2018 à 7h57</td>\n      <td>modele: AURIS 2 TOURING SPORTS, version: HSD 1...</td>\n    </tr>\n    <tr>\n      <th>20</th>\n      <td>21439.0</td>\n      <td>HYUNDAI</td>\n      <td>I30</td>\n      <td>2017</td>\n      <td>987.0 km</td>\n      <td>Diesel</td>\n      <td>mécanique</td>\n      <td>02/10/2018 à 17h52</td>\n      <td>modele: I30 (3E GENERATION) SW, version: III S...</td>\n    </tr>\n    <tr>\n      <th>21</th>\n      <td>13934.0</td>\n      <td>VOLKSWAGEN</td>\n      <td>POLO</td>\n      <td>2017</td>\n      <td>10319.0 km</td>\n      <td>Essence</td>\n      <td>mécanique</td>\n      <td>05/04/2018 à 1h18</td>\n      <td>modele: POLO 5, version: V (2) 1.0 75 MATCH 5P...</td>\n    </tr>\n    <tr>\n      <th>22</th>\n      <td>25407.0</td>\n      <td>RENAULT</td>\n      <td>MEGANE</td>\n      <td>2018</td>\n      <td>20.0 km</td>\n      <td>Essence</td>\n      <td>automatique</td>\n      <td>26/08/2018 à 21h30</td>\n      <td>modele: , version: 1.6 TCE 205 EDC GT BOSE TPA...</td>\n    </tr>\n    <tr>\n      <th>23</th>\n      <td>32472.0</td>\n      <td>BMW</td>\n      <td>SERIE 1</td>\n      <td>2017</td>\n      <td>10.0 km</td>\n      <td>Diesel</td>\n      <td>automatique</td>\n      <td>22/06/2018 à 14h41</td>\n      <td>modele: SERIE 1 F20 5 PORTES, version: (F20) (...</td>\n    </tr>\n    <tr>\n      <th>24</th>\n      <td>34948.0</td>\n      <td>JAGUAR</td>\n      <td>XKR</td>\n      <td>2007</td>\n      <td>74235.0 km</td>\n      <td>Essence</td>\n      <td>automatique</td>\n      <td>05/09/2018 à 1h11</td>\n      <td>modele: XKR CABRIOLET, version: CABRIOLET 4.2 ...</td>\n    </tr>\n    <tr>\n      <th>25</th>\n      <td>23750.0</td>\n      <td>MERCEDES</td>\n      <td>CLASSE B</td>\n      <td>2016</td>\n      <td>19970.0 km</td>\n      <td>Diesel</td>\n      <td>automatique</td>\n      <td>12/06/2018 à 14h45</td>\n      <td>modele: CLASSE B 2, version: II (2) 180 D SENS...</td>\n    </tr>\n    <tr>\n      <th>26</th>\n      <td>12887.0</td>\n      <td>PEUGEOT</td>\n      <td>208</td>\n      <td>2016</td>\n      <td>13039.0 km</td>\n      <td>Diesel</td>\n      <td>mécanique</td>\n      <td>16/07/2018 à 9h13</td>\n      <td>modele: 208, version: (2) 1.6 BLUEHDI 75 ACTIV...</td>\n    </tr>\n    <tr>\n      <th>27</th>\n      <td>24466.0</td>\n      <td>BMW</td>\n      <td>SERIE 1</td>\n      <td>2016</td>\n      <td>20082.0 km</td>\n      <td>Diesel</td>\n      <td>mécanique</td>\n      <td>18/07/2018 à 20h38</td>\n      <td>modele: SERIE 1 F20 5 PORTES, version: (F20) (...</td>\n    </tr>\n    <tr>\n      <th>28</th>\n      <td>12925.0</td>\n      <td>RENAULT</td>\n      <td>CLIO</td>\n      <td>2016</td>\n      <td>9231.0 km</td>\n      <td>Diesel</td>\n      <td>mécanique</td>\n      <td>10/05/2018 à 7h29</td>\n      <td>modele: CLIO 4, version: IV 1.5 DCI 90 INTENS ...</td>\n    </tr>\n    <tr>\n      <th>29</th>\n      <td>18746.0</td>\n      <td>VOLKSWAGEN</td>\n      <td>TOURAN</td>\n      <td>2017</td>\n      <td>22623.0 km</td>\n      <td>Diesel</td>\n      <td>mécanique</td>\n      <td>30/07/2018 à 12h31</td>\n      <td>modele: TOURAN 3, version: 1.6 TDI 115 EDITION...</td>\n    </tr>\n    <tr>\n      <th>30</th>\n      <td>23165.0</td>\n      <td>AUDI</td>\n      <td>A3</td>\n      <td>2015</td>\n      <td>75407.0 km</td>\n      <td>Diesel</td>\n      <td>automatique</td>\n      <td>15/04/2018 à 5h16</td>\n      <td>modele: A3 (3E GENERATION) CABRIOLET, version:...</td>\n    </tr>\n    <tr>\n      <th>31</th>\n      <td>8927.0</td>\n      <td>PEUGEOT</td>\n      <td>308</td>\n      <td>2011</td>\n      <td>52000.0 km</td>\n      <td>Essence</td>\n      <td>mécanique</td>\n      <td>08/06/2018 à 22h32</td>\n      <td>modele: 308, version: (2) 1.6 VTI 120 ACTIVE B...</td>\n    </tr>\n    <tr>\n      <th>32</th>\n      <td>10384.0</td>\n      <td>MERCEDES</td>\n      <td>CLASSE R</td>\n      <td>2006</td>\n      <td>194688.0 km</td>\n      <td>Diesel</td>\n      <td>automatique</td>\n      <td>13/08/2018 à 15h30</td>\n      <td>modele: CLASSE R, version: COURT 320 CDI 4MATI...</td>\n    </tr>\n    <tr>\n      <th>33</th>\n      <td>29862.0</td>\n      <td>VOLKSWAGEN</td>\n      <td>TIGUAN</td>\n      <td>2017</td>\n      <td>11423.0 km</td>\n      <td>Diesel</td>\n      <td>mécanique</td>\n      <td>10/04/2018 à 19h34</td>\n      <td>modele: TIGUAN 2, version: II 2.0 TDI 150 BLUE...</td>\n    </tr>\n    <tr>\n      <th>34</th>\n      <td>23990.0</td>\n      <td>RENAULT</td>\n      <td>TALISMAN</td>\n      <td>2017</td>\n      <td>8096.0 km</td>\n      <td>Diesel</td>\n      <td>automatique</td>\n      <td>03/07/2018 à 5h53</td>\n      <td>modele: TALISMAN, version: 1.6 DCI 130 ENERGY ...</td>\n    </tr>\n    <tr>\n      <th>35</th>\n      <td>12938.0</td>\n      <td>OPEL</td>\n      <td>ASTRA</td>\n      <td>2016</td>\n      <td>36573.0 km</td>\n      <td>Diesel</td>\n      <td>mécanique</td>\n      <td>24/04/2018 à 3h34</td>\n      <td>modele: ASTRA 5, version: V 1.6 CDTI 110 EDITI...</td>\n    </tr>\n    <tr>\n      <th>36</th>\n      <td>7410.0</td>\n      <td>RENAULT</td>\n      <td>GRAND SCENIC</td>\n      <td>2013</td>\n      <td>186595.0 km</td>\n      <td>Diesel</td>\n      <td>automatique</td>\n      <td>28/05/2018 à 9h53</td>\n      <td>modele: GRAND SCENIC 3, version: III (2) 1.5 D...</td>\n    </tr>\n    <tr>\n      <th>37</th>\n      <td>13428.0</td>\n      <td>PEUGEOT</td>\n      <td>208</td>\n      <td>2017</td>\n      <td>9760.0 km</td>\n      <td>Essence</td>\n      <td>mécanique</td>\n      <td>04/08/2018 à 16h40</td>\n      <td>modele: 208, version: (2) 1.2 PURETECH 82 ALLU...</td>\n    </tr>\n    <tr>\n      <th>38</th>\n      <td>9016.0</td>\n      <td>AUDI</td>\n      <td>A4</td>\n      <td>2007</td>\n      <td>138690.0 km</td>\n      <td>Diesel</td>\n      <td>mécanique</td>\n      <td>15/02/2018 à 6h38</td>\n      <td>modele: A4 (3E GENERATION) AVANT, version: III...</td>\n    </tr>\n    <tr>\n      <th>39</th>\n      <td>9831.0</td>\n      <td>CITROEN</td>\n      <td>DS3</td>\n      <td>2011</td>\n      <td>120749.0 km</td>\n      <td>Diesel</td>\n      <td>mécanique</td>\n      <td>15/05/2018 à 10h14</td>\n      <td>modele: DS3, version: 1.6 HDI 110 FAP 6CV AIRD...</td>\n    </tr>\n    <tr>\n      <th>40</th>\n      <td>4010.0</td>\n      <td>PEUGEOT</td>\n      <td>407</td>\n      <td>2007</td>\n      <td>205437.0 km</td>\n      <td>Diesel</td>\n      <td>mécanique</td>\n      <td>22/07/2018 à 7h25</td>\n      <td>modele: 407, version: 2.0 HDI 136 EXECUTIVE, p...</td>\n    </tr>\n    <tr>\n      <th>41</th>\n      <td>11894.0</td>\n      <td>VOLKSWAGEN</td>\n      <td>GOLF</td>\n      <td>2013</td>\n      <td>99699.0 km</td>\n      <td>Diesel</td>\n      <td>mécanique</td>\n      <td>06/02/2018 à 8h51</td>\n      <td>modele: GOLF 7, version: VII 1.6 TDI 105 BLUEM...</td>\n    </tr>\n    <tr>\n      <th>42</th>\n      <td>18382.0</td>\n      <td>DACIA</td>\n      <td>DUSTER</td>\n      <td>2017</td>\n      <td>10.0 km</td>\n      <td>Diesel</td>\n      <td>mécanique</td>\n      <td>31/08/2018 à 19h37</td>\n      <td>modele: DUSTER 2, version: II 1.5 DCI 110 PRES...</td>\n    </tr>\n    <tr>\n      <th>43</th>\n      <td>57298.0</td>\n      <td>PORSCHE</td>\n      <td>MACAN</td>\n      <td>2015</td>\n      <td>93902.0 km</td>\n      <td>Diesel</td>\n      <td>automatique</td>\n      <td>02/04/2018 à 9h31</td>\n      <td>modele: MACAN, version: 3.0 V6 S DIESEL, puiss...</td>\n    </tr>\n    <tr>\n      <th>44</th>\n      <td>8909.0</td>\n      <td>RENAULT</td>\n      <td>CLIO</td>\n      <td>2008</td>\n      <td>71630.0 km</td>\n      <td>Essence</td>\n      <td>mécanique</td>\n      <td>30/08/2018 à 15h32</td>\n      <td>modele: CLIO 3 RS, version: III 2.0 16V 200 RS...</td>\n    </tr>\n    <tr>\n      <th>45</th>\n      <td>34126.0</td>\n      <td>AUDI</td>\n      <td>A3</td>\n      <td>2018</td>\n      <td>8248.0 km</td>\n      <td>Diesel</td>\n      <td>automatique</td>\n      <td>01/04/2018 à 2h54</td>\n      <td>modele: A3 (3E GENERATION) SPORTBACK, version:...</td>\n    </tr>\n    <tr>\n      <th>46</th>\n      <td>19032.0</td>\n      <td>NISSAN</td>\n      <td>QASHQAI</td>\n      <td>2015</td>\n      <td>52920.0 km</td>\n      <td>Diesel</td>\n      <td>automatique</td>\n      <td>21/05/2018 à 5h40</td>\n      <td>modele: QASHQAI 2, version: II 1.6 DCI 130 TEK...</td>\n    </tr>\n    <tr>\n      <th>47</th>\n      <td>27733.0</td>\n      <td>BMW</td>\n      <td>SERIE 1</td>\n      <td>2018</td>\n      <td>100.0 km</td>\n      <td>Diesel</td>\n      <td>mécanique</td>\n      <td>21/05/2018 à 12h18</td>\n      <td>modele: SERIE 1 F20 5 PORTES, version: (F20) (...</td>\n    </tr>\n    <tr>\n      <th>48</th>\n      <td>23933.0</td>\n      <td>RENAULT</td>\n      <td>KADJAR</td>\n      <td>2016</td>\n      <td>12078.0 km</td>\n      <td>Diesel</td>\n      <td>mécanique</td>\n      <td>10/07/2018 à 12h40</td>\n      <td>modele: KADJAR, version: 1.6 DCI 130 ENERGY IN...</td>\n    </tr>\n    <tr>\n      <th>49</th>\n      <td>9910.0</td>\n      <td>CITROEN</td>\n      <td>C3</td>\n      <td>2014</td>\n      <td>59905.0 km</td>\n      <td>Diesel</td>\n      <td>mécanique</td>\n      <td>29/05/2018 à 7h50</td>\n      <td>modele: C3 (2E GENERATION), version: II (2) 1....</td>\n    </tr>\n  </tbody>\n</table>\n</div>"
     },
     "metadata": {},
     "execution_count": 108
    }
   ],
   "source": [
    "df.head(50)"
   ]
  },
  {
   "cell_type": "markdown",
   "metadata": {},
   "source": [
    "## Some data cleaning"
   ]
  },
  {
   "cell_type": "markdown",
   "metadata": {},
   "source": [
    "### Data checks"
   ]
  },
  {
   "cell_type": "code",
   "execution_count": 109,
   "metadata": {},
   "outputs": [
    {
     "output_type": "execute_result",
     "data": {
      "text/plain": "Price          0\nMake           0\nModel          0\nModel_year     0\nMileage        0\nFuel           0\nGearbox        0\nOnline         0\nDescription    0\ndtype: int64"
     },
     "metadata": {},
     "execution_count": 109
    }
   ],
   "source": [
    "# Check for null values\n",
    "df.isnull().sum()"
   ]
  },
  {
   "cell_type": "code",
   "execution_count": 110,
   "metadata": {},
   "outputs": [
    {
     "output_type": "execute_result",
     "data": {
      "text/plain": "Price          0\nMake           0\nModel          0\nModel_year     0\nMileage        0\nFuel           0\nGearbox        0\nOnline         0\nDescription    0\ndtype: int64"
     },
     "metadata": {},
     "execution_count": 110
    }
   ],
   "source": [
    "# Check for invalid numbers\n",
    "df.isna().sum()"
   ]
  },
  {
   "cell_type": "code",
   "execution_count": 111,
   "metadata": {},
   "outputs": [
    {
     "output_type": "execute_result",
     "data": {
      "text/plain": "(array([], dtype=int64), array([], dtype=int64))"
     },
     "metadata": {},
     "execution_count": 111
    }
   ],
   "source": [
    "# Find empty strings\n",
    "np.where(df.applymap(lambda x: x == ''))"
   ]
  },
  {
   "cell_type": "markdown",
   "metadata": {},
   "source": [
    "### Data types conversions"
   ]
  },
  {
   "cell_type": "code",
   "execution_count": 112,
   "metadata": {},
   "outputs": [
    {
     "output_type": "execute_result",
     "data": {
      "text/plain": "     Price     Make Model  Model_year  Mileage     Fuel      Gearbox  \\\n0  11220.0  PEUGEOT   308        2014  94341.0   Diesel    mécanique   \n1  57526.0      BMW    X6        2015  39051.0   Diesel  automatique   \n2  80379.0     AUDI   RS6        2014  75381.0  Essence  automatique   \n3   2830.0     FORD    KA        2007  92282.0  Essence    mécanique   \n4  12925.0     FIAT  TIPO        2018     10.0  Essence    mécanique   \n\n               Online                                        Description  \n0   06/07/2018 à 3h47  modele: 308 (2E GENERATION), version: 1.6 HDI ...  \n1  03/04/2018 à 16h41  modele: X6 F16, version: (F16) XDRIVE30D 258 M...  \n2   30/07/2018 à 1h55  modele: RS6 (3E GENERATION) AVANT, version: II...  \n3  09/07/2018 à 14h12  modele: KA, version: 1.3 70 FUN, puissance_fis...  \n4   19/05/2018 à 3h52  modele: TIPO 2 SW, version: II SW 1.4 95 POP, ...  ",
      "text/html": "<div>\n<style scoped>\n    .dataframe tbody tr th:only-of-type {\n        vertical-align: middle;\n    }\n\n    .dataframe tbody tr th {\n        vertical-align: top;\n    }\n\n    .dataframe thead th {\n        text-align: right;\n    }\n</style>\n<table border=\"1\" class=\"dataframe\">\n  <thead>\n    <tr style=\"text-align: right;\">\n      <th></th>\n      <th>Price</th>\n      <th>Make</th>\n      <th>Model</th>\n      <th>Model_year</th>\n      <th>Mileage</th>\n      <th>Fuel</th>\n      <th>Gearbox</th>\n      <th>Online</th>\n      <th>Description</th>\n    </tr>\n  </thead>\n  <tbody>\n    <tr>\n      <th>0</th>\n      <td>11220.0</td>\n      <td>PEUGEOT</td>\n      <td>308</td>\n      <td>2014</td>\n      <td>94341.0</td>\n      <td>Diesel</td>\n      <td>mécanique</td>\n      <td>06/07/2018 à 3h47</td>\n      <td>modele: 308 (2E GENERATION), version: 1.6 HDI ...</td>\n    </tr>\n    <tr>\n      <th>1</th>\n      <td>57526.0</td>\n      <td>BMW</td>\n      <td>X6</td>\n      <td>2015</td>\n      <td>39051.0</td>\n      <td>Diesel</td>\n      <td>automatique</td>\n      <td>03/04/2018 à 16h41</td>\n      <td>modele: X6 F16, version: (F16) XDRIVE30D 258 M...</td>\n    </tr>\n    <tr>\n      <th>2</th>\n      <td>80379.0</td>\n      <td>AUDI</td>\n      <td>RS6</td>\n      <td>2014</td>\n      <td>75381.0</td>\n      <td>Essence</td>\n      <td>automatique</td>\n      <td>30/07/2018 à 1h55</td>\n      <td>modele: RS6 (3E GENERATION) AVANT, version: II...</td>\n    </tr>\n    <tr>\n      <th>3</th>\n      <td>2830.0</td>\n      <td>FORD</td>\n      <td>KA</td>\n      <td>2007</td>\n      <td>92282.0</td>\n      <td>Essence</td>\n      <td>mécanique</td>\n      <td>09/07/2018 à 14h12</td>\n      <td>modele: KA, version: 1.3 70 FUN, puissance_fis...</td>\n    </tr>\n    <tr>\n      <th>4</th>\n      <td>12925.0</td>\n      <td>FIAT</td>\n      <td>TIPO</td>\n      <td>2018</td>\n      <td>10.0</td>\n      <td>Essence</td>\n      <td>mécanique</td>\n      <td>19/05/2018 à 3h52</td>\n      <td>modele: TIPO 2 SW, version: II SW 1.4 95 POP, ...</td>\n    </tr>\n  </tbody>\n</table>\n</div>"
     },
     "metadata": {},
     "execution_count": 112
    }
   ],
   "source": [
    "## Remove kilometers and convert to number\n",
    "df[\"Mileage\"] = df[\"Mileage\"].str.replace(' km', '').astype(\"float64\")\n",
    "df.head(5)"
   ]
  },
  {
   "cell_type": "code",
   "execution_count": 113,
   "metadata": {},
   "outputs": [
    {
     "output_type": "execute_result",
     "data": {
      "text/plain": "Price          float64\nMake            object\nModel           object\nModel_year       int64\nMileage        float64\nFuel            object\nGearbox         object\nOnline          object\nDescription     object\ndtype: object"
     },
     "metadata": {},
     "execution_count": 113
    }
   ],
   "source": [
    "df.dtypes"
   ]
  },
  {
   "cell_type": "code",
   "execution_count": 114,
   "metadata": {},
   "outputs": [
    {
     "output_type": "execute_result",
     "data": {
      "text/plain": "0"
     },
     "metadata": {},
     "execution_count": 114
    }
   ],
   "source": [
    "df[\"Mileage\"].isna().sum()"
   ]
  },
  {
   "cell_type": "code",
   "execution_count": 115,
   "metadata": {},
   "outputs": [],
   "source": [
    "# We don't really need the \"Online\" column as it seems to indicate the last user authentication\n",
    "# df = df.drop(\"Online\", axis=1)"
   ]
  },
  {
   "cell_type": "markdown",
   "metadata": {},
   "source": [
    "### Hot encoding"
   ]
  },
  {
   "cell_type": "code",
   "execution_count": 116,
   "metadata": {},
   "outputs": [
    {
     "output_type": "execute_result",
     "data": {
      "text/plain": "array(['Diesel', 'Essence', 'Hybride essence électrique', 'Electrique',\n       'Bicarburation essence GNV', 'Hybride diesel électrique',\n       'Bicarburation essence GPL', 'Bicarburation essence bioéthanol'],\n      dtype=object)"
     },
     "metadata": {},
     "execution_count": 116
    }
   ],
   "source": [
    "# List categorical columns\n",
    "df[\"Fuel\"].unique()"
   ]
  },
  {
   "cell_type": "code",
   "execution_count": 117,
   "metadata": {},
   "outputs": [
    {
     "output_type": "execute_result",
     "data": {
      "text/plain": "array(['mécanique', 'automatique'], dtype=object)"
     },
     "metadata": {},
     "execution_count": 117
    }
   ],
   "source": [
    "# List categorical columns for Gearbox\n",
    "df[\"Gearbox\"].unique()"
   ]
  },
  {
   "cell_type": "code",
   "execution_count": 118,
   "metadata": {},
   "outputs": [],
   "source": [
    "df = pd.get_dummies(df, columns=[\"Gearbox\"], drop_first=True)"
   ]
  },
  {
   "cell_type": "code",
   "execution_count": 119,
   "metadata": {},
   "outputs": [],
   "source": [
    "# List categorical columns\n",
    "df = pd.get_dummies(df, columns=[\"Fuel\"])"
   ]
  },
  {
   "cell_type": "code",
   "execution_count": 121,
   "metadata": {},
   "outputs": [
    {
     "output_type": "execute_result",
     "data": {
      "text/plain": "     Price     Make Model  Model_year  Mileage              Online  \\\n0  11220.0  PEUGEOT   308        2014  94341.0   06/07/2018 à 3h47   \n1  57526.0      BMW    X6        2015  39051.0  03/04/2018 à 16h41   \n2  80379.0     AUDI   RS6        2014  75381.0   30/07/2018 à 1h55   \n3   2830.0     FORD    KA        2007  92282.0  09/07/2018 à 14h12   \n4  12925.0     FIAT  TIPO        2018     10.0   19/05/2018 à 3h52   \n\n                                         Description  Gearbox_mécanique  \\\n0  modele: 308 (2E GENERATION), version: 1.6 HDI ...                  1   \n1  modele: X6 F16, version: (F16) XDRIVE30D 258 M...                  0   \n2  modele: RS6 (3E GENERATION) AVANT, version: II...                  0   \n3  modele: KA, version: 1.3 70 FUN, puissance_fis...                  1   \n4  modele: TIPO 2 SW, version: II SW 1.4 95 POP, ...                  1   \n\n   Fuel_Bicarburation essence GNV  Fuel_Bicarburation essence GPL  \\\n0                               0                               0   \n1                               0                               0   \n2                               0                               0   \n3                               0                               0   \n4                               0                               0   \n\n   Fuel_Bicarburation essence bioéthanol  Fuel_Diesel  Fuel_Electrique  \\\n0                                      0            1                0   \n1                                      0            1                0   \n2                                      0            0                0   \n3                                      0            0                0   \n4                                      0            0                0   \n\n   Fuel_Essence  Fuel_Hybride diesel électrique  \\\n0             0                               0   \n1             0                               0   \n2             1                               0   \n3             1                               0   \n4             1                               0   \n\n   Fuel_Hybride essence électrique  \n0                                0  \n1                                0  \n2                                0  \n3                                0  \n4                                0  ",
      "text/html": "<div>\n<style scoped>\n    .dataframe tbody tr th:only-of-type {\n        vertical-align: middle;\n    }\n\n    .dataframe tbody tr th {\n        vertical-align: top;\n    }\n\n    .dataframe thead th {\n        text-align: right;\n    }\n</style>\n<table border=\"1\" class=\"dataframe\">\n  <thead>\n    <tr style=\"text-align: right;\">\n      <th></th>\n      <th>Price</th>\n      <th>Make</th>\n      <th>Model</th>\n      <th>Model_year</th>\n      <th>Mileage</th>\n      <th>Online</th>\n      <th>Description</th>\n      <th>Gearbox_mécanique</th>\n      <th>Fuel_Bicarburation essence GNV</th>\n      <th>Fuel_Bicarburation essence GPL</th>\n      <th>Fuel_Bicarburation essence bioéthanol</th>\n      <th>Fuel_Diesel</th>\n      <th>Fuel_Electrique</th>\n      <th>Fuel_Essence</th>\n      <th>Fuel_Hybride diesel électrique</th>\n      <th>Fuel_Hybride essence électrique</th>\n    </tr>\n  </thead>\n  <tbody>\n    <tr>\n      <th>0</th>\n      <td>11220.0</td>\n      <td>PEUGEOT</td>\n      <td>308</td>\n      <td>2014</td>\n      <td>94341.0</td>\n      <td>06/07/2018 à 3h47</td>\n      <td>modele: 308 (2E GENERATION), version: 1.6 HDI ...</td>\n      <td>1</td>\n      <td>0</td>\n      <td>0</td>\n      <td>0</td>\n      <td>1</td>\n      <td>0</td>\n      <td>0</td>\n      <td>0</td>\n      <td>0</td>\n    </tr>\n    <tr>\n      <th>1</th>\n      <td>57526.0</td>\n      <td>BMW</td>\n      <td>X6</td>\n      <td>2015</td>\n      <td>39051.0</td>\n      <td>03/04/2018 à 16h41</td>\n      <td>modele: X6 F16, version: (F16) XDRIVE30D 258 M...</td>\n      <td>0</td>\n      <td>0</td>\n      <td>0</td>\n      <td>0</td>\n      <td>1</td>\n      <td>0</td>\n      <td>0</td>\n      <td>0</td>\n      <td>0</td>\n    </tr>\n    <tr>\n      <th>2</th>\n      <td>80379.0</td>\n      <td>AUDI</td>\n      <td>RS6</td>\n      <td>2014</td>\n      <td>75381.0</td>\n      <td>30/07/2018 à 1h55</td>\n      <td>modele: RS6 (3E GENERATION) AVANT, version: II...</td>\n      <td>0</td>\n      <td>0</td>\n      <td>0</td>\n      <td>0</td>\n      <td>0</td>\n      <td>0</td>\n      <td>1</td>\n      <td>0</td>\n      <td>0</td>\n    </tr>\n    <tr>\n      <th>3</th>\n      <td>2830.0</td>\n      <td>FORD</td>\n      <td>KA</td>\n      <td>2007</td>\n      <td>92282.0</td>\n      <td>09/07/2018 à 14h12</td>\n      <td>modele: KA, version: 1.3 70 FUN, puissance_fis...</td>\n      <td>1</td>\n      <td>0</td>\n      <td>0</td>\n      <td>0</td>\n      <td>0</td>\n      <td>0</td>\n      <td>1</td>\n      <td>0</td>\n      <td>0</td>\n    </tr>\n    <tr>\n      <th>4</th>\n      <td>12925.0</td>\n      <td>FIAT</td>\n      <td>TIPO</td>\n      <td>2018</td>\n      <td>10.0</td>\n      <td>19/05/2018 à 3h52</td>\n      <td>modele: TIPO 2 SW, version: II SW 1.4 95 POP, ...</td>\n      <td>1</td>\n      <td>0</td>\n      <td>0</td>\n      <td>0</td>\n      <td>0</td>\n      <td>0</td>\n      <td>1</td>\n      <td>0</td>\n      <td>0</td>\n    </tr>\n  </tbody>\n</table>\n</div>"
     },
     "metadata": {},
     "execution_count": 121
    }
   ],
   "source": [
    "df.head(5)"
   ]
  },
  {
   "cell_type": "markdown",
   "metadata": {},
   "source": [
    "## Split"
   ]
  },
  {
   "cell_type": "code",
   "execution_count": 125,
   "metadata": {},
   "outputs": [],
   "source": [
    "features = [\n",
    "    \"Make\", \n",
    "    \"Model\", \n",
    "    \"Model_year\", \n",
    "    \"Gearbox_mécanique\",\n",
    "    \"Fuel_Bicarburation essence GNV\",\n",
    "    \"Fuel_Bicarburation essence GPL\",\n",
    "    \"Fuel_Bicarburation essence bioéthanol\",\n",
    "    \"Fuel_Diesel\",\n",
    "    \"Fuel_Electrique\",\n",
    "    \"Fuel_Essence\"\n",
    "]\n",
    "\n",
    "prediction = \"Price\"\n",
    "\n",
    "X = df[features]\n",
    "y = df[prediction]\n",
    "\n",
    "X_train, X_test, y_train, y_test = train_test_split(X, y, test_size=0.30, random_state=42)"
   ]
  },
  {
   "cell_type": "code",
   "execution_count": 130,
   "metadata": {},
   "outputs": [
    {
     "output_type": "execute_result",
     "data": {
      "text/plain": "((111685, 10), (55010, 10), (111685,), (55010,))"
     },
     "metadata": {},
     "execution_count": 130
    }
   ],
   "source": [
    "X_train.shape, X_test.shape, y_train.shape, y_test.shape"
   ]
  },
  {
   "cell_type": "code",
   "execution_count": 132,
   "metadata": {},
   "outputs": [
    {
     "output_type": "execute_result",
     "data": {
      "text/plain": "            Make     Model  Model_year  Gearbox_mécanique  \\\n105855  MERCEDES  CLASSE B        2016                  1   \n88455       FIAT       500        2018                  1   \n77593    RENAULT    LAGUNA        2015                  1   \n41297    PEUGEOT      3008        2018                  0   \n60408    PEUGEOT      3008        2016                  1   \n\n        Fuel_Bicarburation essence GNV  Fuel_Bicarburation essence GPL  \\\n105855                               0                               0   \n88455                                0                               0   \n77593                                0                               0   \n41297                                0                               0   \n60408                                0                               0   \n\n        Fuel_Bicarburation essence bioéthanol  Fuel_Diesel  Fuel_Electrique  \\\n105855                                      0            1                0   \n88455                                       0            0                0   \n77593                                       0            1                0   \n41297                                       0            0                0   \n60408                                       0            1                0   \n\n        Fuel_Essence  \n105855             0  \n88455              1  \n77593              0  \n41297              1  \n60408              0  ",
      "text/html": "<div>\n<style scoped>\n    .dataframe tbody tr th:only-of-type {\n        vertical-align: middle;\n    }\n\n    .dataframe tbody tr th {\n        vertical-align: top;\n    }\n\n    .dataframe thead th {\n        text-align: right;\n    }\n</style>\n<table border=\"1\" class=\"dataframe\">\n  <thead>\n    <tr style=\"text-align: right;\">\n      <th></th>\n      <th>Make</th>\n      <th>Model</th>\n      <th>Model_year</th>\n      <th>Gearbox_mécanique</th>\n      <th>Fuel_Bicarburation essence GNV</th>\n      <th>Fuel_Bicarburation essence GPL</th>\n      <th>Fuel_Bicarburation essence bioéthanol</th>\n      <th>Fuel_Diesel</th>\n      <th>Fuel_Electrique</th>\n      <th>Fuel_Essence</th>\n    </tr>\n  </thead>\n  <tbody>\n    <tr>\n      <th>105855</th>\n      <td>MERCEDES</td>\n      <td>CLASSE B</td>\n      <td>2016</td>\n      <td>1</td>\n      <td>0</td>\n      <td>0</td>\n      <td>0</td>\n      <td>1</td>\n      <td>0</td>\n      <td>0</td>\n    </tr>\n    <tr>\n      <th>88455</th>\n      <td>FIAT</td>\n      <td>500</td>\n      <td>2018</td>\n      <td>1</td>\n      <td>0</td>\n      <td>0</td>\n      <td>0</td>\n      <td>0</td>\n      <td>0</td>\n      <td>1</td>\n    </tr>\n    <tr>\n      <th>77593</th>\n      <td>RENAULT</td>\n      <td>LAGUNA</td>\n      <td>2015</td>\n      <td>1</td>\n      <td>0</td>\n      <td>0</td>\n      <td>0</td>\n      <td>1</td>\n      <td>0</td>\n      <td>0</td>\n    </tr>\n    <tr>\n      <th>41297</th>\n      <td>PEUGEOT</td>\n      <td>3008</td>\n      <td>2018</td>\n      <td>0</td>\n      <td>0</td>\n      <td>0</td>\n      <td>0</td>\n      <td>0</td>\n      <td>0</td>\n      <td>1</td>\n    </tr>\n    <tr>\n      <th>60408</th>\n      <td>PEUGEOT</td>\n      <td>3008</td>\n      <td>2016</td>\n      <td>1</td>\n      <td>0</td>\n      <td>0</td>\n      <td>0</td>\n      <td>1</td>\n      <td>0</td>\n      <td>0</td>\n    </tr>\n  </tbody>\n</table>\n</div>"
     },
     "metadata": {},
     "execution_count": 132
    }
   ],
   "source": [
    "X_train.head(5)"
   ]
  }
 ],
 "metadata": {
  "language_info": {
   "codemirror_mode": {
    "name": "ipython",
    "version": 3
   },
   "file_extension": ".py",
   "mimetype": "text/x-python",
   "name": "python",
   "nbconvert_exporter": "python",
   "pygments_lexer": "ipython3",
   "version": "3.6.9-final"
  },
  "orig_nbformat": 2,
  "kernelspec": {
   "name": "python3",
   "display_name": "Python 3"
  }
 },
 "nbformat": 4,
 "nbformat_minor": 2
}