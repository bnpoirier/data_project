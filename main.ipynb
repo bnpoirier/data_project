{
 "cells": [
  {
   "cell_type": "code",
   "execution_count": 116,
   "metadata": {},
   "outputs": [],
   "source": [
    "import os, re, pickle\n",
    "from datetime import datetime\n",
    "\n",
    "import pandas as pd\n",
    "import numpy as np\n",
    "import seaborn as sns\n",
    "\n",
    "from utils.process import categorize, scale, unidecode, tokenize, stem, stop_words\n",
    "from utils.model import mean_absolute_percentage_error\n",
    "\n",
    "from sklearn.model_selection import train_test_split, cross_val_score\n",
    "from sklearn.linear_model import LinearRegression\n",
    "from sklearn.ensemble import RandomForestRegressor\n",
    "from sklearn.preprocessing import StandardScaler\n",
    "from sklearn.decomposition import PCA\n",
    "from sklearn.feature_extraction.text import CountVectorizer\n",
    "from sklearn.metrics import mean_squared_error, r2_score"
   ]
  },
  {
   "cell_type": "markdown",
   "metadata": {},
   "source": [
    "## TODO\n",
    "\n",
    "- Test multiple algorithm (Create a model object)\n",
    "- CountVectorizer\n",
    "- Aggregate data from AutoPlus"
   ]
  },
  {
   "cell_type": "markdown",
   "metadata": {},
   "source": [
    "## Import dataset"
   ]
  },
  {
   "cell_type": "code",
   "execution_count": 2,
   "metadata": {},
   "outputs": [
    {
     "data": {
      "text/plain": [
       "'/home/brendan/Documents/Jupyter/projet_data'"
      ]
     },
     "execution_count": 2,
     "metadata": {},
     "output_type": "execute_result"
    }
   ],
   "source": [
    "# See working directory (No need, just for myself)\n",
    "os.getcwd()"
   ]
  },
  {
   "cell_type": "code",
   "execution_count": 3,
   "metadata": {},
   "outputs": [],
   "source": [
    "df = pd.read_csv('./data_cars.csv')"
   ]
  },
  {
   "cell_type": "code",
   "execution_count": 4,
   "metadata": {},
   "outputs": [
    {
     "data": {
      "text/html": [
       "<div>\n",
       "<style scoped>\n",
       "    .dataframe tbody tr th:only-of-type {\n",
       "        vertical-align: middle;\n",
       "    }\n",
       "\n",
       "    .dataframe tbody tr th {\n",
       "        vertical-align: top;\n",
       "    }\n",
       "\n",
       "    .dataframe thead th {\n",
       "        text-align: right;\n",
       "    }\n",
       "</style>\n",
       "<table border=\"1\" class=\"dataframe\">\n",
       "  <thead>\n",
       "    <tr style=\"text-align: right;\">\n",
       "      <th></th>\n",
       "      <th>Price</th>\n",
       "      <th>Make</th>\n",
       "      <th>Model</th>\n",
       "      <th>Model_year</th>\n",
       "      <th>Mileage</th>\n",
       "      <th>Fuel</th>\n",
       "      <th>Gearbox</th>\n",
       "      <th>Online</th>\n",
       "      <th>Description</th>\n",
       "    </tr>\n",
       "  </thead>\n",
       "  <tbody>\n",
       "    <tr>\n",
       "      <th>0</th>\n",
       "      <td>11220.0</td>\n",
       "      <td>PEUGEOT</td>\n",
       "      <td>308</td>\n",
       "      <td>2014</td>\n",
       "      <td>94341.0 km</td>\n",
       "      <td>Diesel</td>\n",
       "      <td>mécanique</td>\n",
       "      <td>06/07/2018 à 3h47</td>\n",
       "      <td>modele: 308 (2E GENERATION), version: 1.6 HDI ...</td>\n",
       "    </tr>\n",
       "    <tr>\n",
       "      <th>1</th>\n",
       "      <td>57526.0</td>\n",
       "      <td>BMW</td>\n",
       "      <td>X6</td>\n",
       "      <td>2015</td>\n",
       "      <td>39051.0 km</td>\n",
       "      <td>Diesel</td>\n",
       "      <td>automatique</td>\n",
       "      <td>03/04/2018 à 16h41</td>\n",
       "      <td>modele: X6 F16, version: (F16) XDRIVE30D 258 M...</td>\n",
       "    </tr>\n",
       "    <tr>\n",
       "      <th>2</th>\n",
       "      <td>80379.0</td>\n",
       "      <td>AUDI</td>\n",
       "      <td>RS6</td>\n",
       "      <td>2014</td>\n",
       "      <td>75381.0 km</td>\n",
       "      <td>Essence</td>\n",
       "      <td>automatique</td>\n",
       "      <td>30/07/2018 à 1h55</td>\n",
       "      <td>modele: RS6 (3E GENERATION) AVANT, version: II...</td>\n",
       "    </tr>\n",
       "    <tr>\n",
       "      <th>3</th>\n",
       "      <td>2830.0</td>\n",
       "      <td>FORD</td>\n",
       "      <td>KA</td>\n",
       "      <td>2007</td>\n",
       "      <td>92282.0 km</td>\n",
       "      <td>Essence</td>\n",
       "      <td>mécanique</td>\n",
       "      <td>09/07/2018 à 14h12</td>\n",
       "      <td>modele: KA, version: 1.3 70 FUN, puissance_fis...</td>\n",
       "    </tr>\n",
       "    <tr>\n",
       "      <th>4</th>\n",
       "      <td>12925.0</td>\n",
       "      <td>FIAT</td>\n",
       "      <td>TIPO</td>\n",
       "      <td>2018</td>\n",
       "      <td>10.0 km</td>\n",
       "      <td>Essence</td>\n",
       "      <td>mécanique</td>\n",
       "      <td>19/05/2018 à 3h52</td>\n",
       "      <td>modele: TIPO 2 SW, version: II SW 1.4 95 POP, ...</td>\n",
       "    </tr>\n",
       "    <tr>\n",
       "      <th>5</th>\n",
       "      <td>27956.0</td>\n",
       "      <td>BMW</td>\n",
       "      <td>X3</td>\n",
       "      <td>2012</td>\n",
       "      <td>95623.0 km</td>\n",
       "      <td>Diesel</td>\n",
       "      <td>automatique</td>\n",
       "      <td>14/03/2018 à 4h24</td>\n",
       "      <td>modele: X3 F25, version: (F25) XDRIVE35D 313 S...</td>\n",
       "    </tr>\n",
       "    <tr>\n",
       "      <th>6</th>\n",
       "      <td>16888.0</td>\n",
       "      <td>AUDI</td>\n",
       "      <td>A3</td>\n",
       "      <td>2013</td>\n",
       "      <td>49018.0 km</td>\n",
       "      <td>Diesel</td>\n",
       "      <td>mécanique</td>\n",
       "      <td>16/04/2018 à 21h35</td>\n",
       "      <td>modele: A3 (2E GENERATION) SPORTBACK, version:...</td>\n",
       "    </tr>\n",
       "    <tr>\n",
       "      <th>7</th>\n",
       "      <td>18188.0</td>\n",
       "      <td>RENAULT</td>\n",
       "      <td>MEGANE</td>\n",
       "      <td>2017</td>\n",
       "      <td>9795.0 km</td>\n",
       "      <td>Diesel</td>\n",
       "      <td>automatique</td>\n",
       "      <td>29/04/2018 à 12h44</td>\n",
       "      <td>modele: MEGANE 4 ESTATE, version: IV ESTATE 1....</td>\n",
       "    </tr>\n",
       "    <tr>\n",
       "      <th>8</th>\n",
       "      <td>10594.0</td>\n",
       "      <td>FORD</td>\n",
       "      <td>C-MAX</td>\n",
       "      <td>2012</td>\n",
       "      <td>126670.0 km</td>\n",
       "      <td>Diesel</td>\n",
       "      <td>mécanique</td>\n",
       "      <td>22/06/2018 à 5h11</td>\n",
       "      <td>modele: C-MAX 2, version: II 1.6 TDCI 115 FAP ...</td>\n",
       "    </tr>\n",
       "    <tr>\n",
       "      <th>9</th>\n",
       "      <td>69131.0</td>\n",
       "      <td>MERCEDES</td>\n",
       "      <td>CLASSE C</td>\n",
       "      <td>2015</td>\n",
       "      <td>39439.0 km</td>\n",
       "      <td>Essence</td>\n",
       "      <td>automatique</td>\n",
       "      <td>08/03/2018 à 17h35</td>\n",
       "      <td>modele: CLASSE C 4 AMG, version: (W205) 63 AMG...</td>\n",
       "    </tr>\n",
       "  </tbody>\n",
       "</table>\n",
       "</div>"
      ],
      "text/plain": [
       "     Price      Make     Model  Model_year      Mileage     Fuel      Gearbox  \\\n",
       "0  11220.0   PEUGEOT       308        2014   94341.0 km   Diesel    mécanique   \n",
       "1  57526.0       BMW        X6        2015   39051.0 km   Diesel  automatique   \n",
       "2  80379.0      AUDI       RS6        2014   75381.0 km  Essence  automatique   \n",
       "3   2830.0      FORD        KA        2007   92282.0 km  Essence    mécanique   \n",
       "4  12925.0      FIAT      TIPO        2018      10.0 km  Essence    mécanique   \n",
       "5  27956.0       BMW        X3        2012   95623.0 km   Diesel  automatique   \n",
       "6  16888.0      AUDI        A3        2013   49018.0 km   Diesel    mécanique   \n",
       "7  18188.0   RENAULT    MEGANE        2017    9795.0 km   Diesel  automatique   \n",
       "8  10594.0      FORD     C-MAX        2012  126670.0 km   Diesel    mécanique   \n",
       "9  69131.0  MERCEDES  CLASSE C        2015   39439.0 km  Essence  automatique   \n",
       "\n",
       "               Online                                        Description  \n",
       "0   06/07/2018 à 3h47  modele: 308 (2E GENERATION), version: 1.6 HDI ...  \n",
       "1  03/04/2018 à 16h41  modele: X6 F16, version: (F16) XDRIVE30D 258 M...  \n",
       "2   30/07/2018 à 1h55  modele: RS6 (3E GENERATION) AVANT, version: II...  \n",
       "3  09/07/2018 à 14h12  modele: KA, version: 1.3 70 FUN, puissance_fis...  \n",
       "4   19/05/2018 à 3h52  modele: TIPO 2 SW, version: II SW 1.4 95 POP, ...  \n",
       "5   14/03/2018 à 4h24  modele: X3 F25, version: (F25) XDRIVE35D 313 S...  \n",
       "6  16/04/2018 à 21h35  modele: A3 (2E GENERATION) SPORTBACK, version:...  \n",
       "7  29/04/2018 à 12h44  modele: MEGANE 4 ESTATE, version: IV ESTATE 1....  \n",
       "8   22/06/2018 à 5h11  modele: C-MAX 2, version: II 1.6 TDCI 115 FAP ...  \n",
       "9  08/03/2018 à 17h35  modele: CLASSE C 4 AMG, version: (W205) 63 AMG...  "
      ]
     },
     "execution_count": 4,
     "metadata": {},
     "output_type": "execute_result"
    }
   ],
   "source": [
    "df.head(10)"
   ]
  },
  {
   "cell_type": "markdown",
   "metadata": {},
   "source": [
    "## Observations"
   ]
  },
  {
   "cell_type": "code",
   "execution_count": 5,
   "metadata": {},
   "outputs": [],
   "source": [
    "import matplotlib.pyplot as plt\n",
    "\n",
    "%matplotlib inline"
   ]
  },
  {
   "cell_type": "code",
   "execution_count": 6,
   "metadata": {},
   "outputs": [
    {
     "data": {
      "image/png": "[encoded data removed]",
      "text/plain": [
       "<Figure size 432x288 with 1 Axes>"
      ]
     },
     "metadata": {
      "needs_background": "light"
     },
     "output_type": "display_data"
    }
   ],
   "source": [
    "# Price repartition\n",
    "plt.hist(df[\"Price\"], 800)\n",
    "plt.xlim(0, 100000)\n",
    "plt.xlabel('Prices')\n",
    "plt.ylabel('Count')\n",
    "plt.show()"
   ]
  },
  {
   "cell_type": "markdown",
   "metadata": {},
   "source": [
    "Les prix semblent s'agglutiner entre 20000 et 25000 €"
   ]
  },
  {
   "cell_type": "code",
   "execution_count": 7,
   "metadata": {},
   "outputs": [
    {
     "data": {
      "text/plain": [
       "Text(0, 0.5, 'Number of cars')"
      ]
     },
     "execution_count": 7,
     "metadata": {},
     "output_type": "execute_result"
    },
    {
     "data": {
      "image/png": "[encoded data removed]",
      "text/plain": [
       "<Figure size 432x288 with 1 Axes>"
      ]
     },
     "metadata": {
      "needs_background": "light"
     },
     "output_type": "display_data"
    }
   ],
   "source": [
    "# Make cars counts\n",
    "counts = df[\"Make\"].value_counts().iloc[0:20]\n",
    "names = counts.keys().to_numpy()\n",
    "values = counts.to_numpy()\n",
    "\n",
    "plt.bar(names, values)\n",
    "plt.xticks(rotation=\"vertical\")\n",
    "plt.xlabel(\"Make\")\n",
    "plt.ylabel(\"Number of cars\")"
   ]
  },
  {
   "cell_type": "markdown",
   "metadata": {},
   "source": [
    "Le dataset contient beaucoup de voitures Renault, Peugeot et Citroen que de voitures de marque étrangère (BMW, Ford, Mercedes)"
   ]
  },
  {
   "cell_type": "markdown",
   "metadata": {},
   "source": [
    "## Some data cleaning"
   ]
  },
  {
   "cell_type": "markdown",
   "metadata": {},
   "source": [
    "### Data types conversions"
   ]
  },
  {
   "cell_type": "code",
   "execution_count": 8,
   "metadata": {},
   "outputs": [
    {
     "data": {
      "text/html": [
       "<div>\n",
       "<style scoped>\n",
       "    .dataframe tbody tr th:only-of-type {\n",
       "        vertical-align: middle;\n",
       "    }\n",
       "\n",
       "    .dataframe tbody tr th {\n",
       "        vertical-align: top;\n",
       "    }\n",
       "\n",
       "    .dataframe thead th {\n",
       "        text-align: right;\n",
       "    }\n",
       "</style>\n",
       "<table border=\"1\" class=\"dataframe\">\n",
       "  <thead>\n",
       "    <tr style=\"text-align: right;\">\n",
       "      <th></th>\n",
       "      <th>Price</th>\n",
       "      <th>Make</th>\n",
       "      <th>Model</th>\n",
       "      <th>Model_year</th>\n",
       "      <th>Mileage</th>\n",
       "      <th>Fuel</th>\n",
       "      <th>Gearbox</th>\n",
       "      <th>Online</th>\n",
       "      <th>Description</th>\n",
       "    </tr>\n",
       "  </thead>\n",
       "  <tbody>\n",
       "    <tr>\n",
       "      <th>0</th>\n",
       "      <td>11220.0</td>\n",
       "      <td>PEUGEOT</td>\n",
       "      <td>308</td>\n",
       "      <td>2014</td>\n",
       "      <td>94341.0</td>\n",
       "      <td>Diesel</td>\n",
       "      <td>mécanique</td>\n",
       "      <td>06/07/2018 à 3h47</td>\n",
       "      <td>modele: 308 (2E GENERATION), version: 1.6 HDI ...</td>\n",
       "    </tr>\n",
       "    <tr>\n",
       "      <th>1</th>\n",
       "      <td>57526.0</td>\n",
       "      <td>BMW</td>\n",
       "      <td>X6</td>\n",
       "      <td>2015</td>\n",
       "      <td>39051.0</td>\n",
       "      <td>Diesel</td>\n",
       "      <td>automatique</td>\n",
       "      <td>03/04/2018 à 16h41</td>\n",
       "      <td>modele: X6 F16, version: (F16) XDRIVE30D 258 M...</td>\n",
       "    </tr>\n",
       "    <tr>\n",
       "      <th>2</th>\n",
       "      <td>80379.0</td>\n",
       "      <td>AUDI</td>\n",
       "      <td>RS6</td>\n",
       "      <td>2014</td>\n",
       "      <td>75381.0</td>\n",
       "      <td>Essence</td>\n",
       "      <td>automatique</td>\n",
       "      <td>30/07/2018 à 1h55</td>\n",
       "      <td>modele: RS6 (3E GENERATION) AVANT, version: II...</td>\n",
       "    </tr>\n",
       "    <tr>\n",
       "      <th>3</th>\n",
       "      <td>2830.0</td>\n",
       "      <td>FORD</td>\n",
       "      <td>KA</td>\n",
       "      <td>2007</td>\n",
       "      <td>92282.0</td>\n",
       "      <td>Essence</td>\n",
       "      <td>mécanique</td>\n",
       "      <td>09/07/2018 à 14h12</td>\n",
       "      <td>modele: KA, version: 1.3 70 FUN, puissance_fis...</td>\n",
       "    </tr>\n",
       "    <tr>\n",
       "      <th>4</th>\n",
       "      <td>12925.0</td>\n",
       "      <td>FIAT</td>\n",
       "      <td>TIPO</td>\n",
       "      <td>2018</td>\n",
       "      <td>10.0</td>\n",
       "      <td>Essence</td>\n",
       "      <td>mécanique</td>\n",
       "      <td>19/05/2018 à 3h52</td>\n",
       "      <td>modele: TIPO 2 SW, version: II SW 1.4 95 POP, ...</td>\n",
       "    </tr>\n",
       "  </tbody>\n",
       "</table>\n",
       "</div>"
      ],
      "text/plain": [
       "     Price     Make Model  Model_year  Mileage     Fuel      Gearbox  \\\n",
       "0  11220.0  PEUGEOT   308        2014  94341.0   Diesel    mécanique   \n",
       "1  57526.0      BMW    X6        2015  39051.0   Diesel  automatique   \n",
       "2  80379.0     AUDI   RS6        2014  75381.0  Essence  automatique   \n",
       "3   2830.0     FORD    KA        2007  92282.0  Essence    mécanique   \n",
       "4  12925.0     FIAT  TIPO        2018     10.0  Essence    mécanique   \n",
       "\n",
       "               Online                                        Description  \n",
       "0   06/07/2018 à 3h47  modele: 308 (2E GENERATION), version: 1.6 HDI ...  \n",
       "1  03/04/2018 à 16h41  modele: X6 F16, version: (F16) XDRIVE30D 258 M...  \n",
       "2   30/07/2018 à 1h55  modele: RS6 (3E GENERATION) AVANT, version: II...  \n",
       "3  09/07/2018 à 14h12  modele: KA, version: 1.3 70 FUN, puissance_fis...  \n",
       "4   19/05/2018 à 3h52  modele: TIPO 2 SW, version: II SW 1.4 95 POP, ...  "
      ]
     },
     "execution_count": 8,
     "metadata": {},
     "output_type": "execute_result"
    }
   ],
   "source": [
    "## Remove kilometers and convert to number\n",
    "df[\"Mileage\"] = df[\"Mileage\"].str.replace(' km', '').astype(\"float64\")\n",
    "df.head(5)"
   ]
  },
  {
   "cell_type": "code",
   "execution_count": 9,
   "metadata": {},
   "outputs": [
    {
     "data": {
      "text/plain": [
       "dtype('float64')"
      ]
     },
     "execution_count": 9,
     "metadata": {},
     "output_type": "execute_result"
    }
   ],
   "source": [
    "df.dtypes['Mileage']"
   ]
  },
  {
   "cell_type": "code",
   "execution_count": 10,
   "metadata": {},
   "outputs": [
    {
     "data": {
      "text/plain": [
       "0"
      ]
     },
     "execution_count": 10,
     "metadata": {},
     "output_type": "execute_result"
    }
   ],
   "source": [
    "df[\"Mileage\"].isna().sum()"
   ]
  },
  {
   "cell_type": "code",
   "execution_count": 11,
   "metadata": {},
   "outputs": [],
   "source": [
    "# Reduce allocated bytes size for \"Model_year\" \n",
    "df[\"Model_year\"] = df[\"Model_year\"].astype(\"int16\")"
   ]
  },
  {
   "cell_type": "markdown",
   "metadata": {},
   "source": [
    "## Feature engineering"
   ]
  },
  {
   "cell_type": "code",
   "execution_count": 12,
   "metadata": {},
   "outputs": [],
   "source": [
    "# Compute age\n",
    "# df['Posted_on_ts'] = df['Online'].map(lambda date: datetime.strptime(date, '%d/%m/%Y à %Hh%M').timestamp())\n",
    "# df['Model_year_ts'] = df['Model_year'].map(lambda year: datetime.strptime(str(year), '%Y').timestamp())\n",
    "# df['Model_age_ts'] = df['Posted_on_ts'] - df['Model_year_ts']\n",
    "# df.drop(columns=['Posted_on_ts', 'Model_year_ts'])"
   ]
  },
  {
   "cell_type": "code",
   "execution_count": 13,
   "metadata": {},
   "outputs": [],
   "source": [
    "# We choose 2018 because it was the year the sellers published their offers\n",
    "df['Model_age'] = df.apply(lambda row: 2018 - row.Model_year, axis = 1)"
   ]
  },
  {
   "cell_type": "code",
   "execution_count": 14,
   "metadata": {},
   "outputs": [
    {
     "data": {
      "text/plain": [
       "\"modele: X6 F16, version: (F16) XDRIVE30D 258 M SPORT BVA8, puissance_fiscale: 16, portes: 5.0, options: triangle de presignalisation et trousse de premiers secours;volant cuir;pack alu;affichage tête haute;GPS;appel d'urgence intelligent;prise 12v additionnelle;sieges advanced pour conducteur et passager avant;projecteurs antibrouillard;climatisation automatique multi zone;pack suspension adaptative;&quotcarbonschwarz&quot metallise;caméra de recul;finition m sport;jantes alu 20&quot;pack innovation;kit fumeurs;rétroviseurs rabattables électriquement;shadow line brillant;information trafic en temps reel rtti (3ans);aide parking;contrôle de pression des pneus;système audio Harman Kardon;surround view;sièges électrique à mémoire;conciergerie (3 ans);fonctions &quotma bmw a distance&quot;pack safety;airbag passager desactivable via la cle;services connecteddrive (bmw online 3 ans + bmw apps);pack M;planche de bord en cuir;info trafic tmc;lave-phares;ciel de pavillon anthracite;services bmw connecteddrive;rétroviseur int. jour/nuit auto;tapis de sol;feux de route anti-eblouissement;pack advanced full led;boulons antivol de roues, couleur: Carbonschwarz metallise\""
      ]
     },
     "execution_count": 14,
     "metadata": {},
     "output_type": "execute_result"
    }
   ],
   "source": [
    "# See an example of a desc\n",
    "df['Description'][1]"
   ]
  },
  {
   "cell_type": "code",
   "execution_count": 15,
   "metadata": {},
   "outputs": [],
   "source": [
    "# Getting the number of doors on the car\n",
    "df['Doors'] = df['Description'].str.extract(\"portes: ([0-9]+)\").astype(\"float32\")"
   ]
  },
  {
   "cell_type": "code",
   "execution_count": 16,
   "metadata": {},
   "outputs": [],
   "source": [
    "# Getting the horse power of a car\n",
    "df['Fisc_hp'] = df['Description'].str.extract(\"puissance_fiscale: ([0-9]+)\").astype(\"float32\")"
   ]
  },
  {
   "cell_type": "code",
   "execution_count": 17,
   "metadata": {},
   "outputs": [
    {
     "data": {
      "text/html": [
       "<div>\n",
       "<style scoped>\n",
       "    .dataframe tbody tr th:only-of-type {\n",
       "        vertical-align: middle;\n",
       "    }\n",
       "\n",
       "    .dataframe tbody tr th {\n",
       "        vertical-align: top;\n",
       "    }\n",
       "\n",
       "    .dataframe thead th {\n",
       "        text-align: right;\n",
       "    }\n",
       "</style>\n",
       "<table border=\"1\" class=\"dataframe\">\n",
       "  <thead>\n",
       "    <tr style=\"text-align: right;\">\n",
       "      <th></th>\n",
       "      <th>Price</th>\n",
       "      <th>Make</th>\n",
       "      <th>Model</th>\n",
       "      <th>Model_year</th>\n",
       "      <th>Mileage</th>\n",
       "      <th>Fuel</th>\n",
       "      <th>Gearbox</th>\n",
       "      <th>Online</th>\n",
       "      <th>Description</th>\n",
       "      <th>Model_age</th>\n",
       "      <th>Doors</th>\n",
       "      <th>Fisc_hp</th>\n",
       "    </tr>\n",
       "  </thead>\n",
       "  <tbody>\n",
       "    <tr>\n",
       "      <th>0</th>\n",
       "      <td>11220.0</td>\n",
       "      <td>PEUGEOT</td>\n",
       "      <td>308</td>\n",
       "      <td>2014</td>\n",
       "      <td>94341.0</td>\n",
       "      <td>Diesel</td>\n",
       "      <td>mécanique</td>\n",
       "      <td>06/07/2018 à 3h47</td>\n",
       "      <td>modele: 308 (2E GENERATION), version: 1.6 HDI ...</td>\n",
       "      <td>4</td>\n",
       "      <td>5.0</td>\n",
       "      <td>4.0</td>\n",
       "    </tr>\n",
       "    <tr>\n",
       "      <th>1</th>\n",
       "      <td>57526.0</td>\n",
       "      <td>BMW</td>\n",
       "      <td>X6</td>\n",
       "      <td>2015</td>\n",
       "      <td>39051.0</td>\n",
       "      <td>Diesel</td>\n",
       "      <td>automatique</td>\n",
       "      <td>03/04/2018 à 16h41</td>\n",
       "      <td>modele: X6 F16, version: (F16) XDRIVE30D 258 M...</td>\n",
       "      <td>3</td>\n",
       "      <td>5.0</td>\n",
       "      <td>16.0</td>\n",
       "    </tr>\n",
       "    <tr>\n",
       "      <th>2</th>\n",
       "      <td>80379.0</td>\n",
       "      <td>AUDI</td>\n",
       "      <td>RS6</td>\n",
       "      <td>2014</td>\n",
       "      <td>75381.0</td>\n",
       "      <td>Essence</td>\n",
       "      <td>automatique</td>\n",
       "      <td>30/07/2018 à 1h55</td>\n",
       "      <td>modele: RS6 (3E GENERATION) AVANT, version: II...</td>\n",
       "      <td>4</td>\n",
       "      <td>5.0</td>\n",
       "      <td>47.0</td>\n",
       "    </tr>\n",
       "    <tr>\n",
       "      <th>3</th>\n",
       "      <td>2830.0</td>\n",
       "      <td>FORD</td>\n",
       "      <td>KA</td>\n",
       "      <td>2007</td>\n",
       "      <td>92282.0</td>\n",
       "      <td>Essence</td>\n",
       "      <td>mécanique</td>\n",
       "      <td>09/07/2018 à 14h12</td>\n",
       "      <td>modele: KA, version: 1.3 70 FUN, puissance_fis...</td>\n",
       "      <td>11</td>\n",
       "      <td>3.0</td>\n",
       "      <td>5.0</td>\n",
       "    </tr>\n",
       "    <tr>\n",
       "      <th>4</th>\n",
       "      <td>12925.0</td>\n",
       "      <td>FIAT</td>\n",
       "      <td>TIPO</td>\n",
       "      <td>2018</td>\n",
       "      <td>10.0</td>\n",
       "      <td>Essence</td>\n",
       "      <td>mécanique</td>\n",
       "      <td>19/05/2018 à 3h52</td>\n",
       "      <td>modele: TIPO 2 SW, version: II SW 1.4 95 POP, ...</td>\n",
       "      <td>0</td>\n",
       "      <td>5.0</td>\n",
       "      <td>5.0</td>\n",
       "    </tr>\n",
       "  </tbody>\n",
       "</table>\n",
       "</div>"
      ],
      "text/plain": [
       "     Price     Make Model  Model_year  Mileage     Fuel      Gearbox  \\\n",
       "0  11220.0  PEUGEOT   308        2014  94341.0   Diesel    mécanique   \n",
       "1  57526.0      BMW    X6        2015  39051.0   Diesel  automatique   \n",
       "2  80379.0     AUDI   RS6        2014  75381.0  Essence  automatique   \n",
       "3   2830.0     FORD    KA        2007  92282.0  Essence    mécanique   \n",
       "4  12925.0     FIAT  TIPO        2018     10.0  Essence    mécanique   \n",
       "\n",
       "               Online                                        Description  \\\n",
       "0   06/07/2018 à 3h47  modele: 308 (2E GENERATION), version: 1.6 HDI ...   \n",
       "1  03/04/2018 à 16h41  modele: X6 F16, version: (F16) XDRIVE30D 258 M...   \n",
       "2   30/07/2018 à 1h55  modele: RS6 (3E GENERATION) AVANT, version: II...   \n",
       "3  09/07/2018 à 14h12  modele: KA, version: 1.3 70 FUN, puissance_fis...   \n",
       "4   19/05/2018 à 3h52  modele: TIPO 2 SW, version: II SW 1.4 95 POP, ...   \n",
       "\n",
       "   Model_age  Doors  Fisc_hp  \n",
       "0          4    5.0      4.0  \n",
       "1          3    5.0     16.0  \n",
       "2          4    5.0     47.0  \n",
       "3         11    3.0      5.0  \n",
       "4          0    5.0      5.0  "
      ]
     },
     "execution_count": 17,
     "metadata": {},
     "output_type": "execute_result"
    }
   ],
   "source": [
    "df.head()"
   ]
  },
  {
   "cell_type": "markdown",
   "metadata": {},
   "source": [
    "### Language processing"
   ]
  },
  {
   "cell_type": "code",
   "execution_count": 18,
   "metadata": {},
   "outputs": [],
   "source": [
    "# Getting the options of the car inside the description\n",
    "df['Options'] = df['Description'].str.extract(\"options: (.+)\")"
   ]
  },
  {
   "cell_type": "code",
   "execution_count": 19,
   "metadata": {},
   "outputs": [],
   "source": [
    "# Do natural language processing (see process.py)\n",
    "options_words = df[\"Options\"].pipe(unidecode).pipe(tokenize).pipe(stop_words).pipe(stem).str.join(' ')\n",
    "# THIS TAKE A LOTS OF TIME :O"
   ]
  },
  {
   "cell_type": "code",
   "execution_count": 20,
   "metadata": {},
   "outputs": [
    {
     "data": {
      "text/plain": [
       "0    banquet arrier plac vol cuir cach bagag airbag...\n",
       "1    triangl presignalis trouss premi secour vol cu...\n",
       "2    banquet arrier plac ecran tactil temoin boucla...\n",
       "3    direct assiste jant alu retroviseur electr deg...\n",
       "4    vol alu cuir bluetooth inclut musiqu streaming...\n",
       "Name: Options, dtype: object"
      ]
     },
     "execution_count": 20,
     "metadata": {},
     "output_type": "execute_result"
    }
   ],
   "source": [
    "options_words.head(5)"
   ]
  },
  {
   "cell_type": "code",
   "execution_count": 21,
   "metadata": {},
   "outputs": [
    {
     "data": {
      "text/plain": [
       "array([[0, 0, 0, ..., 0, 0, 0],\n",
       "       [0, 0, 0, ..., 0, 1, 0],\n",
       "       [0, 0, 0, ..., 0, 1, 0],\n",
       "       ...,\n",
       "       [0, 0, 0, ..., 0, 0, 0],\n",
       "       [0, 0, 0, ..., 0, 0, 0],\n",
       "       [0, 0, 0, ..., 0, 1, 0]])"
      ]
     },
     "execution_count": 21,
     "metadata": {},
     "output_type": "execute_result"
    }
   ],
   "source": [
    "vectorizer = CountVectorizer(min_df=200)\n",
    "options_counts = vectorizer.fit_transform(options_words).toarray()\n",
    "options_counts"
   ]
  },
  {
   "cell_type": "code",
   "execution_count": 22,
   "metadata": {},
   "outputs": [
    {
     "data": {
      "text/plain": [
       "array([[ 4.64846452e+00, -3.45576218e+00,  1.93096300e-01, ...,\n",
       "        -8.95876878e-02, -3.12500714e-01,  1.77824465e-02],\n",
       "       [-4.99394142e+00,  2.81688178e+00,  3.86295593e+00, ...,\n",
       "         1.13840325e-01,  4.28785162e-01,  1.63107678e-01],\n",
       "       [ 2.00016207e+01,  5.84303354e+00,  3.03190157e+00, ...,\n",
       "        -5.68934319e-01, -1.20200854e+00, -9.61229696e-01],\n",
       "       ...,\n",
       "       [ 5.13706482e+00, -1.07864991e+00, -5.51660216e+00, ...,\n",
       "        -3.03597213e-02, -2.28576525e-01, -3.14116042e-01],\n",
       "       [ 1.52417331e+00,  2.27503222e+00, -1.20608097e+00, ...,\n",
       "         1.51300873e-04, -7.99023651e-02, -4.80607567e-01],\n",
       "       [-7.44879224e+00, -5.08854795e-01,  1.17760377e+00, ...,\n",
       "        -5.69624802e-02, -1.20983487e-01, -2.83120639e-02]])"
      ]
     },
     "execution_count": 22,
     "metadata": {},
     "output_type": "execute_result"
    }
   ],
   "source": [
    "pca = PCA(n_components=100)\n",
    "options_components = pca.fit_transform(options_counts)\n",
    "options_components"
   ]
  },
  {
   "cell_type": "code",
   "execution_count": 23,
   "metadata": {},
   "outputs": [
    {
     "data": {
      "text/html": [
       "<div>\n",
       "<style scoped>\n",
       "    .dataframe tbody tr th:only-of-type {\n",
       "        vertical-align: middle;\n",
       "    }\n",
       "\n",
       "    .dataframe tbody tr th {\n",
       "        vertical-align: top;\n",
       "    }\n",
       "\n",
       "    .dataframe thead th {\n",
       "        text-align: right;\n",
       "    }\n",
       "</style>\n",
       "<table border=\"1\" class=\"dataframe\">\n",
       "  <thead>\n",
       "    <tr style=\"text-align: right;\">\n",
       "      <th></th>\n",
       "      <th>Option_0</th>\n",
       "      <th>Option_1</th>\n",
       "      <th>Option_2</th>\n",
       "      <th>Option_3</th>\n",
       "      <th>Option_4</th>\n",
       "      <th>Option_5</th>\n",
       "      <th>Option_6</th>\n",
       "      <th>Option_7</th>\n",
       "      <th>Option_8</th>\n",
       "      <th>Option_9</th>\n",
       "      <th>...</th>\n",
       "      <th>Option_90</th>\n",
       "      <th>Option_91</th>\n",
       "      <th>Option_92</th>\n",
       "      <th>Option_93</th>\n",
       "      <th>Option_94</th>\n",
       "      <th>Option_95</th>\n",
       "      <th>Option_96</th>\n",
       "      <th>Option_97</th>\n",
       "      <th>Option_98</th>\n",
       "      <th>Option_99</th>\n",
       "    </tr>\n",
       "  </thead>\n",
       "  <tbody>\n",
       "    <tr>\n",
       "      <th>0</th>\n",
       "      <td>4.648465</td>\n",
       "      <td>-3.455762</td>\n",
       "      <td>0.193096</td>\n",
       "      <td>-0.726573</td>\n",
       "      <td>-0.658957</td>\n",
       "      <td>2.897323</td>\n",
       "      <td>-0.960002</td>\n",
       "      <td>0.552745</td>\n",
       "      <td>-2.202490</td>\n",
       "      <td>-0.605950</td>\n",
       "      <td>...</td>\n",
       "      <td>-0.018547</td>\n",
       "      <td>0.584936</td>\n",
       "      <td>0.005296</td>\n",
       "      <td>0.197025</td>\n",
       "      <td>0.015309</td>\n",
       "      <td>0.172090</td>\n",
       "      <td>-0.292031</td>\n",
       "      <td>-0.089588</td>\n",
       "      <td>-0.312501</td>\n",
       "      <td>0.017782</td>\n",
       "    </tr>\n",
       "    <tr>\n",
       "      <th>1</th>\n",
       "      <td>-4.993941</td>\n",
       "      <td>2.816882</td>\n",
       "      <td>3.862956</td>\n",
       "      <td>-0.612920</td>\n",
       "      <td>-0.300094</td>\n",
       "      <td>-0.179467</td>\n",
       "      <td>2.613754</td>\n",
       "      <td>2.428985</td>\n",
       "      <td>-1.759859</td>\n",
       "      <td>6.975492</td>\n",
       "      <td>...</td>\n",
       "      <td>-0.063677</td>\n",
       "      <td>-0.296542</td>\n",
       "      <td>0.187477</td>\n",
       "      <td>-0.646449</td>\n",
       "      <td>0.306251</td>\n",
       "      <td>-0.250319</td>\n",
       "      <td>0.075424</td>\n",
       "      <td>0.113840</td>\n",
       "      <td>0.428785</td>\n",
       "      <td>0.163108</td>\n",
       "    </tr>\n",
       "    <tr>\n",
       "      <th>2</th>\n",
       "      <td>20.001621</td>\n",
       "      <td>5.843034</td>\n",
       "      <td>3.031902</td>\n",
       "      <td>-3.752820</td>\n",
       "      <td>-1.111132</td>\n",
       "      <td>-0.867836</td>\n",
       "      <td>0.676329</td>\n",
       "      <td>5.556755</td>\n",
       "      <td>0.275930</td>\n",
       "      <td>-0.313867</td>\n",
       "      <td>...</td>\n",
       "      <td>-0.359486</td>\n",
       "      <td>-0.547292</td>\n",
       "      <td>-0.017460</td>\n",
       "      <td>-0.324130</td>\n",
       "      <td>-0.677802</td>\n",
       "      <td>-0.712600</td>\n",
       "      <td>-0.845097</td>\n",
       "      <td>-0.568934</td>\n",
       "      <td>-1.202009</td>\n",
       "      <td>-0.961230</td>\n",
       "    </tr>\n",
       "    <tr>\n",
       "      <th>3</th>\n",
       "      <td>-8.247456</td>\n",
       "      <td>-1.081561</td>\n",
       "      <td>0.125195</td>\n",
       "      <td>-0.470813</td>\n",
       "      <td>-0.393987</td>\n",
       "      <td>-0.236663</td>\n",
       "      <td>-1.399465</td>\n",
       "      <td>1.068658</td>\n",
       "      <td>-0.065980</td>\n",
       "      <td>-0.802136</td>\n",
       "      <td>...</td>\n",
       "      <td>-0.098180</td>\n",
       "      <td>0.206940</td>\n",
       "      <td>0.124715</td>\n",
       "      <td>-0.426324</td>\n",
       "      <td>0.267796</td>\n",
       "      <td>0.061592</td>\n",
       "      <td>-0.161896</td>\n",
       "      <td>0.032925</td>\n",
       "      <td>-0.039696</td>\n",
       "      <td>-0.020430</td>\n",
       "    </tr>\n",
       "    <tr>\n",
       "      <th>4</th>\n",
       "      <td>-6.459532</td>\n",
       "      <td>2.029783</td>\n",
       "      <td>-1.405209</td>\n",
       "      <td>1.820419</td>\n",
       "      <td>-2.554434</td>\n",
       "      <td>4.705992</td>\n",
       "      <td>-1.087476</td>\n",
       "      <td>0.113895</td>\n",
       "      <td>0.155698</td>\n",
       "      <td>0.476962</td>\n",
       "      <td>...</td>\n",
       "      <td>-0.437531</td>\n",
       "      <td>0.257902</td>\n",
       "      <td>-0.172516</td>\n",
       "      <td>0.075619</td>\n",
       "      <td>-0.302328</td>\n",
       "      <td>0.145358</td>\n",
       "      <td>-0.429446</td>\n",
       "      <td>0.067358</td>\n",
       "      <td>-0.452227</td>\n",
       "      <td>0.146430</td>\n",
       "    </tr>\n",
       "    <tr>\n",
       "      <th>...</th>\n",
       "      <td>...</td>\n",
       "      <td>...</td>\n",
       "      <td>...</td>\n",
       "      <td>...</td>\n",
       "      <td>...</td>\n",
       "      <td>...</td>\n",
       "      <td>...</td>\n",
       "      <td>...</td>\n",
       "      <td>...</td>\n",
       "      <td>...</td>\n",
       "      <td>...</td>\n",
       "      <td>...</td>\n",
       "      <td>...</td>\n",
       "      <td>...</td>\n",
       "      <td>...</td>\n",
       "      <td>...</td>\n",
       "      <td>...</td>\n",
       "      <td>...</td>\n",
       "      <td>...</td>\n",
       "      <td>...</td>\n",
       "      <td>...</td>\n",
       "    </tr>\n",
       "    <tr>\n",
       "      <th>166690</th>\n",
       "      <td>10.315502</td>\n",
       "      <td>-2.040633</td>\n",
       "      <td>-0.012238</td>\n",
       "      <td>0.293045</td>\n",
       "      <td>-2.642852</td>\n",
       "      <td>-2.107336</td>\n",
       "      <td>0.447643</td>\n",
       "      <td>0.206874</td>\n",
       "      <td>-0.410036</td>\n",
       "      <td>0.059030</td>\n",
       "      <td>...</td>\n",
       "      <td>0.023454</td>\n",
       "      <td>0.143367</td>\n",
       "      <td>-0.275207</td>\n",
       "      <td>0.356946</td>\n",
       "      <td>-0.684099</td>\n",
       "      <td>0.010072</td>\n",
       "      <td>-0.560521</td>\n",
       "      <td>-0.367693</td>\n",
       "      <td>-0.425975</td>\n",
       "      <td>0.402139</td>\n",
       "    </tr>\n",
       "    <tr>\n",
       "      <th>166691</th>\n",
       "      <td>1.932622</td>\n",
       "      <td>7.283648</td>\n",
       "      <td>-2.407363</td>\n",
       "      <td>4.977298</td>\n",
       "      <td>-2.608513</td>\n",
       "      <td>1.380418</td>\n",
       "      <td>0.628309</td>\n",
       "      <td>-3.556804</td>\n",
       "      <td>-0.494880</td>\n",
       "      <td>0.189657</td>\n",
       "      <td>...</td>\n",
       "      <td>0.419856</td>\n",
       "      <td>-0.119824</td>\n",
       "      <td>0.086067</td>\n",
       "      <td>-0.283975</td>\n",
       "      <td>-0.284383</td>\n",
       "      <td>0.090366</td>\n",
       "      <td>0.001561</td>\n",
       "      <td>-0.085121</td>\n",
       "      <td>0.268615</td>\n",
       "      <td>0.055476</td>\n",
       "    </tr>\n",
       "    <tr>\n",
       "      <th>166692</th>\n",
       "      <td>5.137065</td>\n",
       "      <td>-1.078650</td>\n",
       "      <td>-5.516602</td>\n",
       "      <td>0.195558</td>\n",
       "      <td>1.181250</td>\n",
       "      <td>0.411267</td>\n",
       "      <td>1.524293</td>\n",
       "      <td>0.621377</td>\n",
       "      <td>1.382129</td>\n",
       "      <td>0.878668</td>\n",
       "      <td>...</td>\n",
       "      <td>0.100736</td>\n",
       "      <td>0.036424</td>\n",
       "      <td>-0.145927</td>\n",
       "      <td>0.029900</td>\n",
       "      <td>0.446462</td>\n",
       "      <td>0.005609</td>\n",
       "      <td>-0.059245</td>\n",
       "      <td>-0.030360</td>\n",
       "      <td>-0.228577</td>\n",
       "      <td>-0.314116</td>\n",
       "    </tr>\n",
       "    <tr>\n",
       "      <th>166693</th>\n",
       "      <td>1.524173</td>\n",
       "      <td>2.275032</td>\n",
       "      <td>-1.206081</td>\n",
       "      <td>-1.356212</td>\n",
       "      <td>2.327248</td>\n",
       "      <td>0.249826</td>\n",
       "      <td>-4.148883</td>\n",
       "      <td>-0.566390</td>\n",
       "      <td>0.734639</td>\n",
       "      <td>-0.444529</td>\n",
       "      <td>...</td>\n",
       "      <td>-0.350207</td>\n",
       "      <td>0.828476</td>\n",
       "      <td>1.154709</td>\n",
       "      <td>0.419930</td>\n",
       "      <td>-1.070912</td>\n",
       "      <td>-0.599315</td>\n",
       "      <td>0.356964</td>\n",
       "      <td>0.000151</td>\n",
       "      <td>-0.079902</td>\n",
       "      <td>-0.480608</td>\n",
       "    </tr>\n",
       "    <tr>\n",
       "      <th>166694</th>\n",
       "      <td>-7.448792</td>\n",
       "      <td>-0.508855</td>\n",
       "      <td>1.177604</td>\n",
       "      <td>0.282278</td>\n",
       "      <td>-0.439059</td>\n",
       "      <td>-1.048076</td>\n",
       "      <td>1.375218</td>\n",
       "      <td>-0.647769</td>\n",
       "      <td>-0.240598</td>\n",
       "      <td>-2.079507</td>\n",
       "      <td>...</td>\n",
       "      <td>-0.139740</td>\n",
       "      <td>0.111782</td>\n",
       "      <td>-0.037639</td>\n",
       "      <td>-0.315522</td>\n",
       "      <td>0.250097</td>\n",
       "      <td>0.042303</td>\n",
       "      <td>0.440691</td>\n",
       "      <td>-0.056962</td>\n",
       "      <td>-0.120983</td>\n",
       "      <td>-0.028312</td>\n",
       "    </tr>\n",
       "  </tbody>\n",
       "</table>\n",
       "<p>166695 rows × 100 columns</p>\n",
       "</div>"
      ],
      "text/plain": [
       "         Option_0  Option_1  Option_2  Option_3  Option_4  Option_5  Option_6  \\\n",
       "0        4.648465 -3.455762  0.193096 -0.726573 -0.658957  2.897323 -0.960002   \n",
       "1       -4.993941  2.816882  3.862956 -0.612920 -0.300094 -0.179467  2.613754   \n",
       "2       20.001621  5.843034  3.031902 -3.752820 -1.111132 -0.867836  0.676329   \n",
       "3       -8.247456 -1.081561  0.125195 -0.470813 -0.393987 -0.236663 -1.399465   \n",
       "4       -6.459532  2.029783 -1.405209  1.820419 -2.554434  4.705992 -1.087476   \n",
       "...           ...       ...       ...       ...       ...       ...       ...   \n",
       "166690  10.315502 -2.040633 -0.012238  0.293045 -2.642852 -2.107336  0.447643   \n",
       "166691   1.932622  7.283648 -2.407363  4.977298 -2.608513  1.380418  0.628309   \n",
       "166692   5.137065 -1.078650 -5.516602  0.195558  1.181250  0.411267  1.524293   \n",
       "166693   1.524173  2.275032 -1.206081 -1.356212  2.327248  0.249826 -4.148883   \n",
       "166694  -7.448792 -0.508855  1.177604  0.282278 -0.439059 -1.048076  1.375218   \n",
       "\n",
       "        Option_7  Option_8  Option_9  ...  Option_90  Option_91  Option_92  \\\n",
       "0       0.552745 -2.202490 -0.605950  ...  -0.018547   0.584936   0.005296   \n",
       "1       2.428985 -1.759859  6.975492  ...  -0.063677  -0.296542   0.187477   \n",
       "2       5.556755  0.275930 -0.313867  ...  -0.359486  -0.547292  -0.017460   \n",
       "3       1.068658 -0.065980 -0.802136  ...  -0.098180   0.206940   0.124715   \n",
       "4       0.113895  0.155698  0.476962  ...  -0.437531   0.257902  -0.172516   \n",
       "...          ...       ...       ...  ...        ...        ...        ...   \n",
       "166690  0.206874 -0.410036  0.059030  ...   0.023454   0.143367  -0.275207   \n",
       "166691 -3.556804 -0.494880  0.189657  ...   0.419856  -0.119824   0.086067   \n",
       "166692  0.621377  1.382129  0.878668  ...   0.100736   0.036424  -0.145927   \n",
       "166693 -0.566390  0.734639 -0.444529  ...  -0.350207   0.828476   1.154709   \n",
       "166694 -0.647769 -0.240598 -2.079507  ...  -0.139740   0.111782  -0.037639   \n",
       "\n",
       "        Option_93  Option_94  Option_95  Option_96  Option_97  Option_98  \\\n",
       "0        0.197025   0.015309   0.172090  -0.292031  -0.089588  -0.312501   \n",
       "1       -0.646449   0.306251  -0.250319   0.075424   0.113840   0.428785   \n",
       "2       -0.324130  -0.677802  -0.712600  -0.845097  -0.568934  -1.202009   \n",
       "3       -0.426324   0.267796   0.061592  -0.161896   0.032925  -0.039696   \n",
       "4        0.075619  -0.302328   0.145358  -0.429446   0.067358  -0.452227   \n",
       "...           ...        ...        ...        ...        ...        ...   \n",
       "166690   0.356946  -0.684099   0.010072  -0.560521  -0.367693  -0.425975   \n",
       "166691  -0.283975  -0.284383   0.090366   0.001561  -0.085121   0.268615   \n",
       "166692   0.029900   0.446462   0.005609  -0.059245  -0.030360  -0.228577   \n",
       "166693   0.419930  -1.070912  -0.599315   0.356964   0.000151  -0.079902   \n",
       "166694  -0.315522   0.250097   0.042303   0.440691  -0.056962  -0.120983   \n",
       "\n",
       "        Option_99  \n",
       "0        0.017782  \n",
       "1        0.163108  \n",
       "2       -0.961230  \n",
       "3       -0.020430  \n",
       "4        0.146430  \n",
       "...           ...  \n",
       "166690   0.402139  \n",
       "166691   0.055476  \n",
       "166692  -0.314116  \n",
       "166693  -0.480608  \n",
       "166694  -0.028312  \n",
       "\n",
       "[166695 rows x 100 columns]"
      ]
     },
     "execution_count": 23,
     "metadata": {},
     "output_type": "execute_result"
    }
   ],
   "source": [
    "options_df = pd.DataFrame(options_components).add_prefix('Option_')\n",
    "options_df"
   ]
  },
  {
   "cell_type": "code",
   "execution_count": 24,
   "metadata": {},
   "outputs": [
    {
     "data": {
      "text/html": [
       "<div>\n",
       "<style scoped>\n",
       "    .dataframe tbody tr th:only-of-type {\n",
       "        vertical-align: middle;\n",
       "    }\n",
       "\n",
       "    .dataframe tbody tr th {\n",
       "        vertical-align: top;\n",
       "    }\n",
       "\n",
       "    .dataframe thead th {\n",
       "        text-align: right;\n",
       "    }\n",
       "</style>\n",
       "<table border=\"1\" class=\"dataframe\">\n",
       "  <thead>\n",
       "    <tr style=\"text-align: right;\">\n",
       "      <th></th>\n",
       "      <th>Price</th>\n",
       "      <th>Make</th>\n",
       "      <th>Model</th>\n",
       "      <th>Model_year</th>\n",
       "      <th>Mileage</th>\n",
       "      <th>Fuel</th>\n",
       "      <th>Gearbox</th>\n",
       "      <th>Online</th>\n",
       "      <th>Description</th>\n",
       "      <th>Model_age</th>\n",
       "      <th>...</th>\n",
       "      <th>Option_90</th>\n",
       "      <th>Option_91</th>\n",
       "      <th>Option_92</th>\n",
       "      <th>Option_93</th>\n",
       "      <th>Option_94</th>\n",
       "      <th>Option_95</th>\n",
       "      <th>Option_96</th>\n",
       "      <th>Option_97</th>\n",
       "      <th>Option_98</th>\n",
       "      <th>Option_99</th>\n",
       "    </tr>\n",
       "  </thead>\n",
       "  <tbody>\n",
       "    <tr>\n",
       "      <th>0</th>\n",
       "      <td>11220.0</td>\n",
       "      <td>PEUGEOT</td>\n",
       "      <td>308</td>\n",
       "      <td>2014</td>\n",
       "      <td>94341.0</td>\n",
       "      <td>Diesel</td>\n",
       "      <td>mécanique</td>\n",
       "      <td>06/07/2018 à 3h47</td>\n",
       "      <td>modele: 308 (2E GENERATION), version: 1.6 HDI ...</td>\n",
       "      <td>4</td>\n",
       "      <td>...</td>\n",
       "      <td>-0.018547</td>\n",
       "      <td>0.584936</td>\n",
       "      <td>0.005296</td>\n",
       "      <td>0.197025</td>\n",
       "      <td>0.015309</td>\n",
       "      <td>0.172090</td>\n",
       "      <td>-0.292031</td>\n",
       "      <td>-0.089588</td>\n",
       "      <td>-0.312501</td>\n",
       "      <td>0.017782</td>\n",
       "    </tr>\n",
       "    <tr>\n",
       "      <th>1</th>\n",
       "      <td>57526.0</td>\n",
       "      <td>BMW</td>\n",
       "      <td>X6</td>\n",
       "      <td>2015</td>\n",
       "      <td>39051.0</td>\n",
       "      <td>Diesel</td>\n",
       "      <td>automatique</td>\n",
       "      <td>03/04/2018 à 16h41</td>\n",
       "      <td>modele: X6 F16, version: (F16) XDRIVE30D 258 M...</td>\n",
       "      <td>3</td>\n",
       "      <td>...</td>\n",
       "      <td>-0.063677</td>\n",
       "      <td>-0.296542</td>\n",
       "      <td>0.187477</td>\n",
       "      <td>-0.646449</td>\n",
       "      <td>0.306251</td>\n",
       "      <td>-0.250319</td>\n",
       "      <td>0.075424</td>\n",
       "      <td>0.113840</td>\n",
       "      <td>0.428785</td>\n",
       "      <td>0.163108</td>\n",
       "    </tr>\n",
       "    <tr>\n",
       "      <th>2</th>\n",
       "      <td>80379.0</td>\n",
       "      <td>AUDI</td>\n",
       "      <td>RS6</td>\n",
       "      <td>2014</td>\n",
       "      <td>75381.0</td>\n",
       "      <td>Essence</td>\n",
       "      <td>automatique</td>\n",
       "      <td>30/07/2018 à 1h55</td>\n",
       "      <td>modele: RS6 (3E GENERATION) AVANT, version: II...</td>\n",
       "      <td>4</td>\n",
       "      <td>...</td>\n",
       "      <td>-0.359486</td>\n",
       "      <td>-0.547292</td>\n",
       "      <td>-0.017460</td>\n",
       "      <td>-0.324130</td>\n",
       "      <td>-0.677802</td>\n",
       "      <td>-0.712600</td>\n",
       "      <td>-0.845097</td>\n",
       "      <td>-0.568934</td>\n",
       "      <td>-1.202009</td>\n",
       "      <td>-0.961230</td>\n",
       "    </tr>\n",
       "    <tr>\n",
       "      <th>3</th>\n",
       "      <td>2830.0</td>\n",
       "      <td>FORD</td>\n",
       "      <td>KA</td>\n",
       "      <td>2007</td>\n",
       "      <td>92282.0</td>\n",
       "      <td>Essence</td>\n",
       "      <td>mécanique</td>\n",
       "      <td>09/07/2018 à 14h12</td>\n",
       "      <td>modele: KA, version: 1.3 70 FUN, puissance_fis...</td>\n",
       "      <td>11</td>\n",
       "      <td>...</td>\n",
       "      <td>-0.098180</td>\n",
       "      <td>0.206940</td>\n",
       "      <td>0.124715</td>\n",
       "      <td>-0.426324</td>\n",
       "      <td>0.267796</td>\n",
       "      <td>0.061592</td>\n",
       "      <td>-0.161896</td>\n",
       "      <td>0.032925</td>\n",
       "      <td>-0.039696</td>\n",
       "      <td>-0.020430</td>\n",
       "    </tr>\n",
       "    <tr>\n",
       "      <th>4</th>\n",
       "      <td>12925.0</td>\n",
       "      <td>FIAT</td>\n",
       "      <td>TIPO</td>\n",
       "      <td>2018</td>\n",
       "      <td>10.0</td>\n",
       "      <td>Essence</td>\n",
       "      <td>mécanique</td>\n",
       "      <td>19/05/2018 à 3h52</td>\n",
       "      <td>modele: TIPO 2 SW, version: II SW 1.4 95 POP, ...</td>\n",
       "      <td>0</td>\n",
       "      <td>...</td>\n",
       "      <td>-0.437531</td>\n",
       "      <td>0.257902</td>\n",
       "      <td>-0.172516</td>\n",
       "      <td>0.075619</td>\n",
       "      <td>-0.302328</td>\n",
       "      <td>0.145358</td>\n",
       "      <td>-0.429446</td>\n",
       "      <td>0.067358</td>\n",
       "      <td>-0.452227</td>\n",
       "      <td>0.146430</td>\n",
       "    </tr>\n",
       "    <tr>\n",
       "      <th>...</th>\n",
       "      <td>...</td>\n",
       "      <td>...</td>\n",
       "      <td>...</td>\n",
       "      <td>...</td>\n",
       "      <td>...</td>\n",
       "      <td>...</td>\n",
       "      <td>...</td>\n",
       "      <td>...</td>\n",
       "      <td>...</td>\n",
       "      <td>...</td>\n",
       "      <td>...</td>\n",
       "      <td>...</td>\n",
       "      <td>...</td>\n",
       "      <td>...</td>\n",
       "      <td>...</td>\n",
       "      <td>...</td>\n",
       "      <td>...</td>\n",
       "      <td>...</td>\n",
       "      <td>...</td>\n",
       "      <td>...</td>\n",
       "      <td>...</td>\n",
       "    </tr>\n",
       "    <tr>\n",
       "      <th>166690</th>\n",
       "      <td>20990.0</td>\n",
       "      <td>AUDI</td>\n",
       "      <td>A4</td>\n",
       "      <td>2014</td>\n",
       "      <td>65885.0</td>\n",
       "      <td>Diesel</td>\n",
       "      <td>automatique</td>\n",
       "      <td>06/07/2018 à 5h44</td>\n",
       "      <td>modele: A4 (4E GENERATION) AVANT, version: IV ...</td>\n",
       "      <td>4</td>\n",
       "      <td>...</td>\n",
       "      <td>0.023454</td>\n",
       "      <td>0.143367</td>\n",
       "      <td>-0.275207</td>\n",
       "      <td>0.356946</td>\n",
       "      <td>-0.684099</td>\n",
       "      <td>0.010072</td>\n",
       "      <td>-0.560521</td>\n",
       "      <td>-0.367693</td>\n",
       "      <td>-0.425975</td>\n",
       "      <td>0.402139</td>\n",
       "    </tr>\n",
       "    <tr>\n",
       "      <th>166691</th>\n",
       "      <td>12056.0</td>\n",
       "      <td>VOLKSWAGEN</td>\n",
       "      <td>GOLF</td>\n",
       "      <td>2015</td>\n",
       "      <td>186000.0</td>\n",
       "      <td>Diesel</td>\n",
       "      <td>automatique</td>\n",
       "      <td>01/06/2018 à 15h22</td>\n",
       "      <td>modele: GOLF 7, version: VII 2.0 TDI 150 BLUEM...</td>\n",
       "      <td>3</td>\n",
       "      <td>...</td>\n",
       "      <td>0.419856</td>\n",
       "      <td>-0.119824</td>\n",
       "      <td>0.086067</td>\n",
       "      <td>-0.283975</td>\n",
       "      <td>-0.284383</td>\n",
       "      <td>0.090366</td>\n",
       "      <td>0.001561</td>\n",
       "      <td>-0.085121</td>\n",
       "      <td>0.268615</td>\n",
       "      <td>0.055476</td>\n",
       "    </tr>\n",
       "    <tr>\n",
       "      <th>166692</th>\n",
       "      <td>13423.0</td>\n",
       "      <td>FORD</td>\n",
       "      <td>FIESTA</td>\n",
       "      <td>2016</td>\n",
       "      <td>8784.0</td>\n",
       "      <td>Essence</td>\n",
       "      <td>mécanique</td>\n",
       "      <td>26/07/2018 à 18h57</td>\n",
       "      <td>modele: FIESTA 5, version: V (2) 1.0 ECOBOOST ...</td>\n",
       "      <td>2</td>\n",
       "      <td>...</td>\n",
       "      <td>0.100736</td>\n",
       "      <td>0.036424</td>\n",
       "      <td>-0.145927</td>\n",
       "      <td>0.029900</td>\n",
       "      <td>0.446462</td>\n",
       "      <td>0.005609</td>\n",
       "      <td>-0.059245</td>\n",
       "      <td>-0.030360</td>\n",
       "      <td>-0.228577</td>\n",
       "      <td>-0.314116</td>\n",
       "    </tr>\n",
       "    <tr>\n",
       "      <th>166693</th>\n",
       "      <td>11918.0</td>\n",
       "      <td>SKODA</td>\n",
       "      <td>OCTAVIA</td>\n",
       "      <td>2013</td>\n",
       "      <td>111339.0</td>\n",
       "      <td>Diesel</td>\n",
       "      <td>automatique</td>\n",
       "      <td>30/05/2018 à 17h55</td>\n",
       "      <td>modele: OCTAVIA 3, version: III 2.0 TDI 150 GR...</td>\n",
       "      <td>5</td>\n",
       "      <td>...</td>\n",
       "      <td>-0.350207</td>\n",
       "      <td>0.828476</td>\n",
       "      <td>1.154709</td>\n",
       "      <td>0.419930</td>\n",
       "      <td>-1.070912</td>\n",
       "      <td>-0.599315</td>\n",
       "      <td>0.356964</td>\n",
       "      <td>0.000151</td>\n",
       "      <td>-0.079902</td>\n",
       "      <td>-0.480608</td>\n",
       "    </tr>\n",
       "    <tr>\n",
       "      <th>166694</th>\n",
       "      <td>32490.0</td>\n",
       "      <td>RENAULT</td>\n",
       "      <td>KOLEOS</td>\n",
       "      <td>2017</td>\n",
       "      <td>99400.0</td>\n",
       "      <td>Diesel</td>\n",
       "      <td>automatique</td>\n",
       "      <td>11/06/2018 à 19h54</td>\n",
       "      <td>modele: KOLEOS 2, version: II 2.0 DCI 175 ENER...</td>\n",
       "      <td>1</td>\n",
       "      <td>...</td>\n",
       "      <td>-0.139740</td>\n",
       "      <td>0.111782</td>\n",
       "      <td>-0.037639</td>\n",
       "      <td>-0.315522</td>\n",
       "      <td>0.250097</td>\n",
       "      <td>0.042303</td>\n",
       "      <td>0.440691</td>\n",
       "      <td>-0.056962</td>\n",
       "      <td>-0.120983</td>\n",
       "      <td>-0.028312</td>\n",
       "    </tr>\n",
       "  </tbody>\n",
       "</table>\n",
       "<p>166695 rows × 113 columns</p>\n",
       "</div>"
      ],
      "text/plain": [
       "          Price        Make    Model  Model_year   Mileage     Fuel  \\\n",
       "0       11220.0     PEUGEOT      308        2014   94341.0   Diesel   \n",
       "1       57526.0         BMW       X6        2015   39051.0   Diesel   \n",
       "2       80379.0        AUDI      RS6        2014   75381.0  Essence   \n",
       "3        2830.0        FORD       KA        2007   92282.0  Essence   \n",
       "4       12925.0        FIAT     TIPO        2018      10.0  Essence   \n",
       "...         ...         ...      ...         ...       ...      ...   \n",
       "166690  20990.0        AUDI       A4        2014   65885.0   Diesel   \n",
       "166691  12056.0  VOLKSWAGEN     GOLF        2015  186000.0   Diesel   \n",
       "166692  13423.0        FORD   FIESTA        2016    8784.0  Essence   \n",
       "166693  11918.0       SKODA  OCTAVIA        2013  111339.0   Diesel   \n",
       "166694  32490.0     RENAULT   KOLEOS        2017   99400.0   Diesel   \n",
       "\n",
       "            Gearbox              Online  \\\n",
       "0         mécanique   06/07/2018 à 3h47   \n",
       "1       automatique  03/04/2018 à 16h41   \n",
       "2       automatique   30/07/2018 à 1h55   \n",
       "3         mécanique  09/07/2018 à 14h12   \n",
       "4         mécanique   19/05/2018 à 3h52   \n",
       "...             ...                 ...   \n",
       "166690  automatique   06/07/2018 à 5h44   \n",
       "166691  automatique  01/06/2018 à 15h22   \n",
       "166692    mécanique  26/07/2018 à 18h57   \n",
       "166693  automatique  30/05/2018 à 17h55   \n",
       "166694  automatique  11/06/2018 à 19h54   \n",
       "\n",
       "                                              Description  Model_age  ...  \\\n",
       "0       modele: 308 (2E GENERATION), version: 1.6 HDI ...          4  ...   \n",
       "1       modele: X6 F16, version: (F16) XDRIVE30D 258 M...          3  ...   \n",
       "2       modele: RS6 (3E GENERATION) AVANT, version: II...          4  ...   \n",
       "3       modele: KA, version: 1.3 70 FUN, puissance_fis...         11  ...   \n",
       "4       modele: TIPO 2 SW, version: II SW 1.4 95 POP, ...          0  ...   \n",
       "...                                                   ...        ...  ...   \n",
       "166690  modele: A4 (4E GENERATION) AVANT, version: IV ...          4  ...   \n",
       "166691  modele: GOLF 7, version: VII 2.0 TDI 150 BLUEM...          3  ...   \n",
       "166692  modele: FIESTA 5, version: V (2) 1.0 ECOBOOST ...          2  ...   \n",
       "166693  modele: OCTAVIA 3, version: III 2.0 TDI 150 GR...          5  ...   \n",
       "166694  modele: KOLEOS 2, version: II 2.0 DCI 175 ENER...          1  ...   \n",
       "\n",
       "        Option_90  Option_91 Option_92  Option_93  Option_94  Option_95  \\\n",
       "0       -0.018547   0.584936  0.005296   0.197025   0.015309   0.172090   \n",
       "1       -0.063677  -0.296542  0.187477  -0.646449   0.306251  -0.250319   \n",
       "2       -0.359486  -0.547292 -0.017460  -0.324130  -0.677802  -0.712600   \n",
       "3       -0.098180   0.206940  0.124715  -0.426324   0.267796   0.061592   \n",
       "4       -0.437531   0.257902 -0.172516   0.075619  -0.302328   0.145358   \n",
       "...           ...        ...       ...        ...        ...        ...   \n",
       "166690   0.023454   0.143367 -0.275207   0.356946  -0.684099   0.010072   \n",
       "166691   0.419856  -0.119824  0.086067  -0.283975  -0.284383   0.090366   \n",
       "166692   0.100736   0.036424 -0.145927   0.029900   0.446462   0.005609   \n",
       "166693  -0.350207   0.828476  1.154709   0.419930  -1.070912  -0.599315   \n",
       "166694  -0.139740   0.111782 -0.037639  -0.315522   0.250097   0.042303   \n",
       "\n",
       "        Option_96  Option_97  Option_98  Option_99  \n",
       "0       -0.292031  -0.089588  -0.312501   0.017782  \n",
       "1        0.075424   0.113840   0.428785   0.163108  \n",
       "2       -0.845097  -0.568934  -1.202009  -0.961230  \n",
       "3       -0.161896   0.032925  -0.039696  -0.020430  \n",
       "4       -0.429446   0.067358  -0.452227   0.146430  \n",
       "...           ...        ...        ...        ...  \n",
       "166690  -0.560521  -0.367693  -0.425975   0.402139  \n",
       "166691   0.001561  -0.085121   0.268615   0.055476  \n",
       "166692  -0.059245  -0.030360  -0.228577  -0.314116  \n",
       "166693   0.356964   0.000151  -0.079902  -0.480608  \n",
       "166694   0.440691  -0.056962  -0.120983  -0.028312  \n",
       "\n",
       "[166695 rows x 113 columns]"
      ]
     },
     "execution_count": 24,
     "metadata": {},
     "output_type": "execute_result"
    }
   ],
   "source": [
    "df = pd.concat([df, options_df], axis=1)\n",
    "df"
   ]
  },
  {
   "cell_type": "markdown",
   "metadata": {},
   "source": [
    "## Data checks (null or NaN)"
   ]
  },
  {
   "cell_type": "code",
   "execution_count": 25,
   "metadata": {},
   "outputs": [
    {
     "data": {
      "text/plain": [
       "Price         0\n",
       "Make          0\n",
       "Model         0\n",
       "Model_year    0\n",
       "Mileage       0\n",
       "             ..\n",
       "Option_95     0\n",
       "Option_96     0\n",
       "Option_97     0\n",
       "Option_98     0\n",
       "Option_99     0\n",
       "Length: 113, dtype: int64"
      ]
     },
     "execution_count": 25,
     "metadata": {},
     "output_type": "execute_result"
    }
   ],
   "source": [
    "# Check for null values\n",
    "df.isnull().sum()"
   ]
  },
  {
   "cell_type": "code",
   "execution_count": 26,
   "metadata": {},
   "outputs": [
    {
     "data": {
      "text/plain": [
       "Price         0\n",
       "Make          0\n",
       "Model         0\n",
       "Model_year    0\n",
       "Mileage       0\n",
       "             ..\n",
       "Option_95     0\n",
       "Option_96     0\n",
       "Option_97     0\n",
       "Option_98     0\n",
       "Option_99     0\n",
       "Length: 113, dtype: int64"
      ]
     },
     "execution_count": 26,
     "metadata": {},
     "output_type": "execute_result"
    }
   ],
   "source": [
    "# Check for invalid numbers\n",
    "df.isna().sum()"
   ]
  },
  {
   "cell_type": "code",
   "execution_count": 27,
   "metadata": {},
   "outputs": [
    {
     "data": {
      "text/plain": [
       "(array([], dtype=int64), array([], dtype=int64))"
      ]
     },
     "execution_count": 27,
     "metadata": {},
     "output_type": "execute_result"
    }
   ],
   "source": [
    "# Find empty strings\n",
    "np.where(df.applymap(lambda x: x == ''))"
   ]
  },
  {
   "cell_type": "markdown",
   "metadata": {},
   "source": [
    "## Removing outliers"
   ]
  },
  {
   "cell_type": "code",
   "execution_count": 62,
   "metadata": {},
   "outputs": [
    {
     "data": {
      "text/plain": [
       "<matplotlib.axes._subplots.AxesSubplot at 0x7fb53f056710>"
      ]
     },
     "execution_count": 62,
     "metadata": {},
     "output_type": "execute_result"
    },
    {
     "data": {
      "image/png": "[encoded data removed]",
      "text/plain": [
       "<Figure size 432x288 with 1 Axes>"
      ]
     },
     "metadata": {
      "needs_background": "light"
     },
     "output_type": "display_data"
    }
   ],
   "source": [
    "sns.boxplot(data=df[['Price', 'Mileage', 'Doors', 'Model_age', 'Model_year']])"
   ]
  },
  {
   "cell_type": "markdown",
   "metadata": {},
   "source": [
    "#### Check of Model_year, Fisc_hp, Doors outliers"
   ]
  },
  {
   "cell_type": "code",
   "execution_count": 29,
   "metadata": {},
   "outputs": [
    {
     "data": {
      "text/plain": [
       "<matplotlib.axes._subplots.AxesSubplot at 0x7fb5446dd438>"
      ]
     },
     "execution_count": 29,
     "metadata": {},
     "output_type": "execute_result"
    },
    {
     "data": {
      "image/png": "[encoded data removed]",
      "text/plain": [
       "<Figure size 432x288 with 1 Axes>"
      ]
     },
     "metadata": {
      "needs_background": "light"
     },
     "output_type": "display_data"
    }
   ],
   "source": [
    "sns.boxplot(data=df[['Model_age','Model_year','Fisc_hp','Doors']])"
   ]
  },
  {
   "cell_type": "code",
   "execution_count": 30,
   "metadata": {},
   "outputs": [],
   "source": [
    "df = df.drop(df[df.Model_year > 3000].index)"
   ]
  },
  {
   "cell_type": "code",
   "execution_count": 31,
   "metadata": {},
   "outputs": [],
   "source": [
    "df = df.drop(df[df.Fisc_hp > 1000].index)"
   ]
  },
  {
   "cell_type": "code",
   "execution_count": 32,
   "metadata": {},
   "outputs": [],
   "source": [
    "df = df.drop(df[df.Fisc_hp <= 0].index)"
   ]
  },
  {
   "cell_type": "markdown",
   "metadata": {},
   "source": [
    "#### Check for Price outliers"
   ]
  },
  {
   "cell_type": "code",
   "execution_count": 33,
   "metadata": {},
   "outputs": [
    {
     "data": {
      "image/png": "[encoded data removed]",
      "text/plain": [
       "<Figure size 432x288 with 1 Axes>"
      ]
     },
     "metadata": {
      "needs_background": "light"
     },
     "output_type": "display_data"
    }
   ],
   "source": [
    "plt.hist(df['Price'], bins=200, range=(df['Price'].min(), df['Price'].max()))\n",
    "plt.show()"
   ]
  },
  {
   "cell_type": "code",
   "execution_count": 34,
   "metadata": {},
   "outputs": [
    {
     "data": {
      "image/png": "[encoded data removed]",
      "text/plain": [
       "<Figure size 432x288 with 1 Axes>"
      ]
     },
     "metadata": {
      "needs_background": "light"
     },
     "output_type": "display_data"
    }
   ],
   "source": [
    "plt.hist(df['Price'], bins=200, range=(df['Price'].min(), 3000))\n",
    "plt.show()"
   ]
  },
  {
   "cell_type": "code",
   "execution_count": 35,
   "metadata": {},
   "outputs": [],
   "source": [
    "# Cheap cars sold lower than 150 euros are rare\n",
    "df = df.drop(df[df.Price <= 400].index)"
   ]
  },
  {
   "cell_type": "code",
   "execution_count": 36,
   "metadata": {},
   "outputs": [
    {
     "data": {
      "text/plain": [
       "<matplotlib.axes._subplots.AxesSubplot at 0x7fb5967f4be0>"
      ]
     },
     "execution_count": 36,
     "metadata": {},
     "output_type": "execute_result"
    },
    {
     "data": {
      "image/png": "[encoded data removed]",
      "text/plain": [
       "<Figure size 720x432 with 2 Axes>"
      ]
     },
     "metadata": {
      "needs_background": "light"
     },
     "output_type": "display_data"
    }
   ],
   "source": [
    "plt.figure(figsize=(10,6))\n",
    "sns.heatmap(df[['Price', 'Mileage', 'Doors', 'Model_age', 'Model_year']].corr(), annot=True)"
   ]
  },
  {
   "cell_type": "markdown",
   "metadata": {},
   "source": [
    "## Data normalization"
   ]
  },
  {
   "cell_type": "code",
   "execution_count": 37,
   "metadata": {},
   "outputs": [],
   "source": [
    "df[['Model_age', 'Mileage']] = scale(df[['Model_age', 'Mileage']])"
   ]
  },
  {
   "cell_type": "markdown",
   "metadata": {},
   "source": [
    "## Hot encoding"
   ]
  },
  {
   "cell_type": "code",
   "execution_count": 38,
   "metadata": {},
   "outputs": [
    {
     "data": {
      "text/plain": [
       "array(['Diesel', 'Essence', 'Hybride essence électrique', 'Electrique',\n",
       "       'Hybride diesel électrique', 'Bicarburation essence GPL',\n",
       "       'Bicarburation essence bioéthanol'], dtype=object)"
      ]
     },
     "execution_count": 38,
     "metadata": {},
     "output_type": "execute_result"
    }
   ],
   "source": [
    "# List categorical columns\n",
    "df[\"Fuel\"].unique()"
   ]
  },
  {
   "cell_type": "code",
   "execution_count": 39,
   "metadata": {},
   "outputs": [
    {
     "data": {
      "text/plain": [
       "array(['mécanique', 'automatique'], dtype=object)"
      ]
     },
     "execution_count": 39,
     "metadata": {},
     "output_type": "execute_result"
    }
   ],
   "source": [
    "# List categorical columns for Gearbox\n",
    "df[\"Gearbox\"].unique()"
   ]
  },
  {
   "cell_type": "code",
   "execution_count": 40,
   "metadata": {},
   "outputs": [],
   "source": [
    "df = pd.get_dummies(df, columns=[\"Gearbox\"], drop_first=True)"
   ]
  },
  {
   "cell_type": "code",
   "execution_count": 41,
   "metadata": {},
   "outputs": [
    {
     "data": {
      "text/html": [
       "<div>\n",
       "<style scoped>\n",
       "    .dataframe tbody tr th:only-of-type {\n",
       "        vertical-align: middle;\n",
       "    }\n",
       "\n",
       "    .dataframe tbody tr th {\n",
       "        vertical-align: top;\n",
       "    }\n",
       "\n",
       "    .dataframe thead th {\n",
       "        text-align: right;\n",
       "    }\n",
       "</style>\n",
       "<table border=\"1\" class=\"dataframe\">\n",
       "  <thead>\n",
       "    <tr style=\"text-align: right;\">\n",
       "      <th></th>\n",
       "      <th>Price</th>\n",
       "      <th>Make</th>\n",
       "      <th>Model</th>\n",
       "      <th>Model_year</th>\n",
       "      <th>Mileage</th>\n",
       "      <th>Online</th>\n",
       "      <th>Description</th>\n",
       "      <th>Model_age</th>\n",
       "      <th>Doors</th>\n",
       "      <th>Fisc_hp</th>\n",
       "      <th>...</th>\n",
       "      <th>Option_98</th>\n",
       "      <th>Option_99</th>\n",
       "      <th>Gearbox_mécanique</th>\n",
       "      <th>Fuel_Bicarburation essence GPL</th>\n",
       "      <th>Fuel_Bicarburation essence bioéthanol</th>\n",
       "      <th>Fuel_Diesel</th>\n",
       "      <th>Fuel_Electrique</th>\n",
       "      <th>Fuel_Essence</th>\n",
       "      <th>Fuel_Hybride diesel électrique</th>\n",
       "      <th>Fuel_Hybride essence électrique</th>\n",
       "    </tr>\n",
       "  </thead>\n",
       "  <tbody>\n",
       "    <tr>\n",
       "      <th>0</th>\n",
       "      <td>11220.0</td>\n",
       "      <td>PEUGEOT</td>\n",
       "      <td>308</td>\n",
       "      <td>2014</td>\n",
       "      <td>0.981822</td>\n",
       "      <td>06/07/2018 à 3h47</td>\n",
       "      <td>modele: 308 (2E GENERATION), version: 1.6 HDI ...</td>\n",
       "      <td>0.154899</td>\n",
       "      <td>5.0</td>\n",
       "      <td>4.0</td>\n",
       "      <td>...</td>\n",
       "      <td>-0.312501</td>\n",
       "      <td>0.017782</td>\n",
       "      <td>1</td>\n",
       "      <td>0</td>\n",
       "      <td>0</td>\n",
       "      <td>1</td>\n",
       "      <td>0</td>\n",
       "      <td>0</td>\n",
       "      <td>0</td>\n",
       "      <td>0</td>\n",
       "    </tr>\n",
       "    <tr>\n",
       "      <th>1</th>\n",
       "      <td>57526.0</td>\n",
       "      <td>BMW</td>\n",
       "      <td>X6</td>\n",
       "      <td>2015</td>\n",
       "      <td>-0.165291</td>\n",
       "      <td>03/04/2018 à 16h41</td>\n",
       "      <td>modele: X6 F16, version: (F16) XDRIVE30D 258 M...</td>\n",
       "      <td>-0.108871</td>\n",
       "      <td>5.0</td>\n",
       "      <td>16.0</td>\n",
       "      <td>...</td>\n",
       "      <td>0.428785</td>\n",
       "      <td>0.163108</td>\n",
       "      <td>0</td>\n",
       "      <td>0</td>\n",
       "      <td>0</td>\n",
       "      <td>1</td>\n",
       "      <td>0</td>\n",
       "      <td>0</td>\n",
       "      <td>0</td>\n",
       "      <td>0</td>\n",
       "    </tr>\n",
       "    <tr>\n",
       "      <th>2</th>\n",
       "      <td>80379.0</td>\n",
       "      <td>AUDI</td>\n",
       "      <td>RS6</td>\n",
       "      <td>2014</td>\n",
       "      <td>0.588455</td>\n",
       "      <td>30/07/2018 à 1h55</td>\n",
       "      <td>modele: RS6 (3E GENERATION) AVANT, version: II...</td>\n",
       "      <td>0.154899</td>\n",
       "      <td>5.0</td>\n",
       "      <td>47.0</td>\n",
       "      <td>...</td>\n",
       "      <td>-1.202009</td>\n",
       "      <td>-0.961230</td>\n",
       "      <td>0</td>\n",
       "      <td>0</td>\n",
       "      <td>0</td>\n",
       "      <td>0</td>\n",
       "      <td>0</td>\n",
       "      <td>1</td>\n",
       "      <td>0</td>\n",
       "      <td>0</td>\n",
       "    </tr>\n",
       "    <tr>\n",
       "      <th>3</th>\n",
       "      <td>2830.0</td>\n",
       "      <td>FORD</td>\n",
       "      <td>KA</td>\n",
       "      <td>2007</td>\n",
       "      <td>0.939104</td>\n",
       "      <td>09/07/2018 à 14h12</td>\n",
       "      <td>modele: KA, version: 1.3 70 FUN, puissance_fis...</td>\n",
       "      <td>2.001288</td>\n",
       "      <td>3.0</td>\n",
       "      <td>5.0</td>\n",
       "      <td>...</td>\n",
       "      <td>-0.039696</td>\n",
       "      <td>-0.020430</td>\n",
       "      <td>1</td>\n",
       "      <td>0</td>\n",
       "      <td>0</td>\n",
       "      <td>0</td>\n",
       "      <td>0</td>\n",
       "      <td>1</td>\n",
       "      <td>0</td>\n",
       "      <td>0</td>\n",
       "    </tr>\n",
       "    <tr>\n",
       "      <th>4</th>\n",
       "      <td>12925.0</td>\n",
       "      <td>FIAT</td>\n",
       "      <td>TIPO</td>\n",
       "      <td>2018</td>\n",
       "      <td>-0.975282</td>\n",
       "      <td>19/05/2018 à 3h52</td>\n",
       "      <td>modele: TIPO 2 SW, version: II SW 1.4 95 POP, ...</td>\n",
       "      <td>-0.900181</td>\n",
       "      <td>5.0</td>\n",
       "      <td>5.0</td>\n",
       "      <td>...</td>\n",
       "      <td>-0.452227</td>\n",
       "      <td>0.146430</td>\n",
       "      <td>1</td>\n",
       "      <td>0</td>\n",
       "      <td>0</td>\n",
       "      <td>0</td>\n",
       "      <td>0</td>\n",
       "      <td>1</td>\n",
       "      <td>0</td>\n",
       "      <td>0</td>\n",
       "    </tr>\n",
       "    <tr>\n",
       "      <th>...</th>\n",
       "      <td>...</td>\n",
       "      <td>...</td>\n",
       "      <td>...</td>\n",
       "      <td>...</td>\n",
       "      <td>...</td>\n",
       "      <td>...</td>\n",
       "      <td>...</td>\n",
       "      <td>...</td>\n",
       "      <td>...</td>\n",
       "      <td>...</td>\n",
       "      <td>...</td>\n",
       "      <td>...</td>\n",
       "      <td>...</td>\n",
       "      <td>...</td>\n",
       "      <td>...</td>\n",
       "      <td>...</td>\n",
       "      <td>...</td>\n",
       "      <td>...</td>\n",
       "      <td>...</td>\n",
       "      <td>...</td>\n",
       "      <td>...</td>\n",
       "    </tr>\n",
       "    <tr>\n",
       "      <th>166690</th>\n",
       "      <td>20990.0</td>\n",
       "      <td>AUDI</td>\n",
       "      <td>A4</td>\n",
       "      <td>2014</td>\n",
       "      <td>0.391440</td>\n",
       "      <td>06/07/2018 à 5h44</td>\n",
       "      <td>modele: A4 (4E GENERATION) AVANT, version: IV ...</td>\n",
       "      <td>0.154899</td>\n",
       "      <td>5.0</td>\n",
       "      <td>10.0</td>\n",
       "      <td>...</td>\n",
       "      <td>-0.425975</td>\n",
       "      <td>0.402139</td>\n",
       "      <td>0</td>\n",
       "      <td>0</td>\n",
       "      <td>0</td>\n",
       "      <td>1</td>\n",
       "      <td>0</td>\n",
       "      <td>0</td>\n",
       "      <td>0</td>\n",
       "      <td>0</td>\n",
       "    </tr>\n",
       "    <tr>\n",
       "      <th>166691</th>\n",
       "      <td>12056.0</td>\n",
       "      <td>VOLKSWAGEN</td>\n",
       "      <td>GOLF</td>\n",
       "      <td>2015</td>\n",
       "      <td>2.883490</td>\n",
       "      <td>01/06/2018 à 15h22</td>\n",
       "      <td>modele: GOLF 7, version: VII 2.0 TDI 150 BLUEM...</td>\n",
       "      <td>-0.108871</td>\n",
       "      <td>5.0</td>\n",
       "      <td>8.0</td>\n",
       "      <td>...</td>\n",
       "      <td>0.268615</td>\n",
       "      <td>0.055476</td>\n",
       "      <td>0</td>\n",
       "      <td>0</td>\n",
       "      <td>0</td>\n",
       "      <td>1</td>\n",
       "      <td>0</td>\n",
       "      <td>0</td>\n",
       "      <td>0</td>\n",
       "      <td>0</td>\n",
       "    </tr>\n",
       "    <tr>\n",
       "      <th>166692</th>\n",
       "      <td>13423.0</td>\n",
       "      <td>FORD</td>\n",
       "      <td>FIESTA</td>\n",
       "      <td>2016</td>\n",
       "      <td>-0.793246</td>\n",
       "      <td>26/07/2018 à 18h57</td>\n",
       "      <td>modele: FIESTA 5, version: V (2) 1.0 ECOBOOST ...</td>\n",
       "      <td>-0.372641</td>\n",
       "      <td>5.0</td>\n",
       "      <td>5.0</td>\n",
       "      <td>...</td>\n",
       "      <td>-0.228577</td>\n",
       "      <td>-0.314116</td>\n",
       "      <td>1</td>\n",
       "      <td>0</td>\n",
       "      <td>0</td>\n",
       "      <td>0</td>\n",
       "      <td>0</td>\n",
       "      <td>1</td>\n",
       "      <td>0</td>\n",
       "      <td>0</td>\n",
       "    </tr>\n",
       "    <tr>\n",
       "      <th>166693</th>\n",
       "      <td>11918.0</td>\n",
       "      <td>SKODA</td>\n",
       "      <td>OCTAVIA</td>\n",
       "      <td>2013</td>\n",
       "      <td>1.334483</td>\n",
       "      <td>30/05/2018 à 17h55</td>\n",
       "      <td>modele: OCTAVIA 3, version: III 2.0 TDI 150 GR...</td>\n",
       "      <td>0.418668</td>\n",
       "      <td>5.0</td>\n",
       "      <td>8.0</td>\n",
       "      <td>...</td>\n",
       "      <td>-0.079902</td>\n",
       "      <td>-0.480608</td>\n",
       "      <td>0</td>\n",
       "      <td>0</td>\n",
       "      <td>0</td>\n",
       "      <td>1</td>\n",
       "      <td>0</td>\n",
       "      <td>0</td>\n",
       "      <td>0</td>\n",
       "      <td>0</td>\n",
       "    </tr>\n",
       "    <tr>\n",
       "      <th>166694</th>\n",
       "      <td>32490.0</td>\n",
       "      <td>RENAULT</td>\n",
       "      <td>KOLEOS</td>\n",
       "      <td>2017</td>\n",
       "      <td>1.086782</td>\n",
       "      <td>11/06/2018 à 19h54</td>\n",
       "      <td>modele: KOLEOS 2, version: II 2.0 DCI 175 ENER...</td>\n",
       "      <td>-0.636411</td>\n",
       "      <td>5.0</td>\n",
       "      <td>10.0</td>\n",
       "      <td>...</td>\n",
       "      <td>-0.120983</td>\n",
       "      <td>-0.028312</td>\n",
       "      <td>0</td>\n",
       "      <td>0</td>\n",
       "      <td>0</td>\n",
       "      <td>1</td>\n",
       "      <td>0</td>\n",
       "      <td>0</td>\n",
       "      <td>0</td>\n",
       "      <td>0</td>\n",
       "    </tr>\n",
       "  </tbody>\n",
       "</table>\n",
       "<p>165681 rows × 119 columns</p>\n",
       "</div>"
      ],
      "text/plain": [
       "          Price        Make    Model  Model_year   Mileage  \\\n",
       "0       11220.0     PEUGEOT      308        2014  0.981822   \n",
       "1       57526.0         BMW       X6        2015 -0.165291   \n",
       "2       80379.0        AUDI      RS6        2014  0.588455   \n",
       "3        2830.0        FORD       KA        2007  0.939104   \n",
       "4       12925.0        FIAT     TIPO        2018 -0.975282   \n",
       "...         ...         ...      ...         ...       ...   \n",
       "166690  20990.0        AUDI       A4        2014  0.391440   \n",
       "166691  12056.0  VOLKSWAGEN     GOLF        2015  2.883490   \n",
       "166692  13423.0        FORD   FIESTA        2016 -0.793246   \n",
       "166693  11918.0       SKODA  OCTAVIA        2013  1.334483   \n",
       "166694  32490.0     RENAULT   KOLEOS        2017  1.086782   \n",
       "\n",
       "                    Online                                        Description  \\\n",
       "0        06/07/2018 à 3h47  modele: 308 (2E GENERATION), version: 1.6 HDI ...   \n",
       "1       03/04/2018 à 16h41  modele: X6 F16, version: (F16) XDRIVE30D 258 M...   \n",
       "2        30/07/2018 à 1h55  modele: RS6 (3E GENERATION) AVANT, version: II...   \n",
       "3       09/07/2018 à 14h12  modele: KA, version: 1.3 70 FUN, puissance_fis...   \n",
       "4        19/05/2018 à 3h52  modele: TIPO 2 SW, version: II SW 1.4 95 POP, ...   \n",
       "...                    ...                                                ...   \n",
       "166690   06/07/2018 à 5h44  modele: A4 (4E GENERATION) AVANT, version: IV ...   \n",
       "166691  01/06/2018 à 15h22  modele: GOLF 7, version: VII 2.0 TDI 150 BLUEM...   \n",
       "166692  26/07/2018 à 18h57  modele: FIESTA 5, version: V (2) 1.0 ECOBOOST ...   \n",
       "166693  30/05/2018 à 17h55  modele: OCTAVIA 3, version: III 2.0 TDI 150 GR...   \n",
       "166694  11/06/2018 à 19h54  modele: KOLEOS 2, version: II 2.0 DCI 175 ENER...   \n",
       "\n",
       "        Model_age  Doors  Fisc_hp  ... Option_98  Option_99  \\\n",
       "0        0.154899    5.0      4.0  ... -0.312501   0.017782   \n",
       "1       -0.108871    5.0     16.0  ...  0.428785   0.163108   \n",
       "2        0.154899    5.0     47.0  ... -1.202009  -0.961230   \n",
       "3        2.001288    3.0      5.0  ... -0.039696  -0.020430   \n",
       "4       -0.900181    5.0      5.0  ... -0.452227   0.146430   \n",
       "...           ...    ...      ...  ...       ...        ...   \n",
       "166690   0.154899    5.0     10.0  ... -0.425975   0.402139   \n",
       "166691  -0.108871    5.0      8.0  ...  0.268615   0.055476   \n",
       "166692  -0.372641    5.0      5.0  ... -0.228577  -0.314116   \n",
       "166693   0.418668    5.0      8.0  ... -0.079902  -0.480608   \n",
       "166694  -0.636411    5.0     10.0  ... -0.120983  -0.028312   \n",
       "\n",
       "        Gearbox_mécanique  Fuel_Bicarburation essence GPL  \\\n",
       "0                       1                               0   \n",
       "1                       0                               0   \n",
       "2                       0                               0   \n",
       "3                       1                               0   \n",
       "4                       1                               0   \n",
       "...                   ...                             ...   \n",
       "166690                  0                               0   \n",
       "166691                  0                               0   \n",
       "166692                  1                               0   \n",
       "166693                  0                               0   \n",
       "166694                  0                               0   \n",
       "\n",
       "        Fuel_Bicarburation essence bioéthanol  Fuel_Diesel  Fuel_Electrique  \\\n",
       "0                                           0            1                0   \n",
       "1                                           0            1                0   \n",
       "2                                           0            0                0   \n",
       "3                                           0            0                0   \n",
       "4                                           0            0                0   \n",
       "...                                       ...          ...              ...   \n",
       "166690                                      0            1                0   \n",
       "166691                                      0            1                0   \n",
       "166692                                      0            0                0   \n",
       "166693                                      0            1                0   \n",
       "166694                                      0            1                0   \n",
       "\n",
       "        Fuel_Essence  Fuel_Hybride diesel électrique  \\\n",
       "0                  0                               0   \n",
       "1                  0                               0   \n",
       "2                  1                               0   \n",
       "3                  1                               0   \n",
       "4                  1                               0   \n",
       "...              ...                             ...   \n",
       "166690             0                               0   \n",
       "166691             0                               0   \n",
       "166692             1                               0   \n",
       "166693             0                               0   \n",
       "166694             0                               0   \n",
       "\n",
       "        Fuel_Hybride essence électrique  \n",
       "0                                     0  \n",
       "1                                     0  \n",
       "2                                     0  \n",
       "3                                     0  \n",
       "4                                     0  \n",
       "...                                 ...  \n",
       "166690                                0  \n",
       "166691                                0  \n",
       "166692                                0  \n",
       "166693                                0  \n",
       "166694                                0  \n",
       "\n",
       "[165681 rows x 119 columns]"
      ]
     },
     "execution_count": 41,
     "metadata": {},
     "output_type": "execute_result"
    }
   ],
   "source": [
    "df = pd.get_dummies(df, columns=[\"Fuel\"])\n",
    "df"
   ]
  },
  {
   "cell_type": "code",
   "execution_count": 42,
   "metadata": {},
   "outputs": [
    {
     "data": {
      "text/html": [
       "<div>\n",
       "<style scoped>\n",
       "    .dataframe tbody tr th:only-of-type {\n",
       "        vertical-align: middle;\n",
       "    }\n",
       "\n",
       "    .dataframe tbody tr th {\n",
       "        vertical-align: top;\n",
       "    }\n",
       "\n",
       "    .dataframe thead th {\n",
       "        text-align: right;\n",
       "    }\n",
       "</style>\n",
       "<table border=\"1\" class=\"dataframe\">\n",
       "  <thead>\n",
       "    <tr style=\"text-align: right;\">\n",
       "      <th></th>\n",
       "      <th>Price</th>\n",
       "      <th>Make</th>\n",
       "      <th>Model</th>\n",
       "      <th>Model_year</th>\n",
       "      <th>Mileage</th>\n",
       "      <th>Online</th>\n",
       "      <th>Description</th>\n",
       "      <th>Model_age</th>\n",
       "      <th>Doors</th>\n",
       "      <th>Fisc_hp</th>\n",
       "      <th>...</th>\n",
       "      <th>Option_98</th>\n",
       "      <th>Option_99</th>\n",
       "      <th>Gearbox_mécanique</th>\n",
       "      <th>Fuel_Bicarburation essence GPL</th>\n",
       "      <th>Fuel_Bicarburation essence bioéthanol</th>\n",
       "      <th>Fuel_Diesel</th>\n",
       "      <th>Fuel_Electrique</th>\n",
       "      <th>Fuel_Essence</th>\n",
       "      <th>Fuel_Hybride diesel électrique</th>\n",
       "      <th>Fuel_Hybride essence électrique</th>\n",
       "    </tr>\n",
       "  </thead>\n",
       "  <tbody>\n",
       "    <tr>\n",
       "      <th>0</th>\n",
       "      <td>11220.0</td>\n",
       "      <td>PEUGEOT</td>\n",
       "      <td>308</td>\n",
       "      <td>2014</td>\n",
       "      <td>0.981822</td>\n",
       "      <td>06/07/2018 à 3h47</td>\n",
       "      <td>modele: 308 (2E GENERATION), version: 1.6 HDI ...</td>\n",
       "      <td>0.154899</td>\n",
       "      <td>5.0</td>\n",
       "      <td>4.0</td>\n",
       "      <td>...</td>\n",
       "      <td>-0.312501</td>\n",
       "      <td>0.017782</td>\n",
       "      <td>1</td>\n",
       "      <td>0</td>\n",
       "      <td>0</td>\n",
       "      <td>1</td>\n",
       "      <td>0</td>\n",
       "      <td>0</td>\n",
       "      <td>0</td>\n",
       "      <td>0</td>\n",
       "    </tr>\n",
       "    <tr>\n",
       "      <th>1</th>\n",
       "      <td>57526.0</td>\n",
       "      <td>BMW</td>\n",
       "      <td>X6</td>\n",
       "      <td>2015</td>\n",
       "      <td>-0.165291</td>\n",
       "      <td>03/04/2018 à 16h41</td>\n",
       "      <td>modele: X6 F16, version: (F16) XDRIVE30D 258 M...</td>\n",
       "      <td>-0.108871</td>\n",
       "      <td>5.0</td>\n",
       "      <td>16.0</td>\n",
       "      <td>...</td>\n",
       "      <td>0.428785</td>\n",
       "      <td>0.163108</td>\n",
       "      <td>0</td>\n",
       "      <td>0</td>\n",
       "      <td>0</td>\n",
       "      <td>1</td>\n",
       "      <td>0</td>\n",
       "      <td>0</td>\n",
       "      <td>0</td>\n",
       "      <td>0</td>\n",
       "    </tr>\n",
       "    <tr>\n",
       "      <th>2</th>\n",
       "      <td>80379.0</td>\n",
       "      <td>AUDI</td>\n",
       "      <td>RS6</td>\n",
       "      <td>2014</td>\n",
       "      <td>0.588455</td>\n",
       "      <td>30/07/2018 à 1h55</td>\n",
       "      <td>modele: RS6 (3E GENERATION) AVANT, version: II...</td>\n",
       "      <td>0.154899</td>\n",
       "      <td>5.0</td>\n",
       "      <td>47.0</td>\n",
       "      <td>...</td>\n",
       "      <td>-1.202009</td>\n",
       "      <td>-0.961230</td>\n",
       "      <td>0</td>\n",
       "      <td>0</td>\n",
       "      <td>0</td>\n",
       "      <td>0</td>\n",
       "      <td>0</td>\n",
       "      <td>1</td>\n",
       "      <td>0</td>\n",
       "      <td>0</td>\n",
       "    </tr>\n",
       "    <tr>\n",
       "      <th>3</th>\n",
       "      <td>2830.0</td>\n",
       "      <td>FORD</td>\n",
       "      <td>KA</td>\n",
       "      <td>2007</td>\n",
       "      <td>0.939104</td>\n",
       "      <td>09/07/2018 à 14h12</td>\n",
       "      <td>modele: KA, version: 1.3 70 FUN, puissance_fis...</td>\n",
       "      <td>2.001288</td>\n",
       "      <td>3.0</td>\n",
       "      <td>5.0</td>\n",
       "      <td>...</td>\n",
       "      <td>-0.039696</td>\n",
       "      <td>-0.020430</td>\n",
       "      <td>1</td>\n",
       "      <td>0</td>\n",
       "      <td>0</td>\n",
       "      <td>0</td>\n",
       "      <td>0</td>\n",
       "      <td>1</td>\n",
       "      <td>0</td>\n",
       "      <td>0</td>\n",
       "    </tr>\n",
       "    <tr>\n",
       "      <th>4</th>\n",
       "      <td>12925.0</td>\n",
       "      <td>FIAT</td>\n",
       "      <td>TIPO</td>\n",
       "      <td>2018</td>\n",
       "      <td>-0.975282</td>\n",
       "      <td>19/05/2018 à 3h52</td>\n",
       "      <td>modele: TIPO 2 SW, version: II SW 1.4 95 POP, ...</td>\n",
       "      <td>-0.900181</td>\n",
       "      <td>5.0</td>\n",
       "      <td>5.0</td>\n",
       "      <td>...</td>\n",
       "      <td>-0.452227</td>\n",
       "      <td>0.146430</td>\n",
       "      <td>1</td>\n",
       "      <td>0</td>\n",
       "      <td>0</td>\n",
       "      <td>0</td>\n",
       "      <td>0</td>\n",
       "      <td>1</td>\n",
       "      <td>0</td>\n",
       "      <td>0</td>\n",
       "    </tr>\n",
       "  </tbody>\n",
       "</table>\n",
       "<p>5 rows × 119 columns</p>\n",
       "</div>"
      ],
      "text/plain": [
       "     Price     Make Model  Model_year   Mileage              Online  \\\n",
       "0  11220.0  PEUGEOT   308        2014  0.981822   06/07/2018 à 3h47   \n",
       "1  57526.0      BMW    X6        2015 -0.165291  03/04/2018 à 16h41   \n",
       "2  80379.0     AUDI   RS6        2014  0.588455   30/07/2018 à 1h55   \n",
       "3   2830.0     FORD    KA        2007  0.939104  09/07/2018 à 14h12   \n",
       "4  12925.0     FIAT  TIPO        2018 -0.975282   19/05/2018 à 3h52   \n",
       "\n",
       "                                         Description  Model_age  Doors  \\\n",
       "0  modele: 308 (2E GENERATION), version: 1.6 HDI ...   0.154899    5.0   \n",
       "1  modele: X6 F16, version: (F16) XDRIVE30D 258 M...  -0.108871    5.0   \n",
       "2  modele: RS6 (3E GENERATION) AVANT, version: II...   0.154899    5.0   \n",
       "3  modele: KA, version: 1.3 70 FUN, puissance_fis...   2.001288    3.0   \n",
       "4  modele: TIPO 2 SW, version: II SW 1.4 95 POP, ...  -0.900181    5.0   \n",
       "\n",
       "   Fisc_hp  ... Option_98  Option_99  Gearbox_mécanique  \\\n",
       "0      4.0  ... -0.312501   0.017782                  1   \n",
       "1     16.0  ...  0.428785   0.163108                  0   \n",
       "2     47.0  ... -1.202009  -0.961230                  0   \n",
       "3      5.0  ... -0.039696  -0.020430                  1   \n",
       "4      5.0  ... -0.452227   0.146430                  1   \n",
       "\n",
       "   Fuel_Bicarburation essence GPL  Fuel_Bicarburation essence bioéthanol  \\\n",
       "0                               0                                      0   \n",
       "1                               0                                      0   \n",
       "2                               0                                      0   \n",
       "3                               0                                      0   \n",
       "4                               0                                      0   \n",
       "\n",
       "   Fuel_Diesel  Fuel_Electrique  Fuel_Essence  Fuel_Hybride diesel électrique  \\\n",
       "0            1                0             0                               0   \n",
       "1            1                0             0                               0   \n",
       "2            0                0             1                               0   \n",
       "3            0                0             1                               0   \n",
       "4            0                0             1                               0   \n",
       "\n",
       "   Fuel_Hybride essence électrique  \n",
       "0                                0  \n",
       "1                                0  \n",
       "2                                0  \n",
       "3                                0  \n",
       "4                                0  \n",
       "\n",
       "[5 rows x 119 columns]"
      ]
     },
     "execution_count": 42,
     "metadata": {},
     "output_type": "execute_result"
    }
   ],
   "source": [
    "df.head(5)"
   ]
  },
  {
   "cell_type": "code",
   "execution_count": 43,
   "metadata": {},
   "outputs": [
    {
     "data": {
      "text/plain": [
       "array(['ABARTH', 'AC', 'AIXAM', 'ALFA ROMEO', 'ALPINA', 'ALPINE',\n",
       "       'ASTON MARTIN', 'AUDI', 'AUSTIN', 'AUSTIN HEALEY', 'AUTOBIANCHI',\n",
       "       'BELLIER', 'BENTLEY', 'BMW', 'BMW-ALPINA', 'BOLLORE', 'BUGATTI',\n",
       "       'BURBY S', 'CADILLAC', 'CATERHAM', 'CHATENET', 'CHEVROLET',\n",
       "       'CHRYSLER', 'CITROEN', 'DACIA', 'DAEWOO', 'DAIHATSU', 'DANGEL',\n",
       "       'DODGE', 'DONKERVOORT', 'DS', 'FERRARI', 'FIAT', 'FISKER', 'FORD',\n",
       "       'GRECAV', 'HONDA', 'HUMMER', 'HYUNDAI', 'INFINITI', 'INNOCENTI',\n",
       "       'INTERMECCANICA', 'JAGUAR', 'JEEP', 'JIAYUAN', 'KIA', 'LADA',\n",
       "       'LAMBORGHINI', 'LANCIA', 'LAND ROVER', 'LEXUS', 'LIGIER', 'LOTUS',\n",
       "       'MASERATI', 'MATRA', 'MAZDA', 'MCLAREN', 'MERCEDES',\n",
       "       'MERCEDES-AMG', 'MG', 'MIA ELECTRIC', 'MICROCAR', 'MINI',\n",
       "       'MITSUBISHI', 'MORGAN', 'MPM MOTORS', 'NISSAN', 'OLDSMOBILE',\n",
       "       'OPEL', 'PACKARD', 'PEUGEOT', 'PORSCHE', 'RENAULT', 'RILEY',\n",
       "       'ROLLS ROYCE', 'ROVER', 'SAAB', 'SEAT', 'SECMA', 'SHELBY', 'SIMCA',\n",
       "       'SKODA', 'SMART', 'SSANGYONG', 'SUBARU', 'SUNBEAM', 'SUZUKI',\n",
       "       'TESLA', 'TOYOTA', 'TRIUMPH', 'VOLKSWAGEN', 'VOLVO'], dtype=object)"
      ]
     },
     "execution_count": 43,
     "metadata": {},
     "output_type": "execute_result"
    }
   ],
   "source": [
    "np.sort(df['Make'].unique())"
   ]
  },
  {
   "cell_type": "code",
   "execution_count": 44,
   "metadata": {},
   "outputs": [
    {
     "data": {
      "text/plain": [
       "0    0\n",
       "1    1\n",
       "2    2\n",
       "3    3\n",
       "4    4\n",
       "Name: Make, dtype: category\n",
       "Categories (92, int64): [0, 1, 2, 3, ..., 88, 89, 90, 91]"
      ]
     },
     "execution_count": 44,
     "metadata": {},
     "output_type": "execute_result"
    }
   ],
   "source": [
    "# Transform makes to ordinal numbers\n",
    "df['Make'] = categorize(df['Make'])\n",
    "df['Make'] = df['Make'].astype('category')\n",
    "df['Make'].head(5)"
   ]
  },
  {
   "cell_type": "code",
   "execution_count": 45,
   "metadata": {},
   "outputs": [
    {
     "data": {
      "text/plain": [
       "array(['2008', '208', '3008', '308', '407', '500', '500 X', '5008', 'A3',\n",
       "       'A4', 'A5', 'ARONA', 'ASTRA', 'AURIS', 'C-MAX', 'C3', 'C4',\n",
       "       'C4 PICASSO', 'C5', 'CLASSE A', 'CLASSE B', 'CLASSE C', 'CLASSE R',\n",
       "       'CLIO', 'DS3', 'DUSTER', 'GOLF', 'GRAND C-MAX',\n",
       "       'GRAND C4 SPACETOURER', 'GRAND SCENIC', 'I20', 'I30', 'IBIZA',\n",
       "       'KA', 'KADJAR', 'KOLEOS', 'KUGA', 'MACAN', 'MEGANE', 'MINI',\n",
       "       'MONDEO', 'PASSAT', 'POLO', 'QASHQAI', 'RS6', 'SANDERO', 'SCENIC',\n",
       "       'SERIE 1', 'SERIE 2', 'SERIE 3 GT', 'SERIE 5', 'SL', 'TALISMAN',\n",
       "       'TIGUAN', 'TIPO', 'TOURAN', 'TWINGO', 'X3', 'X6', 'XKR'],\n",
       "      dtype=object)"
      ]
     },
     "execution_count": 45,
     "metadata": {},
     "output_type": "execute_result"
    }
   ],
   "source": [
    "np.sort(df['Model'].unique()[0:60])"
   ]
  },
  {
   "cell_type": "code",
   "execution_count": 46,
   "metadata": {},
   "outputs": [
    {
     "data": {
      "text/plain": [
       "0    0\n",
       "1    1\n",
       "2    2\n",
       "3    3\n",
       "4    4\n",
       "Name: Model, dtype: category\n",
       "Categories (837, int64): [0, 1, 2, 3, ..., 833, 834, 835, 836]"
      ]
     },
     "execution_count": 46,
     "metadata": {},
     "output_type": "execute_result"
    }
   ],
   "source": [
    "# Transform models to ordinal numbers\n",
    "df['Model'] = categorize(df['Model'])\n",
    "df['Model'] = df['Model'].astype('category')\n",
    "df['Model'].head(5)"
   ]
  },
  {
   "cell_type": "markdown",
   "metadata": {},
   "source": [
    "### Check for valid types"
   ]
  },
  {
   "cell_type": "code",
   "execution_count": 47,
   "metadata": {},
   "outputs": [
    {
     "data": {
      "text/plain": [
       "Price                               float64\n",
       "Make                               category\n",
       "Model                              category\n",
       "Model_year                            int16\n",
       "Mileage                             float64\n",
       "                                     ...   \n",
       "Fuel_Diesel                           uint8\n",
       "Fuel_Electrique                       uint8\n",
       "Fuel_Essence                          uint8\n",
       "Fuel_Hybride diesel électrique        uint8\n",
       "Fuel_Hybride essence électrique       uint8\n",
       "Length: 119, dtype: object"
      ]
     },
     "execution_count": 47,
     "metadata": {},
     "output_type": "execute_result"
    }
   ],
   "source": [
    "df.dtypes"
   ]
  },
  {
   "cell_type": "markdown",
   "metadata": {},
   "source": [
    "## Feature selection"
   ]
  },
  {
   "cell_type": "code",
   "execution_count": 48,
   "metadata": {},
   "outputs": [
    {
     "data": {
      "text/plain": [
       "Index(['Make', 'Model', 'Mileage', 'Model_age', 'Fisc_hp', 'Option_0',\n",
       "       'Option_1', 'Option_2', 'Option_3', 'Option_4',\n",
       "       ...\n",
       "       'Option_98', 'Option_99', 'Gearbox_mécanique',\n",
       "       'Fuel_Bicarburation essence GPL',\n",
       "       'Fuel_Bicarburation essence bioéthanol', 'Fuel_Diesel',\n",
       "       'Fuel_Electrique', 'Fuel_Essence', 'Fuel_Hybride diesel électrique',\n",
       "       'Fuel_Hybride essence électrique'],\n",
       "      dtype='object', length=113)"
      ]
     },
     "execution_count": 48,
     "metadata": {},
     "output_type": "execute_result"
    }
   ],
   "source": [
    "X = df\n",
    "y = df[\"Price\"]\n",
    "\n",
    "X = X.drop([\n",
    "        'Price', \n",
    "        'Online',\n",
    "        'Model_year', \n",
    "        'Doors',\n",
    "        'Description',\n",
    "        'Options',\n",
    "        'Fuel_Bicarburation essence GNV'\n",
    "       ], axis=1, errors='ignore')\n",
    "\n",
    "X.columns"
   ]
  },
  {
   "cell_type": "markdown",
   "metadata": {},
   "source": [
    "## Split"
   ]
  },
  {
   "cell_type": "code",
   "execution_count": 49,
   "metadata": {},
   "outputs": [],
   "source": [
    "X_train, X_test, y_train, y_test = train_test_split(X, y, test_size=0.40, random_state=42)"
   ]
  },
  {
   "cell_type": "code",
   "execution_count": 50,
   "metadata": {},
   "outputs": [
    {
     "data": {
      "text/plain": [
       "((99408, 113), (66273, 113), (99408,), (66273,))"
      ]
     },
     "execution_count": 50,
     "metadata": {},
     "output_type": "execute_result"
    }
   ],
   "source": [
    "X_train.shape, X_test.shape, y_train.shape, y_test.shape"
   ]
  },
  {
   "cell_type": "code",
   "execution_count": 51,
   "metadata": {},
   "outputs": [
    {
     "data": {
      "text/html": [
       "<div>\n",
       "<style scoped>\n",
       "    .dataframe tbody tr th:only-of-type {\n",
       "        vertical-align: middle;\n",
       "    }\n",
       "\n",
       "    .dataframe tbody tr th {\n",
       "        vertical-align: top;\n",
       "    }\n",
       "\n",
       "    .dataframe thead th {\n",
       "        text-align: right;\n",
       "    }\n",
       "</style>\n",
       "<table border=\"1\" class=\"dataframe\">\n",
       "  <thead>\n",
       "    <tr style=\"text-align: right;\">\n",
       "      <th></th>\n",
       "      <th>Make</th>\n",
       "      <th>Model</th>\n",
       "      <th>Mileage</th>\n",
       "      <th>Model_age</th>\n",
       "      <th>Fisc_hp</th>\n",
       "      <th>Option_0</th>\n",
       "      <th>Option_1</th>\n",
       "      <th>Option_2</th>\n",
       "      <th>Option_3</th>\n",
       "      <th>Option_4</th>\n",
       "      <th>...</th>\n",
       "      <th>Option_98</th>\n",
       "      <th>Option_99</th>\n",
       "      <th>Gearbox_mécanique</th>\n",
       "      <th>Fuel_Bicarburation essence GPL</th>\n",
       "      <th>Fuel_Bicarburation essence bioéthanol</th>\n",
       "      <th>Fuel_Diesel</th>\n",
       "      <th>Fuel_Electrique</th>\n",
       "      <th>Fuel_Essence</th>\n",
       "      <th>Fuel_Hybride diesel électrique</th>\n",
       "      <th>Fuel_Hybride essence électrique</th>\n",
       "    </tr>\n",
       "  </thead>\n",
       "  <tbody>\n",
       "    <tr>\n",
       "      <th>30525</th>\n",
       "      <td>1</td>\n",
       "      <td>78</td>\n",
       "      <td>-0.348219</td>\n",
       "      <td>-0.372641</td>\n",
       "      <td>34.0</td>\n",
       "      <td>-8.253399</td>\n",
       "      <td>0.719644</td>\n",
       "      <td>0.489952</td>\n",
       "      <td>-2.325066</td>\n",
       "      <td>-0.380002</td>\n",
       "      <td>...</td>\n",
       "      <td>-0.471927</td>\n",
       "      <td>0.299932</td>\n",
       "      <td>0</td>\n",
       "      <td>0</td>\n",
       "      <td>0</td>\n",
       "      <td>0</td>\n",
       "      <td>0</td>\n",
       "      <td>1</td>\n",
       "      <td>0</td>\n",
       "      <td>0</td>\n",
       "    </tr>\n",
       "    <tr>\n",
       "      <th>100906</th>\n",
       "      <td>1</td>\n",
       "      <td>59</td>\n",
       "      <td>0.741300</td>\n",
       "      <td>0.154899</td>\n",
       "      <td>20.0</td>\n",
       "      <td>-3.479326</td>\n",
       "      <td>1.813317</td>\n",
       "      <td>-0.494345</td>\n",
       "      <td>2.008649</td>\n",
       "      <td>0.758960</td>\n",
       "      <td>...</td>\n",
       "      <td>-0.380210</td>\n",
       "      <td>0.032053</td>\n",
       "      <td>0</td>\n",
       "      <td>0</td>\n",
       "      <td>0</td>\n",
       "      <td>1</td>\n",
       "      <td>0</td>\n",
       "      <td>0</td>\n",
       "      <td>0</td>\n",
       "      <td>0</td>\n",
       "    </tr>\n",
       "    <tr>\n",
       "      <th>71646</th>\n",
       "      <td>22</td>\n",
       "      <td>155</td>\n",
       "      <td>-0.890509</td>\n",
       "      <td>-0.636411</td>\n",
       "      <td>5.0</td>\n",
       "      <td>5.950769</td>\n",
       "      <td>-4.416503</td>\n",
       "      <td>0.959482</td>\n",
       "      <td>3.726106</td>\n",
       "      <td>-0.859325</td>\n",
       "      <td>...</td>\n",
       "      <td>-0.059482</td>\n",
       "      <td>0.364904</td>\n",
       "      <td>0</td>\n",
       "      <td>0</td>\n",
       "      <td>0</td>\n",
       "      <td>0</td>\n",
       "      <td>0</td>\n",
       "      <td>1</td>\n",
       "      <td>0</td>\n",
       "      <td>0</td>\n",
       "    </tr>\n",
       "    <tr>\n",
       "      <th>2403</th>\n",
       "      <td>5</td>\n",
       "      <td>25</td>\n",
       "      <td>1.956339</td>\n",
       "      <td>2.001288</td>\n",
       "      <td>7.0</td>\n",
       "      <td>-5.056496</td>\n",
       "      <td>0.629435</td>\n",
       "      <td>-1.244241</td>\n",
       "      <td>-0.665262</td>\n",
       "      <td>1.243723</td>\n",
       "      <td>...</td>\n",
       "      <td>0.375376</td>\n",
       "      <td>-0.085272</td>\n",
       "      <td>1</td>\n",
       "      <td>0</td>\n",
       "      <td>0</td>\n",
       "      <td>0</td>\n",
       "      <td>0</td>\n",
       "      <td>1</td>\n",
       "      <td>0</td>\n",
       "      <td>0</td>\n",
       "    </tr>\n",
       "    <tr>\n",
       "      <th>134355</th>\n",
       "      <td>8</td>\n",
       "      <td>11</td>\n",
       "      <td>-0.975282</td>\n",
       "      <td>-0.900181</td>\n",
       "      <td>5.0</td>\n",
       "      <td>-4.865156</td>\n",
       "      <td>1.176965</td>\n",
       "      <td>3.360297</td>\n",
       "      <td>-1.986227</td>\n",
       "      <td>-1.658989</td>\n",
       "      <td>...</td>\n",
       "      <td>0.101774</td>\n",
       "      <td>0.680989</td>\n",
       "      <td>1</td>\n",
       "      <td>0</td>\n",
       "      <td>0</td>\n",
       "      <td>0</td>\n",
       "      <td>0</td>\n",
       "      <td>1</td>\n",
       "      <td>0</td>\n",
       "      <td>0</td>\n",
       "    </tr>\n",
       "  </tbody>\n",
       "</table>\n",
       "<p>5 rows × 113 columns</p>\n",
       "</div>"
      ],
      "text/plain": [
       "       Make Model   Mileage  Model_age  Fisc_hp  Option_0  Option_1  Option_2  \\\n",
       "30525     1    78 -0.348219  -0.372641     34.0 -8.253399  0.719644  0.489952   \n",
       "100906    1    59  0.741300   0.154899     20.0 -3.479326  1.813317 -0.494345   \n",
       "71646    22   155 -0.890509  -0.636411      5.0  5.950769 -4.416503  0.959482   \n",
       "2403      5    25  1.956339   2.001288      7.0 -5.056496  0.629435 -1.244241   \n",
       "134355    8    11 -0.975282  -0.900181      5.0 -4.865156  1.176965  3.360297   \n",
       "\n",
       "        Option_3  Option_4  ...  Option_98  Option_99  Gearbox_mécanique  \\\n",
       "30525  -2.325066 -0.380002  ...  -0.471927   0.299932                  0   \n",
       "100906  2.008649  0.758960  ...  -0.380210   0.032053                  0   \n",
       "71646   3.726106 -0.859325  ...  -0.059482   0.364904                  0   \n",
       "2403   -0.665262  1.243723  ...   0.375376  -0.085272                  1   \n",
       "134355 -1.986227 -1.658989  ...   0.101774   0.680989                  1   \n",
       "\n",
       "        Fuel_Bicarburation essence GPL  Fuel_Bicarburation essence bioéthanol  \\\n",
       "30525                                0                                      0   \n",
       "100906                               0                                      0   \n",
       "71646                                0                                      0   \n",
       "2403                                 0                                      0   \n",
       "134355                               0                                      0   \n",
       "\n",
       "        Fuel_Diesel  Fuel_Electrique  Fuel_Essence  \\\n",
       "30525             0                0             1   \n",
       "100906            1                0             0   \n",
       "71646             0                0             1   \n",
       "2403              0                0             1   \n",
       "134355            0                0             1   \n",
       "\n",
       "        Fuel_Hybride diesel électrique  Fuel_Hybride essence électrique  \n",
       "30525                                0                                0  \n",
       "100906                               0                                0  \n",
       "71646                                0                                0  \n",
       "2403                                 0                                0  \n",
       "134355                               0                                0  \n",
       "\n",
       "[5 rows x 113 columns]"
      ]
     },
     "execution_count": 51,
     "metadata": {},
     "output_type": "execute_result"
    }
   ],
   "source": [
    "X_train.head(5)"
   ]
  },
  {
   "cell_type": "code",
   "execution_count": 52,
   "metadata": {},
   "outputs": [
    {
     "data": {
      "text/plain": [
       "30525     72092.0\n",
       "100906    34024.0\n",
       "71646     16309.0\n",
       "2403       3950.0\n",
       "134355    26212.0\n",
       "Name: Price, dtype: float64"
      ]
     },
     "execution_count": 52,
     "metadata": {},
     "output_type": "execute_result"
    }
   ],
   "source": [
    "y_train.head(5)"
   ]
  },
  {
   "cell_type": "markdown",
   "metadata": {},
   "source": [
    "## Train / Predict"
   ]
  },
  {
   "cell_type": "code",
   "execution_count": 82,
   "metadata": {},
   "outputs": [],
   "source": [
    "lreg = RandomForestRegressor(max_depth=7, random_state=0)"
   ]
  },
  {
   "cell_type": "code",
   "execution_count": 83,
   "metadata": {},
   "outputs": [
    {
     "data": {
      "text/plain": [
       "RandomForestRegressor(bootstrap=True, ccp_alpha=0.0, criterion='mse',\n",
       "                      max_depth=7, max_features='auto', max_leaf_nodes=None,\n",
       "                      max_samples=None, min_impurity_decrease=0.0,\n",
       "                      min_impurity_split=None, min_samples_leaf=1,\n",
       "                      min_samples_split=2, min_weight_fraction_leaf=0.0,\n",
       "                      n_estimators=100, n_jobs=None, oob_score=False,\n",
       "                      random_state=0, verbose=0, warm_start=False)"
      ]
     },
     "execution_count": 83,
     "metadata": {},
     "output_type": "execute_result"
    }
   ],
   "source": [
    "lreg.fit(X_train, y_train)"
   ]
  },
  {
   "cell_type": "code",
   "execution_count": 84,
   "metadata": {},
   "outputs": [],
   "source": [
    "y_pred = lreg.predict(X_test)"
   ]
  },
  {
   "cell_type": "code",
   "execution_count": 118,
   "metadata": {},
   "outputs": [
    {
     "data": {
      "text/plain": [
       "20.310993186542653"
      ]
     },
     "execution_count": 118,
     "metadata": {},
     "output_type": "execute_result"
    }
   ],
   "source": [
    "mean_absolute_percentage_error(y_test, y_pred)"
   ]
  },
  {
   "cell_type": "code",
   "execution_count": 86,
   "metadata": {},
   "outputs": [
    {
     "data": {
      "text/plain": [
       "0.6864739354592959"
      ]
     },
     "execution_count": 86,
     "metadata": {},
     "output_type": "execute_result"
    }
   ],
   "source": [
    "r2_score(y_test, y_pred)"
   ]
  },
  {
   "cell_type": "code",
   "execution_count": 87,
   "metadata": {},
   "outputs": [
    {
     "data": {
      "text/plain": [
       "array([17451.19007528, 10797.16668559,  8901.90664649, ...,\n",
       "       15035.67734257, 17965.11896989, 28444.09380208])"
      ]
     },
     "execution_count": 87,
     "metadata": {},
     "output_type": "execute_result"
    }
   ],
   "source": [
    "y_pred"
   ]
  },
  {
   "cell_type": "code",
   "execution_count": 88,
   "metadata": {},
   "outputs": [
    {
     "data": {
      "text/plain": [
       "array([19781., 16466.,  8070., ..., 15569., 17766., 28123.])"
      ]
     },
     "execution_count": 88,
     "metadata": {},
     "output_type": "execute_result"
    }
   ],
   "source": [
    "y_test.to_numpy()"
   ]
  },
  {
   "cell_type": "code",
   "execution_count": 89,
   "metadata": {},
   "outputs": [
    {
     "data": {
      "text/plain": [
       "[<matplotlib.lines.Line2D at 0x7fb4fe0b1dd8>]"
      ]
     },
     "execution_count": 89,
     "metadata": {},
     "output_type": "execute_result"
    },
    {
     "data": {
      "image/png": "[encoded data removed]",
      "text/plain": [
       "<Figure size 432x288 with 1 Axes>"
      ]
     },
     "metadata": {
      "needs_background": "light"
     },
     "output_type": "display_data"
    }
   ],
   "source": [
    "plt.plot(y_test.to_numpy()[0:100])\n",
    "plt.plot(y_pred[0:100])\n",
    "plt.xlim([0, 100])\n",
    "plt.xlabel('The 100 first predictions')\n",
    "plt.ylabel('Price')\n",
    "plt.plot([-100, 100], [-100, 100])"
   ]
  },
  {
   "cell_type": "code",
   "execution_count": 115,
   "metadata": {},
   "outputs": [],
   "source": [
    "# Save model\n",
    "pickle.dump(lreg, open('model.sav', 'wb'))"
   ]
  }
 ],
 "metadata": {
  "kernelspec": {
   "display_name": "Python 3.6.9 64-bit",
   "language": "python",
   "name": "python36964bit5749390e0df449b8bae309fb776da9ac"
  },
  "language_info": {
   "codemirror_mode": {
    "name": "ipython",
    "version": 3
   },
   "file_extension": ".py",
   "mimetype": "text/x-python",
   "name": "python",
   "nbconvert_exporter": "python",
   "pygments_lexer": "ipython3",
   "version": "3.6.9"
  }
 },
 "nbformat": 4,
 "nbformat_minor": 2
}
