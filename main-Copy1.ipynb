{
 "cells": [
  {
   "cell_type": "code",
   "execution_count": 1,
   "metadata": {},
   "outputs": [],
   "source": [
    "import os\n",
    "\n",
    "import pandas as pd\n",
    "import numpy as np\n",
    "import seaborn as sns\n",
    "\n",
    "from utils.process import categorize\n",
    "from utils.metrics import mean_absolute_percentage_error\n",
    "\n",
    "from sklearn.model_selection import train_test_split, cross_val_score\n",
    "from sklearn.linear_model import LinearRegression\n",
    "from sklearn.metrics import mean_squared_error, r2_score"
   ]
  },
  {
   "cell_type": "markdown",
   "metadata": {},
   "source": [
    "## Import dataset"
   ]
  },
  {
   "cell_type": "code",
   "execution_count": 2,
   "metadata": {},
   "outputs": [
    {
     "data": {
      "text/plain": [
       "'/Users/stevenr/Documents/Cours_MD5/projet_data/9mai/data_project-master'"
      ]
     },
     "execution_count": 2,
     "metadata": {},
     "output_type": "execute_result"
    }
   ],
   "source": [
    "# See working directory (No need, just for myself)\n",
    "os.getcwd()"
   ]
  },
  {
   "cell_type": "code",
   "execution_count": 3,
   "metadata": {},
   "outputs": [],
   "source": [
    "df = pd.read_csv('./data_cars.csv')"
   ]
  },
  {
   "cell_type": "code",
   "execution_count": 4,
   "metadata": {},
   "outputs": [
    {
     "data": {
      "text/html": [
       "<div>\n",
       "<style scoped>\n",
       "    .dataframe tbody tr th:only-of-type {\n",
       "        vertical-align: middle;\n",
       "    }\n",
       "\n",
       "    .dataframe tbody tr th {\n",
       "        vertical-align: top;\n",
       "    }\n",
       "\n",
       "    .dataframe thead th {\n",
       "        text-align: right;\n",
       "    }\n",
       "</style>\n",
       "<table border=\"1\" class=\"dataframe\">\n",
       "  <thead>\n",
       "    <tr style=\"text-align: right;\">\n",
       "      <th></th>\n",
       "      <th>Price</th>\n",
       "      <th>Make</th>\n",
       "      <th>Model</th>\n",
       "      <th>Model_year</th>\n",
       "      <th>Mileage</th>\n",
       "      <th>Fuel</th>\n",
       "      <th>Gearbox</th>\n",
       "      <th>Online</th>\n",
       "      <th>Description</th>\n",
       "    </tr>\n",
       "  </thead>\n",
       "  <tbody>\n",
       "    <tr>\n",
       "      <th>0</th>\n",
       "      <td>11220.0</td>\n",
       "      <td>PEUGEOT</td>\n",
       "      <td>308</td>\n",
       "      <td>2014</td>\n",
       "      <td>94341.0 km</td>\n",
       "      <td>Diesel</td>\n",
       "      <td>mécanique</td>\n",
       "      <td>06/07/2018 à 3h47</td>\n",
       "      <td>modele: 308 (2E GENERATION), version: 1.6 HDI ...</td>\n",
       "    </tr>\n",
       "    <tr>\n",
       "      <th>1</th>\n",
       "      <td>57526.0</td>\n",
       "      <td>BMW</td>\n",
       "      <td>X6</td>\n",
       "      <td>2015</td>\n",
       "      <td>39051.0 km</td>\n",
       "      <td>Diesel</td>\n",
       "      <td>automatique</td>\n",
       "      <td>03/04/2018 à 16h41</td>\n",
       "      <td>modele: X6 F16, version: (F16) XDRIVE30D 258 M...</td>\n",
       "    </tr>\n",
       "    <tr>\n",
       "      <th>2</th>\n",
       "      <td>80379.0</td>\n",
       "      <td>AUDI</td>\n",
       "      <td>RS6</td>\n",
       "      <td>2014</td>\n",
       "      <td>75381.0 km</td>\n",
       "      <td>Essence</td>\n",
       "      <td>automatique</td>\n",
       "      <td>30/07/2018 à 1h55</td>\n",
       "      <td>modele: RS6 (3E GENERATION) AVANT, version: II...</td>\n",
       "    </tr>\n",
       "    <tr>\n",
       "      <th>3</th>\n",
       "      <td>2830.0</td>\n",
       "      <td>FORD</td>\n",
       "      <td>KA</td>\n",
       "      <td>2007</td>\n",
       "      <td>92282.0 km</td>\n",
       "      <td>Essence</td>\n",
       "      <td>mécanique</td>\n",
       "      <td>09/07/2018 à 14h12</td>\n",
       "      <td>modele: KA, version: 1.3 70 FUN, puissance_fis...</td>\n",
       "    </tr>\n",
       "    <tr>\n",
       "      <th>4</th>\n",
       "      <td>12925.0</td>\n",
       "      <td>FIAT</td>\n",
       "      <td>TIPO</td>\n",
       "      <td>2018</td>\n",
       "      <td>10.0 km</td>\n",
       "      <td>Essence</td>\n",
       "      <td>mécanique</td>\n",
       "      <td>19/05/2018 à 3h52</td>\n",
       "      <td>modele: TIPO 2 SW, version: II SW 1.4 95 POP, ...</td>\n",
       "    </tr>\n",
       "    <tr>\n",
       "      <th>5</th>\n",
       "      <td>27956.0</td>\n",
       "      <td>BMW</td>\n",
       "      <td>X3</td>\n",
       "      <td>2012</td>\n",
       "      <td>95623.0 km</td>\n",
       "      <td>Diesel</td>\n",
       "      <td>automatique</td>\n",
       "      <td>14/03/2018 à 4h24</td>\n",
       "      <td>modele: X3 F25, version: (F25) XDRIVE35D 313 S...</td>\n",
       "    </tr>\n",
       "    <tr>\n",
       "      <th>6</th>\n",
       "      <td>16888.0</td>\n",
       "      <td>AUDI</td>\n",
       "      <td>A3</td>\n",
       "      <td>2013</td>\n",
       "      <td>49018.0 km</td>\n",
       "      <td>Diesel</td>\n",
       "      <td>mécanique</td>\n",
       "      <td>16/04/2018 à 21h35</td>\n",
       "      <td>modele: A3 (2E GENERATION) SPORTBACK, version:...</td>\n",
       "    </tr>\n",
       "    <tr>\n",
       "      <th>7</th>\n",
       "      <td>18188.0</td>\n",
       "      <td>RENAULT</td>\n",
       "      <td>MEGANE</td>\n",
       "      <td>2017</td>\n",
       "      <td>9795.0 km</td>\n",
       "      <td>Diesel</td>\n",
       "      <td>automatique</td>\n",
       "      <td>29/04/2018 à 12h44</td>\n",
       "      <td>modele: MEGANE 4 ESTATE, version: IV ESTATE 1....</td>\n",
       "    </tr>\n",
       "    <tr>\n",
       "      <th>8</th>\n",
       "      <td>10594.0</td>\n",
       "      <td>FORD</td>\n",
       "      <td>C-MAX</td>\n",
       "      <td>2012</td>\n",
       "      <td>126670.0 km</td>\n",
       "      <td>Diesel</td>\n",
       "      <td>mécanique</td>\n",
       "      <td>22/06/2018 à 5h11</td>\n",
       "      <td>modele: C-MAX 2, version: II 1.6 TDCI 115 FAP ...</td>\n",
       "    </tr>\n",
       "    <tr>\n",
       "      <th>9</th>\n",
       "      <td>69131.0</td>\n",
       "      <td>MERCEDES</td>\n",
       "      <td>CLASSE C</td>\n",
       "      <td>2015</td>\n",
       "      <td>39439.0 km</td>\n",
       "      <td>Essence</td>\n",
       "      <td>automatique</td>\n",
       "      <td>08/03/2018 à 17h35</td>\n",
       "      <td>modele: CLASSE C 4 AMG, version: (W205) 63 AMG...</td>\n",
       "    </tr>\n",
       "  </tbody>\n",
       "</table>\n",
       "</div>"
      ],
      "text/plain": [
       "     Price      Make     Model  Model_year      Mileage     Fuel      Gearbox  \\\n",
       "0  11220.0   PEUGEOT       308        2014   94341.0 km   Diesel    mécanique   \n",
       "1  57526.0       BMW        X6        2015   39051.0 km   Diesel  automatique   \n",
       "2  80379.0      AUDI       RS6        2014   75381.0 km  Essence  automatique   \n",
       "3   2830.0      FORD        KA        2007   92282.0 km  Essence    mécanique   \n",
       "4  12925.0      FIAT      TIPO        2018      10.0 km  Essence    mécanique   \n",
       "5  27956.0       BMW        X3        2012   95623.0 km   Diesel  automatique   \n",
       "6  16888.0      AUDI        A3        2013   49018.0 km   Diesel    mécanique   \n",
       "7  18188.0   RENAULT    MEGANE        2017    9795.0 km   Diesel  automatique   \n",
       "8  10594.0      FORD     C-MAX        2012  126670.0 km   Diesel    mécanique   \n",
       "9  69131.0  MERCEDES  CLASSE C        2015   39439.0 km  Essence  automatique   \n",
       "\n",
       "               Online                                        Description  \n",
       "0   06/07/2018 à 3h47  modele: 308 (2E GENERATION), version: 1.6 HDI ...  \n",
       "1  03/04/2018 à 16h41  modele: X6 F16, version: (F16) XDRIVE30D 258 M...  \n",
       "2   30/07/2018 à 1h55  modele: RS6 (3E GENERATION) AVANT, version: II...  \n",
       "3  09/07/2018 à 14h12  modele: KA, version: 1.3 70 FUN, puissance_fis...  \n",
       "4   19/05/2018 à 3h52  modele: TIPO 2 SW, version: II SW 1.4 95 POP, ...  \n",
       "5   14/03/2018 à 4h24  modele: X3 F25, version: (F25) XDRIVE35D 313 S...  \n",
       "6  16/04/2018 à 21h35  modele: A3 (2E GENERATION) SPORTBACK, version:...  \n",
       "7  29/04/2018 à 12h44  modele: MEGANE 4 ESTATE, version: IV ESTATE 1....  \n",
       "8   22/06/2018 à 5h11  modele: C-MAX 2, version: II 1.6 TDCI 115 FAP ...  \n",
       "9  08/03/2018 à 17h35  modele: CLASSE C 4 AMG, version: (W205) 63 AMG...  "
      ]
     },
     "execution_count": 4,
     "metadata": {},
     "output_type": "execute_result"
    }
   ],
   "source": [
    "df.head(10)"
   ]
  },
  {
   "cell_type": "markdown",
   "metadata": {},
   "source": [
    "## Observations"
   ]
  },
  {
   "cell_type": "code",
   "execution_count": 5,
   "metadata": {},
   "outputs": [],
   "source": [
    "import matplotlib.pyplot as plt\n",
    "\n",
    "%matplotlib inline"
   ]
  },
  {
   "cell_type": "code",
   "execution_count": 6,
   "metadata": {},
   "outputs": [
    {
     "data": {
      "image/png": "[encoded data removed]",
      "text/plain": [
       "<Figure size 432x288 with 1 Axes>"
      ]
     },
     "metadata": {
      "needs_background": "light"
     },
     "output_type": "display_data"
    }
   ],
   "source": [
    "# Price repartition\n",
    "plt.hist(df[\"Price\"], 800)\n",
    "plt.xlim(0, 100000)\n",
    "plt.xlabel('Prices')\n",
    "plt.ylabel('Count')\n",
    "plt.show()"
   ]
  },
  {
   "cell_type": "markdown",
   "metadata": {},
   "source": [
    "Les prix semblent s'agglutiner entre 20000 et 25000 €"
   ]
  },
  {
   "cell_type": "code",
   "execution_count": 7,
   "metadata": {},
   "outputs": [],
   "source": [
    "# relation between mileage and price\n",
    "#plt.hist(df['Mileage'],df['Price'])\n",
    "#plt.xlim(0, 100000)\n",
    "#plt.xlabel(\"Mileage\")\n",
    "#plt.ylabel(\"Price\")\n",
    "#plt.xlim(0, 90000)"
   ]
  },
  {
   "cell_type": "code",
   "execution_count": 8,
   "metadata": {},
   "outputs": [
    {
     "data": {
      "text/plain": [
       "Text(0, 0.5, 'Number of cars')"
      ]
     },
     "execution_count": 8,
     "metadata": {},
     "output_type": "execute_result"
    },
    {
     "data": {
      "image/png": "[encoded data removed]",
      "text/plain": [
       "<Figure size 432x288 with 1 Axes>"
      ]
     },
     "metadata": {
      "needs_background": "light"
     },
     "output_type": "display_data"
    }
   ],
   "source": [
    "# Make cars counts\n",
    "counts = df[\"Make\"].value_counts().iloc[0:20]\n",
    "names = counts.keys().to_numpy()\n",
    "values = counts.to_numpy()\n",
    "\n",
    "plt.bar(names, values)\n",
    "plt.xticks(rotation=\"vertical\")\n",
    "plt.xlabel(\"Make\")\n",
    "plt.ylabel(\"Number of cars\")"
   ]
  },
  {
   "cell_type": "markdown",
   "metadata": {},
   "source": [
    "Le dataset contient beaucoup de voitures Renault, Peugeot et Citroen que de voitures de marque étrangère (BMW, Ford, Mercedes)"
   ]
  },
  {
   "cell_type": "markdown",
   "metadata": {},
   "source": [
    "## Some data cleaning"
   ]
  },
  {
   "cell_type": "markdown",
   "metadata": {},
   "source": [
    "### Data Modification"
   ]
  },
  {
   "cell_type": "code",
   "execution_count": 9,
   "metadata": {},
   "outputs": [],
   "source": [
    "# Getting the number of doors on the car\n",
    "import re\n",
    "df['Nbre_porte'] = df['Description'].str.extract(\"portes: (.)\")"
   ]
  },
  {
   "cell_type": "code",
   "execution_count": 10,
   "metadata": {},
   "outputs": [],
   "source": [
    "# Getting the horse power of a car\n",
    "df['CV'] = df['Description'].str.extract(\"puissance_fiscale: (..)\")\n",
    "df['CV'] = df['CV'].str.replace(',', '')"
   ]
  },
  {
   "cell_type": "code",
   "execution_count": 11,
   "metadata": {},
   "outputs": [
    {
     "data": {
      "text/html": [
       "<div>\n",
       "<style scoped>\n",
       "    .dataframe tbody tr th:only-of-type {\n",
       "        vertical-align: middle;\n",
       "    }\n",
       "\n",
       "    .dataframe tbody tr th {\n",
       "        vertical-align: top;\n",
       "    }\n",
       "\n",
       "    .dataframe thead th {\n",
       "        text-align: right;\n",
       "    }\n",
       "</style>\n",
       "<table border=\"1\" class=\"dataframe\">\n",
       "  <thead>\n",
       "    <tr style=\"text-align: right;\">\n",
       "      <th></th>\n",
       "      <th>Price</th>\n",
       "      <th>Make</th>\n",
       "      <th>Model</th>\n",
       "      <th>Model_year</th>\n",
       "      <th>Mileage</th>\n",
       "      <th>Fuel</th>\n",
       "      <th>Gearbox</th>\n",
       "      <th>Online</th>\n",
       "      <th>Description</th>\n",
       "      <th>Nbre_porte</th>\n",
       "      <th>CV</th>\n",
       "    </tr>\n",
       "  </thead>\n",
       "  <tbody>\n",
       "    <tr>\n",
       "      <th>0</th>\n",
       "      <td>11220.0</td>\n",
       "      <td>PEUGEOT</td>\n",
       "      <td>308</td>\n",
       "      <td>4</td>\n",
       "      <td>94341.0 km</td>\n",
       "      <td>Diesel</td>\n",
       "      <td>mécanique</td>\n",
       "      <td>06/07/2018 à 3h47</td>\n",
       "      <td>modele: 308 (2E GENERATION), version: 1.6 HDI ...</td>\n",
       "      <td>5</td>\n",
       "      <td>4</td>\n",
       "    </tr>\n",
       "    <tr>\n",
       "      <th>1</th>\n",
       "      <td>57526.0</td>\n",
       "      <td>BMW</td>\n",
       "      <td>X6</td>\n",
       "      <td>3</td>\n",
       "      <td>39051.0 km</td>\n",
       "      <td>Diesel</td>\n",
       "      <td>automatique</td>\n",
       "      <td>03/04/2018 à 16h41</td>\n",
       "      <td>modele: X6 F16, version: (F16) XDRIVE30D 258 M...</td>\n",
       "      <td>5</td>\n",
       "      <td>16</td>\n",
       "    </tr>\n",
       "    <tr>\n",
       "      <th>2</th>\n",
       "      <td>80379.0</td>\n",
       "      <td>AUDI</td>\n",
       "      <td>RS6</td>\n",
       "      <td>4</td>\n",
       "      <td>75381.0 km</td>\n",
       "      <td>Essence</td>\n",
       "      <td>automatique</td>\n",
       "      <td>30/07/2018 à 1h55</td>\n",
       "      <td>modele: RS6 (3E GENERATION) AVANT, version: II...</td>\n",
       "      <td>5</td>\n",
       "      <td>47</td>\n",
       "    </tr>\n",
       "    <tr>\n",
       "      <th>3</th>\n",
       "      <td>2830.0</td>\n",
       "      <td>FORD</td>\n",
       "      <td>KA</td>\n",
       "      <td>11</td>\n",
       "      <td>92282.0 km</td>\n",
       "      <td>Essence</td>\n",
       "      <td>mécanique</td>\n",
       "      <td>09/07/2018 à 14h12</td>\n",
       "      <td>modele: KA, version: 1.3 70 FUN, puissance_fis...</td>\n",
       "      <td>3</td>\n",
       "      <td>5</td>\n",
       "    </tr>\n",
       "    <tr>\n",
       "      <th>4</th>\n",
       "      <td>12925.0</td>\n",
       "      <td>FIAT</td>\n",
       "      <td>TIPO</td>\n",
       "      <td>0</td>\n",
       "      <td>10.0 km</td>\n",
       "      <td>Essence</td>\n",
       "      <td>mécanique</td>\n",
       "      <td>19/05/2018 à 3h52</td>\n",
       "      <td>modele: TIPO 2 SW, version: II SW 1.4 95 POP, ...</td>\n",
       "      <td>5</td>\n",
       "      <td>5</td>\n",
       "    </tr>\n",
       "  </tbody>\n",
       "</table>\n",
       "</div>"
      ],
      "text/plain": [
       "     Price     Make Model  Model_year     Mileage     Fuel      Gearbox  \\\n",
       "0  11220.0  PEUGEOT   308           4  94341.0 km   Diesel    mécanique   \n",
       "1  57526.0      BMW    X6           3  39051.0 km   Diesel  automatique   \n",
       "2  80379.0     AUDI   RS6           4  75381.0 km  Essence  automatique   \n",
       "3   2830.0     FORD    KA          11  92282.0 km  Essence    mécanique   \n",
       "4  12925.0     FIAT  TIPO           0     10.0 km  Essence    mécanique   \n",
       "\n",
       "               Online                                        Description  \\\n",
       "0   06/07/2018 à 3h47  modele: 308 (2E GENERATION), version: 1.6 HDI ...   \n",
       "1  03/04/2018 à 16h41  modele: X6 F16, version: (F16) XDRIVE30D 258 M...   \n",
       "2   30/07/2018 à 1h55  modele: RS6 (3E GENERATION) AVANT, version: II...   \n",
       "3  09/07/2018 à 14h12  modele: KA, version: 1.3 70 FUN, puissance_fis...   \n",
       "4   19/05/2018 à 3h52  modele: TIPO 2 SW, version: II SW 1.4 95 POP, ...   \n",
       "\n",
       "  Nbre_porte  CV  \n",
       "0          5   4  \n",
       "1          5  16  \n",
       "2          5  47  \n",
       "3          3   5  \n",
       "4          5   5  "
      ]
     },
     "execution_count": 11,
     "metadata": {},
     "output_type": "execute_result"
    }
   ],
   "source": [
    "# We choose 2018 because it was the year the sellers published their offers\n",
    "df['Model_year'] = df.apply(lambda row: 2018 - row.Model_year, axis = 1)\n",
    "df.head()"
   ]
  },
  {
   "cell_type": "markdown",
   "metadata": {},
   "source": [
    "### Data checks"
   ]
  },
  {
   "cell_type": "code",
   "execution_count": 12,
   "metadata": {},
   "outputs": [
    {
     "data": {
      "text/plain": [
       "Price          0\n",
       "Make           0\n",
       "Model          0\n",
       "Model_year     0\n",
       "Mileage        0\n",
       "Fuel           0\n",
       "Gearbox        0\n",
       "Online         0\n",
       "Description    0\n",
       "Nbre_porte     0\n",
       "CV             0\n",
       "dtype: int64"
      ]
     },
     "execution_count": 12,
     "metadata": {},
     "output_type": "execute_result"
    }
   ],
   "source": [
    "# Check for null values\n",
    "df.isnull().sum()"
   ]
  },
  {
   "cell_type": "code",
   "execution_count": 13,
   "metadata": {},
   "outputs": [
    {
     "data": {
      "text/plain": [
       "Price          0\n",
       "Make           0\n",
       "Model          0\n",
       "Model_year     0\n",
       "Mileage        0\n",
       "Fuel           0\n",
       "Gearbox        0\n",
       "Online         0\n",
       "Description    0\n",
       "Nbre_porte     0\n",
       "CV             0\n",
       "dtype: int64"
      ]
     },
     "execution_count": 13,
     "metadata": {},
     "output_type": "execute_result"
    }
   ],
   "source": [
    "# Check for invalid numbers\n",
    "df.isna().sum()"
   ]
  },
  {
   "cell_type": "code",
   "execution_count": 14,
   "metadata": {},
   "outputs": [
    {
     "data": {
      "text/plain": [
       "(array([], dtype=int64), array([], dtype=int64))"
      ]
     },
     "execution_count": 14,
     "metadata": {},
     "output_type": "execute_result"
    }
   ],
   "source": [
    "# Find empty strings\n",
    "np.where(df.applymap(lambda x: x == ''))"
   ]
  },
  {
   "cell_type": "markdown",
   "metadata": {},
   "source": [
    "### Data types conversions"
   ]
  },
  {
   "cell_type": "code",
   "execution_count": 15,
   "metadata": {},
   "outputs": [
    {
     "data": {
      "text/html": [
       "<div>\n",
       "<style scoped>\n",
       "    .dataframe tbody tr th:only-of-type {\n",
       "        vertical-align: middle;\n",
       "    }\n",
       "\n",
       "    .dataframe tbody tr th {\n",
       "        vertical-align: top;\n",
       "    }\n",
       "\n",
       "    .dataframe thead th {\n",
       "        text-align: right;\n",
       "    }\n",
       "</style>\n",
       "<table border=\"1\" class=\"dataframe\">\n",
       "  <thead>\n",
       "    <tr style=\"text-align: right;\">\n",
       "      <th></th>\n",
       "      <th>Price</th>\n",
       "      <th>Make</th>\n",
       "      <th>Model</th>\n",
       "      <th>Model_year</th>\n",
       "      <th>Mileage</th>\n",
       "      <th>Fuel</th>\n",
       "      <th>Gearbox</th>\n",
       "      <th>Online</th>\n",
       "      <th>Description</th>\n",
       "      <th>Nbre_porte</th>\n",
       "      <th>CV</th>\n",
       "    </tr>\n",
       "  </thead>\n",
       "  <tbody>\n",
       "    <tr>\n",
       "      <th>0</th>\n",
       "      <td>11220.0</td>\n",
       "      <td>PEUGEOT</td>\n",
       "      <td>308</td>\n",
       "      <td>4</td>\n",
       "      <td>94341.0</td>\n",
       "      <td>Diesel</td>\n",
       "      <td>mécanique</td>\n",
       "      <td>06/07/2018 à 3h47</td>\n",
       "      <td>modele: 308 (2E GENERATION), version: 1.6 HDI ...</td>\n",
       "      <td>5</td>\n",
       "      <td>4</td>\n",
       "    </tr>\n",
       "    <tr>\n",
       "      <th>1</th>\n",
       "      <td>57526.0</td>\n",
       "      <td>BMW</td>\n",
       "      <td>X6</td>\n",
       "      <td>3</td>\n",
       "      <td>39051.0</td>\n",
       "      <td>Diesel</td>\n",
       "      <td>automatique</td>\n",
       "      <td>03/04/2018 à 16h41</td>\n",
       "      <td>modele: X6 F16, version: (F16) XDRIVE30D 258 M...</td>\n",
       "      <td>5</td>\n",
       "      <td>16</td>\n",
       "    </tr>\n",
       "    <tr>\n",
       "      <th>2</th>\n",
       "      <td>80379.0</td>\n",
       "      <td>AUDI</td>\n",
       "      <td>RS6</td>\n",
       "      <td>4</td>\n",
       "      <td>75381.0</td>\n",
       "      <td>Essence</td>\n",
       "      <td>automatique</td>\n",
       "      <td>30/07/2018 à 1h55</td>\n",
       "      <td>modele: RS6 (3E GENERATION) AVANT, version: II...</td>\n",
       "      <td>5</td>\n",
       "      <td>47</td>\n",
       "    </tr>\n",
       "    <tr>\n",
       "      <th>3</th>\n",
       "      <td>2830.0</td>\n",
       "      <td>FORD</td>\n",
       "      <td>KA</td>\n",
       "      <td>11</td>\n",
       "      <td>92282.0</td>\n",
       "      <td>Essence</td>\n",
       "      <td>mécanique</td>\n",
       "      <td>09/07/2018 à 14h12</td>\n",
       "      <td>modele: KA, version: 1.3 70 FUN, puissance_fis...</td>\n",
       "      <td>3</td>\n",
       "      <td>5</td>\n",
       "    </tr>\n",
       "    <tr>\n",
       "      <th>4</th>\n",
       "      <td>12925.0</td>\n",
       "      <td>FIAT</td>\n",
       "      <td>TIPO</td>\n",
       "      <td>0</td>\n",
       "      <td>10.0</td>\n",
       "      <td>Essence</td>\n",
       "      <td>mécanique</td>\n",
       "      <td>19/05/2018 à 3h52</td>\n",
       "      <td>modele: TIPO 2 SW, version: II SW 1.4 95 POP, ...</td>\n",
       "      <td>5</td>\n",
       "      <td>5</td>\n",
       "    </tr>\n",
       "  </tbody>\n",
       "</table>\n",
       "</div>"
      ],
      "text/plain": [
       "     Price     Make Model  Model_year  Mileage     Fuel      Gearbox  \\\n",
       "0  11220.0  PEUGEOT   308           4  94341.0   Diesel    mécanique   \n",
       "1  57526.0      BMW    X6           3  39051.0   Diesel  automatique   \n",
       "2  80379.0     AUDI   RS6           4  75381.0  Essence  automatique   \n",
       "3   2830.0     FORD    KA          11  92282.0  Essence    mécanique   \n",
       "4  12925.0     FIAT  TIPO           0     10.0  Essence    mécanique   \n",
       "\n",
       "               Online                                        Description  \\\n",
       "0   06/07/2018 à 3h47  modele: 308 (2E GENERATION), version: 1.6 HDI ...   \n",
       "1  03/04/2018 à 16h41  modele: X6 F16, version: (F16) XDRIVE30D 258 M...   \n",
       "2   30/07/2018 à 1h55  modele: RS6 (3E GENERATION) AVANT, version: II...   \n",
       "3  09/07/2018 à 14h12  modele: KA, version: 1.3 70 FUN, puissance_fis...   \n",
       "4   19/05/2018 à 3h52  modele: TIPO 2 SW, version: II SW 1.4 95 POP, ...   \n",
       "\n",
       "  Nbre_porte  CV  \n",
       "0          5   4  \n",
       "1          5  16  \n",
       "2          5  47  \n",
       "3          3   5  \n",
       "4          5   5  "
      ]
     },
     "execution_count": 15,
     "metadata": {},
     "output_type": "execute_result"
    }
   ],
   "source": [
    "## Remove kilometers and convert to number\n",
    "df[\"Mileage\"] = df[\"Mileage\"].str.replace(' km', '').astype(\"float64\")\n",
    "df.head(5)"
   ]
  },
  {
   "cell_type": "code",
   "execution_count": 16,
   "metadata": {},
   "outputs": [
    {
     "data": {
      "text/plain": [
       "dtype('float64')"
      ]
     },
     "execution_count": 16,
     "metadata": {},
     "output_type": "execute_result"
    }
   ],
   "source": [
    "df.dtypes['Mileage']"
   ]
  },
  {
   "cell_type": "code",
   "execution_count": 17,
   "metadata": {},
   "outputs": [
    {
     "data": {
      "text/plain": [
       "0"
      ]
     },
     "execution_count": 17,
     "metadata": {},
     "output_type": "execute_result"
    }
   ],
   "source": [
    "df[\"Mileage\"].isna().sum()"
   ]
  },
  {
   "cell_type": "code",
   "execution_count": 18,
   "metadata": {},
   "outputs": [],
   "source": [
    "# Reduce allocated bytes size for \"Model_year\" \n",
    "df[\"Model_year\"] = df[\"Model_year\"].astype(\"int16\")"
   ]
  },
  {
   "cell_type": "code",
   "execution_count": 19,
   "metadata": {},
   "outputs": [],
   "source": [
    "# We don't really need the \"Online\" column as it seems to indicate the last user authentication\n",
    "df = df.drop(\"Online\", axis=1)\n",
    "df = df.drop(\"Description\", axis=1)"
   ]
  },
  {
   "cell_type": "code",
   "execution_count": 20,
   "metadata": {},
   "outputs": [],
   "source": [
    "# This will delete 1000 rows so it not might be the best method\n",
    "indexNames = df[(df['Nbre_porte'] == ',')].index\n",
    "df.drop(indexNames , inplace=True)\n",
    "df['Nbre_porte'] = df['Nbre_porte'].astype(str).astype(int)"
   ]
  },
  {
   "cell_type": "code",
   "execution_count": 21,
   "metadata": {},
   "outputs": [],
   "source": [
    "df['CV'] = df['CV'].astype(int)"
   ]
  },
  {
   "cell_type": "markdown",
   "metadata": {},
   "source": [
    "## Detecting outliers"
   ]
  },
  {
   "cell_type": "code",
   "execution_count": 22,
   "metadata": {},
   "outputs": [
    {
     "data": {
      "text/plain": [
       "<matplotlib.axes._subplots.AxesSubplot at 0x11ff4dcc0>"
      ]
     },
     "execution_count": 22,
     "metadata": {},
     "output_type": "execute_result"
    },
    {
     "data": {
      "image/png": "[encoded data removed]",
      "text/plain": [
       "<Figure size 432x288 with 1 Axes>"
      ]
     },
     "metadata": {
      "needs_background": "light"
     },
     "output_type": "display_data"
    }
   ],
   "source": [
    "sns.boxplot(data=df)"
   ]
  },
  {
   "cell_type": "code",
   "execution_count": 23,
   "metadata": {},
   "outputs": [
    {
     "data": {
      "text/plain": [
       "<matplotlib.axes._subplots.AxesSubplot at 0x11ff4d320>"
      ]
     },
     "execution_count": 23,
     "metadata": {},
     "output_type": "execute_result"
    },
    {
     "data": {
      "image/png": "[encoded data removed]",
      "text/plain": [
       "<Figure size 432x288 with 1 Axes>"
      ]
     },
     "metadata": {
      "needs_background": "light"
     },
     "output_type": "display_data"
    }
   ],
   "source": [
    "sns.boxplot(data=df[['Make','Model_year','CV','Nbre_porte']])"
   ]
  },
  {
   "cell_type": "code",
   "execution_count": 24,
   "metadata": {},
   "outputs": [],
   "source": [
    "df = df.drop(df[df.Model_year < 0].index)"
   ]
  },
  {
   "cell_type": "code",
   "execution_count": 25,
   "metadata": {},
   "outputs": [
    {
     "data": {
      "text/plain": [
       "<matplotlib.axes._subplots.AxesSubplot at 0x10aa21cc0>"
      ]
     },
     "execution_count": 25,
     "metadata": {},
     "output_type": "execute_result"
    },
    {
     "data": {
      "image/png": "[encoded data removed]",
      "text/plain": [
       "<Figure size 432x288 with 1 Axes>"
      ]
     },
     "metadata": {
      "needs_background": "light"
     },
     "output_type": "display_data"
    }
   ],
   "source": [
    "sns.boxplot(data=df[['Price','Mileage']])"
   ]
  },
  {
   "cell_type": "markdown",
   "metadata": {},
   "source": [
    "Les ranges des columns sont beaucoup trop différentes, il va falloir les transformer pour avoir une meilleure précision pour notre modèle"
   ]
  },
  {
   "cell_type": "code",
   "execution_count": 26,
   "metadata": {},
   "outputs": [
    {
     "data": {
      "text/plain": [
       "(165405, 9)"
      ]
     },
     "execution_count": 26,
     "metadata": {},
     "output_type": "execute_result"
    }
   ],
   "source": [
    "df.shape"
   ]
  },
  {
   "cell_type": "code",
   "execution_count": 27,
   "metadata": {},
   "outputs": [
    {
     "name": "stdout",
     "output_type": "stream",
     "text": [
      "[0.99097803 0.16042469 0.59613999 ... 0.79072865 1.34495784 1.09633065]\n"
     ]
    }
   ],
   "source": [
    "from scipy import stats\n",
    "#z=np.abs(stats.zscore(df['Price']))\n",
    "z2=np.abs(stats.zscore(df['Mileage']))\n",
    "print(z2)\n"
   ]
  },
  {
   "cell_type": "code",
   "execution_count": 28,
   "metadata": {},
   "outputs": [
    {
     "name": "stdout",
     "output_type": "stream",
     "text": [
      "(array([    17,     32,     40, ..., 165186, 165360, 165361]),)\n"
     ]
    }
   ],
   "source": [
    "threshold=3\n",
    "#print(np.where(z>3))\n",
    "print(np.where(z2>3))"
   ]
  },
  {
   "cell_type": "code",
   "execution_count": 29,
   "metadata": {},
   "outputs": [
    {
     "name": "stdout",
     "output_type": "stream",
     "text": [
      "          Price        Make     Model  Model_year   Mileage  \\\n",
      "0       11220.0     PEUGEOT       308           4   94341.0   \n",
      "1       57526.0         BMW        X6           3   39051.0   \n",
      "2       80379.0        AUDI       RS6           4   75381.0   \n",
      "3        2830.0        FORD        KA          11   92282.0   \n",
      "4       12925.0        FIAT      TIPO           0      10.0   \n",
      "5       27956.0         BMW        X3           6   95623.0   \n",
      "6       16888.0        AUDI        A3           5   49018.0   \n",
      "7       18188.0     RENAULT    MEGANE           1    9795.0   \n",
      "8       10594.0        FORD     C-MAX           6  126670.0   \n",
      "9       69131.0    MERCEDES  CLASSE C           3   39439.0   \n",
      "10      14158.0        SEAT     IBIZA           1   12464.0   \n",
      "11      18824.0        MINI      MINI           3   25662.0   \n",
      "12      18683.0        FIAT     500 X           1   25693.0   \n",
      "13       2945.0        FORD    MONDEO          14  113417.0   \n",
      "14       6934.0     HYUNDAI       I20           6   38494.0   \n",
      "15      11906.0       DACIA   SANDERO           1      50.0   \n",
      "16      14384.0     PEUGEOT       208           0      10.0   \n",
      "18       6824.0     CITROEN        C3           4  111206.0   \n",
      "19      20675.0      TOYOTA     AURIS           1   25282.0   \n",
      "20      21439.0     HYUNDAI       I30           1     987.0   \n",
      "21      13934.0  VOLKSWAGEN      POLO           1   10319.0   \n",
      "22      25407.0     RENAULT    MEGANE           0      20.0   \n",
      "23      32472.0         BMW   SERIE 1           1      10.0   \n",
      "24      34948.0      JAGUAR       XKR          11   74235.0   \n",
      "25      23750.0    MERCEDES  CLASSE B           2   19970.0   \n",
      "26      12887.0     PEUGEOT       208           2   13039.0   \n",
      "27      24466.0         BMW   SERIE 1           2   20082.0   \n",
      "28      12925.0     RENAULT      CLIO           2    9231.0   \n",
      "29      18746.0  VOLKSWAGEN    TOURAN           1   22623.0   \n",
      "30      23165.0        AUDI        A3           3   75407.0   \n",
      "...         ...         ...       ...         ...       ...   \n",
      "166664  15125.0     RENAULT      CLIO           1   28983.0   \n",
      "166665  30439.0        AUDI        A4           0      10.0   \n",
      "166666  17832.0          DS      DS 3           1   13226.0   \n",
      "166667  32899.0     RENAULT    KOLEOS           0      10.0   \n",
      "166668   9930.0      TOYOTA     YARIS           3   16093.0   \n",
      "166669  39382.0        AUDI        A5           2   29018.0   \n",
      "166670  10019.0        OPEL     CORSA           2   29116.0   \n",
      "166672   4990.0        OPEL     CORSA           8  129148.0   \n",
      "166673  10040.0  VOLKSWAGEN      POLO           4   34448.0   \n",
      "166674  15749.0      SUZUKI     JIMNY           2   23928.0   \n",
      "166675  15508.0        FIAT     PANDA           0      20.0   \n",
      "166676   8883.0      TOYOTA   AVENSIS           7   78564.0   \n",
      "166677  14543.0     RENAULT    CAPTUR           1   11731.0   \n",
      "166678  25198.0        FORD      KUGA           0       1.0   \n",
      "166679  23798.0  VOLKSWAGEN    TIGUAN           3   51428.0   \n",
      "166680  17442.0       DACIA    DUSTER           0     100.0   \n",
      "166681  20388.0     PEUGEOT      2008           0      10.0   \n",
      "166682  12119.0     RENAULT      CLIO           1      99.0   \n",
      "166683  48129.0        AUDI       SQ5           4   51216.0   \n",
      "166684  37232.0         BMW        X1           0       3.0   \n",
      "166685  12540.0     RENAULT      CLIO           2   22022.0   \n",
      "166686  10438.0  VOLKSWAGEN      GOLF           5   47472.0   \n",
      "166687  13068.0     RENAULT      CLIO           1   20253.0   \n",
      "166688  11122.0     RENAULT      CLIO           2   37222.0   \n",
      "166689   9980.0     RENAULT    SCENIC           7  111714.0   \n",
      "166690  20990.0        AUDI        A4           4   65885.0   \n",
      "166691  12056.0  VOLKSWAGEN      GOLF           3  186000.0   \n",
      "166692  13423.0        FORD    FIESTA           2    8784.0   \n",
      "166693  11918.0       SKODA   OCTAVIA           5  111339.0   \n",
      "166694  32490.0     RENAULT    KOLEOS           1   99400.0   \n",
      "\n",
      "                              Fuel      Gearbox  Nbre_porte  CV  \n",
      "0                           Diesel    mécanique           5   4  \n",
      "1                           Diesel  automatique           5  16  \n",
      "2                          Essence  automatique           5  47  \n",
      "3                          Essence    mécanique           3   5  \n",
      "4                          Essence    mécanique           5   5  \n",
      "5                           Diesel  automatique           5  20  \n",
      "6                           Diesel    mécanique           5   7  \n",
      "7                           Diesel  automatique           5   5  \n",
      "8                           Diesel    mécanique           5   6  \n",
      "9                          Essence  automatique           4  40  \n",
      "10                          Diesel    mécanique           5   5  \n",
      "11                          Diesel  automatique           5   5  \n",
      "12                         Essence  automatique           5   7  \n",
      "13                         Essence    mécanique           5   8  \n",
      "14                          Diesel    mécanique           5   4  \n",
      "15                         Essence    mécanique           5   5  \n",
      "16                         Essence    mécanique           5   4  \n",
      "18                          Diesel    mécanique           5   4  \n",
      "19      Hybride essence électrique  automatique           5   5  \n",
      "20                          Diesel    mécanique           5   5  \n",
      "21                         Essence    mécanique           5   4  \n",
      "22                         Essence  automatique           5  11  \n",
      "23                          Diesel  automatique           5   6  \n",
      "24                         Essence  automatique           2  32  \n",
      "25                          Diesel  automatique           5   5  \n",
      "26                          Diesel    mécanique           5   4  \n",
      "27                          Diesel    mécanique           5   7  \n",
      "28                          Diesel    mécanique           5   4  \n",
      "29                          Diesel    mécanique           5   6  \n",
      "30                          Diesel  automatique           2   8  \n",
      "...                            ...          ...         ...  ..  \n",
      "166664                      Diesel    mécanique           5   5  \n",
      "166665                      Diesel  automatique           5   7  \n",
      "166666                     Essence    mécanique           3   5  \n",
      "166667                      Diesel  automatique           5  10  \n",
      "166668                     Essence    mécanique           5   4  \n",
      "166669                      Diesel  automatique           5  13  \n",
      "166670                     Essence    mécanique           5   5  \n",
      "166672                      Diesel    mécanique           5   5  \n",
      "166673                     Essence    mécanique           5   4  \n",
      "166674                     Essence    mécanique           3   8  \n",
      "166675                     Essence    mécanique           5   5  \n",
      "166676                      Diesel    mécanique           4   7  \n",
      "166677                     Essence    mécanique           5   5  \n",
      "166678                      Diesel    mécanique           5   8  \n",
      "166679                      Diesel  automatique           5   8  \n",
      "166680                      Diesel    mécanique           5   6  \n",
      "166681                     Essence    mécanique           5   5  \n",
      "166682                     Essence    mécanique           5   4  \n",
      "166683                      Diesel  automatique           5  12  \n",
      "166684                      Diesel    mécanique           5   6  \n",
      "166685                      Diesel    mécanique           5   4  \n",
      "166686                     Essence    mécanique           3   5  \n",
      "166687                      Diesel    mécanique           5   4  \n",
      "166688                      Diesel    mécanique           5   4  \n",
      "166689                      Diesel    mécanique           5   7  \n",
      "166690                      Diesel  automatique           5  10  \n",
      "166691                      Diesel  automatique           5   8  \n",
      "166692                     Essence    mécanique           5   5  \n",
      "166693                      Diesel  automatique           5   8  \n",
      "166694                      Diesel  automatique           5  10  \n",
      "\n",
      "[163375 rows x 9 columns]\n"
     ]
    }
   ],
   "source": [
    "df2=df[(z2< 3)]\n",
    "print(df2)"
   ]
  },
  {
   "cell_type": "code",
   "execution_count": 30,
   "metadata": {},
   "outputs": [
    {
     "data": {
      "text/plain": [
       "(163375, 9)"
      ]
     },
     "execution_count": 30,
     "metadata": {},
     "output_type": "execute_result"
    }
   ],
   "source": [
    "df2.shape"
   ]
  },
  {
   "cell_type": "code",
   "execution_count": 31,
   "metadata": {},
   "outputs": [],
   "source": [
    "df1=df2.copy()"
   ]
  },
  {
   "cell_type": "markdown",
   "metadata": {},
   "source": [
    "### Hot encoding"
   ]
  },
  {
   "cell_type": "code",
   "execution_count": 32,
   "metadata": {},
   "outputs": [
    {
     "data": {
      "text/plain": [
       "array(['Diesel', 'Essence', 'Hybride essence électrique', 'Electrique',\n",
       "       'Hybride diesel électrique', 'Bicarburation essence GPL',\n",
       "       'Bicarburation essence bioéthanol'], dtype=object)"
      ]
     },
     "execution_count": 32,
     "metadata": {},
     "output_type": "execute_result"
    }
   ],
   "source": [
    "# List categorical columns\n",
    "df[\"Fuel\"].unique()"
   ]
  },
  {
   "cell_type": "code",
   "execution_count": 33,
   "metadata": {},
   "outputs": [
    {
     "data": {
      "text/plain": [
       "array(['mécanique', 'automatique'], dtype=object)"
      ]
     },
     "execution_count": 33,
     "metadata": {},
     "output_type": "execute_result"
    }
   ],
   "source": [
    "# List categorical columns for Gearbox\n",
    "df[\"Gearbox\"].unique()"
   ]
  },
  {
   "cell_type": "code",
   "execution_count": 34,
   "metadata": {},
   "outputs": [],
   "source": [
    "df = pd.get_dummies(df, columns=[\"Gearbox\"], drop_first=True)"
   ]
  },
  {
   "cell_type": "code",
   "execution_count": 35,
   "metadata": {},
   "outputs": [],
   "source": [
    "# List categorical columns\n",
    "df = pd.get_dummies(df, columns=[\"Fuel\"])"
   ]
  },
  {
   "cell_type": "code",
   "execution_count": 36,
   "metadata": {},
   "outputs": [
    {
     "data": {
      "text/html": [
       "<div>\n",
       "<style scoped>\n",
       "    .dataframe tbody tr th:only-of-type {\n",
       "        vertical-align: middle;\n",
       "    }\n",
       "\n",
       "    .dataframe tbody tr th {\n",
       "        vertical-align: top;\n",
       "    }\n",
       "\n",
       "    .dataframe thead th {\n",
       "        text-align: right;\n",
       "    }\n",
       "</style>\n",
       "<table border=\"1\" class=\"dataframe\">\n",
       "  <thead>\n",
       "    <tr style=\"text-align: right;\">\n",
       "      <th></th>\n",
       "      <th>Price</th>\n",
       "      <th>Make</th>\n",
       "      <th>Model</th>\n",
       "      <th>Model_year</th>\n",
       "      <th>Mileage</th>\n",
       "      <th>Nbre_porte</th>\n",
       "      <th>CV</th>\n",
       "      <th>Gearbox_mécanique</th>\n",
       "      <th>Fuel_Bicarburation essence GPL</th>\n",
       "      <th>Fuel_Bicarburation essence bioéthanol</th>\n",
       "      <th>Fuel_Diesel</th>\n",
       "      <th>Fuel_Electrique</th>\n",
       "      <th>Fuel_Essence</th>\n",
       "      <th>Fuel_Hybride diesel électrique</th>\n",
       "      <th>Fuel_Hybride essence électrique</th>\n",
       "    </tr>\n",
       "  </thead>\n",
       "  <tbody>\n",
       "    <tr>\n",
       "      <th>0</th>\n",
       "      <td>11220.0</td>\n",
       "      <td>PEUGEOT</td>\n",
       "      <td>308</td>\n",
       "      <td>4</td>\n",
       "      <td>94341.0</td>\n",
       "      <td>5</td>\n",
       "      <td>4</td>\n",
       "      <td>1</td>\n",
       "      <td>0</td>\n",
       "      <td>0</td>\n",
       "      <td>1</td>\n",
       "      <td>0</td>\n",
       "      <td>0</td>\n",
       "      <td>0</td>\n",
       "      <td>0</td>\n",
       "    </tr>\n",
       "    <tr>\n",
       "      <th>1</th>\n",
       "      <td>57526.0</td>\n",
       "      <td>BMW</td>\n",
       "      <td>X6</td>\n",
       "      <td>3</td>\n",
       "      <td>39051.0</td>\n",
       "      <td>5</td>\n",
       "      <td>16</td>\n",
       "      <td>0</td>\n",
       "      <td>0</td>\n",
       "      <td>0</td>\n",
       "      <td>1</td>\n",
       "      <td>0</td>\n",
       "      <td>0</td>\n",
       "      <td>0</td>\n",
       "      <td>0</td>\n",
       "    </tr>\n",
       "    <tr>\n",
       "      <th>2</th>\n",
       "      <td>80379.0</td>\n",
       "      <td>AUDI</td>\n",
       "      <td>RS6</td>\n",
       "      <td>4</td>\n",
       "      <td>75381.0</td>\n",
       "      <td>5</td>\n",
       "      <td>47</td>\n",
       "      <td>0</td>\n",
       "      <td>0</td>\n",
       "      <td>0</td>\n",
       "      <td>0</td>\n",
       "      <td>0</td>\n",
       "      <td>1</td>\n",
       "      <td>0</td>\n",
       "      <td>0</td>\n",
       "    </tr>\n",
       "    <tr>\n",
       "      <th>3</th>\n",
       "      <td>2830.0</td>\n",
       "      <td>FORD</td>\n",
       "      <td>KA</td>\n",
       "      <td>11</td>\n",
       "      <td>92282.0</td>\n",
       "      <td>3</td>\n",
       "      <td>5</td>\n",
       "      <td>1</td>\n",
       "      <td>0</td>\n",
       "      <td>0</td>\n",
       "      <td>0</td>\n",
       "      <td>0</td>\n",
       "      <td>1</td>\n",
       "      <td>0</td>\n",
       "      <td>0</td>\n",
       "    </tr>\n",
       "    <tr>\n",
       "      <th>4</th>\n",
       "      <td>12925.0</td>\n",
       "      <td>FIAT</td>\n",
       "      <td>TIPO</td>\n",
       "      <td>0</td>\n",
       "      <td>10.0</td>\n",
       "      <td>5</td>\n",
       "      <td>5</td>\n",
       "      <td>1</td>\n",
       "      <td>0</td>\n",
       "      <td>0</td>\n",
       "      <td>0</td>\n",
       "      <td>0</td>\n",
       "      <td>1</td>\n",
       "      <td>0</td>\n",
       "      <td>0</td>\n",
       "    </tr>\n",
       "  </tbody>\n",
       "</table>\n",
       "</div>"
      ],
      "text/plain": [
       "     Price     Make Model  Model_year  Mileage  Nbre_porte  CV  \\\n",
       "0  11220.0  PEUGEOT   308           4  94341.0           5   4   \n",
       "1  57526.0      BMW    X6           3  39051.0           5  16   \n",
       "2  80379.0     AUDI   RS6           4  75381.0           5  47   \n",
       "3   2830.0     FORD    KA          11  92282.0           3   5   \n",
       "4  12925.0     FIAT  TIPO           0     10.0           5   5   \n",
       "\n",
       "   Gearbox_mécanique  Fuel_Bicarburation essence GPL  \\\n",
       "0                  1                               0   \n",
       "1                  0                               0   \n",
       "2                  0                               0   \n",
       "3                  1                               0   \n",
       "4                  1                               0   \n",
       "\n",
       "   Fuel_Bicarburation essence bioéthanol  Fuel_Diesel  Fuel_Electrique  \\\n",
       "0                                      0            1                0   \n",
       "1                                      0            1                0   \n",
       "2                                      0            0                0   \n",
       "3                                      0            0                0   \n",
       "4                                      0            0                0   \n",
       "\n",
       "   Fuel_Essence  Fuel_Hybride diesel électrique  \\\n",
       "0             0                               0   \n",
       "1             0                               0   \n",
       "2             1                               0   \n",
       "3             1                               0   \n",
       "4             1                               0   \n",
       "\n",
       "   Fuel_Hybride essence électrique  \n",
       "0                                0  \n",
       "1                                0  \n",
       "2                                0  \n",
       "3                                0  \n",
       "4                                0  "
      ]
     },
     "execution_count": 36,
     "metadata": {},
     "output_type": "execute_result"
    }
   ],
   "source": [
    "df.head(5)"
   ]
  },
  {
   "cell_type": "code",
   "execution_count": 37,
   "metadata": {},
   "outputs": [
    {
     "data": {
      "text/plain": [
       "array(['ABARTH', 'AC', 'AIXAM', 'ALFA ROMEO', 'ALPINA', 'ALPINE',\n",
       "       'ASTON MARTIN', 'AUDI', 'AUSTIN', 'AUSTIN HEALEY', 'AUTOBIANCHI',\n",
       "       'BELLIER', 'BENTLEY', 'BMW', 'BMW-ALPINA', 'BOLLORE', 'BUGATTI',\n",
       "       'CADILLAC', 'CHATENET', 'CHEVROLET', 'CHRYSLER', 'CITROEN',\n",
       "       'DACIA', 'DAEWOO', 'DAIHATSU', 'DANGEL', 'DODGE', 'DONKERVOORT',\n",
       "       'DS', 'FERRARI', 'FIAT', 'FISKER', 'FORD', 'GRECAV', 'HONDA',\n",
       "       'HUMMER', 'HYUNDAI', 'INFINITI', 'INNOCENTI', 'INTERMECCANICA',\n",
       "       'JAGUAR', 'JEEP', 'JIAYUAN', 'KIA', 'LADA', 'LAMBORGHINI',\n",
       "       'LANCIA', 'LAND ROVER', 'LEXUS', 'LIGIER', 'LOTUS', 'MASERATI',\n",
       "       'MATRA', 'MAZDA', 'MCLAREN', 'MERCEDES', 'MERCEDES-AMG', 'MG',\n",
       "       'MICROCAR', 'MINI', 'MITSUBISHI', 'MORGAN', 'MPM MOTORS', 'NISSAN',\n",
       "       'OLDSMOBILE', 'OPEL', 'PACKARD', 'PEUGEOT', 'PORSCHE', 'RENAULT',\n",
       "       'RILEY', 'ROLLS ROYCE', 'ROVER', 'SAAB', 'SEAT', 'SHELBY', 'SIMCA',\n",
       "       'SKODA', 'SMART', 'SSANGYONG', 'SUBARU', 'SUNBEAM', 'SUZUKI',\n",
       "       'TESLA', 'TOYOTA', 'TRIUMPH', 'VOLKSWAGEN', 'VOLVO'], dtype=object)"
      ]
     },
     "execution_count": 37,
     "metadata": {},
     "output_type": "execute_result"
    }
   ],
   "source": [
    "np.sort(df['Make'].unique())"
   ]
  },
  {
   "cell_type": "code",
   "execution_count": 38,
   "metadata": {},
   "outputs": [
    {
     "data": {
      "text/plain": [
       "0    0\n",
       "1    1\n",
       "2    2\n",
       "3    3\n",
       "4    4\n",
       "Name: Make, dtype: int8"
      ]
     },
     "execution_count": 38,
     "metadata": {},
     "output_type": "execute_result"
    }
   ],
   "source": [
    "# Transform makes to ordinal numbers\n",
    "df['Make'] = categorize(df['Make'])\n",
    "df['Make'].head(5)"
   ]
  },
  {
   "cell_type": "code",
   "execution_count": 39,
   "metadata": {},
   "outputs": [
    {
     "data": {
      "text/plain": [
       "array(['2008', '208', '3008', '308', '407', '500', '500 X', '5008', 'A3',\n",
       "       'A4', 'A5', 'ARONA', 'ASTRA', 'AURIS', 'C-MAX', 'C3', 'C4',\n",
       "       'C4 PICASSO', 'C5', 'CLASSE A', 'CLASSE B', 'CLASSE C', 'CLASSE R',\n",
       "       'CLIO', 'DS3', 'DUSTER', 'GOLF', 'GRAND C-MAX',\n",
       "       'GRAND C4 SPACETOURER', 'GRAND SCENIC', 'I20', 'I30', 'IBIZA',\n",
       "       'KA', 'KADJAR', 'KOLEOS', 'KUGA', 'MACAN', 'MEGANE', 'MINI',\n",
       "       'MONDEO', 'PASSAT', 'POLO', 'QASHQAI', 'RS6', 'SANDERO', 'SCENIC',\n",
       "       'SERIE 1', 'SERIE 2', 'SERIE 3 GT', 'SERIE 5', 'SL', 'TALISMAN',\n",
       "       'TIGUAN', 'TIPO', 'TOURAN', 'TWINGO', 'X3', 'X6', 'XKR'],\n",
       "      dtype=object)"
      ]
     },
     "execution_count": 39,
     "metadata": {},
     "output_type": "execute_result"
    }
   ],
   "source": [
    "np.sort(df['Model'].unique()[0:60])"
   ]
  },
  {
   "cell_type": "code",
   "execution_count": 40,
   "metadata": {},
   "outputs": [
    {
     "data": {
      "text/plain": [
       "0    0\n",
       "1    1\n",
       "2    2\n",
       "3    3\n",
       "4    4\n",
       "Name: Model, dtype: int16"
      ]
     },
     "execution_count": 40,
     "metadata": {},
     "output_type": "execute_result"
    }
   ],
   "source": [
    "# Transform models to ordinal numbers\n",
    "df['Model'] = categorize(df['Model'])\n",
    "df['Model'].head(5)"
   ]
  },
  {
   "cell_type": "code",
   "execution_count": 41,
   "metadata": {},
   "outputs": [
    {
     "data": {
      "text/html": [
       "<div>\n",
       "<style scoped>\n",
       "    .dataframe tbody tr th:only-of-type {\n",
       "        vertical-align: middle;\n",
       "    }\n",
       "\n",
       "    .dataframe tbody tr th {\n",
       "        vertical-align: top;\n",
       "    }\n",
       "\n",
       "    .dataframe thead th {\n",
       "        text-align: right;\n",
       "    }\n",
       "</style>\n",
       "<table border=\"1\" class=\"dataframe\">\n",
       "  <thead>\n",
       "    <tr style=\"text-align: right;\">\n",
       "      <th></th>\n",
       "      <th>Price</th>\n",
       "      <th>Make</th>\n",
       "      <th>Model</th>\n",
       "      <th>Model_year</th>\n",
       "      <th>Mileage</th>\n",
       "      <th>Nbre_porte</th>\n",
       "      <th>CV</th>\n",
       "      <th>Gearbox_mécanique</th>\n",
       "      <th>Fuel_Bicarburation essence GPL</th>\n",
       "      <th>Fuel_Bicarburation essence bioéthanol</th>\n",
       "      <th>Fuel_Diesel</th>\n",
       "      <th>Fuel_Electrique</th>\n",
       "      <th>Fuel_Essence</th>\n",
       "      <th>Fuel_Hybride diesel électrique</th>\n",
       "      <th>Fuel_Hybride essence électrique</th>\n",
       "    </tr>\n",
       "  </thead>\n",
       "  <tbody>\n",
       "    <tr>\n",
       "      <th>0</th>\n",
       "      <td>11220.0</td>\n",
       "      <td>0</td>\n",
       "      <td>0</td>\n",
       "      <td>4</td>\n",
       "      <td>94341.0</td>\n",
       "      <td>5</td>\n",
       "      <td>4</td>\n",
       "      <td>1</td>\n",
       "      <td>0</td>\n",
       "      <td>0</td>\n",
       "      <td>1</td>\n",
       "      <td>0</td>\n",
       "      <td>0</td>\n",
       "      <td>0</td>\n",
       "      <td>0</td>\n",
       "    </tr>\n",
       "    <tr>\n",
       "      <th>1</th>\n",
       "      <td>57526.0</td>\n",
       "      <td>1</td>\n",
       "      <td>1</td>\n",
       "      <td>3</td>\n",
       "      <td>39051.0</td>\n",
       "      <td>5</td>\n",
       "      <td>16</td>\n",
       "      <td>0</td>\n",
       "      <td>0</td>\n",
       "      <td>0</td>\n",
       "      <td>1</td>\n",
       "      <td>0</td>\n",
       "      <td>0</td>\n",
       "      <td>0</td>\n",
       "      <td>0</td>\n",
       "    </tr>\n",
       "    <tr>\n",
       "      <th>2</th>\n",
       "      <td>80379.0</td>\n",
       "      <td>2</td>\n",
       "      <td>2</td>\n",
       "      <td>4</td>\n",
       "      <td>75381.0</td>\n",
       "      <td>5</td>\n",
       "      <td>47</td>\n",
       "      <td>0</td>\n",
       "      <td>0</td>\n",
       "      <td>0</td>\n",
       "      <td>0</td>\n",
       "      <td>0</td>\n",
       "      <td>1</td>\n",
       "      <td>0</td>\n",
       "      <td>0</td>\n",
       "    </tr>\n",
       "    <tr>\n",
       "      <th>3</th>\n",
       "      <td>2830.0</td>\n",
       "      <td>3</td>\n",
       "      <td>3</td>\n",
       "      <td>11</td>\n",
       "      <td>92282.0</td>\n",
       "      <td>3</td>\n",
       "      <td>5</td>\n",
       "      <td>1</td>\n",
       "      <td>0</td>\n",
       "      <td>0</td>\n",
       "      <td>0</td>\n",
       "      <td>0</td>\n",
       "      <td>1</td>\n",
       "      <td>0</td>\n",
       "      <td>0</td>\n",
       "    </tr>\n",
       "    <tr>\n",
       "      <th>4</th>\n",
       "      <td>12925.0</td>\n",
       "      <td>4</td>\n",
       "      <td>4</td>\n",
       "      <td>0</td>\n",
       "      <td>10.0</td>\n",
       "      <td>5</td>\n",
       "      <td>5</td>\n",
       "      <td>1</td>\n",
       "      <td>0</td>\n",
       "      <td>0</td>\n",
       "      <td>0</td>\n",
       "      <td>0</td>\n",
       "      <td>1</td>\n",
       "      <td>0</td>\n",
       "      <td>0</td>\n",
       "    </tr>\n",
       "  </tbody>\n",
       "</table>\n",
       "</div>"
      ],
      "text/plain": [
       "     Price  Make  Model  Model_year  Mileage  Nbre_porte  CV  \\\n",
       "0  11220.0     0      0           4  94341.0           5   4   \n",
       "1  57526.0     1      1           3  39051.0           5  16   \n",
       "2  80379.0     2      2           4  75381.0           5  47   \n",
       "3   2830.0     3      3          11  92282.0           3   5   \n",
       "4  12925.0     4      4           0     10.0           5   5   \n",
       "\n",
       "   Gearbox_mécanique  Fuel_Bicarburation essence GPL  \\\n",
       "0                  1                               0   \n",
       "1                  0                               0   \n",
       "2                  0                               0   \n",
       "3                  1                               0   \n",
       "4                  1                               0   \n",
       "\n",
       "   Fuel_Bicarburation essence bioéthanol  Fuel_Diesel  Fuel_Electrique  \\\n",
       "0                                      0            1                0   \n",
       "1                                      0            1                0   \n",
       "2                                      0            0                0   \n",
       "3                                      0            0                0   \n",
       "4                                      0            0                0   \n",
       "\n",
       "   Fuel_Essence  Fuel_Hybride diesel électrique  \\\n",
       "0             0                               0   \n",
       "1             0                               0   \n",
       "2             1                               0   \n",
       "3             1                               0   \n",
       "4             1                               0   \n",
       "\n",
       "   Fuel_Hybride essence électrique  \n",
       "0                                0  \n",
       "1                                0  \n",
       "2                                0  \n",
       "3                                0  \n",
       "4                                0  "
      ]
     },
     "execution_count": 41,
     "metadata": {},
     "output_type": "execute_result"
    }
   ],
   "source": [
    "df.head()"
   ]
  },
  {
   "cell_type": "code",
   "execution_count": 42,
   "metadata": {},
   "outputs": [
    {
     "data": {
      "text/plain": [
       "Price                                    float64\n",
       "Make                                        int8\n",
       "Model                                      int16\n",
       "Model_year                                 int16\n",
       "Mileage                                  float64\n",
       "Nbre_porte                                 int64\n",
       "CV                                         int64\n",
       "Gearbox_mécanique                          uint8\n",
       "Fuel_Bicarburation essence GPL             uint8\n",
       "Fuel_Bicarburation essence bioéthanol      uint8\n",
       "Fuel_Diesel                                uint8\n",
       "Fuel_Electrique                            uint8\n",
       "Fuel_Essence                               uint8\n",
       "Fuel_Hybride diesel électrique             uint8\n",
       "Fuel_Hybride essence électrique            uint8\n",
       "dtype: object"
      ]
     },
     "execution_count": 42,
     "metadata": {},
     "output_type": "execute_result"
    }
   ],
   "source": [
    "df.dtypes"
   ]
  },
  {
   "cell_type": "markdown",
   "metadata": {},
   "source": [
    "## Features selection"
   ]
  },
  {
   "cell_type": "markdown",
   "metadata": {},
   "source": [
    "Pour l'instant il n'y a que \"CV\" qui a un bon taux de correlation avec \"Price\""
   ]
  },
  {
   "cell_type": "markdown",
   "metadata": {},
   "source": [
    "## Split"
   ]
  },
  {
   "cell_type": "code",
   "execution_count": 79,
   "metadata": {},
   "outputs": [],
   "source": [
    "features = [\n",
    "    \"Make\",\n",
    "    \"Model\", \n",
    "    \"Model_year\",\n",
    "    \"Mileage\",\n",
    "    \"CV\",\n",
    "    \"Fuel_Bicarburation essence GPL\",\n",
    "    \"Fuel_Bicarburation essence bioéthanol\",\n",
    "    \"Fuel_Diesel\",\n",
    "    \"Fuel_Electrique\",\n",
    "    \"Fuel_Essence\",\n",
    "    \"Gearbox_mécanique\",\n",
    "]\n",
    "\n",
    "prediction = \"Price\"\n",
    "\n",
    "X = df[features]\n",
    "y = df[prediction]\n",
    "\n",
    "X_train, X_test, y_train, y_test = train_test_split(X, y, test_size=0.30, random_state=42)"
   ]
  },
  {
   "cell_type": "code",
   "execution_count": 80,
   "metadata": {},
   "outputs": [
    {
     "data": {
      "text/plain": [
       "((115783, 11), (49622, 11), (115783,), (49622,))"
      ]
     },
     "execution_count": 80,
     "metadata": {},
     "output_type": "execute_result"
    }
   ],
   "source": [
    "X_train.shape, X_test.shape, y_train.shape, y_test.shape"
   ]
  },
  {
   "cell_type": "code",
   "execution_count": 81,
   "metadata": {},
   "outputs": [
    {
     "data": {
      "text/html": [
       "<div>\n",
       "<style scoped>\n",
       "    .dataframe tbody tr th:only-of-type {\n",
       "        vertical-align: middle;\n",
       "    }\n",
       "\n",
       "    .dataframe tbody tr th {\n",
       "        vertical-align: top;\n",
       "    }\n",
       "\n",
       "    .dataframe thead th {\n",
       "        text-align: right;\n",
       "    }\n",
       "</style>\n",
       "<table border=\"1\" class=\"dataframe\">\n",
       "  <thead>\n",
       "    <tr style=\"text-align: right;\">\n",
       "      <th></th>\n",
       "      <th>Make</th>\n",
       "      <th>Model</th>\n",
       "      <th>Model_year</th>\n",
       "      <th>Mileage</th>\n",
       "      <th>CV</th>\n",
       "      <th>Fuel_Bicarburation essence GPL</th>\n",
       "      <th>Fuel_Bicarburation essence bioéthanol</th>\n",
       "      <th>Fuel_Diesel</th>\n",
       "      <th>Fuel_Electrique</th>\n",
       "      <th>Fuel_Essence</th>\n",
       "      <th>Gearbox_mécanique</th>\n",
       "    </tr>\n",
       "  </thead>\n",
       "  <tbody>\n",
       "    <tr>\n",
       "      <th>53439</th>\n",
       "      <td>5</td>\n",
       "      <td>7</td>\n",
       "      <td>5</td>\n",
       "      <td>98490.0</td>\n",
       "      <td>6</td>\n",
       "      <td>0</td>\n",
       "      <td>0</td>\n",
       "      <td>1</td>\n",
       "      <td>0</td>\n",
       "      <td>0</td>\n",
       "      <td>1</td>\n",
       "    </tr>\n",
       "    <tr>\n",
       "      <th>77027</th>\n",
       "      <td>12</td>\n",
       "      <td>18</td>\n",
       "      <td>7</td>\n",
       "      <td>96092.0</td>\n",
       "      <td>5</td>\n",
       "      <td>0</td>\n",
       "      <td>0</td>\n",
       "      <td>1</td>\n",
       "      <td>0</td>\n",
       "      <td>0</td>\n",
       "      <td>1</td>\n",
       "    </tr>\n",
       "    <tr>\n",
       "      <th>145900</th>\n",
       "      <td>15</td>\n",
       "      <td>156</td>\n",
       "      <td>2</td>\n",
       "      <td>4960.0</td>\n",
       "      <td>5</td>\n",
       "      <td>0</td>\n",
       "      <td>0</td>\n",
       "      <td>1</td>\n",
       "      <td>0</td>\n",
       "      <td>0</td>\n",
       "      <td>1</td>\n",
       "    </tr>\n",
       "    <tr>\n",
       "      <th>137408</th>\n",
       "      <td>0</td>\n",
       "      <td>315</td>\n",
       "      <td>8</td>\n",
       "      <td>81081.0</td>\n",
       "      <td>5</td>\n",
       "      <td>0</td>\n",
       "      <td>0</td>\n",
       "      <td>0</td>\n",
       "      <td>0</td>\n",
       "      <td>1</td>\n",
       "      <td>1</td>\n",
       "    </tr>\n",
       "    <tr>\n",
       "      <th>152547</th>\n",
       "      <td>15</td>\n",
       "      <td>254</td>\n",
       "      <td>2</td>\n",
       "      <td>35312.0</td>\n",
       "      <td>7</td>\n",
       "      <td>0</td>\n",
       "      <td>0</td>\n",
       "      <td>1</td>\n",
       "      <td>0</td>\n",
       "      <td>0</td>\n",
       "      <td>0</td>\n",
       "    </tr>\n",
       "  </tbody>\n",
       "</table>\n",
       "</div>"
      ],
      "text/plain": [
       "        Make  Model  Model_year  Mileage  CV  Fuel_Bicarburation essence GPL  \\\n",
       "53439      5      7           5  98490.0   6                               0   \n",
       "77027     12     18           7  96092.0   5                               0   \n",
       "145900    15    156           2   4960.0   5                               0   \n",
       "137408     0    315           8  81081.0   5                               0   \n",
       "152547    15    254           2  35312.0   7                               0   \n",
       "\n",
       "        Fuel_Bicarburation essence bioéthanol  Fuel_Diesel  Fuel_Electrique  \\\n",
       "53439                                       0            1                0   \n",
       "77027                                       0            1                0   \n",
       "145900                                      0            1                0   \n",
       "137408                                      0            0                0   \n",
       "152547                                      0            1                0   \n",
       "\n",
       "        Fuel_Essence  Gearbox_mécanique  \n",
       "53439              0                  1  \n",
       "77027              0                  1  \n",
       "145900             0                  1  \n",
       "137408             1                  1  \n",
       "152547             0                  0  "
      ]
     },
     "execution_count": 81,
     "metadata": {},
     "output_type": "execute_result"
    }
   ],
   "source": [
    "X_train.head(5)"
   ]
  },
  {
   "cell_type": "code",
   "execution_count": 82,
   "metadata": {},
   "outputs": [
    {
     "data": {
      "text/plain": [
       "53439      8854.0\n",
       "77027      7902.0\n",
       "145900    16555.0\n",
       "137408     5479.0\n",
       "152547    21053.0\n",
       "Name: Price, dtype: float64"
      ]
     },
     "execution_count": 82,
     "metadata": {},
     "output_type": "execute_result"
    }
   ],
   "source": [
    "y_train.head(5)"
   ]
  },
  {
   "cell_type": "markdown",
   "metadata": {},
   "source": [
    "## Train / Predict"
   ]
  },
  {
   "cell_type": "code",
   "execution_count": 83,
   "metadata": {},
   "outputs": [],
   "source": [
    "lreg = LinearRegression()"
   ]
  },
  {
   "cell_type": "code",
   "execution_count": 84,
   "metadata": {},
   "outputs": [],
   "source": [
    "lreg.fit(X_train, y_train)\n",
    "y_pred = lreg.predict(X_test)"
   ]
  },
  {
   "cell_type": "code",
   "execution_count": 85,
   "metadata": {},
   "outputs": [
    {
     "data": {
      "text/plain": [
       "138557154.33948147"
      ]
     },
     "execution_count": 85,
     "metadata": {},
     "output_type": "execute_result"
    }
   ],
   "source": [
    "mean_squared_error(y_test, y_pred)"
   ]
  },
  {
   "cell_type": "code",
   "execution_count": 86,
   "metadata": {},
   "outputs": [
    {
     "data": {
      "text/plain": [
       "35.84158377021364"
      ]
     },
     "execution_count": 86,
     "metadata": {},
     "output_type": "execute_result"
    }
   ],
   "source": [
    "mean_absolute_percentage_error(y_test, y_pred)"
   ]
  },
  {
   "cell_type": "code",
   "execution_count": 87,
   "metadata": {},
   "outputs": [
    {
     "data": {
      "text/plain": [
       "0.5696411066569036"
      ]
     },
     "execution_count": 87,
     "metadata": {},
     "output_type": "execute_result"
    }
   ],
   "source": [
    "r2_score(y_test, y_pred)"
   ]
  },
  {
   "cell_type": "code",
   "execution_count": 52,
   "metadata": {},
   "outputs": [
    {
     "name": "stdout",
     "output_type": "stream",
     "text": [
      "250.0\n"
     ]
    }
   ],
   "source": [
    "def mean_absolute_percentage_error(y_true, y_pred):\n",
    "    y_true, y_pred = np.array(y_true), np.array(y_pred)\n",
    "    return np.mean(np.abs((y_true - y_pred) / y_true)) * 100\n",
    "\n",
    "\n",
    "y_true = np.random.randn(100)\n",
    "y_pred = y_true * 3.5\n",
    "\n",
    "print(mean_absolute_percentage_error(y_true, y_pred))"
   ]
  },
  {
   "cell_type": "code",
   "execution_count": 53,
   "metadata": {},
   "outputs": [
    {
     "data": {
      "image/png": "[encoded data removed]",
      "text/plain": [
       "<Figure size 432x288 with 1 Axes>"
      ]
     },
     "metadata": {
      "needs_background": "light"
     },
     "output_type": "display_data"
    }
   ],
   "source": [
    "from matplotlib import pyplot as plt\n",
    "\n",
    "plt.plot(y_true)\n",
    "plt.plot(y_pred)\n",
    "plt.legend([\"true\", \"pred\"])\n",
    "plt.show()"
   ]
  },
  {
   "cell_type": "markdown",
   "metadata": {},
   "source": [
    "##  Test with manual encoding and label encoding"
   ]
  },
  {
   "cell_type": "code",
   "execution_count": 54,
   "metadata": {},
   "outputs": [],
   "source": [
    "make_label = {ni: n for n,ni in enumerate(set(df1['Make']))}\n",
    "model_label = {ni: n for n,ni in enumerate(set(df1['Model']))}\n",
    "fuel_label = {ni: n for n,ni in enumerate(set(df1['Fuel']))}\n",
    "gearbox_label = {ni: n for n,ni in enumerate(set(df1['Gearbox']))}"
   ]
  },
  {
   "cell_type": "code",
   "execution_count": 55,
   "metadata": {},
   "outputs": [
    {
     "data": {
      "text/plain": [
       "{'Bicarburation essence GPL': 0,\n",
       " 'Essence': 1,\n",
       " 'Bicarburation essence bioéthanol': 2,\n",
       " 'Electrique': 3,\n",
       " 'Diesel': 4,\n",
       " 'Hybride essence électrique': 5,\n",
       " 'Hybride diesel électrique': 6}"
      ]
     },
     "execution_count": 55,
     "metadata": {},
     "output_type": "execute_result"
    }
   ],
   "source": [
    "fuel_label"
   ]
  },
  {
   "cell_type": "code",
   "execution_count": 56,
   "metadata": {},
   "outputs": [
    {
     "data": {
      "text/plain": [
       "array(['Diesel', 'Essence', 'Hybride essence électrique', 'Electrique',\n",
       "       'Hybride diesel électrique', 'Bicarburation essence GPL',\n",
       "       'Bicarburation essence bioéthanol'], dtype=object)"
      ]
     },
     "execution_count": 56,
     "metadata": {},
     "output_type": "execute_result"
    }
   ],
   "source": [
    "df1['Fuel'].unique()"
   ]
  },
  {
   "cell_type": "code",
   "execution_count": 57,
   "metadata": {},
   "outputs": [
    {
     "data": {
      "text/plain": [
       "array(['PEUGEOT', 'BMW', 'AUDI', 'FORD', 'FIAT', 'RENAULT', 'MERCEDES',\n",
       "       'SEAT', 'MINI', 'HYUNDAI', 'DACIA', 'CITROEN', 'TOYOTA',\n",
       "       'VOLKSWAGEN', 'JAGUAR', 'OPEL', 'PORSCHE', 'NISSAN', 'LAND ROVER',\n",
       "       'MAZDA', 'VOLVO', 'SKODA', 'DS', 'SSANGYONG', 'SUZUKI', 'HONDA',\n",
       "       'LEXUS', 'INFINITI', 'JEEP', 'KIA', 'DODGE', 'ASTON MARTIN',\n",
       "       'LANCIA', 'LOTUS', 'CHEVROLET', 'SMART', 'ALFA ROMEO', 'BUGATTI',\n",
       "       'MITSUBISHI', 'MERCEDES-AMG', 'AIXAM', 'FERRARI', 'MG',\n",
       "       'LAMBORGHINI', 'MASERATI', 'SUBARU', 'MORGAN', 'CHRYSLER',\n",
       "       'ROLLS ROYCE', 'TESLA', 'ABARTH', 'LADA', 'BMW-ALPINA', 'SAAB',\n",
       "       'PACKARD', 'ROVER', 'SHELBY', 'MICROCAR', 'ALPINA', 'BENTLEY',\n",
       "       'HUMMER', 'TRIUMPH', 'LIGIER', 'DAEWOO', 'AUSTIN HEALEY',\n",
       "       'JIAYUAN', 'CADILLAC', 'MCLAREN', 'DAIHATSU', 'DANGEL', 'CHATENET',\n",
       "       'INTERMECCANICA', 'AC', 'AUTOBIANCHI', 'SUNBEAM', 'BOLLORE',\n",
       "       'AUSTIN', 'MPM MOTORS', 'INNOCENTI', 'MATRA', 'DONKERVOORT',\n",
       "       'GRECAV', 'FISKER', 'ALPINE', 'SIMCA', 'OLDSMOBILE', 'BELLIER',\n",
       "       'RILEY'], dtype=object)"
      ]
     },
     "execution_count": 57,
     "metadata": {},
     "output_type": "execute_result"
    }
   ],
   "source": [
    "df1['Make'].unique()"
   ]
  },
  {
   "cell_type": "code",
   "execution_count": 58,
   "metadata": {},
   "outputs": [
    {
     "data": {
      "text/plain": [
       "array(['308', 'X6', 'RS6', 'KA', 'TIPO', 'X3', 'A3', 'MEGANE', 'C-MAX',\n",
       "       'CLASSE C', 'IBIZA', 'MINI', '500 X', 'MONDEO', 'I20', 'SANDERO',\n",
       "       '208', 'C3', 'AURIS', 'I30', 'POLO', 'SERIE 1', 'XKR', 'CLASSE B',\n",
       "       'CLIO', 'TOURAN', 'TIGUAN', 'TALISMAN', 'ASTRA', 'GRAND SCENIC',\n",
       "       'A4', 'DS3', 'GOLF', 'DUSTER', 'MACAN', 'QASHQAI', 'KADJAR',\n",
       "       'SCENIC', 'A5', 'TWINGO', 'PASSAT', 'ARONA', 'GRAND C-MAX', 'KUGA',\n",
       "       'SERIE 2', 'SL', '500', 'C4', '5008', '3008',\n",
       "       'GRAND C4 SPACETOURER', 'KOLEOS', 'CLASSE A', 'C4 PICASSO', '2008',\n",
       "       'SERIE 5', 'C5', 'SERIE 3 GT', 'C3 AIRCROSS', 'LEON', 'TUCSON',\n",
       "       'RANGE ROVER EVOQUE', 'ESPACE', 'A7', 'SERIE 3', 'ZAFIRA', '6',\n",
       "       'XC60', '1007', 'AVENSIS', 'OCTAVIA', 'YARIS', 'JUKE', '508 RXH',\n",
       "       'V40', '108', '508', 'SERIE 4', 'DS 5', 'CAPTUR', 'GLA', '307',\n",
       "       'TRAVELLER', 'CORSA', 'COCCINELLE', 'RAV 4', 'KYRON', 'X5',\n",
       "       'S-MAX', 'SX4', 'MOKKA X', 'X1', 'PARTNER TEPEE', 'C4 CACTUS',\n",
       "       'SUPERB', 'CLASSE E', 'A6 ALLROAD', 'CLA', 'Q2', 'ADAM', '206',\n",
       "       '807', 'YETI', 'Q3', 'MX5', 'GRAND C4 PICASSO', '407', 'Q5',\n",
       "       'IX35', '911', 'LAND CRUISER SW', 'GRAND KANGOO', 'KANGOO', 'JAZZ',\n",
       "       'IS', 'DOKKER', 'FOCUS', 'NX', 'XJ', 'Q30', '3', 'CLASSE S',\n",
       "       'VERSO', 'RENEGADE', 'ZOE', 'MOKKA', 'FABIA', 'SPORTAGE', 'A1',\n",
       "       'MUSTANG', 'CLASSE CLS', 'FIESTA', 'DS4', 'CIVIC',\n",
       "       'MINI CABRIOLET', '207', 'ECOSPORT', 'LS', 'CLASSE M',\n",
       "       'C3 PICASSO', 'C1', 'NOTE', 'V90 CROSS COUNTRY', 'A4 ALLROAD',\n",
       "       'SERIE 6', 'X-TRAIL', 'RCZ', 'CHALLENGER', 'RAPIDE', 'VITARA',\n",
       "       'SAXO', 'PANDA', 'DS 3', 'MERIVA', 'IX20', 'GRAND CHEROKEE',\n",
       "       'MICRA', 'RS4', 'DS 4', 'YPSILON', 'COUNTRYMAN', 'CAYENNE', 'RIO',\n",
       "       'FREEMONT', 'ATECA', 'V50', 'B-MAX', 'ION', 'ELISE', 'SORENTO',\n",
       "       'LAGUNA', 'C4 AIRCROSS', 'MATIZ', 'FORTWO', 'GRANDLAND X',\n",
       "       'V40 CROSS COUNTRY', 'BERLINGO', 'DISCOVERY SPORT', 'GLC', 'DOBLO',\n",
       "       'GIULIETTA', 'R8', 'PARTNER', 'C30', 'V60', 'VEYRON', 'XC90',\n",
       "       '1200', 'COUGAR', 'RANGE ROVER SPORT', 'DEFENDER', 'COMPASS',\n",
       "       '718', 'PASSAT CC', 'TOUAREG', 'LOGAN', 'XF', 'KA+', 'QASHQAI +2',\n",
       "       '500 L', 'C2', 'OUTLANDER', 'AGILA', 'C-HR', 'TOURNEO COURIER',\n",
       "       'DISCOVERY', 'OPTIMA', 'BOXSTER', 'CHEROKEE', 'EDGE', 'AYGO',\n",
       "       'GRAND MODUS', 'DS5', 'CLASSE V', 'T-ROC', 'KARL', 'IGNIS',\n",
       "       'PANAMERA', 'GRANDE PUNTO', 'I10', 'CX-3', 'C-ZERO', 'F-PACE',\n",
       "       'S60', 'VIANO', 'WIND', 'PRIUS', 'CX-7', 'TT', '607', '370Z',\n",
       "       'FREELANDER', 'CARENS', 'GT', 'ALHAMBRA', 'FORFOUR', 'SWIFT',\n",
       "       'GIULIA', 'PAJERO', 'LAND CRUISER', 'E-PACE', 'STELVIO', 'UP!',\n",
       "       'KODIAQ', 'ZAFIRA TOURER', 'PACEMAN', 'CLASSE G', 'BIPPER TEPEE',\n",
       "       'COLT', '4008', 'INSIGNIA', 'I40', 'GLS', 'COUPE', '107', 'A6',\n",
       "       'CR-V', 'C-ELYSEE', 'ASX', 'SMART', 'MODUS', '488',\n",
       "       'DS 4 CROSSBACK', 'C25', 'XC70', 'TIGUAN ALLSPACE', 'SPLASH',\n",
       "       'CRUZE', 'CEE D', 'PULSAR', 'SUBURBAN', 'V70', 'RX', 'UNO', 'A',\n",
       "       'Q7', 'TRAX', 'GALLARDO', 'QUATTROPORTE', 'C8', 'SANTA FE', 'X4',\n",
       "       'FX', 'SPACE STAR', 'FORESTER', 'TTS', 'SPACETOURER', 'C', 'SQ5',\n",
       "       'AERO 8', 'QX30', 'SHARAN', 'CAMARO', 'PUNTO', 'VENGA',\n",
       "       'GOLF SPORTSVAN', 'CX-5', 'ALTO', 'RS5', 'V90', 'CROSSLAND X',\n",
       "       'LODGY', 'SLK', 'GALAXY', 'GRAND TOURNEO CONNECT', 'PT CRUISER',\n",
       "       'EXEO', 'XE', 'CROSSFIRE', 'I3', 'PHANTOM', 'URBAN CRUISER',\n",
       "       '206+', 'SX4 S-CROSS', 'S40', 'STONIC', 'PICASSO', 'DELTA', 'HR-V',\n",
       "       'ACCORD', 'FUSION', 'VIRAGE', '612', 'RANGE ROVER VELAR', 'CADDY',\n",
       "       'V8 VANTAGE', 'TWIZY', 'SM', 'LEVANTE', 'E-MEHARI', 'GRANCABRIO',\n",
       "       'CORVETTE', 'MODEL X', 'TERRANO', 'IQ', 'GLE', 'GT-R', 'NIVA',\n",
       "       'KONA', 'B3 S', 'X2', 'SERIE 7', 'COROLLA', 'LATITUDE', 'S3',\n",
       "       '160', 'ARTEON', 'KORANDO', 'PATROL', 'ROADSTER', 'NEW BEETLE',\n",
       "       'PRO CEE D', '2', 'MINI CLUBMAN', 'NEMO', 'COROLLA VERSO',\n",
       "       'CLASSE GLK', 'GLE COUPE', '9-3', 'CELERIO', 'PICANTO', 'IDEA',\n",
       "       'INSIGHT', 'FOCUS C-MAX', 'EOS', 'EXPERT TEPEE', 'F355', 'LIANA',\n",
       "       'MITO', 'JIMNY', 'NIRO', 'CITIGO', 'GRAND VOYAGER', 'CLK', 'XV',\n",
       "       'SOUL', '5', 'MK II', '2CV', 'RAPID', 'V60 CROSS COUNTRY', 'SLC',\n",
       "       'CAYMAN', 'C3 PLURIEL', 'MINI COUPE', 'F-TYPE', 'GRAND VITARA',\n",
       "       'FIORINO', 'XK8', '106', 'ALTEA', 'MODEL S', 'XK', 'WRAITH', 'CC',\n",
       "       'GS', 'ORLANDO', 'SCIROCCO', 'F430', 'LEAF', 'KAROQ', 'CLASSE R',\n",
       "       'ALTEA FREETRACK', 'S90', 'CROMA', 'Q50', 'FF', 'KALOS', '4/4',\n",
       "       'IONIQ', 'GOLF PLUS', 'CT', 'CARNIVAL', 'CALIFORNIA', 'Z4',\n",
       "       'GRANTURISMO', 'MATRIX', '458', 'TYPE E', 'TOLEDO', 'ANTARA',\n",
       "       'MII', 'S-TYPE', 'LANCER', 'DB11', 'IMPREZA', 'GT86',\n",
       "       'GRAND ESPACE', 'WILLYS', 'CL', 'RC', 'CLIPPER', 'RS Q3', 'XSARA',\n",
       "       'X-TYPE', 'RS3', 'GETZ', 'S5', 'PUNTO EVO', 'S80', 'ALLROAD',\n",
       "       'VANQUISH', '124', '147', 'SERIE 5 GT', 'A8', '207+', 'GLC COUPE',\n",
       "       'TAHOE', '159', 'GT 500', 'SPARK', 'RANGE ROVER', 'TERRACAN',\n",
       "       'TRANSIT CUSTOM', 'M.GO', 'XD3', 'PIXO', 'PROACE VERSO', 'PRIMERA',\n",
       "       'ROOMSTER', '300 C', 'ECLIPSE CROSS', '3.0', '200', 'OUTBACK',\n",
       "       'CROSSOVER', 'CONTINENTAL', 'PROACE', 'LACETTI', 'DBS', 'P4',\n",
       "       'SIERRA', '944', 'TT RS', 'WRANGLER', 'MUSA', 'I8', 'JETTA',\n",
       "       'CUSTOM', 'FOX', 'EVALIA', '406', 'H3', 'NP300 NAVARA', 'VERSO-S',\n",
       "       'XC40', 'ZX', 'VEL SATIS', '306', 'FLAVIA', 'H1', 'DB9', 'FLUENCE',\n",
       "       'S8', 'GHIBLI', '356', 'LEVORG', 'C6', 'X1/9', 'ULYSSE', 'AMI',\n",
       "       'CAPTIVA', '404', 'TOURNEO CONNECT', 'VOYAGER', 'C-CROSSER',\n",
       "       'AVEO', 'BARCHETTA', 'BALENO', 'CR-Z', 'VELOSTER', 'S4', 'SAMURAI',\n",
       "       '205', 'SLS', 'FLYING SPUR', 'ALFETTA', 'HURACAN', 'CITY',\n",
       "       'CALIBER', 'DUE', 'Z3', 'EXIGE', 'NITRO', 'MALIBU', 'F12',\n",
       "       'THUNDERBIRD', 'Q60', 'STINGER', 'CASCADA', 'C70', '33', 'DAWN',\n",
       "       '4007', 'MULTIVAN', 'BRERA', 'TR 6', 'P1800', 'QX70', 'PRIUS+',\n",
       "       'QUBO', 'REZZO', 'FR-V', 'BRZ', 'JUMPY', '4C', 'AVANTIME',\n",
       "       'CORDOBA', 'SUPER 5', 'DS 7 CROSSBACK', 'CLASSE GL', '504', '350Z',\n",
       "       'JS', '599', 'MUSSO', 'SHUMA', '812 SUPERFAST', 'SC', 'S6',\n",
       "       'SPRITE', 'SQ7', 'MURCIELAGO', 'F150', 'ROADSTER V6', '99', 'S1',\n",
       "       '121', 'CITY FUN', 'CTS', '190', 'REXTON', 'Q70', 'XANTIA',\n",
       "       'STILO', 'COMBO', '9-5', 'FRONTERA', 'ATOS', 'ESCALADE', 'MP4-12C',\n",
       "       'AVENTADOR', '420', 'CLASSE CLC', 'JUSTY', 'CARAVELLE', '330',\n",
       "       '3000', 'A2', 'BRAVA', 'ATOS PRIME', 'SILVER SHADOW', 'SIRION',\n",
       "       'PHEDRA', 'THESIS', 'SPIDER', 'MINI ROADSTER', 'QX50', 'RS7',\n",
       "       'MINAUTO', 'VECTRA', 'VANEO', 'TOURNEO', 'LUPO', 'DURANGO',\n",
       "       'BRAVO', 'VOLT', 'SIGNUM', 'GTC4LUSSO', 'BENTAYGA', 'TR 7', '812',\n",
       "       'TR 3', 'SEICENTO', 'SPYDER', 'MURANO', 'WRX STI', 'TIVOLI', 'LC',\n",
       "       'OLYMPIA', 'TIGRA', 'ALMERA TINO', 'MEHARI', 'CH 40',\n",
       "       'GRAND SANTA FE', 'WAGON R+', 'XJS', 'ELAN', 'SATELLITE', 'THEMA',\n",
       "       'JOURNEY', '604', 'GRANSPORT', 'VIPER', '400', 'EVORA', '309',\n",
       "       'MONDIAL', 'MAGENTIS', 'DS', 'SPEEDSTER', 'XJ8', '456', '45',\n",
       "       'SONATA', 'PATHFINDER', 'COBRA', 'TERIOS', 'A112', 'SPITFIRE',\n",
       "       'R5', 'C15', '280', 'RODEO', '25', 'GTV', 'KALINA', '720S',\n",
       "       'ALPINE', 'ASCONA', 'TF', 'BETA', 'C10', '570S', 'F', 'T', '348',\n",
       "       '75', 'G', 'COPEN', 'MULTIPLA', '230', 'AROSA', '575',\n",
       "       'TIVOLI XLV', 'CT6', 'HHR', 'GALLOPER', '512', 'BLUECAR', 'DB7',\n",
       "       'H2', 'D3', 'DAIMLER', 'BUGGY', '650 S', 'FORD', 'SEDICI',\n",
       "       'COMMANDER', 'SEVILLE', 'MULSANNE', 'C4 SPACETOURER', '360',\n",
       "       'PROWLER', 'THREEWHEELER', '1000', 'BLUESUMMER', 'OMEGA',\n",
       "       'PATRIOT', 'PUMA', 'ELDORADO', 'R4', '928', '300', 'PHAETON',\n",
       "       'MINI-MOKE', 'ESPRIT', 'LEGACY', 'PS.160', 'CORNICHE', '250',\n",
       "       'BORA', 'SERIE 200', 'STRATUS', '180', 'TREVIS', 'TR 4', '365',\n",
       "       'FULVIA', 'TRAJET', '75 LIMOUSINE BVA', 'AVENGER', 'RODIUS', 'EX',\n",
       "       'MAREA', 'GHOST', 'YARIS VERSO', '550', 'SEBRING', 'JET', 'CITAN',\n",
       "       '450', '156', 'ESCORT', 'S7', 'NOVA', 'I-MIEV', 'AVENSIS VERSO',\n",
       "       '2002', '80', 'TR 5', '1300', 'AMAROK', 'TREZIA', 'SRX', '126',\n",
       "       'TRACTION', 'XJ12', '505', '560', 'LEBARON', 'STREAM',\n",
       "       'TESTAROSSA', '130', 'IX55', 'EPICA', 'EXPLORER', 'PALIO',\n",
       "       'ALMERA', 'KANGOO EXPRESS', 'GRANDIS', 'AX', 'STAG', 'MATERIA',\n",
       "       'DINO', 'CROSSBLADE', 'PLUS 4', 'D8', '675 LT', 'DB4', 'CH 26',\n",
       "       'XM', 'VANTAGE', 'CABSTAR', '403', 'CX', 'K5 BLAZER',\n",
       "       'GRAND VITARA XL-7', 'EKE', 'CROSSLINE', 'GENESIS', '2600', '145',\n",
       "       'KARMA', 'B', '924', 'X-TOO MAX', 'GTA', 'STS', '3200 GT',\n",
       "       'CHEVELLE', 'NV200', 'CUTLASS', 'M', '166', 'B8', '806', 'X-TOO',\n",
       "       'CERATO', 'TORONADO', 'S2', 'A610', 'ARNAGE', 'IMPALA', 'PLUS 8',\n",
       "       'SEVEN', 'CUBE', 'CX-9', 'DYANE', 'ELF', 'LAND', 'DUETTO',\n",
       "       'SILVERADO', 'EL CAMINO', '2 ELEVEN', 'TC', 'CHARGER', 'BX'],\n",
       "      dtype=object)"
      ]
     },
     "execution_count": 58,
     "metadata": {},
     "output_type": "execute_result"
    }
   ],
   "source": [
    "df1['Model'].unique()"
   ]
  },
  {
   "cell_type": "code",
   "execution_count": 59,
   "metadata": {},
   "outputs": [
    {
     "data": {
      "text/plain": [
       "array(['mécanique', 'automatique'], dtype=object)"
      ]
     },
     "execution_count": 59,
     "metadata": {},
     "output_type": "execute_result"
    }
   ],
   "source": [
    "df1['Gearbox'].unique()"
   ]
  },
  {
   "cell_type": "code",
   "execution_count": 60,
   "metadata": {
    "scrolled": true
   },
   "outputs": [
    {
     "name": "stdout",
     "output_type": "stream",
     "text": [
      "make_label = {'RILEY': 0, 'AUSTIN HEALEY': 1, 'VOLVO': 2, 'TRIUMPH': 3, 'MPM MOTORS': 4, 'GRECAV': 5, 'FISKER': 6, 'ASTON MARTIN': 7, 'OLDSMOBILE': 8, 'MCLAREN': 9, 'SKODA': 10, 'MITSUBISHI': 11, 'BMW-ALPINA': 12, 'SUBARU': 13, 'SMART': 14, 'BOLLORE': 15, 'LANCIA': 16, 'FORD': 17, 'MG': 18, 'JIAYUAN': 19, 'INTERMECCANICA': 20, 'BENTLEY': 21, 'MICROCAR': 22, 'RENAULT': 23, 'INNOCENTI': 24, 'MERCEDES-AMG': 25, 'AC': 26, 'MORGAN': 27, 'OPEL': 28, 'PACKARD': 29, 'BMW': 30, 'BELLIER': 31, 'LOTUS': 32, 'ROLLS ROYCE': 33, 'HUMMER': 34, 'KIA': 35, 'SIMCA': 36, 'LAMBORGHINI': 37, 'MASERATI': 38, 'MATRA': 39, 'TESLA': 40, 'AUTOBIANCHI': 41, 'SAAB': 42, 'JAGUAR': 43, 'SHELBY': 44, 'LIGIER': 45, 'ALFA ROMEO': 46, 'PORSCHE': 47, 'DANGEL': 48, 'HYUNDAI': 49, 'SSANGYONG': 50, 'INFINITI': 51, 'BUGATTI': 52, 'DACIA': 53, 'DONKERVOORT': 54, 'CHATENET': 55, 'AUSTIN': 56, 'CHRYSLER': 57, 'FERRARI': 58, 'PEUGEOT': 59, 'JEEP': 60, 'MERCEDES': 61, 'VOLKSWAGEN': 62, 'CADILLAC': 63, 'LEXUS': 64, 'NISSAN': 65, 'LAND ROVER': 66, 'SUZUKI': 67, 'HONDA': 68, 'DS': 69, 'LADA': 70, 'ALPINA': 71, 'AUDI': 72, 'ALPINE': 73, 'DAEWOO': 74, 'MAZDA': 75, 'FIAT': 76, 'AIXAM': 77, 'ABARTH': 78, 'SUNBEAM': 79, 'SEAT': 80, 'DAIHATSU': 81, 'CITROEN': 82, 'ROVER': 83, 'CHEVROLET': 84, 'MINI': 85, 'DODGE': 86, 'TOYOTA': 87}\n",
      "model_label = {'KUGA': 0, '75': 1, 'DOKKER': 2, 'P4': 3, 'ELAN': 4, 'DB11': 5, 'LEGACY': 6, '207': 7, 'KOLEOS': 8, 'CL': 9, '180': 10, 'POLO': 11, 'TOURAN': 12, 'TR 3': 13, 'FORFOUR': 14, 'QX70': 15, 'GIULIETTA': 16, 'PACEMAN': 17, 'Q3': 18, 'REXTON': 19, 'DISCOVERY': 20, 'TF': 21, 'SHUMA': 22, 'XANTIA': 23, 'Q50': 24, '208': 25, 'VANEO': 26, 'SERIE 3 GT': 27, 'FLUENCE': 28, 'ZOE': 29, 'SERIE 5 GT': 30, 'TUCSON': 31, 'MATERIA': 32, '330': 33, 'SMART': 34, 'RS5': 35, 'QX50': 36, 'COMBO': 37, 'JIMNY': 38, '350Z': 39, '309': 40, 'RANGE ROVER SPORT': 41, 'I-MIEV': 42, 'LEON': 43, 'FR-V': 44, 'PROACE': 45, 'THESIS': 46, 'CLASSE G': 47, 'CUBE': 48, 'CROMA': 49, 'C8': 50, 'STRATUS': 51, 'C25': 52, '812 SUPERFAST': 53, 'GRAND C4 SPACETOURER': 54, '400': 55, 'ARNAGE': 56, 'COROLLA VERSO': 57, 'BLUESUMMER': 58, 'SIRION': 59, 'SPIDER': 60, 'WRX STI': 61, 'VANTAGE': 62, 'PATROL': 63, 'A': 64, 'CORSA': 65, 'MAREA': 66, 'S60': 67, 'PAJERO': 68, 'JUKE': 69, 'PICANTO': 70, 'F': 71, '307': 72, 'DINO': 73, 'EXIGE': 74, 'TOURNEO': 75, 'DS4': 76, 'STONIC': 77, 'VIPER': 78, 'FREEMONT': 79, 'S-MAX': 80, 'EVALIA': 81, 'VOYAGER': 82, '356': 83, '500 X': 84, 'XV': 85, 'PT CRUISER': 86, 'GHIBLI': 87, 'X6': 88, 'F355': 89, 'G': 90, 'YARIS VERSO': 91, 'GRANSPORT': 92, '1007': 93, 'TERIOS': 94, 'DURANGO': 95, 'CAPTUR': 96, 'GENESIS': 97, 'PALIO': 98, 'PS.160': 99, 'BERLINGO': 100, '675 LT': 101, 'H1': 102, 'AVENGER': 103, 'CX-3': 104, 'EDGE': 105, 'C-HR': 106, '3': 107, 'LATITUDE': 108, '126': 109, 'CITIGO': 110, 'S4': 111, 'AVENTADOR': 112, 'SPYDER': 113, 'EL CAMINO': 114, 'KYRON': 115, 'CLASSE GLK': 116, 'I10': 117, 'CH 40': 118, 'AMI': 119, 'TIGUAN ALLSPACE': 120, 'COUPE': 121, 'RAPIDE': 122, 'GTC4LUSSO': 123, '9-3': 124, 'CASCADA': 125, 'ULYSSE': 126, 'C4 SPACETOURER': 127, 'Q7': 128, 'C6': 129, 'TESTAROSSA': 130, 'FIESTA': 131, 'WIND': 132, 'B-MAX': 133, 'XK': 134, 'Z4': 135, 'Q60': 136, 'GRAND VITARA XL-7': 137, 'PULSAR': 138, 'SC': 139, '806': 140, 'GOLF SPORTSVAN': 141, 'MULSANNE': 142, '456': 143, 'TREVIS': 144, 'CX-9': 145, 'XD3': 146, 'F12': 147, 'SIGNUM': 148, '124': 149, '5': 150, 'XC90': 151, 'M.GO': 152, 'QASHQAI +2': 153, 'CR-Z': 154, 'MUSSO': 155, 'CLIO': 156, 'F150': 157, 'DS': 158, 'DAIMLER': 159, 'CORDOBA': 160, 'LANCER': 161, 'SIERRA': 162, 'DB7': 163, 'LACETTI': 164, 'TC': 165, 'IDEA': 166, 'STAG': 167, '1200': 168, 'PRIMERA': 169, 'THREEWHEELER': 170, 'CLASSE S': 171, 'XJ': 172, 'SILVER SHADOW': 173, 'C-ZERO': 174, '458': 175, 'AERO 8': 176, 'AURIS': 177, '604': 178, 'TRAVELLER': 179, 'C70': 180, 'XF': 181, 'SUPER 5': 182, 'X1/9': 183, 'KANGOO': 184, '407': 185, 'CR-V': 186, 'SANTA FE': 187, 'D8': 188, '504': 189, 'TIVOLI': 190, '406': 191, 'CADDY': 192, 'AX': 193, 'JS': 194, 'MINI-MOKE': 195, 'IONIQ': 196, 'LUPO': 197, '928': 198, 'MINI': 199, 'CIVIC': 200, 'SEVEN': 201, 'STINGER': 202, 'HR-V': 203, 'AVANTIME': 204, 'ELDORADO': 205, '505': 206, 'WRANGLER': 207, '6': 208, 'JUSTY': 209, '308': 210, 'GT86': 211, 'Q5': 212, 'TALISMAN': 213, '911': 214, 'FX': 215, 'SLC': 216, 'FIORINO': 217, 'CROSSFIRE': 218, 'CUSTOM': 219, 'TREZIA': 220, '159': 221, 'DS 7 CROSSBACK': 222, '360': 223, '160': 224, 'RCZ': 225, 'T': 226, 'GT': 227, '488': 228, 'XC60': 229, 'GRANDIS': 230, 'GHOST': 231, 'MOKKA X': 232, '107': 233, 'BARCHETTA': 234, 'TOUAREG': 235, 'SAXO': 236, 'MEGANE': 237, 'SERIE 3': 238, 'SX4': 239, 'GALLARDO': 240, 'V60': 241, 'A4': 242, 'AVENSIS VERSO': 243, 'VERSO-S': 244, '75 LIMOUSINE BVA': 245, '607': 246, 'PLUS 4': 247, 'TT RS': 248, 'TRACTION': 249, 'C-ELYSEE': 250, 'CALIBER': 251, 'ELISE': 252, 'GRAND ESPACE': 253, 'LS': 254, 'C': 255, 'C4 PICASSO': 256, 'X3': 257, '33': 258, 'XJ8': 259, 'INSIGNIA': 260, 'LEAF': 261, 'MITO': 262, 'CARNIVAL': 263, 'XJS': 264, 'MII': 265, 'GTA': 266, 'ASTRA': 267, 'F-PACE': 268, 'DISCOVERY SPORT': 269, 'TWINGO': 270, 'E-MEHARI': 271, '807': 272, 'MULTIVAN': 273, 'C4 AIRCROSS': 274, '3000': 275, '550': 276, 'STS': 277, 'AROSA': 278, 'B8': 279, 'XC70': 280, 'INSIGHT': 281, 'SPRITE': 282, 'A8': 283, 'MUSA': 284, 'ROADSTER V6': 285, '812': 286, 'V40': 287, 'H3': 288, 'GRAND C4 PICASSO': 289, 'XC40': 290, 'LEVANTE': 291, 'PUMA': 292, 'V40 CROSS COUNTRY': 293, 'MOKKA': 294, 'SPITFIRE': 295, 'C2': 296, 'ZX': 297, 'V70': 298, 'GRAND C-MAX': 299, 'FOCUS': 300, 'EXPERT TEPEE': 301, '2002': 302, 'IMPALA': 303, 'CT': 304, 'CEE D': 305, 'X2': 306, 'GALLOPER': 307, 'SQ5': 308, 'GRAND SCENIC': 309, 'ALTEA FREETRACK': 310, 'COROLLA': 311, '450': 312, 'TERRACAN': 313, 'SLS': 314, 'SERIE 1': 315, 'PARTNER': 316, '205': 317, 'TORONADO': 318, 'SPLASH': 319, 'KARL': 320, 'DS5': 321, 'PARTNER TEPEE': 322, 'TRAX': 323, 'ZAFIRA': 324, 'PHAETON': 325, 'RX': 326, 'PRIUS+': 327, 'B': 328, 'HHR': 329, 'FULVIA': 330, 'ROOMSTER': 331, 'THUNDERBIRD': 332, 'GIULIA': 333, '650 S': 334, 'SERIE 200': 335, 'R4': 336, 'KA': 337, 'X-TOO': 338, 'VECTRA': 339, 'GRANDLAND X': 340, 'MINI CLUBMAN': 341, 'TOLEDO': 342, 'TOURNEO COURIER': 343, 'MATRIX': 344, 'CLK': 345, 'VIANO': 346, 'VEYRON': 347, 'CITY FUN': 348, 'VIRAGE': 349, 'KONA': 350, 'BALENO': 351, 'MACAN': 352, 'X-TYPE': 353, 'ELF': 354, '300 C': 355, 'HURACAN': 356, 'MERIVA': 357, 'DUETTO': 358, 'FF': 359, 'A610': 360, 'SERIE 5': 361, 'CHARGER': 362, '2600': 363, 'A112': 364, 'ECLIPSE CROSS': 365, 'IMPREZA': 366, 'GRAND MODUS': 367, 'GLC COUPE': 368, 'TAHOE': 369, '570S': 370, 'PANDA': 371, 'SERIE 2': 372, 'ESPACE': 373, 'GRAND TOURNEO CONNECT': 374, 'MX5': 375, 'NOVA': 376, 'IX35': 377, 'IBIZA': 378, 'I8': 379, '9-5': 380, 'TIGRA': 381, 'FORTWO': 382, 'AGILA': 383, 'ALFETTA': 384, '300': 385, 'SILVERADO': 386, 'BOXSTER': 387, 'SERIE 7': 388, 'VENGA': 389, 'CAYMAN': 390, 'KALINA': 391, 'RS4': 392, 'E-PACE': 393, 'XM': 394, 'SRX': 395, 'CLASSE C': 396, 'JAZZ': 397, 'SLK': 398, 'AMAROK': 399, 'Q70': 400, 'C-MAX': 401, 'YARIS': 402, 'CX-7': 403, 'I40': 404, 'GRANCABRIO': 405, 'SEDICI': 406, 'GOLF PLUS': 407, 'GOLF': 408, 'CHEROKEE': 409, 'BRAVO': 410, 'C4 CACTUS': 411, 'A2': 412, 'X1': 413, 'COUNTRYMAN': 414, 'PRIUS': 415, 'S-TYPE': 416, '4007': 417, 'ANTARA': 418, 'SHARAN': 419, '166': 420, 'MURCIELAGO': 421, 'C3 PICASSO': 422, 'A4 ALLROAD': 423, 'MICRA': 424, 'K5 BLAZER': 425, 'CORVETTE': 426, 'GRAND KANGOO': 427, '500': 428, '508 RXH': 429, 'STELVIO': 430, 'SPEEDSTER': 431, '1000': 432, 'OLYMPIA': 433, 'SORENTO': 434, 'SCENIC': 435, 'EVORA': 436, 'CRUZE': 437, 'SONATA': 438, 'DUSTER': 439, 'MALIBU': 440, 'CH 26': 441, 'TERRANO': 442, 'R8': 443, 'KALOS': 444, 'S8': 445, 'RAV 4': 446, 'IS': 447, 'FLAVIA': 448, 'GS': 449, 'LOGAN': 450, 'BETA': 451, '250': 452, 'FOCUS C-MAX': 453, 'NIRO': 454, 'F430': 455, 'MONDIAL': 456, 'LEVORG': 457, 'S7': 458, 'SUPERB': 459, 'R5': 460, 'BUGGY': 461, 'MINI CABRIOLET': 462, 'OMEGA': 463, 'TWIZY': 464, 'COLT': 465, 'IGNIS': 466, 'CROSSLINE': 467, 'TRANSIT CUSTOM': 468, '145': 469, 'TR 7': 470, 'PLUS 8': 471, 'NOTE': 472, 'EXEO': 473, 'A3': 474, 'PHEDRA': 475, 'S2': 476, 'RENEGADE': 477, '230': 478, 'DOBLO': 479, 'DEFENDER': 480, 'OUTLANDER': 481, 'A1': 482, '99': 483, 'MK II': 484, 'ACCORD': 485, 'FOX': 486, 'NEW BEETLE': 487, 'FRONTERA': 488, '575': 489, 'PICASSO': 490, 'Q30': 491, 'MP4-12C': 492, '3.0': 493, 'NIVA': 494, 'BRAVA': 495, 'PASSAT CC': 496, 'LAND CRUISER': 497, 'RIO': 498, 'C3 PLURIEL': 499, '4/4': 500, 'PROWLER': 501, 'SM': 502, '348': 503, 'C4': 504, 'QX30': 505, 'RAPID': 506, 'T-ROC': 507, 'SAMURAI': 508, 'SL': 509, 'ADAM': 510, '306': 511, 'UP!': 512, 'CC': 513, '200': 514, 'CLASSE B': 515, 'MINI ROADSTER': 516, 'CORNICHE': 517, 'KANGOO EXPRESS': 518, 'CABSTAR': 519, 'GLE': 520, 'ALTEA': 521, 'CUTLASS': 522, 'B3 S': 523, 'CLA': 524, 'IQ': 525, 'LIANA': 526, 'GRANTURISMO': 527, '944': 528, '403': 529, 'SANDERO': 530, 'CARENS': 531, 'PATHFINDER': 532, 'URBAN CRUISER': 533, 'EOS': 534, 'ALTO': 535, 'CTS': 536, 'V90 CROSS COUNTRY': 537, 'BENTAYGA': 538, 'TR 5': 539, 'GLA': 540, 'TIVOLI XLV': 541, 'M': 542, 'LEBARON': 543, 'C30': 544, 'NX': 545, 'KORANDO': 546, 'X5': 547, '2008': 548, 'CALIFORNIA': 549, '4008': 550, '370Z': 551, 'BRZ': 552, 'ATOS': 553, 'VOLT': 554, 'CLASSE E': 555, 'BLUECAR': 556, 'C-CROSSER': 557, '599': 558, 'MURANO': 559, 'EXPLORER': 560, 'SERIE 4': 561, '190': 562, 'TTS': 563, '720S': 564, 'V60 CROSS COUNTRY': 565, 'GLC': 566, 'DS 5': 567, 'RS7': 568, 'CAMARO': 569, 'NP300 NAVARA': 570, 'MATIZ': 571, 'PASSAT': 572, 'JETTA': 573, 'ZAFIRA TOURER': 574, 'GRAND SANTA FE': 575, 'X-TOO MAX': 576, 'MULTIPLA': 577, 'ALMERA': 578, 'MODEL X': 579, 'C1': 580, 'S6': 581, 'TOURNEO CONNECT': 582, 'RODEO': 583, 'BIPPER TEPEE': 584, 'RODIUS': 585, 'DS 3': 586, 'ASCONA': 587, 'AYGO': 588, 'DB4': 589, 'CLASSE CLC': 590, 'QUATTROPORTE': 591, '404': 592, '560': 593, '156': 594, 'I3': 595, 'CLASSE A': 596, 'CLASSE V': 597, 'RC': 598, 'S80': 599, 'OUTBACK': 600, 'ATECA': 601, 'GT 500': 602, 'IX55': 603, 'Z3': 604, 'SEVILLE': 605, 'CLASSE CLS': 606, 'XKR': 607, '365': 608, 'CLASSE M': 609, 'SEICENTO': 610, 'DELTA': 611, '4C': 612, 'CITY': 613, '420': 614, 'CROSSLAND X': 615, 'DS 4': 616, 'ALHAMBRA': 617, 'CLASSE GL': 618, 'VERSO': 619, 'UNO': 620, '280': 621, 'TR 4': 622, '3200 GT': 623, 'PRO CEE D': 624, 'CLASSE R': 625, 'MINAUTO': 626, 'NV200': 627, 'ARTEON': 628, '206+': 629, 'XK8': 630, '45': 631, 'CAYENNE': 632, 'FLYING SPUR': 633, 'X4': 634, '2': 635, 'ALMERA TINO': 636, 'PHANTOM': 637, 'BRERA': 638, 'C3 AIRCROSS': 639, 'A5': 640, 'COMPASS': 641, 'NEMO': 642, 'VELOSTER': 643, 'P1800': 644, 'RS6': 645, 'MONDEO': 646, 'AVENSIS': 647, 'COPEN': 648, 'NITRO': 649, 'YETI': 650, 'FORD': 651, 'C5': 652, 'LODGY': 653, 'WAGON R+': 654, 'EX': 655, 'RANGE ROVER': 656, '512': 657, 'GRAND CHEROKEE': 658, 'S5': 659, 'BX': 660, 'S40': 661, 'MODUS': 662, 'SCIROCCO': 663, 'SOUL': 664, 'BORA': 665, 'SPACE STAR': 666, '106': 667, 'XSARA': 668, 'KODIAQ': 669, 'LAND CRUISER SW': 670, 'V90': 671, 'MINI COUPE': 672, 'STREAM': 673, 'Q2': 674, 'FUSION': 675, 'WILLYS': 676, '207+': 677, 'YPSILON': 678, 'MEHARI': 679, 'RS3': 680, 'A6 ALLROAD': 681, 'X-TRAIL': 682, 'VITARA': 683, 'PIXO': 684, 'SX4 S-CROSS': 685, 'KARMA': 686, 'ATOS PRIME': 687, 'KAROQ': 688, 'MUSTANG': 689, 'DUE': 690, 'SATELLITE': 691, 'SERIE 6': 692, 'CAPTIVA': 693, 'V50': 694, '612': 695, 'ESCORT': 696, 'A6': 697, 'ROADSTER': 698, '924': 699, 'RS Q3': 700, 'FABIA': 701, 'OPTIMA': 702, 'IX20': 703, '108': 704, 'COBRA': 705, 'GRAND VITARA': 706, 'S90': 707, 'GTV': 708, 'LAGUNA': 709, '1300': 710, 'TYPE E': 711, 'RANGE ROVER VELAR': 712, 'CX-5': 713, 'ION': 714, 'KA+': 715, 'D3': 716, 'ALLROAD': 717, 'PUNTO EVO': 718, 'SPORTAGE': 719, 'SEBRING': 720, 'CONTINENTAL': 721, 'SQ7': 722, 'CROSSBLADE': 723, 'STILO': 724, 'TIGUAN': 725, 'REZZO': 726, 'VANQUISH': 727, '718': 728, 'JOURNEY': 729, '147': 730, 'RANGE ROVER EVOQUE': 731, 'TT': 732, 'LC': 733, 'VEL SATIS': 734, '3008': 735, 'EKE': 736, 'CLIPPER': 737, 'GT-R': 738, 'OCTAVIA': 739, 'QASHQAI': 740, 'GETZ': 741, 'EPICA': 742, 'CELERIO': 743, '2 ELEVEN': 744, 'QUBO': 745, 'PATRIOT': 746, 'CT6': 747, 'I20': 748, 'TRAJET': 749, 'DYANE': 750, 'WRAITH': 751, 'C15': 752, 'LAND': 753, 'KADJAR': 754, '206': 755, 'CERATO': 756, 'PROACE VERSO': 757, 'COUGAR': 758, 'GLS': 759, 'GRAND VOYAGER': 760, 'ESPRIT': 761, 'H2': 762, '130': 763, '508': 764, 'SWIFT': 765, 'ASX': 766, 'AVEO': 767, '500 L': 768, 'CARAVELLE': 769, 'CITAN': 770, '121': 771, 'DS 4 CROSSBACK': 772, 'SPARK': 773, 'ARONA': 774, 'GRANDE PUNTO': 775, 'XJ12': 776, 'A7': 777, 'S1': 778, 'TIPO': 779, 'C3': 780, 'JUMPY': 781, '25': 782, 'COCCINELLE': 783, 'THEMA': 784, 'ECOSPORT': 785, '2CV': 786, 'COMMANDER': 787, '5008': 788, 'TR 6': 789, 'SUBURBAN': 790, 'DB9': 791, 'XE': 792, 'CROSSOVER': 793, 'ALPINE': 794, 'FREELANDER': 795, 'GALAXY': 796, 'CHALLENGER': 797, 'F-TYPE': 798, 'I30': 799, 'ORLANDO': 800, '80': 801, 'PUNTO': 802, 'PANAMERA': 803, 'GLE COUPE': 804, 'ESCALADE': 805, 'DAWN': 806, 'FORESTER': 807, 'V8 VANTAGE': 808, 'C10': 809, 'JET': 810, 'DS3': 811, 'MODEL S': 812, 'S3': 813, 'DBS': 814, 'SPACETOURER': 815, 'CX': 816, 'MAGENTIS': 817, 'CHEVELLE': 818}\n",
      "fuel_label = {'Bicarburation essence GPL': 0, 'Essence': 1, 'Bicarburation essence bioéthanol': 2, 'Electrique': 3, 'Diesel': 4, 'Hybride essence électrique': 5, 'Hybride diesel électrique': 6}\n",
      "gearbox_label = {'mécanique': 0, 'automatique': 1}\n"
     ]
    }
   ],
   "source": [
    "print('make_label = {}'.format(make_label))\n",
    "print('model_label = {}'.format(model_label))\n",
    "print('fuel_label = {}'.format(fuel_label))\n",
    "print('gearbox_label = {}'.format(gearbox_label))"
   ]
  },
  {
   "cell_type": "code",
   "execution_count": 61,
   "metadata": {},
   "outputs": [
    {
     "data": {
      "text/html": [
       "<div>\n",
       "<style scoped>\n",
       "    .dataframe tbody tr th:only-of-type {\n",
       "        vertical-align: middle;\n",
       "    }\n",
       "\n",
       "    .dataframe tbody tr th {\n",
       "        vertical-align: top;\n",
       "    }\n",
       "\n",
       "    .dataframe thead th {\n",
       "        text-align: right;\n",
       "    }\n",
       "</style>\n",
       "<table border=\"1\" class=\"dataframe\">\n",
       "  <thead>\n",
       "    <tr style=\"text-align: right;\">\n",
       "      <th></th>\n",
       "      <th>Price</th>\n",
       "      <th>Make</th>\n",
       "      <th>Model</th>\n",
       "      <th>Model_year</th>\n",
       "      <th>Mileage</th>\n",
       "      <th>Fuel</th>\n",
       "      <th>Gearbox</th>\n",
       "      <th>Nbre_porte</th>\n",
       "      <th>CV</th>\n",
       "    </tr>\n",
       "  </thead>\n",
       "  <tbody>\n",
       "    <tr>\n",
       "      <th>0</th>\n",
       "      <td>11220.0</td>\n",
       "      <td>PEUGEOT</td>\n",
       "      <td>308</td>\n",
       "      <td>4</td>\n",
       "      <td>94341.0</td>\n",
       "      <td>Diesel</td>\n",
       "      <td>mécanique</td>\n",
       "      <td>5</td>\n",
       "      <td>4</td>\n",
       "    </tr>\n",
       "    <tr>\n",
       "      <th>1</th>\n",
       "      <td>57526.0</td>\n",
       "      <td>BMW</td>\n",
       "      <td>X6</td>\n",
       "      <td>3</td>\n",
       "      <td>39051.0</td>\n",
       "      <td>Diesel</td>\n",
       "      <td>automatique</td>\n",
       "      <td>5</td>\n",
       "      <td>16</td>\n",
       "    </tr>\n",
       "    <tr>\n",
       "      <th>2</th>\n",
       "      <td>80379.0</td>\n",
       "      <td>AUDI</td>\n",
       "      <td>RS6</td>\n",
       "      <td>4</td>\n",
       "      <td>75381.0</td>\n",
       "      <td>Essence</td>\n",
       "      <td>automatique</td>\n",
       "      <td>5</td>\n",
       "      <td>47</td>\n",
       "    </tr>\n",
       "    <tr>\n",
       "      <th>3</th>\n",
       "      <td>2830.0</td>\n",
       "      <td>FORD</td>\n",
       "      <td>KA</td>\n",
       "      <td>11</td>\n",
       "      <td>92282.0</td>\n",
       "      <td>Essence</td>\n",
       "      <td>mécanique</td>\n",
       "      <td>3</td>\n",
       "      <td>5</td>\n",
       "    </tr>\n",
       "    <tr>\n",
       "      <th>4</th>\n",
       "      <td>12925.0</td>\n",
       "      <td>FIAT</td>\n",
       "      <td>TIPO</td>\n",
       "      <td>0</td>\n",
       "      <td>10.0</td>\n",
       "      <td>Essence</td>\n",
       "      <td>mécanique</td>\n",
       "      <td>5</td>\n",
       "      <td>5</td>\n",
       "    </tr>\n",
       "  </tbody>\n",
       "</table>\n",
       "</div>"
      ],
      "text/plain": [
       "     Price     Make Model  Model_year  Mileage     Fuel      Gearbox  \\\n",
       "0  11220.0  PEUGEOT   308           4  94341.0   Diesel    mécanique   \n",
       "1  57526.0      BMW    X6           3  39051.0   Diesel  automatique   \n",
       "2  80379.0     AUDI   RS6           4  75381.0  Essence  automatique   \n",
       "3   2830.0     FORD    KA          11  92282.0  Essence    mécanique   \n",
       "4  12925.0     FIAT  TIPO           0     10.0  Essence    mécanique   \n",
       "\n",
       "   Nbre_porte  CV  \n",
       "0           5   4  \n",
       "1           5  16  \n",
       "2           5  47  \n",
       "3           3   5  \n",
       "4           5   5  "
      ]
     },
     "execution_count": 61,
     "metadata": {},
     "output_type": "execute_result"
    }
   ],
   "source": [
    "df1.head()"
   ]
  },
  {
   "cell_type": "code",
   "execution_count": 62,
   "metadata": {},
   "outputs": [],
   "source": [
    "df1['Make'] = df1['Make'].map(make_label)\n",
    "df1['Model'] = df1['Model'].map(model_label)\n",
    "df1['Fuel'] = df1['Fuel'].map(fuel_label)\n",
    "df1['Gearbox'] = df1['Gearbox'].map(gearbox_label)"
   ]
  },
  {
   "cell_type": "code",
   "execution_count": 63,
   "metadata": {},
   "outputs": [
    {
     "data": {
      "text/html": [
       "<div>\n",
       "<style scoped>\n",
       "    .dataframe tbody tr th:only-of-type {\n",
       "        vertical-align: middle;\n",
       "    }\n",
       "\n",
       "    .dataframe tbody tr th {\n",
       "        vertical-align: top;\n",
       "    }\n",
       "\n",
       "    .dataframe thead th {\n",
       "        text-align: right;\n",
       "    }\n",
       "</style>\n",
       "<table border=\"1\" class=\"dataframe\">\n",
       "  <thead>\n",
       "    <tr style=\"text-align: right;\">\n",
       "      <th></th>\n",
       "      <th>Price</th>\n",
       "      <th>Make</th>\n",
       "      <th>Model</th>\n",
       "      <th>Model_year</th>\n",
       "      <th>Mileage</th>\n",
       "      <th>Fuel</th>\n",
       "      <th>Gearbox</th>\n",
       "      <th>Nbre_porte</th>\n",
       "      <th>CV</th>\n",
       "    </tr>\n",
       "  </thead>\n",
       "  <tbody>\n",
       "    <tr>\n",
       "      <th>0</th>\n",
       "      <td>11220.0</td>\n",
       "      <td>59</td>\n",
       "      <td>210</td>\n",
       "      <td>4</td>\n",
       "      <td>94341.0</td>\n",
       "      <td>4</td>\n",
       "      <td>0</td>\n",
       "      <td>5</td>\n",
       "      <td>4</td>\n",
       "    </tr>\n",
       "    <tr>\n",
       "      <th>1</th>\n",
       "      <td>57526.0</td>\n",
       "      <td>30</td>\n",
       "      <td>88</td>\n",
       "      <td>3</td>\n",
       "      <td>39051.0</td>\n",
       "      <td>4</td>\n",
       "      <td>1</td>\n",
       "      <td>5</td>\n",
       "      <td>16</td>\n",
       "    </tr>\n",
       "    <tr>\n",
       "      <th>2</th>\n",
       "      <td>80379.0</td>\n",
       "      <td>72</td>\n",
       "      <td>645</td>\n",
       "      <td>4</td>\n",
       "      <td>75381.0</td>\n",
       "      <td>1</td>\n",
       "      <td>1</td>\n",
       "      <td>5</td>\n",
       "      <td>47</td>\n",
       "    </tr>\n",
       "    <tr>\n",
       "      <th>3</th>\n",
       "      <td>2830.0</td>\n",
       "      <td>17</td>\n",
       "      <td>337</td>\n",
       "      <td>11</td>\n",
       "      <td>92282.0</td>\n",
       "      <td>1</td>\n",
       "      <td>0</td>\n",
       "      <td>3</td>\n",
       "      <td>5</td>\n",
       "    </tr>\n",
       "    <tr>\n",
       "      <th>4</th>\n",
       "      <td>12925.0</td>\n",
       "      <td>76</td>\n",
       "      <td>779</td>\n",
       "      <td>0</td>\n",
       "      <td>10.0</td>\n",
       "      <td>1</td>\n",
       "      <td>0</td>\n",
       "      <td>5</td>\n",
       "      <td>5</td>\n",
       "    </tr>\n",
       "  </tbody>\n",
       "</table>\n",
       "</div>"
      ],
      "text/plain": [
       "     Price  Make  Model  Model_year  Mileage  Fuel  Gearbox  Nbre_porte  CV\n",
       "0  11220.0    59    210           4  94341.0     4        0           5   4\n",
       "1  57526.0    30     88           3  39051.0     4        1           5  16\n",
       "2  80379.0    72    645           4  75381.0     1        1           5  47\n",
       "3   2830.0    17    337          11  92282.0     1        0           3   5\n",
       "4  12925.0    76    779           0     10.0     1        0           5   5"
      ]
     },
     "execution_count": 63,
     "metadata": {},
     "output_type": "execute_result"
    }
   ],
   "source": [
    "df1.head()"
   ]
  },
  {
   "cell_type": "code",
   "execution_count": 64,
   "metadata": {},
   "outputs": [],
   "source": [
    "#normalized_df1.head()"
   ]
  },
  {
   "cell_type": "code",
   "execution_count": 65,
   "metadata": {},
   "outputs": [],
   "source": [
    "from sklearn.preprocessing import MinMaxScaler\n",
    "\n",
    "minmax_scale = MinMaxScaler().fit(df1)\n",
    "df_minmax = minmax_scale.transform(df1)"
   ]
  },
  {
   "cell_type": "code",
   "execution_count": 66,
   "metadata": {},
   "outputs": [
    {
     "data": {
      "text/plain": [
       "Price         float64\n",
       "Make            int64\n",
       "Model           int64\n",
       "Model_year      int16\n",
       "Mileage       float64\n",
       "Fuel            int64\n",
       "Gearbox         int64\n",
       "Nbre_porte      int64\n",
       "CV              int64\n",
       "dtype: object"
      ]
     },
     "execution_count": 66,
     "metadata": {},
     "output_type": "execute_result"
    }
   ],
   "source": [
    "df1.dtypes"
   ]
  },
  {
   "cell_type": "code",
   "execution_count": 67,
   "metadata": {},
   "outputs": [
    {
     "data": {
      "text/plain": [
       "<matplotlib.axes._subplots.AxesSubplot at 0x11ffe42b0>"
      ]
     },
     "execution_count": 67,
     "metadata": {},
     "output_type": "execute_result"
    },
    {
     "data": {
      "image/png": "[encoded data removed]",
      "text/plain": [
       "<Figure size 720x432 with 2 Axes>"
      ]
     },
     "metadata": {
      "needs_background": "light"
     },
     "output_type": "display_data"
    }
   ],
   "source": [
    "plt.figure(figsize=(10,6))\n",
    "sns.heatmap(df1.corr(), annot=True)"
   ]
  },
  {
   "cell_type": "code",
   "execution_count": 68,
   "metadata": {},
   "outputs": [
    {
     "data": {
      "text/html": [
       "<div>\n",
       "<style scoped>\n",
       "    .dataframe tbody tr th:only-of-type {\n",
       "        vertical-align: middle;\n",
       "    }\n",
       "\n",
       "    .dataframe tbody tr th {\n",
       "        vertical-align: top;\n",
       "    }\n",
       "\n",
       "    .dataframe thead th {\n",
       "        text-align: right;\n",
       "    }\n",
       "</style>\n",
       "<table border=\"1\" class=\"dataframe\">\n",
       "  <thead>\n",
       "    <tr style=\"text-align: right;\">\n",
       "      <th></th>\n",
       "      <th>Price</th>\n",
       "      <th>Make</th>\n",
       "      <th>Model</th>\n",
       "      <th>Model_year</th>\n",
       "      <th>Mileage</th>\n",
       "      <th>Fuel</th>\n",
       "      <th>Gearbox</th>\n",
       "      <th>Nbre_porte</th>\n",
       "      <th>CV</th>\n",
       "    </tr>\n",
       "  </thead>\n",
       "  <tbody>\n",
       "    <tr>\n",
       "      <th>count</th>\n",
       "      <td>1.633750e+05</td>\n",
       "      <td>163375.000000</td>\n",
       "      <td>163375.000000</td>\n",
       "      <td>163375.000000</td>\n",
       "      <td>163375.000000</td>\n",
       "      <td>163375.000000</td>\n",
       "      <td>163375.000000</td>\n",
       "      <td>163375.000000</td>\n",
       "      <td>163375.000000</td>\n",
       "    </tr>\n",
       "    <tr>\n",
       "      <th>mean</th>\n",
       "      <td>1.948271e+04</td>\n",
       "      <td>52.289763</td>\n",
       "      <td>380.292340</td>\n",
       "      <td>3.290130</td>\n",
       "      <td>44516.519712</td>\n",
       "      <td>3.043875</td>\n",
       "      <td>0.322834</td>\n",
       "      <td>4.692444</td>\n",
       "      <td>7.039774</td>\n",
       "    </tr>\n",
       "    <tr>\n",
       "      <th>std</th>\n",
       "      <td>1.637316e+04</td>\n",
       "      <td>22.982344</td>\n",
       "      <td>237.935953</td>\n",
       "      <td>3.654168</td>\n",
       "      <td>43406.018448</td>\n",
       "      <td>1.425812</td>\n",
       "      <td>0.467561</td>\n",
       "      <td>0.767056</td>\n",
       "      <td>4.736856</td>\n",
       "    </tr>\n",
       "    <tr>\n",
       "      <th>min</th>\n",
       "      <td>1.000000e+00</td>\n",
       "      <td>0.000000</td>\n",
       "      <td>0.000000</td>\n",
       "      <td>0.000000</td>\n",
       "      <td>1.000000</td>\n",
       "      <td>0.000000</td>\n",
       "      <td>0.000000</td>\n",
       "      <td>0.000000</td>\n",
       "      <td>0.000000</td>\n",
       "    </tr>\n",
       "    <tr>\n",
       "      <th>25%</th>\n",
       "      <td>1.147900e+04</td>\n",
       "      <td>28.000000</td>\n",
       "      <td>199.000000</td>\n",
       "      <td>1.000000</td>\n",
       "      <td>9009.000000</td>\n",
       "      <td>1.000000</td>\n",
       "      <td>0.000000</td>\n",
       "      <td>5.000000</td>\n",
       "      <td>5.000000</td>\n",
       "    </tr>\n",
       "    <tr>\n",
       "      <th>50%</th>\n",
       "      <td>1.586600e+04</td>\n",
       "      <td>59.000000</td>\n",
       "      <td>377.000000</td>\n",
       "      <td>2.000000</td>\n",
       "      <td>29714.000000</td>\n",
       "      <td>4.000000</td>\n",
       "      <td>0.000000</td>\n",
       "      <td>5.000000</td>\n",
       "      <td>6.000000</td>\n",
       "    </tr>\n",
       "    <tr>\n",
       "      <th>75%</th>\n",
       "      <td>2.278300e+04</td>\n",
       "      <td>72.000000</td>\n",
       "      <td>561.000000</td>\n",
       "      <td>4.000000</td>\n",
       "      <td>71214.000000</td>\n",
       "      <td>4.000000</td>\n",
       "      <td>1.000000</td>\n",
       "      <td>5.000000</td>\n",
       "      <td>8.000000</td>\n",
       "    </tr>\n",
       "    <tr>\n",
       "      <th>max</th>\n",
       "      <td>1.486500e+06</td>\n",
       "      <td>87.000000</td>\n",
       "      <td>818.000000</td>\n",
       "      <td>118.000000</td>\n",
       "      <td>190809.000000</td>\n",
       "      <td>6.000000</td>\n",
       "      <td>1.000000</td>\n",
       "      <td>6.000000</td>\n",
       "      <td>81.000000</td>\n",
       "    </tr>\n",
       "  </tbody>\n",
       "</table>\n",
       "</div>"
      ],
      "text/plain": [
       "              Price           Make          Model     Model_year  \\\n",
       "count  1.633750e+05  163375.000000  163375.000000  163375.000000   \n",
       "mean   1.948271e+04      52.289763     380.292340       3.290130   \n",
       "std    1.637316e+04      22.982344     237.935953       3.654168   \n",
       "min    1.000000e+00       0.000000       0.000000       0.000000   \n",
       "25%    1.147900e+04      28.000000     199.000000       1.000000   \n",
       "50%    1.586600e+04      59.000000     377.000000       2.000000   \n",
       "75%    2.278300e+04      72.000000     561.000000       4.000000   \n",
       "max    1.486500e+06      87.000000     818.000000     118.000000   \n",
       "\n",
       "             Mileage           Fuel        Gearbox     Nbre_porte  \\\n",
       "count  163375.000000  163375.000000  163375.000000  163375.000000   \n",
       "mean    44516.519712       3.043875       0.322834       4.692444   \n",
       "std     43406.018448       1.425812       0.467561       0.767056   \n",
       "min         1.000000       0.000000       0.000000       0.000000   \n",
       "25%      9009.000000       1.000000       0.000000       5.000000   \n",
       "50%     29714.000000       4.000000       0.000000       5.000000   \n",
       "75%     71214.000000       4.000000       1.000000       5.000000   \n",
       "max    190809.000000       6.000000       1.000000       6.000000   \n",
       "\n",
       "                  CV  \n",
       "count  163375.000000  \n",
       "mean        7.039774  \n",
       "std         4.736856  \n",
       "min         0.000000  \n",
       "25%         5.000000  \n",
       "50%         6.000000  \n",
       "75%         8.000000  \n",
       "max        81.000000  "
      ]
     },
     "execution_count": 68,
     "metadata": {},
     "output_type": "execute_result"
    }
   ],
   "source": [
    "df1.describe()"
   ]
  },
  {
   "cell_type": "markdown",
   "metadata": {},
   "source": [
    "## X & Y "
   ]
  },
  {
   "cell_type": "code",
   "execution_count": 69,
   "metadata": {},
   "outputs": [],
   "source": [
    "Xfeatures1 = df1[[\n",
    "    \"Make\",\n",
    "    \"Model\", \n",
    "    \"Model_year\",\n",
    "    \"Mileage\",\n",
    "    \"Fuel\",\n",
    "    \"CV\",\n",
    "    \"Nbre_porte\",\n",
    "    \"Gearbox\"    \n",
    "]]\n",
    "ylabels1 = df1['Price']"
   ]
  },
  {
   "cell_type": "markdown",
   "metadata": {},
   "source": [
    "## Split Dataset"
   ]
  },
  {
   "cell_type": "code",
   "execution_count": 70,
   "metadata": {},
   "outputs": [],
   "source": [
    "X_train1, X_test1, Y_train1, Y_test1 = train_test_split(Xfeatures1, ylabels1, test_size=0.30, random_state=42)"
   ]
  },
  {
   "cell_type": "code",
   "execution_count": 71,
   "metadata": {},
   "outputs": [],
   "source": [
    "lreg = LinearRegression()"
   ]
  },
  {
   "cell_type": "code",
   "execution_count": 72,
   "metadata": {},
   "outputs": [],
   "source": [
    "lreg.fit(X_train1, Y_train1)\n",
    "y_pred1 = lreg.predict(X_test1)"
   ]
  },
  {
   "cell_type": "code",
   "execution_count": 73,
   "metadata": {},
   "outputs": [
    {
     "data": {
      "text/plain": [
       "114159743.26601969"
      ]
     },
     "execution_count": 73,
     "metadata": {},
     "output_type": "execute_result"
    }
   ],
   "source": [
    "mean_squared_error(Y_test1, y_pred1)"
   ]
  },
  {
   "cell_type": "code",
   "execution_count": 74,
   "metadata": {},
   "outputs": [
    {
     "data": {
      "text/plain": [
       "45.65497820429937"
      ]
     },
     "execution_count": 74,
     "metadata": {},
     "output_type": "execute_result"
    }
   ],
   "source": [
    "mean_absolute_percentage_error(Y_test1, y_pred1)"
   ]
  },
  {
   "cell_type": "code",
   "execution_count": 75,
   "metadata": {},
   "outputs": [
    {
     "data": {
      "text/plain": [
       "0.6031522698147723"
      ]
     },
     "execution_count": 75,
     "metadata": {},
     "output_type": "execute_result"
    }
   ],
   "source": [
    "r2_score(Y_test1, y_pred1)"
   ]
  },
  {
   "cell_type": "code",
   "execution_count": null,
   "metadata": {},
   "outputs": [],
   "source": []
  },
  {
   "cell_type": "code",
   "execution_count": 76,
   "metadata": {},
   "outputs": [
    {
     "name": "stdout",
     "output_type": "stream",
     "text": [
      "250.0\n"
     ]
    }
   ],
   "source": [
    "def mean_absolute_percentage_error(y_true1, y_pred1):\n",
    "    y_true1, y_pred1 = np.array(y_true1), np.array(y_pred1)\n",
    "    return np.mean(np.abs((y_true1 - y_pred1) / y_true1)) * 100\n",
    "\n",
    "\n",
    "y_true1 = np.random.randn(100)\n",
    "y_pred1 = y_true1 * 3.5\n",
    "\n",
    "print(mean_absolute_percentage_error(y_true1, y_pred1))"
   ]
  },
  {
   "cell_type": "code",
   "execution_count": 77,
   "metadata": {},
   "outputs": [
    {
     "data": {
      "image/png": "[encoded data removed]",
      "text/plain": [
       "<Figure size 432x288 with 1 Axes>"
      ]
     },
     "metadata": {
      "needs_background": "light"
     },
     "output_type": "display_data"
    }
   ],
   "source": [
    "plt.plot(y_true1)\n",
    "plt.plot(y_pred1)\n",
    "plt.legend([\"true\", \"pred\"])\n",
    "plt.show()"
   ]
  },
  {
   "cell_type": "code",
   "execution_count": 78,
   "metadata": {},
   "outputs": [
    {
     "data": {
      "text/plain": [
       "False    165405\n",
       "Name: Model_year, dtype: int64"
      ]
     },
     "execution_count": 78,
     "metadata": {},
     "output_type": "execute_result"
    }
   ],
   "source": [
    "df7 = df['Model_year']<0\n",
    "df7.value_counts()"
   ]
  },
  {
   "cell_type": "code",
   "execution_count": null,
   "metadata": {},
   "outputs": [],
   "source": []
  },
  {
   "cell_type": "code",
   "execution_count": null,
   "metadata": {},
   "outputs": [],
   "source": []
  }
 ],
 "metadata": {
  "kernelspec": {
   "display_name": "Python 3",
   "language": "python",
   "name": "python3"
  },
  "language_info": {
   "codemirror_mode": {
    "name": "ipython",
    "version": 3
   },
   "file_extension": ".py",
   "mimetype": "text/x-python",
   "name": "python",
   "nbconvert_exporter": "python",
   "pygments_lexer": "ipython3",
   "version": "3.6.8"
  }
 },
 "nbformat": 4,
 "nbformat_minor": 2
}
