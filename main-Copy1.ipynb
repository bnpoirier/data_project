{
 "cells": [
  {
   "cell_type": "code",
   "execution_count": 1,
   "metadata": {},
   "outputs": [],
   "source": [
    "import os\n",
    "\n",
    "import pandas as pd\n",
    "import numpy as np\n",
    "import seaborn as sns\n",
    "\n",
    "from utils.process import categorize\n",
    "from utils.metrics import mean_absolute_percentage_error\n",
    "\n",
    "from sklearn.model_selection import train_test_split, cross_val_score\n",
    "from sklearn.linear_model import LinearRegression\n",
    "from sklearn.metrics import mean_squared_error, r2_score"
   ]
  },
  {
   "cell_type": "markdown",
   "metadata": {},
   "source": [
    "## Import dataset"
   ]
  },
  {
   "cell_type": "code",
   "execution_count": 2,
   "metadata": {},
   "outputs": [
    {
     "data": {
      "text/plain": [
       "'/Users/stevenr/Documents/Cours_MD5/projet_data/9mai/data_project-master'"
      ]
     },
     "execution_count": 2,
     "metadata": {},
     "output_type": "execute_result"
    }
   ],
   "source": [
    "# See working directory (No need, just for myself)\n",
    "os.getcwd()"
   ]
  },
  {
   "cell_type": "code",
   "execution_count": 3,
   "metadata": {},
   "outputs": [],
   "source": [
    "df = pd.read_csv('./data_cars.csv')"
   ]
  },
  {
   "cell_type": "code",
   "execution_count": 4,
   "metadata": {},
   "outputs": [
    {
     "data": {
      "text/html": [
       "<div>\n",
       "<style scoped>\n",
       "    .dataframe tbody tr th:only-of-type {\n",
       "        vertical-align: middle;\n",
       "    }\n",
       "\n",
       "    .dataframe tbody tr th {\n",
       "        vertical-align: top;\n",
       "    }\n",
       "\n",
       "    .dataframe thead th {\n",
       "        text-align: right;\n",
       "    }\n",
       "</style>\n",
       "<table border=\"1\" class=\"dataframe\">\n",
       "  <thead>\n",
       "    <tr style=\"text-align: right;\">\n",
       "      <th></th>\n",
       "      <th>Price</th>\n",
       "      <th>Make</th>\n",
       "      <th>Model</th>\n",
       "      <th>Model_year</th>\n",
       "      <th>Mileage</th>\n",
       "      <th>Fuel</th>\n",
       "      <th>Gearbox</th>\n",
       "      <th>Online</th>\n",
       "      <th>Description</th>\n",
       "    </tr>\n",
       "  </thead>\n",
       "  <tbody>\n",
       "    <tr>\n",
       "      <th>0</th>\n",
       "      <td>11220.0</td>\n",
       "      <td>PEUGEOT</td>\n",
       "      <td>308</td>\n",
       "      <td>2014</td>\n",
       "      <td>94341.0 km</td>\n",
       "      <td>Diesel</td>\n",
       "      <td>mécanique</td>\n",
       "      <td>06/07/2018 à 3h47</td>\n",
       "      <td>modele: 308 (2E GENERATION), version: 1.6 HDI ...</td>\n",
       "    </tr>\n",
       "    <tr>\n",
       "      <th>1</th>\n",
       "      <td>57526.0</td>\n",
       "      <td>BMW</td>\n",
       "      <td>X6</td>\n",
       "      <td>2015</td>\n",
       "      <td>39051.0 km</td>\n",
       "      <td>Diesel</td>\n",
       "      <td>automatique</td>\n",
       "      <td>03/04/2018 à 16h41</td>\n",
       "      <td>modele: X6 F16, version: (F16) XDRIVE30D 258 M...</td>\n",
       "    </tr>\n",
       "    <tr>\n",
       "      <th>2</th>\n",
       "      <td>80379.0</td>\n",
       "      <td>AUDI</td>\n",
       "      <td>RS6</td>\n",
       "      <td>2014</td>\n",
       "      <td>75381.0 km</td>\n",
       "      <td>Essence</td>\n",
       "      <td>automatique</td>\n",
       "      <td>30/07/2018 à 1h55</td>\n",
       "      <td>modele: RS6 (3E GENERATION) AVANT, version: II...</td>\n",
       "    </tr>\n",
       "    <tr>\n",
       "      <th>3</th>\n",
       "      <td>2830.0</td>\n",
       "      <td>FORD</td>\n",
       "      <td>KA</td>\n",
       "      <td>2007</td>\n",
       "      <td>92282.0 km</td>\n",
       "      <td>Essence</td>\n",
       "      <td>mécanique</td>\n",
       "      <td>09/07/2018 à 14h12</td>\n",
       "      <td>modele: KA, version: 1.3 70 FUN, puissance_fis...</td>\n",
       "    </tr>\n",
       "    <tr>\n",
       "      <th>4</th>\n",
       "      <td>12925.0</td>\n",
       "      <td>FIAT</td>\n",
       "      <td>TIPO</td>\n",
       "      <td>2018</td>\n",
       "      <td>10.0 km</td>\n",
       "      <td>Essence</td>\n",
       "      <td>mécanique</td>\n",
       "      <td>19/05/2018 à 3h52</td>\n",
       "      <td>modele: TIPO 2 SW, version: II SW 1.4 95 POP, ...</td>\n",
       "    </tr>\n",
       "    <tr>\n",
       "      <th>5</th>\n",
       "      <td>27956.0</td>\n",
       "      <td>BMW</td>\n",
       "      <td>X3</td>\n",
       "      <td>2012</td>\n",
       "      <td>95623.0 km</td>\n",
       "      <td>Diesel</td>\n",
       "      <td>automatique</td>\n",
       "      <td>14/03/2018 à 4h24</td>\n",
       "      <td>modele: X3 F25, version: (F25) XDRIVE35D 313 S...</td>\n",
       "    </tr>\n",
       "    <tr>\n",
       "      <th>6</th>\n",
       "      <td>16888.0</td>\n",
       "      <td>AUDI</td>\n",
       "      <td>A3</td>\n",
       "      <td>2013</td>\n",
       "      <td>49018.0 km</td>\n",
       "      <td>Diesel</td>\n",
       "      <td>mécanique</td>\n",
       "      <td>16/04/2018 à 21h35</td>\n",
       "      <td>modele: A3 (2E GENERATION) SPORTBACK, version:...</td>\n",
       "    </tr>\n",
       "    <tr>\n",
       "      <th>7</th>\n",
       "      <td>18188.0</td>\n",
       "      <td>RENAULT</td>\n",
       "      <td>MEGANE</td>\n",
       "      <td>2017</td>\n",
       "      <td>9795.0 km</td>\n",
       "      <td>Diesel</td>\n",
       "      <td>automatique</td>\n",
       "      <td>29/04/2018 à 12h44</td>\n",
       "      <td>modele: MEGANE 4 ESTATE, version: IV ESTATE 1....</td>\n",
       "    </tr>\n",
       "    <tr>\n",
       "      <th>8</th>\n",
       "      <td>10594.0</td>\n",
       "      <td>FORD</td>\n",
       "      <td>C-MAX</td>\n",
       "      <td>2012</td>\n",
       "      <td>126670.0 km</td>\n",
       "      <td>Diesel</td>\n",
       "      <td>mécanique</td>\n",
       "      <td>22/06/2018 à 5h11</td>\n",
       "      <td>modele: C-MAX 2, version: II 1.6 TDCI 115 FAP ...</td>\n",
       "    </tr>\n",
       "    <tr>\n",
       "      <th>9</th>\n",
       "      <td>69131.0</td>\n",
       "      <td>MERCEDES</td>\n",
       "      <td>CLASSE C</td>\n",
       "      <td>2015</td>\n",
       "      <td>39439.0 km</td>\n",
       "      <td>Essence</td>\n",
       "      <td>automatique</td>\n",
       "      <td>08/03/2018 à 17h35</td>\n",
       "      <td>modele: CLASSE C 4 AMG, version: (W205) 63 AMG...</td>\n",
       "    </tr>\n",
       "  </tbody>\n",
       "</table>\n",
       "</div>"
      ],
      "text/plain": [
       "     Price      Make     Model  Model_year      Mileage     Fuel      Gearbox  \\\n",
       "0  11220.0   PEUGEOT       308        2014   94341.0 km   Diesel    mécanique   \n",
       "1  57526.0       BMW        X6        2015   39051.0 km   Diesel  automatique   \n",
       "2  80379.0      AUDI       RS6        2014   75381.0 km  Essence  automatique   \n",
       "3   2830.0      FORD        KA        2007   92282.0 km  Essence    mécanique   \n",
       "4  12925.0      FIAT      TIPO        2018      10.0 km  Essence    mécanique   \n",
       "5  27956.0       BMW        X3        2012   95623.0 km   Diesel  automatique   \n",
       "6  16888.0      AUDI        A3        2013   49018.0 km   Diesel    mécanique   \n",
       "7  18188.0   RENAULT    MEGANE        2017    9795.0 km   Diesel  automatique   \n",
       "8  10594.0      FORD     C-MAX        2012  126670.0 km   Diesel    mécanique   \n",
       "9  69131.0  MERCEDES  CLASSE C        2015   39439.0 km  Essence  automatique   \n",
       "\n",
       "               Online                                        Description  \n",
       "0   06/07/2018 à 3h47  modele: 308 (2E GENERATION), version: 1.6 HDI ...  \n",
       "1  03/04/2018 à 16h41  modele: X6 F16, version: (F16) XDRIVE30D 258 M...  \n",
       "2   30/07/2018 à 1h55  modele: RS6 (3E GENERATION) AVANT, version: II...  \n",
       "3  09/07/2018 à 14h12  modele: KA, version: 1.3 70 FUN, puissance_fis...  \n",
       "4   19/05/2018 à 3h52  modele: TIPO 2 SW, version: II SW 1.4 95 POP, ...  \n",
       "5   14/03/2018 à 4h24  modele: X3 F25, version: (F25) XDRIVE35D 313 S...  \n",
       "6  16/04/2018 à 21h35  modele: A3 (2E GENERATION) SPORTBACK, version:...  \n",
       "7  29/04/2018 à 12h44  modele: MEGANE 4 ESTATE, version: IV ESTATE 1....  \n",
       "8   22/06/2018 à 5h11  modele: C-MAX 2, version: II 1.6 TDCI 115 FAP ...  \n",
       "9  08/03/2018 à 17h35  modele: CLASSE C 4 AMG, version: (W205) 63 AMG...  "
      ]
     },
     "execution_count": 4,
     "metadata": {},
     "output_type": "execute_result"
    }
   ],
   "source": [
    "df.head(10)"
   ]
  },
  {
   "cell_type": "markdown",
   "metadata": {},
   "source": [
    "## Observations"
   ]
  },
  {
   "cell_type": "code",
   "execution_count": 5,
   "metadata": {},
   "outputs": [],
   "source": [
    "import matplotlib.pyplot as plt\n",
    "\n",
    "%matplotlib inline"
   ]
  },
  {
   "cell_type": "code",
   "execution_count": 6,
   "metadata": {},
   "outputs": [
    {
     "data": {
      "image/png": "[encoded data removed]",
      "text/plain": [
       "<Figure size 432x288 with 1 Axes>"
      ]
     },
     "metadata": {
      "needs_background": "light"
     },
     "output_type": "display_data"
    }
   ],
   "source": [
    "# Price repartition\n",
    "plt.hist(df[\"Price\"], 800)\n",
    "plt.xlim(0, 100000)\n",
    "plt.xlabel('Prices')\n",
    "plt.ylabel('Count')\n",
    "plt.show()"
   ]
  },
  {
   "cell_type": "markdown",
   "metadata": {},
   "source": [
    "Les prix semblent s'agglutiner entre 20000 et 25000 €"
   ]
  },
  {
   "cell_type": "code",
   "execution_count": 7,
   "metadata": {},
   "outputs": [],
   "source": [
    "# relation between mileage and price\n",
    "#plt.hist(df['Mileage'],df['Price'])\n",
    "#plt.xlim(0, 100000)\n",
    "#plt.xlabel(\"Mileage\")\n",
    "#plt.ylabel(\"Price\")\n",
    "#plt.xlim(0, 90000)"
   ]
  },
  {
   "cell_type": "code",
   "execution_count": 8,
   "metadata": {},
   "outputs": [
    {
     "data": {
      "text/plain": [
       "Text(0, 0.5, 'Number of cars')"
      ]
     },
     "execution_count": 8,
     "metadata": {},
     "output_type": "execute_result"
    },
    {
     "data": {
      "image/png": "[encoded data removed]",
      "text/plain": [
       "<Figure size 432x288 with 1 Axes>"
      ]
     },
     "metadata": {
      "needs_background": "light"
     },
     "output_type": "display_data"
    }
   ],
   "source": [
    "# Make cars counts\n",
    "counts = df[\"Make\"].value_counts().iloc[0:20]\n",
    "names = counts.keys().to_numpy()\n",
    "values = counts.to_numpy()\n",
    "\n",
    "plt.bar(names, values)\n",
    "plt.xticks(rotation=\"vertical\")\n",
    "plt.xlabel(\"Make\")\n",
    "plt.ylabel(\"Number of cars\")"
   ]
  },
  {
   "cell_type": "markdown",
   "metadata": {},
   "source": [
    "Le dataset contient beaucoup de voitures Renault, Peugeot et Citroen que de voitures de marque étrangère (BMW, Ford, Mercedes)"
   ]
  },
  {
   "cell_type": "markdown",
   "metadata": {},
   "source": [
    "## Some data cleaning"
   ]
  },
  {
   "cell_type": "markdown",
   "metadata": {},
   "source": [
    "### Data Modification"
   ]
  },
  {
   "cell_type": "code",
   "execution_count": 9,
   "metadata": {},
   "outputs": [],
   "source": [
    "# Getting the number of doors on the car\n",
    "import re\n",
    "df['Nbre_porte'] = df['Description'].str.extract(\"portes: (.)\")"
   ]
  },
  {
   "cell_type": "code",
   "execution_count": 10,
   "metadata": {},
   "outputs": [],
   "source": [
    "# Getting the horse power of a car\n",
    "df['CV'] = df['Description'].str.extract(\"puissance_fiscale: (..)\")\n",
    "df['CV'] = df['CV'].str.replace(',', '')"
   ]
  },
  {
   "cell_type": "code",
   "execution_count": 11,
   "metadata": {},
   "outputs": [
    {
     "data": {
      "text/html": [
       "<div>\n",
       "<style scoped>\n",
       "    .dataframe tbody tr th:only-of-type {\n",
       "        vertical-align: middle;\n",
       "    }\n",
       "\n",
       "    .dataframe tbody tr th {\n",
       "        vertical-align: top;\n",
       "    }\n",
       "\n",
       "    .dataframe thead th {\n",
       "        text-align: right;\n",
       "    }\n",
       "</style>\n",
       "<table border=\"1\" class=\"dataframe\">\n",
       "  <thead>\n",
       "    <tr style=\"text-align: right;\">\n",
       "      <th></th>\n",
       "      <th>Price</th>\n",
       "      <th>Make</th>\n",
       "      <th>Model</th>\n",
       "      <th>Model_year</th>\n",
       "      <th>Mileage</th>\n",
       "      <th>Fuel</th>\n",
       "      <th>Gearbox</th>\n",
       "      <th>Online</th>\n",
       "      <th>Description</th>\n",
       "      <th>Nbre_porte</th>\n",
       "      <th>CV</th>\n",
       "    </tr>\n",
       "  </thead>\n",
       "  <tbody>\n",
       "    <tr>\n",
       "      <th>0</th>\n",
       "      <td>11220.0</td>\n",
       "      <td>PEUGEOT</td>\n",
       "      <td>308</td>\n",
       "      <td>4</td>\n",
       "      <td>94341.0 km</td>\n",
       "      <td>Diesel</td>\n",
       "      <td>mécanique</td>\n",
       "      <td>06/07/2018 à 3h47</td>\n",
       "      <td>modele: 308 (2E GENERATION), version: 1.6 HDI ...</td>\n",
       "      <td>5</td>\n",
       "      <td>4</td>\n",
       "    </tr>\n",
       "    <tr>\n",
       "      <th>1</th>\n",
       "      <td>57526.0</td>\n",
       "      <td>BMW</td>\n",
       "      <td>X6</td>\n",
       "      <td>3</td>\n",
       "      <td>39051.0 km</td>\n",
       "      <td>Diesel</td>\n",
       "      <td>automatique</td>\n",
       "      <td>03/04/2018 à 16h41</td>\n",
       "      <td>modele: X6 F16, version: (F16) XDRIVE30D 258 M...</td>\n",
       "      <td>5</td>\n",
       "      <td>16</td>\n",
       "    </tr>\n",
       "    <tr>\n",
       "      <th>2</th>\n",
       "      <td>80379.0</td>\n",
       "      <td>AUDI</td>\n",
       "      <td>RS6</td>\n",
       "      <td>4</td>\n",
       "      <td>75381.0 km</td>\n",
       "      <td>Essence</td>\n",
       "      <td>automatique</td>\n",
       "      <td>30/07/2018 à 1h55</td>\n",
       "      <td>modele: RS6 (3E GENERATION) AVANT, version: II...</td>\n",
       "      <td>5</td>\n",
       "      <td>47</td>\n",
       "    </tr>\n",
       "    <tr>\n",
       "      <th>3</th>\n",
       "      <td>2830.0</td>\n",
       "      <td>FORD</td>\n",
       "      <td>KA</td>\n",
       "      <td>11</td>\n",
       "      <td>92282.0 km</td>\n",
       "      <td>Essence</td>\n",
       "      <td>mécanique</td>\n",
       "      <td>09/07/2018 à 14h12</td>\n",
       "      <td>modele: KA, version: 1.3 70 FUN, puissance_fis...</td>\n",
       "      <td>3</td>\n",
       "      <td>5</td>\n",
       "    </tr>\n",
       "    <tr>\n",
       "      <th>4</th>\n",
       "      <td>12925.0</td>\n",
       "      <td>FIAT</td>\n",
       "      <td>TIPO</td>\n",
       "      <td>0</td>\n",
       "      <td>10.0 km</td>\n",
       "      <td>Essence</td>\n",
       "      <td>mécanique</td>\n",
       "      <td>19/05/2018 à 3h52</td>\n",
       "      <td>modele: TIPO 2 SW, version: II SW 1.4 95 POP, ...</td>\n",
       "      <td>5</td>\n",
       "      <td>5</td>\n",
       "    </tr>\n",
       "  </tbody>\n",
       "</table>\n",
       "</div>"
      ],
      "text/plain": [
       "     Price     Make Model  Model_year     Mileage     Fuel      Gearbox  \\\n",
       "0  11220.0  PEUGEOT   308           4  94341.0 km   Diesel    mécanique   \n",
       "1  57526.0      BMW    X6           3  39051.0 km   Diesel  automatique   \n",
       "2  80379.0     AUDI   RS6           4  75381.0 km  Essence  automatique   \n",
       "3   2830.0     FORD    KA          11  92282.0 km  Essence    mécanique   \n",
       "4  12925.0     FIAT  TIPO           0     10.0 km  Essence    mécanique   \n",
       "\n",
       "               Online                                        Description  \\\n",
       "0   06/07/2018 à 3h47  modele: 308 (2E GENERATION), version: 1.6 HDI ...   \n",
       "1  03/04/2018 à 16h41  modele: X6 F16, version: (F16) XDRIVE30D 258 M...   \n",
       "2   30/07/2018 à 1h55  modele: RS6 (3E GENERATION) AVANT, version: II...   \n",
       "3  09/07/2018 à 14h12  modele: KA, version: 1.3 70 FUN, puissance_fis...   \n",
       "4   19/05/2018 à 3h52  modele: TIPO 2 SW, version: II SW 1.4 95 POP, ...   \n",
       "\n",
       "  Nbre_porte  CV  \n",
       "0          5   4  \n",
       "1          5  16  \n",
       "2          5  47  \n",
       "3          3   5  \n",
       "4          5   5  "
      ]
     },
     "execution_count": 11,
     "metadata": {},
     "output_type": "execute_result"
    }
   ],
   "source": [
    "# We choose 2018 because it was the year the sellers published their offers\n",
    "df['Model_year'] = df.apply(lambda row: 2018 - row.Model_year, axis = 1)\n",
    "df.head()"
   ]
  },
  {
   "cell_type": "markdown",
   "metadata": {},
   "source": [
    "### Data checks"
   ]
  },
  {
   "cell_type": "code",
   "execution_count": 12,
   "metadata": {},
   "outputs": [
    {
     "data": {
      "text/plain": [
       "Price          0\n",
       "Make           0\n",
       "Model          0\n",
       "Model_year     0\n",
       "Mileage        0\n",
       "Fuel           0\n",
       "Gearbox        0\n",
       "Online         0\n",
       "Description    0\n",
       "Nbre_porte     0\n",
       "CV             0\n",
       "dtype: int64"
      ]
     },
     "execution_count": 12,
     "metadata": {},
     "output_type": "execute_result"
    }
   ],
   "source": [
    "# Check for null values\n",
    "df.isnull().sum()"
   ]
  },
  {
   "cell_type": "code",
   "execution_count": 13,
   "metadata": {},
   "outputs": [
    {
     "data": {
      "text/plain": [
       "Price          0\n",
       "Make           0\n",
       "Model          0\n",
       "Model_year     0\n",
       "Mileage        0\n",
       "Fuel           0\n",
       "Gearbox        0\n",
       "Online         0\n",
       "Description    0\n",
       "Nbre_porte     0\n",
       "CV             0\n",
       "dtype: int64"
      ]
     },
     "execution_count": 13,
     "metadata": {},
     "output_type": "execute_result"
    }
   ],
   "source": [
    "# Check for invalid numbers\n",
    "df.isna().sum()"
   ]
  },
  {
   "cell_type": "code",
   "execution_count": 14,
   "metadata": {},
   "outputs": [
    {
     "data": {
      "text/plain": [
       "(array([], dtype=int64), array([], dtype=int64))"
      ]
     },
     "execution_count": 14,
     "metadata": {},
     "output_type": "execute_result"
    }
   ],
   "source": [
    "# Find empty strings\n",
    "np.where(df.applymap(lambda x: x == ''))"
   ]
  },
  {
   "cell_type": "markdown",
   "metadata": {},
   "source": [
    "### Data types conversions"
   ]
  },
  {
   "cell_type": "code",
   "execution_count": 15,
   "metadata": {},
   "outputs": [
    {
     "data": {
      "text/html": [
       "<div>\n",
       "<style scoped>\n",
       "    .dataframe tbody tr th:only-of-type {\n",
       "        vertical-align: middle;\n",
       "    }\n",
       "\n",
       "    .dataframe tbody tr th {\n",
       "        vertical-align: top;\n",
       "    }\n",
       "\n",
       "    .dataframe thead th {\n",
       "        text-align: right;\n",
       "    }\n",
       "</style>\n",
       "<table border=\"1\" class=\"dataframe\">\n",
       "  <thead>\n",
       "    <tr style=\"text-align: right;\">\n",
       "      <th></th>\n",
       "      <th>Price</th>\n",
       "      <th>Make</th>\n",
       "      <th>Model</th>\n",
       "      <th>Model_year</th>\n",
       "      <th>Mileage</th>\n",
       "      <th>Fuel</th>\n",
       "      <th>Gearbox</th>\n",
       "      <th>Online</th>\n",
       "      <th>Description</th>\n",
       "      <th>Nbre_porte</th>\n",
       "      <th>CV</th>\n",
       "    </tr>\n",
       "  </thead>\n",
       "  <tbody>\n",
       "    <tr>\n",
       "      <th>0</th>\n",
       "      <td>11220.0</td>\n",
       "      <td>PEUGEOT</td>\n",
       "      <td>308</td>\n",
       "      <td>4</td>\n",
       "      <td>94341.0</td>\n",
       "      <td>Diesel</td>\n",
       "      <td>mécanique</td>\n",
       "      <td>06/07/2018 à 3h47</td>\n",
       "      <td>modele: 308 (2E GENERATION), version: 1.6 HDI ...</td>\n",
       "      <td>5</td>\n",
       "      <td>4</td>\n",
       "    </tr>\n",
       "    <tr>\n",
       "      <th>1</th>\n",
       "      <td>57526.0</td>\n",
       "      <td>BMW</td>\n",
       "      <td>X6</td>\n",
       "      <td>3</td>\n",
       "      <td>39051.0</td>\n",
       "      <td>Diesel</td>\n",
       "      <td>automatique</td>\n",
       "      <td>03/04/2018 à 16h41</td>\n",
       "      <td>modele: X6 F16, version: (F16) XDRIVE30D 258 M...</td>\n",
       "      <td>5</td>\n",
       "      <td>16</td>\n",
       "    </tr>\n",
       "    <tr>\n",
       "      <th>2</th>\n",
       "      <td>80379.0</td>\n",
       "      <td>AUDI</td>\n",
       "      <td>RS6</td>\n",
       "      <td>4</td>\n",
       "      <td>75381.0</td>\n",
       "      <td>Essence</td>\n",
       "      <td>automatique</td>\n",
       "      <td>30/07/2018 à 1h55</td>\n",
       "      <td>modele: RS6 (3E GENERATION) AVANT, version: II...</td>\n",
       "      <td>5</td>\n",
       "      <td>47</td>\n",
       "    </tr>\n",
       "    <tr>\n",
       "      <th>3</th>\n",
       "      <td>2830.0</td>\n",
       "      <td>FORD</td>\n",
       "      <td>KA</td>\n",
       "      <td>11</td>\n",
       "      <td>92282.0</td>\n",
       "      <td>Essence</td>\n",
       "      <td>mécanique</td>\n",
       "      <td>09/07/2018 à 14h12</td>\n",
       "      <td>modele: KA, version: 1.3 70 FUN, puissance_fis...</td>\n",
       "      <td>3</td>\n",
       "      <td>5</td>\n",
       "    </tr>\n",
       "    <tr>\n",
       "      <th>4</th>\n",
       "      <td>12925.0</td>\n",
       "      <td>FIAT</td>\n",
       "      <td>TIPO</td>\n",
       "      <td>0</td>\n",
       "      <td>10.0</td>\n",
       "      <td>Essence</td>\n",
       "      <td>mécanique</td>\n",
       "      <td>19/05/2018 à 3h52</td>\n",
       "      <td>modele: TIPO 2 SW, version: II SW 1.4 95 POP, ...</td>\n",
       "      <td>5</td>\n",
       "      <td>5</td>\n",
       "    </tr>\n",
       "  </tbody>\n",
       "</table>\n",
       "</div>"
      ],
      "text/plain": [
       "     Price     Make Model  Model_year  Mileage     Fuel      Gearbox  \\\n",
       "0  11220.0  PEUGEOT   308           4  94341.0   Diesel    mécanique   \n",
       "1  57526.0      BMW    X6           3  39051.0   Diesel  automatique   \n",
       "2  80379.0     AUDI   RS6           4  75381.0  Essence  automatique   \n",
       "3   2830.0     FORD    KA          11  92282.0  Essence    mécanique   \n",
       "4  12925.0     FIAT  TIPO           0     10.0  Essence    mécanique   \n",
       "\n",
       "               Online                                        Description  \\\n",
       "0   06/07/2018 à 3h47  modele: 308 (2E GENERATION), version: 1.6 HDI ...   \n",
       "1  03/04/2018 à 16h41  modele: X6 F16, version: (F16) XDRIVE30D 258 M...   \n",
       "2   30/07/2018 à 1h55  modele: RS6 (3E GENERATION) AVANT, version: II...   \n",
       "3  09/07/2018 à 14h12  modele: KA, version: 1.3 70 FUN, puissance_fis...   \n",
       "4   19/05/2018 à 3h52  modele: TIPO 2 SW, version: II SW 1.4 95 POP, ...   \n",
       "\n",
       "  Nbre_porte  CV  \n",
       "0          5   4  \n",
       "1          5  16  \n",
       "2          5  47  \n",
       "3          3   5  \n",
       "4          5   5  "
      ]
     },
     "execution_count": 15,
     "metadata": {},
     "output_type": "execute_result"
    }
   ],
   "source": [
    "## Remove kilometers and convert to number\n",
    "df[\"Mileage\"] = df[\"Mileage\"].str.replace(' km', '').astype(\"float64\")\n",
    "df.head(5)"
   ]
  },
  {
   "cell_type": "code",
   "execution_count": 16,
   "metadata": {},
   "outputs": [
    {
     "data": {
      "text/plain": [
       "dtype('float64')"
      ]
     },
     "execution_count": 16,
     "metadata": {},
     "output_type": "execute_result"
    }
   ],
   "source": [
    "df.dtypes['Mileage']"
   ]
  },
  {
   "cell_type": "code",
   "execution_count": 17,
   "metadata": {},
   "outputs": [
    {
     "data": {
      "text/plain": [
       "0"
      ]
     },
     "execution_count": 17,
     "metadata": {},
     "output_type": "execute_result"
    }
   ],
   "source": [
    "df[\"Mileage\"].isna().sum()"
   ]
  },
  {
   "cell_type": "code",
   "execution_count": 18,
   "metadata": {},
   "outputs": [],
   "source": [
    "# Reduce allocated bytes size for \"Model_year\" \n",
    "df[\"Model_year\"] = df[\"Model_year\"].astype(\"int16\")"
   ]
  },
  {
   "cell_type": "code",
   "execution_count": 19,
   "metadata": {},
   "outputs": [],
   "source": [
    "# We don't really need the \"Online\" column as it seems to indicate the last user authentication\n",
    "df = df.drop(\"Online\", axis=1)\n",
    "df = df.drop(\"Description\", axis=1)"
   ]
  },
  {
   "cell_type": "code",
   "execution_count": 20,
   "metadata": {},
   "outputs": [],
   "source": [
    "# This will delete 1000 rows so it not might be the best method\n",
    "indexNames = df[(df['Nbre_porte'] == ',')].index\n",
    "df.drop(indexNames , inplace=True)\n",
    "df['Nbre_porte'] = df['Nbre_porte'].astype(str).astype(int)"
   ]
  },
  {
   "cell_type": "code",
   "execution_count": 21,
   "metadata": {},
   "outputs": [],
   "source": [
    "df['CV'] = df['CV'].astype(int)"
   ]
  },
  {
   "cell_type": "code",
   "execution_count": 23,
   "metadata": {},
   "outputs": [],
   "source": [
    "df1=df.copy()"
   ]
  },
  {
   "cell_type": "markdown",
   "metadata": {},
   "source": [
    "## Detecting outliers"
   ]
  },
  {
   "cell_type": "code",
   "execution_count": 24,
   "metadata": {},
   "outputs": [
    {
     "data": {
      "text/plain": [
       "<matplotlib.axes._subplots.AxesSubplot at 0x11ead55c0>"
      ]
     },
     "execution_count": 24,
     "metadata": {},
     "output_type": "execute_result"
    },
    {
     "data": {
      "image/png": "[encoded data removed]",
      "text/plain": [
       "<Figure size 432x288 with 1 Axes>"
      ]
     },
     "metadata": {
      "needs_background": "light"
     },
     "output_type": "display_data"
    }
   ],
   "source": [
    "sns.boxplot(data=df)"
   ]
  },
  {
   "cell_type": "code",
   "execution_count": 25,
   "metadata": {},
   "outputs": [
    {
     "data": {
      "text/plain": [
       "<matplotlib.axes._subplots.AxesSubplot at 0x109586438>"
      ]
     },
     "execution_count": 25,
     "metadata": {},
     "output_type": "execute_result"
    },
    {
     "data": {
      "image/png": "[encoded data removed]",
      "text/plain": [
       "<Figure size 432x288 with 1 Axes>"
      ]
     },
     "metadata": {
      "needs_background": "light"
     },
     "output_type": "display_data"
    }
   ],
   "source": [
    "sns.boxplot(data=df[['Make','Model_year','Fuel','Gearbox']])"
   ]
  },
  {
   "cell_type": "code",
   "execution_count": 26,
   "metadata": {},
   "outputs": [
    {
     "data": {
      "text/plain": [
       "<matplotlib.axes._subplots.AxesSubplot at 0x1095ce048>"
      ]
     },
     "execution_count": 26,
     "metadata": {},
     "output_type": "execute_result"
    },
    {
     "data": {
      "image/png": "[encoded data removed]",
      "text/plain": [
       "<Figure size 432x288 with 1 Axes>"
      ]
     },
     "metadata": {
      "needs_background": "light"
     },
     "output_type": "display_data"
    }
   ],
   "source": [
    "sns.boxplot(data=df[['Price','Mileage']])"
   ]
  },
  {
   "cell_type": "markdown",
   "metadata": {},
   "source": [
    "Les ranges des columns sont beaucoup trop différentes, il va falloir les transformer pour avoir une meilleure précision pour notre modèle"
   ]
  },
  {
   "cell_type": "markdown",
   "metadata": {},
   "source": [
    "### Hot encoding"
   ]
  },
  {
   "cell_type": "code",
   "execution_count": 27,
   "metadata": {},
   "outputs": [
    {
     "data": {
      "text/plain": [
       "array(['Diesel', 'Essence', 'Hybride essence électrique', 'Electrique',\n",
       "       'Hybride diesel électrique', 'Bicarburation essence GPL',\n",
       "       'Bicarburation essence bioéthanol'], dtype=object)"
      ]
     },
     "execution_count": 27,
     "metadata": {},
     "output_type": "execute_result"
    }
   ],
   "source": [
    "# List categorical columns\n",
    "df[\"Fuel\"].unique()"
   ]
  },
  {
   "cell_type": "code",
   "execution_count": 28,
   "metadata": {},
   "outputs": [
    {
     "data": {
      "text/plain": [
       "array(['mécanique', 'automatique'], dtype=object)"
      ]
     },
     "execution_count": 28,
     "metadata": {},
     "output_type": "execute_result"
    }
   ],
   "source": [
    "# List categorical columns for Gearbox\n",
    "df[\"Gearbox\"].unique()"
   ]
  },
  {
   "cell_type": "code",
   "execution_count": 29,
   "metadata": {},
   "outputs": [],
   "source": [
    "df = pd.get_dummies(df, columns=[\"Gearbox\"], drop_first=True)"
   ]
  },
  {
   "cell_type": "code",
   "execution_count": 30,
   "metadata": {},
   "outputs": [],
   "source": [
    "# List categorical columns\n",
    "df = pd.get_dummies(df, columns=[\"Fuel\"])"
   ]
  },
  {
   "cell_type": "code",
   "execution_count": 31,
   "metadata": {},
   "outputs": [
    {
     "data": {
      "text/html": [
       "<div>\n",
       "<style scoped>\n",
       "    .dataframe tbody tr th:only-of-type {\n",
       "        vertical-align: middle;\n",
       "    }\n",
       "\n",
       "    .dataframe tbody tr th {\n",
       "        vertical-align: top;\n",
       "    }\n",
       "\n",
       "    .dataframe thead th {\n",
       "        text-align: right;\n",
       "    }\n",
       "</style>\n",
       "<table border=\"1\" class=\"dataframe\">\n",
       "  <thead>\n",
       "    <tr style=\"text-align: right;\">\n",
       "      <th></th>\n",
       "      <th>Price</th>\n",
       "      <th>Make</th>\n",
       "      <th>Model</th>\n",
       "      <th>Model_year</th>\n",
       "      <th>Mileage</th>\n",
       "      <th>Nbre_porte</th>\n",
       "      <th>CV</th>\n",
       "      <th>Gearbox_mécanique</th>\n",
       "      <th>Fuel_Bicarburation essence GPL</th>\n",
       "      <th>Fuel_Bicarburation essence bioéthanol</th>\n",
       "      <th>Fuel_Diesel</th>\n",
       "      <th>Fuel_Electrique</th>\n",
       "      <th>Fuel_Essence</th>\n",
       "      <th>Fuel_Hybride diesel électrique</th>\n",
       "      <th>Fuel_Hybride essence électrique</th>\n",
       "    </tr>\n",
       "  </thead>\n",
       "  <tbody>\n",
       "    <tr>\n",
       "      <th>0</th>\n",
       "      <td>11220.0</td>\n",
       "      <td>PEUGEOT</td>\n",
       "      <td>308</td>\n",
       "      <td>4</td>\n",
       "      <td>94341.0</td>\n",
       "      <td>5</td>\n",
       "      <td>4</td>\n",
       "      <td>1</td>\n",
       "      <td>0</td>\n",
       "      <td>0</td>\n",
       "      <td>1</td>\n",
       "      <td>0</td>\n",
       "      <td>0</td>\n",
       "      <td>0</td>\n",
       "      <td>0</td>\n",
       "    </tr>\n",
       "    <tr>\n",
       "      <th>1</th>\n",
       "      <td>57526.0</td>\n",
       "      <td>BMW</td>\n",
       "      <td>X6</td>\n",
       "      <td>3</td>\n",
       "      <td>39051.0</td>\n",
       "      <td>5</td>\n",
       "      <td>16</td>\n",
       "      <td>0</td>\n",
       "      <td>0</td>\n",
       "      <td>0</td>\n",
       "      <td>1</td>\n",
       "      <td>0</td>\n",
       "      <td>0</td>\n",
       "      <td>0</td>\n",
       "      <td>0</td>\n",
       "    </tr>\n",
       "    <tr>\n",
       "      <th>2</th>\n",
       "      <td>80379.0</td>\n",
       "      <td>AUDI</td>\n",
       "      <td>RS6</td>\n",
       "      <td>4</td>\n",
       "      <td>75381.0</td>\n",
       "      <td>5</td>\n",
       "      <td>47</td>\n",
       "      <td>0</td>\n",
       "      <td>0</td>\n",
       "      <td>0</td>\n",
       "      <td>0</td>\n",
       "      <td>0</td>\n",
       "      <td>1</td>\n",
       "      <td>0</td>\n",
       "      <td>0</td>\n",
       "    </tr>\n",
       "    <tr>\n",
       "      <th>3</th>\n",
       "      <td>2830.0</td>\n",
       "      <td>FORD</td>\n",
       "      <td>KA</td>\n",
       "      <td>11</td>\n",
       "      <td>92282.0</td>\n",
       "      <td>3</td>\n",
       "      <td>5</td>\n",
       "      <td>1</td>\n",
       "      <td>0</td>\n",
       "      <td>0</td>\n",
       "      <td>0</td>\n",
       "      <td>0</td>\n",
       "      <td>1</td>\n",
       "      <td>0</td>\n",
       "      <td>0</td>\n",
       "    </tr>\n",
       "    <tr>\n",
       "      <th>4</th>\n",
       "      <td>12925.0</td>\n",
       "      <td>FIAT</td>\n",
       "      <td>TIPO</td>\n",
       "      <td>0</td>\n",
       "      <td>10.0</td>\n",
       "      <td>5</td>\n",
       "      <td>5</td>\n",
       "      <td>1</td>\n",
       "      <td>0</td>\n",
       "      <td>0</td>\n",
       "      <td>0</td>\n",
       "      <td>0</td>\n",
       "      <td>1</td>\n",
       "      <td>0</td>\n",
       "      <td>0</td>\n",
       "    </tr>\n",
       "  </tbody>\n",
       "</table>\n",
       "</div>"
      ],
      "text/plain": [
       "     Price     Make Model  Model_year  Mileage  Nbre_porte  CV  \\\n",
       "0  11220.0  PEUGEOT   308           4  94341.0           5   4   \n",
       "1  57526.0      BMW    X6           3  39051.0           5  16   \n",
       "2  80379.0     AUDI   RS6           4  75381.0           5  47   \n",
       "3   2830.0     FORD    KA          11  92282.0           3   5   \n",
       "4  12925.0     FIAT  TIPO           0     10.0           5   5   \n",
       "\n",
       "   Gearbox_mécanique  Fuel_Bicarburation essence GPL  \\\n",
       "0                  1                               0   \n",
       "1                  0                               0   \n",
       "2                  0                               0   \n",
       "3                  1                               0   \n",
       "4                  1                               0   \n",
       "\n",
       "   Fuel_Bicarburation essence bioéthanol  Fuel_Diesel  Fuel_Electrique  \\\n",
       "0                                      0            1                0   \n",
       "1                                      0            1                0   \n",
       "2                                      0            0                0   \n",
       "3                                      0            0                0   \n",
       "4                                      0            0                0   \n",
       "\n",
       "   Fuel_Essence  Fuel_Hybride diesel électrique  \\\n",
       "0             0                               0   \n",
       "1             0                               0   \n",
       "2             1                               0   \n",
       "3             1                               0   \n",
       "4             1                               0   \n",
       "\n",
       "   Fuel_Hybride essence électrique  \n",
       "0                                0  \n",
       "1                                0  \n",
       "2                                0  \n",
       "3                                0  \n",
       "4                                0  "
      ]
     },
     "execution_count": 31,
     "metadata": {},
     "output_type": "execute_result"
    }
   ],
   "source": [
    "df.head(5)"
   ]
  },
  {
   "cell_type": "code",
   "execution_count": 32,
   "metadata": {},
   "outputs": [
    {
     "data": {
      "text/plain": [
       "array(['ABARTH', 'AC', 'AIXAM', 'ALFA ROMEO', 'ALPINA', 'ALPINE',\n",
       "       'ASTON MARTIN', 'AUDI', 'AUSTIN', 'AUSTIN HEALEY', 'AUTOBIANCHI',\n",
       "       'BELLIER', 'BENTLEY', 'BMW', 'BMW-ALPINA', 'BOLLORE', 'BUGATTI',\n",
       "       'CADILLAC', 'CHATENET', 'CHEVROLET', 'CHRYSLER', 'CITROEN',\n",
       "       'DACIA', 'DAEWOO', 'DAIHATSU', 'DANGEL', 'DODGE', 'DONKERVOORT',\n",
       "       'DS', 'FERRARI', 'FIAT', 'FISKER', 'FORD', 'GRECAV', 'HONDA',\n",
       "       'HUMMER', 'HYUNDAI', 'INFINITI', 'INNOCENTI', 'INTERMECCANICA',\n",
       "       'JAGUAR', 'JEEP', 'JIAYUAN', 'KIA', 'LADA', 'LAMBORGHINI',\n",
       "       'LANCIA', 'LAND ROVER', 'LEXUS', 'LIGIER', 'LOTUS', 'MASERATI',\n",
       "       'MATRA', 'MAZDA', 'MCLAREN', 'MERCEDES', 'MERCEDES-AMG', 'MG',\n",
       "       'MICROCAR', 'MINI', 'MITSUBISHI', 'MORGAN', 'MPM MOTORS', 'NISSAN',\n",
       "       'OLDSMOBILE', 'OPEL', 'PACKARD', 'PEUGEOT', 'PORSCHE', 'RENAULT',\n",
       "       'RILEY', 'ROLLS ROYCE', 'ROVER', 'SAAB', 'SEAT', 'SHELBY', 'SIMCA',\n",
       "       'SKODA', 'SMART', 'SSANGYONG', 'SUBARU', 'SUNBEAM', 'SUZUKI',\n",
       "       'TESLA', 'TOYOTA', 'TRIUMPH', 'VOLKSWAGEN', 'VOLVO'], dtype=object)"
      ]
     },
     "execution_count": 32,
     "metadata": {},
     "output_type": "execute_result"
    }
   ],
   "source": [
    "np.sort(df['Make'].unique())"
   ]
  },
  {
   "cell_type": "code",
   "execution_count": 33,
   "metadata": {},
   "outputs": [
    {
     "data": {
      "text/plain": [
       "0    0\n",
       "1    1\n",
       "2    2\n",
       "3    3\n",
       "4    4\n",
       "Name: Make, dtype: int8"
      ]
     },
     "execution_count": 33,
     "metadata": {},
     "output_type": "execute_result"
    }
   ],
   "source": [
    "# Transform makes to ordinal numbers\n",
    "df['Make'] = categorize(df['Make'])\n",
    "df['Make'].head(5)"
   ]
  },
  {
   "cell_type": "code",
   "execution_count": 34,
   "metadata": {},
   "outputs": [
    {
     "data": {
      "text/plain": [
       "array(['2008', '208', '3008', '308', '407', '500', '500 X', '5008', 'A3',\n",
       "       'A4', 'A5', 'ARONA', 'ASTRA', 'AURIS', 'C-MAX', 'C3', 'C4',\n",
       "       'C4 PICASSO', 'C5', 'CLASSE A', 'CLASSE B', 'CLASSE C', 'CLASSE R',\n",
       "       'CLIO', 'DS3', 'DUSTER', 'GOLF', 'GRAND C-MAX',\n",
       "       'GRAND C4 SPACETOURER', 'GRAND SCENIC', 'I20', 'I30', 'IBIZA',\n",
       "       'KA', 'KADJAR', 'KOLEOS', 'KUGA', 'MACAN', 'MEGANE', 'MINI',\n",
       "       'MONDEO', 'PASSAT', 'POLO', 'QASHQAI', 'RS6', 'SANDERO', 'SCENIC',\n",
       "       'SERIE 1', 'SERIE 2', 'SERIE 3 GT', 'SERIE 5', 'SL', 'TALISMAN',\n",
       "       'TIGUAN', 'TIPO', 'TOURAN', 'TWINGO', 'X3', 'X6', 'XKR'],\n",
       "      dtype=object)"
      ]
     },
     "execution_count": 34,
     "metadata": {},
     "output_type": "execute_result"
    }
   ],
   "source": [
    "np.sort(df['Model'].unique()[0:60])"
   ]
  },
  {
   "cell_type": "code",
   "execution_count": 35,
   "metadata": {},
   "outputs": [
    {
     "data": {
      "text/plain": [
       "0    0\n",
       "1    1\n",
       "2    2\n",
       "3    3\n",
       "4    4\n",
       "Name: Model, dtype: int16"
      ]
     },
     "execution_count": 35,
     "metadata": {},
     "output_type": "execute_result"
    }
   ],
   "source": [
    "# Transform models to ordinal numbers\n",
    "df['Model'] = categorize(df['Model'])\n",
    "df['Model'].head(5)"
   ]
  },
  {
   "cell_type": "code",
   "execution_count": 36,
   "metadata": {},
   "outputs": [
    {
     "data": {
      "text/html": [
       "<div>\n",
       "<style scoped>\n",
       "    .dataframe tbody tr th:only-of-type {\n",
       "        vertical-align: middle;\n",
       "    }\n",
       "\n",
       "    .dataframe tbody tr th {\n",
       "        vertical-align: top;\n",
       "    }\n",
       "\n",
       "    .dataframe thead th {\n",
       "        text-align: right;\n",
       "    }\n",
       "</style>\n",
       "<table border=\"1\" class=\"dataframe\">\n",
       "  <thead>\n",
       "    <tr style=\"text-align: right;\">\n",
       "      <th></th>\n",
       "      <th>Price</th>\n",
       "      <th>Make</th>\n",
       "      <th>Model</th>\n",
       "      <th>Model_year</th>\n",
       "      <th>Mileage</th>\n",
       "      <th>Nbre_porte</th>\n",
       "      <th>CV</th>\n",
       "      <th>Gearbox_mécanique</th>\n",
       "      <th>Fuel_Bicarburation essence GPL</th>\n",
       "      <th>Fuel_Bicarburation essence bioéthanol</th>\n",
       "      <th>Fuel_Diesel</th>\n",
       "      <th>Fuel_Electrique</th>\n",
       "      <th>Fuel_Essence</th>\n",
       "      <th>Fuel_Hybride diesel électrique</th>\n",
       "      <th>Fuel_Hybride essence électrique</th>\n",
       "    </tr>\n",
       "  </thead>\n",
       "  <tbody>\n",
       "    <tr>\n",
       "      <th>0</th>\n",
       "      <td>11220.0</td>\n",
       "      <td>0</td>\n",
       "      <td>0</td>\n",
       "      <td>4</td>\n",
       "      <td>94341.0</td>\n",
       "      <td>5</td>\n",
       "      <td>4</td>\n",
       "      <td>1</td>\n",
       "      <td>0</td>\n",
       "      <td>0</td>\n",
       "      <td>1</td>\n",
       "      <td>0</td>\n",
       "      <td>0</td>\n",
       "      <td>0</td>\n",
       "      <td>0</td>\n",
       "    </tr>\n",
       "    <tr>\n",
       "      <th>1</th>\n",
       "      <td>57526.0</td>\n",
       "      <td>1</td>\n",
       "      <td>1</td>\n",
       "      <td>3</td>\n",
       "      <td>39051.0</td>\n",
       "      <td>5</td>\n",
       "      <td>16</td>\n",
       "      <td>0</td>\n",
       "      <td>0</td>\n",
       "      <td>0</td>\n",
       "      <td>1</td>\n",
       "      <td>0</td>\n",
       "      <td>0</td>\n",
       "      <td>0</td>\n",
       "      <td>0</td>\n",
       "    </tr>\n",
       "    <tr>\n",
       "      <th>2</th>\n",
       "      <td>80379.0</td>\n",
       "      <td>2</td>\n",
       "      <td>2</td>\n",
       "      <td>4</td>\n",
       "      <td>75381.0</td>\n",
       "      <td>5</td>\n",
       "      <td>47</td>\n",
       "      <td>0</td>\n",
       "      <td>0</td>\n",
       "      <td>0</td>\n",
       "      <td>0</td>\n",
       "      <td>0</td>\n",
       "      <td>1</td>\n",
       "      <td>0</td>\n",
       "      <td>0</td>\n",
       "    </tr>\n",
       "    <tr>\n",
       "      <th>3</th>\n",
       "      <td>2830.0</td>\n",
       "      <td>3</td>\n",
       "      <td>3</td>\n",
       "      <td>11</td>\n",
       "      <td>92282.0</td>\n",
       "      <td>3</td>\n",
       "      <td>5</td>\n",
       "      <td>1</td>\n",
       "      <td>0</td>\n",
       "      <td>0</td>\n",
       "      <td>0</td>\n",
       "      <td>0</td>\n",
       "      <td>1</td>\n",
       "      <td>0</td>\n",
       "      <td>0</td>\n",
       "    </tr>\n",
       "    <tr>\n",
       "      <th>4</th>\n",
       "      <td>12925.0</td>\n",
       "      <td>4</td>\n",
       "      <td>4</td>\n",
       "      <td>0</td>\n",
       "      <td>10.0</td>\n",
       "      <td>5</td>\n",
       "      <td>5</td>\n",
       "      <td>1</td>\n",
       "      <td>0</td>\n",
       "      <td>0</td>\n",
       "      <td>0</td>\n",
       "      <td>0</td>\n",
       "      <td>1</td>\n",
       "      <td>0</td>\n",
       "      <td>0</td>\n",
       "    </tr>\n",
       "  </tbody>\n",
       "</table>\n",
       "</div>"
      ],
      "text/plain": [
       "     Price  Make  Model  Model_year  Mileage  Nbre_porte  CV  \\\n",
       "0  11220.0     0      0           4  94341.0           5   4   \n",
       "1  57526.0     1      1           3  39051.0           5  16   \n",
       "2  80379.0     2      2           4  75381.0           5  47   \n",
       "3   2830.0     3      3          11  92282.0           3   5   \n",
       "4  12925.0     4      4           0     10.0           5   5   \n",
       "\n",
       "   Gearbox_mécanique  Fuel_Bicarburation essence GPL  \\\n",
       "0                  1                               0   \n",
       "1                  0                               0   \n",
       "2                  0                               0   \n",
       "3                  1                               0   \n",
       "4                  1                               0   \n",
       "\n",
       "   Fuel_Bicarburation essence bioéthanol  Fuel_Diesel  Fuel_Electrique  \\\n",
       "0                                      0            1                0   \n",
       "1                                      0            1                0   \n",
       "2                                      0            0                0   \n",
       "3                                      0            0                0   \n",
       "4                                      0            0                0   \n",
       "\n",
       "   Fuel_Essence  Fuel_Hybride diesel électrique  \\\n",
       "0             0                               0   \n",
       "1             0                               0   \n",
       "2             1                               0   \n",
       "3             1                               0   \n",
       "4             1                               0   \n",
       "\n",
       "   Fuel_Hybride essence électrique  \n",
       "0                                0  \n",
       "1                                0  \n",
       "2                                0  \n",
       "3                                0  \n",
       "4                                0  "
      ]
     },
     "execution_count": 36,
     "metadata": {},
     "output_type": "execute_result"
    }
   ],
   "source": [
    "df.head()"
   ]
  },
  {
   "cell_type": "code",
   "execution_count": 37,
   "metadata": {},
   "outputs": [
    {
     "data": {
      "text/plain": [
       "Price                                    float64\n",
       "Make                                        int8\n",
       "Model                                      int16\n",
       "Model_year                                 int16\n",
       "Mileage                                  float64\n",
       "Nbre_porte                                 int64\n",
       "CV                                         int64\n",
       "Gearbox_mécanique                          uint8\n",
       "Fuel_Bicarburation essence GPL             uint8\n",
       "Fuel_Bicarburation essence bioéthanol      uint8\n",
       "Fuel_Diesel                                uint8\n",
       "Fuel_Electrique                            uint8\n",
       "Fuel_Essence                               uint8\n",
       "Fuel_Hybride diesel électrique             uint8\n",
       "Fuel_Hybride essence électrique            uint8\n",
       "dtype: object"
      ]
     },
     "execution_count": 37,
     "metadata": {},
     "output_type": "execute_result"
    }
   ],
   "source": [
    "df.dtypes"
   ]
  },
  {
   "cell_type": "markdown",
   "metadata": {},
   "source": [
    "## Features selection"
   ]
  },
  {
   "cell_type": "markdown",
   "metadata": {},
   "source": [
    "Pour l'instant il n'y a que \"CV\" qui a un bon taux de correlation avec \"Price\""
   ]
  },
  {
   "cell_type": "markdown",
   "metadata": {},
   "source": [
    "## Split"
   ]
  },
  {
   "cell_type": "code",
   "execution_count": 38,
   "metadata": {},
   "outputs": [],
   "source": [
    "features = [\n",
    "    \"Make\",\n",
    "    \"Model\", \n",
    "    \"Model_year\",\n",
    "    \"Mileage\",\n",
    "    \"CV\",\n",
    "    \"Nbre_porte\",\n",
    "    \"Fuel_Bicarburation essence GPL\",\n",
    "    \"Fuel_Bicarburation essence bioéthanol\",\n",
    "    \"Fuel_Diesel\",\n",
    "    \"Fuel_Electrique\",\n",
    "    \"Fuel_Essence\",\n",
    "    \"Gearbox_mécanique\",\n",
    "]\n",
    "\n",
    "prediction = \"Price\"\n",
    "\n",
    "X = df[features]\n",
    "y = df[prediction]\n",
    "\n",
    "X_train, X_test, y_train, y_test = train_test_split(X, y, test_size=0.30, random_state=42)"
   ]
  },
  {
   "cell_type": "code",
   "execution_count": 39,
   "metadata": {},
   "outputs": [
    {
     "data": {
      "text/plain": [
       "((115784, 12), (49622, 12), (115784,), (49622,))"
      ]
     },
     "execution_count": 39,
     "metadata": {},
     "output_type": "execute_result"
    }
   ],
   "source": [
    "X_train.shape, X_test.shape, y_train.shape, y_test.shape"
   ]
  },
  {
   "cell_type": "code",
   "execution_count": 40,
   "metadata": {},
   "outputs": [
    {
     "data": {
      "text/html": [
       "<div>\n",
       "<style scoped>\n",
       "    .dataframe tbody tr th:only-of-type {\n",
       "        vertical-align: middle;\n",
       "    }\n",
       "\n",
       "    .dataframe tbody tr th {\n",
       "        vertical-align: top;\n",
       "    }\n",
       "\n",
       "    .dataframe thead th {\n",
       "        text-align: right;\n",
       "    }\n",
       "</style>\n",
       "<table border=\"1\" class=\"dataframe\">\n",
       "  <thead>\n",
       "    <tr style=\"text-align: right;\">\n",
       "      <th></th>\n",
       "      <th>Make</th>\n",
       "      <th>Model</th>\n",
       "      <th>Model_year</th>\n",
       "      <th>Mileage</th>\n",
       "      <th>CV</th>\n",
       "      <th>Nbre_porte</th>\n",
       "      <th>Fuel_Bicarburation essence GPL</th>\n",
       "      <th>Fuel_Bicarburation essence bioéthanol</th>\n",
       "      <th>Fuel_Diesel</th>\n",
       "      <th>Fuel_Electrique</th>\n",
       "      <th>Fuel_Essence</th>\n",
       "      <th>Gearbox_mécanique</th>\n",
       "    </tr>\n",
       "  </thead>\n",
       "  <tbody>\n",
       "    <tr>\n",
       "      <th>53438</th>\n",
       "      <td>5</td>\n",
       "      <td>41</td>\n",
       "      <td>18</td>\n",
       "      <td>117174.0</td>\n",
       "      <td>4</td>\n",
       "      <td>3</td>\n",
       "      <td>0</td>\n",
       "      <td>0</td>\n",
       "      <td>0</td>\n",
       "      <td>0</td>\n",
       "      <td>1</td>\n",
       "      <td>1</td>\n",
       "    </tr>\n",
       "    <tr>\n",
       "      <th>77026</th>\n",
       "      <td>6</td>\n",
       "      <td>101</td>\n",
       "      <td>3</td>\n",
       "      <td>47056.0</td>\n",
       "      <td>7</td>\n",
       "      <td>4</td>\n",
       "      <td>0</td>\n",
       "      <td>0</td>\n",
       "      <td>1</td>\n",
       "      <td>0</td>\n",
       "      <td>0</td>\n",
       "      <td>0</td>\n",
       "    </tr>\n",
       "    <tr>\n",
       "      <th>145899</th>\n",
       "      <td>12</td>\n",
       "      <td>18</td>\n",
       "      <td>2</td>\n",
       "      <td>26171.0</td>\n",
       "      <td>3</td>\n",
       "      <td>5</td>\n",
       "      <td>0</td>\n",
       "      <td>0</td>\n",
       "      <td>1</td>\n",
       "      <td>0</td>\n",
       "      <td>0</td>\n",
       "      <td>1</td>\n",
       "    </tr>\n",
       "    <tr>\n",
       "      <th>137407</th>\n",
       "      <td>1</td>\n",
       "      <td>66</td>\n",
       "      <td>4</td>\n",
       "      <td>120916.0</td>\n",
       "      <td>7</td>\n",
       "      <td>4</td>\n",
       "      <td>0</td>\n",
       "      <td>0</td>\n",
       "      <td>1</td>\n",
       "      <td>0</td>\n",
       "      <td>0</td>\n",
       "      <td>0</td>\n",
       "    </tr>\n",
       "    <tr>\n",
       "      <th>152546</th>\n",
       "      <td>5</td>\n",
       "      <td>53</td>\n",
       "      <td>3</td>\n",
       "      <td>40780.0</td>\n",
       "      <td>8</td>\n",
       "      <td>5</td>\n",
       "      <td>0</td>\n",
       "      <td>0</td>\n",
       "      <td>1</td>\n",
       "      <td>0</td>\n",
       "      <td>0</td>\n",
       "      <td>1</td>\n",
       "    </tr>\n",
       "  </tbody>\n",
       "</table>\n",
       "</div>"
      ],
      "text/plain": [
       "        Make  Model  Model_year   Mileage  CV  Nbre_porte  \\\n",
       "53438      5     41          18  117174.0   4           3   \n",
       "77026      6    101           3   47056.0   7           4   \n",
       "145899    12     18           2   26171.0   3           5   \n",
       "137407     1     66           4  120916.0   7           4   \n",
       "152546     5     53           3   40780.0   8           5   \n",
       "\n",
       "        Fuel_Bicarburation essence GPL  Fuel_Bicarburation essence bioéthanol  \\\n",
       "53438                                0                                      0   \n",
       "77026                                0                                      0   \n",
       "145899                               0                                      0   \n",
       "137407                               0                                      0   \n",
       "152546                               0                                      0   \n",
       "\n",
       "        Fuel_Diesel  Fuel_Electrique  Fuel_Essence  Gearbox_mécanique  \n",
       "53438             0                0             1                  1  \n",
       "77026             1                0             0                  0  \n",
       "145899            1                0             0                  1  \n",
       "137407            1                0             0                  0  \n",
       "152546            1                0             0                  1  "
      ]
     },
     "execution_count": 40,
     "metadata": {},
     "output_type": "execute_result"
    }
   ],
   "source": [
    "X_train.head(5)"
   ]
  },
  {
   "cell_type": "code",
   "execution_count": 41,
   "metadata": {},
   "outputs": [
    {
     "data": {
      "text/plain": [
       "53438      2214.0\n",
       "77026     27088.0\n",
       "145899     9980.0\n",
       "137407    14739.0\n",
       "152546    15868.0\n",
       "Name: Price, dtype: float64"
      ]
     },
     "execution_count": 41,
     "metadata": {},
     "output_type": "execute_result"
    }
   ],
   "source": [
    "y_train.head(5)"
   ]
  },
  {
   "cell_type": "markdown",
   "metadata": {},
   "source": [
    "## Train / Predict"
   ]
  },
  {
   "cell_type": "code",
   "execution_count": 42,
   "metadata": {},
   "outputs": [],
   "source": [
    "lreg = LinearRegression()"
   ]
  },
  {
   "cell_type": "code",
   "execution_count": 43,
   "metadata": {},
   "outputs": [],
   "source": [
    "lreg.fit(X_train, y_train)\n",
    "y_pred = lreg.predict(X_test)"
   ]
  },
  {
   "cell_type": "code",
   "execution_count": 44,
   "metadata": {},
   "outputs": [
    {
     "data": {
      "text/plain": [
       "131992587.91561382"
      ]
     },
     "execution_count": 44,
     "metadata": {},
     "output_type": "execute_result"
    }
   ],
   "source": [
    "mean_squared_error(y_test, y_pred)"
   ]
  },
  {
   "cell_type": "code",
   "execution_count": 45,
   "metadata": {},
   "outputs": [
    {
     "data": {
      "text/plain": [
       "184.09380855416998"
      ]
     },
     "execution_count": 45,
     "metadata": {},
     "output_type": "execute_result"
    }
   ],
   "source": [
    "mean_absolute_percentage_error(y_test, y_pred)"
   ]
  },
  {
   "cell_type": "code",
   "execution_count": 46,
   "metadata": {},
   "outputs": [
    {
     "data": {
      "text/plain": [
       "0.5595880952826335"
      ]
     },
     "execution_count": 46,
     "metadata": {},
     "output_type": "execute_result"
    }
   ],
   "source": [
    "r2_score(y_test, y_pred)"
   ]
  },
  {
   "cell_type": "code",
   "execution_count": 71,
   "metadata": {},
   "outputs": [
    {
     "name": "stdout",
     "output_type": "stream",
     "text": [
      "250.0\n"
     ]
    }
   ],
   "source": [
    "def mean_absolute_percentage_error(y_true, y_pred):\n",
    "    y_true, y_pred = np.array(y_true), np.array(y_pred)\n",
    "    return np.mean(np.abs((y_true - y_pred) / y_true)) * 100\n",
    "\n",
    "\n",
    "y_true = np.random.randn(100)\n",
    "y_pred = y_true * 3.5\n",
    "\n",
    "print(mean_absolute_percentage_error(y_true, y_pred))"
   ]
  },
  {
   "cell_type": "code",
   "execution_count": 72,
   "metadata": {},
   "outputs": [
    {
     "data": {
      "image/png": "[encoded data removed]",
      "text/plain": [
       "<Figure size 432x288 with 1 Axes>"
      ]
     },
     "metadata": {
      "needs_background": "light"
     },
     "output_type": "display_data"
    }
   ],
   "source": [
    "from matplotlib import pyplot as plt\n",
    "\n",
    "plt.plot(y_true)\n",
    "plt.plot(y_pred)\n",
    "plt.legend([\"true\", \"pred\"])\n",
    "plt.show()"
   ]
  },
  {
   "cell_type": "markdown",
   "metadata": {},
   "source": [
    "##  Test with manual encoding and label encoding"
   ]
  },
  {
   "cell_type": "code",
   "execution_count": 47,
   "metadata": {},
   "outputs": [],
   "source": [
    "make_label = {ni: n for n,ni in enumerate(set(df1['Make']))}\n",
    "model_label = {ni: n for n,ni in enumerate(set(df1['Model']))}\n",
    "fuel_label = {ni: n for n,ni in enumerate(set(df1['Fuel']))}\n",
    "gearbox_label = {ni: n for n,ni in enumerate(set(df1['Gearbox']))}"
   ]
  },
  {
   "cell_type": "code",
   "execution_count": 48,
   "metadata": {},
   "outputs": [
    {
     "data": {
      "text/plain": [
       "{'Essence': 0,\n",
       " 'Diesel': 1,\n",
       " 'Bicarburation essence bioéthanol': 2,\n",
       " 'Hybride diesel électrique': 3,\n",
       " 'Electrique': 4,\n",
       " 'Bicarburation essence GPL': 5,\n",
       " 'Hybride essence électrique': 6}"
      ]
     },
     "execution_count": 48,
     "metadata": {},
     "output_type": "execute_result"
    }
   ],
   "source": [
    "fuel_label"
   ]
  },
  {
   "cell_type": "code",
   "execution_count": 49,
   "metadata": {},
   "outputs": [
    {
     "data": {
      "text/plain": [
       "array(['Diesel', 'Essence', 'Hybride essence électrique', 'Electrique',\n",
       "       'Hybride diesel électrique', 'Bicarburation essence GPL',\n",
       "       'Bicarburation essence bioéthanol'], dtype=object)"
      ]
     },
     "execution_count": 49,
     "metadata": {},
     "output_type": "execute_result"
    }
   ],
   "source": [
    "df1['Fuel'].unique()"
   ]
  },
  {
   "cell_type": "code",
   "execution_count": 50,
   "metadata": {},
   "outputs": [
    {
     "data": {
      "text/plain": [
       "array(['PEUGEOT', 'BMW', 'AUDI', 'FORD', 'FIAT', 'RENAULT', 'MERCEDES',\n",
       "       'SEAT', 'MINI', 'HYUNDAI', 'DACIA', 'VOLKSWAGEN', 'CITROEN',\n",
       "       'TOYOTA', 'JAGUAR', 'OPEL', 'PORSCHE', 'NISSAN', 'LAND ROVER',\n",
       "       'MAZDA', 'VOLVO', 'SKODA', 'DS', 'SSANGYONG', 'SUZUKI', 'HONDA',\n",
       "       'LEXUS', 'INFINITI', 'JEEP', 'KIA', 'DODGE', 'ASTON MARTIN',\n",
       "       'LANCIA', 'LOTUS', 'CHEVROLET', 'SMART', 'ALFA ROMEO', 'BUGATTI',\n",
       "       'MITSUBISHI', 'MERCEDES-AMG', 'AIXAM', 'FERRARI', 'MG',\n",
       "       'LAMBORGHINI', 'MASERATI', 'SUBARU', 'MORGAN', 'CHRYSLER',\n",
       "       'ROLLS ROYCE', 'TESLA', 'ABARTH', 'LADA', 'BMW-ALPINA', 'SAAB',\n",
       "       'PACKARD', 'ROVER', 'SHELBY', 'MICROCAR', 'ALPINA', 'BENTLEY',\n",
       "       'DAIHATSU', 'HUMMER', 'TRIUMPH', 'LIGIER', 'DAEWOO',\n",
       "       'AUSTIN HEALEY', 'JIAYUAN', 'CADILLAC', 'MCLAREN', 'DANGEL',\n",
       "       'CHATENET', 'INTERMECCANICA', 'AC', 'AUTOBIANCHI', 'SUNBEAM',\n",
       "       'BOLLORE', 'AUSTIN', 'MPM MOTORS', 'INNOCENTI', 'MATRA',\n",
       "       'DONKERVOORT', 'GRECAV', 'FISKER', 'ALPINE', 'SIMCA', 'OLDSMOBILE',\n",
       "       'BELLIER', 'RILEY'], dtype=object)"
      ]
     },
     "execution_count": 50,
     "metadata": {},
     "output_type": "execute_result"
    }
   ],
   "source": [
    "df1['Make'].unique()"
   ]
  },
  {
   "cell_type": "code",
   "execution_count": 51,
   "metadata": {},
   "outputs": [
    {
     "data": {
      "text/plain": [
       "array(['308', 'X6', 'RS6', 'KA', 'TIPO', 'X3', 'A3', 'MEGANE', 'C-MAX',\n",
       "       'CLASSE C', 'IBIZA', 'MINI', '500 X', 'MONDEO', 'I20', 'SANDERO',\n",
       "       '208', 'GOLF', 'C3', 'AURIS', 'I30', 'POLO', 'SERIE 1', 'XKR',\n",
       "       'CLASSE B', 'CLIO', 'TOURAN', 'CLASSE R', 'TIGUAN', 'TALISMAN',\n",
       "       'ASTRA', 'GRAND SCENIC', 'A4', 'DS3', '407', 'DUSTER', 'MACAN',\n",
       "       'QASHQAI', 'KADJAR', 'SCENIC', 'A5', 'TWINGO', 'PASSAT', 'ARONA',\n",
       "       'GRAND C-MAX', 'KUGA', 'SERIE 2', 'SL', '500', 'C4', '5008',\n",
       "       '3008', 'GRAND C4 SPACETOURER', 'KOLEOS', 'CLASSE A', 'C4 PICASSO',\n",
       "       '2008', 'SERIE 5', 'C5', 'SERIE 3 GT', 'C3 AIRCROSS', 'LEON',\n",
       "       'TUCSON', 'RANGE ROVER EVOQUE', 'ESPACE', 'A7', 'SERIE 3',\n",
       "       'ZAFIRA', '6', 'XC60', '1007', 'AVENSIS', 'OCTAVIA', 'YARIS',\n",
       "       'JUKE', '508 RXH', 'V40', '108', '508', 'SERIE 4', 'DS 5',\n",
       "       'CAPTUR', 'GLA', '307', 'TRAVELLER', 'CORSA', 'COCCINELLE',\n",
       "       'RAV 4', 'KYRON', 'X5', 'MULTIPLA', 'S-MAX', 'SX4', 'MOKKA X',\n",
       "       'X1', 'LAGUNA', 'PARTNER TEPEE', 'C4 CACTUS', 'SUPERB', 'CLASSE E',\n",
       "       'A6 ALLROAD', 'CLA', 'Q2', 'ADAM', '206', '807', 'YETI', 'Q3',\n",
       "       'MX5', 'GRAND C4 PICASSO', 'Q5', 'IX35', '911', 'LAND CRUISER SW',\n",
       "       'GRAND KANGOO', 'KANGOO', 'JAZZ', 'IS', 'DOKKER', 'FOCUS', 'NX',\n",
       "       'XJ', 'Q30', '3', 'CLASSE S', 'VERSO', 'RENEGADE', 'ZOE', 'MOKKA',\n",
       "       'FABIA', 'SPORTAGE', 'A1', 'MUSTANG', 'CLASSE CLS', 'FIESTA',\n",
       "       'DS4', 'CIVIC', 'MINI CABRIOLET', '207', 'ECOSPORT', 'LS',\n",
       "       'CLASSE M', 'C3 PICASSO', 'C1', 'NOTE', 'V90 CROSS COUNTRY',\n",
       "       'A4 ALLROAD', 'SERIE 6', 'X-TRAIL', 'RCZ', 'CHALLENGER', 'RAPIDE',\n",
       "       'VITARA', 'SAXO', 'PANDA', 'DS 3', 'MERIVA', 'IX20',\n",
       "       'GRAND CHEROKEE', 'MICRA', 'RS4', 'DS 4', 'YPSILON', 'COUNTRYMAN',\n",
       "       'CAYENNE', 'RIO', 'FREEMONT', 'ATECA', 'V50', 'B-MAX', 'ION',\n",
       "       'ELISE', 'SORENTO', 'C4 AIRCROSS', 'MATIZ', 'FORTWO',\n",
       "       'GRANDLAND X', 'V40 CROSS COUNTRY', 'BERLINGO', 'DISCOVERY SPORT',\n",
       "       'GLC', 'DOBLO', 'GIULIETTA', 'R8', 'PARTNER', 'C30', 'V60',\n",
       "       'VEYRON', 'MODUS', 'XC90', '1200', 'COUGAR', 'RANGE ROVER SPORT',\n",
       "       'DEFENDER', 'COMPASS', '718', 'PASSAT CC', 'TOUAREG', 'LOGAN',\n",
       "       'XF', 'KA+', 'QASHQAI +2', '500 L', 'C2', 'OUTLANDER', 'AGILA',\n",
       "       'C-HR', 'TOURNEO COURIER', 'DISCOVERY', 'OPTIMA', 'BOXSTER',\n",
       "       'CHEROKEE', 'EDGE', 'AYGO', 'GRAND MODUS', 'DS5', 'CLASSE V',\n",
       "       'T-ROC', 'KARL', 'IGNIS', 'PANAMERA', 'GRANDE PUNTO', 'I10',\n",
       "       'CX-3', 'C-ZERO', 'F-PACE', 'S60', 'VIANO', 'WIND', 'PRIUS',\n",
       "       'LAND CRUISER', 'CX-7', 'TT', '607', '370Z', 'FREELANDER',\n",
       "       'CARENS', 'GT', 'ALHAMBRA', 'FORFOUR', 'SWIFT', 'GIULIA', 'PAJERO',\n",
       "       'E-PACE', 'STELVIO', 'UP!', 'KODIAQ', 'ZAFIRA TOURER', 'GALLOPER',\n",
       "       'PACEMAN', 'CLASSE G', 'BIPPER TEPEE', 'COLT', '4008', 'INSIGNIA',\n",
       "       'I40', 'GLS', 'COUPE', '107', 'A6', 'CR-V', 'C-ELYSEE', 'ASX',\n",
       "       'SMART', '488', 'DS 4 CROSSBACK', 'C25', 'XC70', 'TIGUAN ALLSPACE',\n",
       "       'SPLASH', 'CRUZE', 'CEE D', 'PULSAR', 'SUBURBAN', 'V70', 'RX',\n",
       "       'UNO', 'A', 'Q7', 'TRAX', 'GALLARDO', 'QUATTROPORTE', 'C8',\n",
       "       'SANTA FE', 'X4', 'FX', 'SPACE STAR', 'FORESTER', 'TTS',\n",
       "       'SPACETOURER', 'C', 'SQ5', 'AERO 8', 'QX30', 'SHARAN', 'CAMARO',\n",
       "       'PUNTO', 'VENGA', 'GOLF SPORTSVAN', 'CX-5', 'ALTO', 'RS5', 'V90',\n",
       "       'CROSSLAND X', 'LODGY', 'SLK', 'GALAXY', 'GRAND TOURNEO CONNECT',\n",
       "       'PT CRUISER', 'EXEO', 'XE', 'CROSSFIRE', 'I3', 'PHANTOM',\n",
       "       'URBAN CRUISER', '206+', 'SX4 S-CROSS', 'S40', 'STONIC', 'PICASSO',\n",
       "       'DELTA', 'HR-V', 'ACCORD', 'FUSION', 'VIRAGE', '612',\n",
       "       'RANGE ROVER VELAR', 'CADDY', 'V8 VANTAGE', 'TWIZY', 'SM',\n",
       "       'LEVANTE', 'E-MEHARI', 'GRANCABRIO', 'CORVETTE', 'MODEL X', '300',\n",
       "       'TERRANO', 'IQ', 'GLE', 'GT-R', 'NIVA', 'KONA', 'B3 S', 'X2',\n",
       "       'SERIE 7', 'COROLLA', 'LATITUDE', 'S3', '147', '160', 'ARTEON',\n",
       "       'KORANDO', 'PATROL', 'ROADSTER', 'NEW BEETLE', 'PRO CEE D', '2',\n",
       "       'MINI CLUBMAN', 'NEMO', 'COROLLA VERSO', 'CLASSE GLK', 'GLE COUPE',\n",
       "       '9-3', 'CELERIO', 'PICANTO', 'IDEA', 'VECTRA', 'INSIGHT',\n",
       "       'FOCUS C-MAX', 'EOS', 'EXPERT TEPEE', 'F355', 'LIANA', 'MITO',\n",
       "       'JIMNY', 'NIRO', 'CITIGO', 'RANGE ROVER', 'GRAND VOYAGER', 'CLK',\n",
       "       'XV', 'SOUL', '5', 'MK II', 'GRAND ESPACE', '2CV', 'RAPID',\n",
       "       'V60 CROSS COUNTRY', 'SLC', 'CAYMAN', 'C3 PLURIEL', 'MINI COUPE',\n",
       "       'F-TYPE', 'GRAND VITARA', 'FIORINO', 'XK8', '106', 'ALTEA',\n",
       "       'MODEL S', 'XK', '200', 'WRAITH', 'CC', 'GS', 'ORLANDO',\n",
       "       'SCIROCCO', 'F430', 'LEAF', 'KAROQ', 'ALTEA FREETRACK', 'S90',\n",
       "       'CROMA', 'Q50', 'FF', 'KALOS', '4/4', 'IONIQ', 'GOLF PLUS', 'CT',\n",
       "       'CARNIVAL', 'CALIFORNIA', 'Z4', 'GRANTURISMO', 'MATRIX', '458',\n",
       "       'TYPE E', 'TOLEDO', 'ANTARA', 'MII', 'S-TYPE', 'LANCER', 'DB11',\n",
       "       'IMPREZA', 'FR-V', 'GT86', 'WILLYS', 'CL', 'RC', 'CLIPPER',\n",
       "       'RS Q3', 'XSARA', 'X-TYPE', 'RS3', 'GETZ', 'S5', 'PUNTO EVO',\n",
       "       'S80', 'ALLROAD', 'VANQUISH', '124', 'SERIE 5 GT', 'A8', '207+',\n",
       "       'GLC COUPE', 'TAHOE', '159', 'GT 500', 'SPARK', 'TERRACAN',\n",
       "       'TRANSIT CUSTOM', 'M.GO', 'XD3', 'PIXO', 'PROACE VERSO', 'PRIMERA',\n",
       "       'ROOMSTER', '300 C', 'ECLIPSE CROSS', '3.0', 'OUTBACK',\n",
       "       'CROSSOVER', 'CONTINENTAL', 'PROACE', 'LACETTI', 'DBS', 'P4',\n",
       "       'SIERRA', '944', 'TREVIS', 'TT RS', 'WRANGLER', 'MUSA', 'I8',\n",
       "       'JETTA', 'CUSTOM', 'FOX', '146', 'EVALIA', '406', 'H3', 'C6',\n",
       "       'NP300 NAVARA', 'VERSO-S', 'XC40', 'ZX', 'VEL SATIS', '306',\n",
       "       'FLAVIA', 'H1', 'DB9', 'FLUENCE', 'S8', 'GHIBLI', '356', 'LEVORG',\n",
       "       'X1/9', 'ULYSSE', 'AMI', 'CAPTIVA', '404', 'TOURNEO CONNECT',\n",
       "       'VOYAGER', 'C-CROSSER', 'AVEO', 'BARCHETTA', 'BALENO', 'CR-Z',\n",
       "       'VELOSTER', 'REXTON', 'S4', 'SAMURAI', '205', 'SLS', 'FLYING SPUR',\n",
       "       'ALFETTA', 'HURACAN', 'IX55', 'CITY', 'CALIBER', 'DUE', 'Z3',\n",
       "       'EXIGE', 'NITRO', 'MALIBU', 'F12', 'THUNDERBIRD', 'Q60', 'STINGER',\n",
       "       'CASCADA', 'C70', '33', 'DAWN', '4007', 'MULTIVAN', 'BRERA',\n",
       "       'TR 6', 'P1800', 'QX70', 'PRIUS+', 'QUBO', 'REZZO', 'SUNNY', 'BRZ',\n",
       "       'JUMPY', '4C', 'AVANTIME', 'CORDOBA', 'SUPER 5', 'DS 7 CROSSBACK',\n",
       "       'CLASSE GL', '504', 'XANTIA', '350Z', 'PHAETON', 'JS', '599',\n",
       "       'MUSSO', 'SHUMA', '812 SUPERFAST', 'SC', 'S6', 'SPRITE',\n",
       "       'SATELLITE', 'SQ7', 'MURCIELAGO', 'F150', 'ROADSTER V6', '99',\n",
       "       'S1', '121', 'CITY FUN', 'CTS', '190', 'Q70', 'STILO', 'COMBO',\n",
       "       '9-5', 'FRONTERA', 'R4', 'ATOS', 'ESCALADE', 'MP4-12C',\n",
       "       'AVENTADOR', '420', 'CLASSE CLC', 'JUSTY', 'CARAVELLE', '330',\n",
       "       '3000', 'A2', 'BRAVA', 'ATOS PRIME', 'SILVER SHADOW', 'SIRION',\n",
       "       'PHEDRA', 'THESIS', 'SPIDER', 'MINI ROADSTER', 'QX50', 'RS7',\n",
       "       'MINAUTO', 'VANEO', 'TOURNEO', 'LUPO', 'DURANGO', 'BRAVO', 'VOLT',\n",
       "       'SIGNUM', 'GTC4LUSSO', 'GMC', 'BENTAYGA', 'TR 7', '812', '626',\n",
       "       'TR 3', 'SEICENTO', 'SPYDER', 'MURANO', 'WRX STI', 'TIVOLI', 'LC',\n",
       "       'ACCENT', 'OLYMPIA', 'TIGRA', 'ALMERA TINO', 'MEHARI', 'CH 40',\n",
       "       'GRAND SANTA FE', 'WAGON R+', 'XJS', 'ELAN', 'THEMA', 'JOURNEY',\n",
       "       '604', 'GRANSPORT', 'VIPER', '400', 'EVORA', '309', 'PATHFINDER',\n",
       "       'MONDIAL', 'MAGENTIS', 'DS', 'SPEEDSTER', 'XJ8', '456', '45',\n",
       "       'SONATA', 'COBRA', 'TERIOS', 'A112', 'SPITFIRE', 'R5', 'C15',\n",
       "       '280', 'RODEO', '25', 'CONCERTO', 'GTV', 'KALINA', '720S',\n",
       "       'GRAND VITARA XL-7', 'ALPINE', 'ASCONA', 'TF', 'BETA', 'C10',\n",
       "       '570S', 'F', 'T', '348', '75', 'G', 'COPEN', '230', 'AROSA', '575',\n",
       "       'TIVOLI XLV', 'CT6', 'HHR', '512', 'BLUECAR', 'DB7', 'H2', 'D3',\n",
       "       'DAIMLER', 'BUGGY', '650 S', 'FORD', 'SEDICI', 'COMMANDER',\n",
       "       'SEVILLE', '80', 'SAFRANE', 'MULSANNE', 'C4 SPACETOURER', '360',\n",
       "       'PROWLER', 'THREEWHEELER', '1000', 'BLUESUMMER', 'OMEGA',\n",
       "       'PATRIOT', 'PUMA', 'ELDORADO', '928', '806', 'MINI-MOKE', 'ESPRIT',\n",
       "       'LEGACY', 'PS.160', 'CORNICHE', '250', 'BORA', 'SERIE 200',\n",
       "       'STRATUS', '180', 'TR 4', '365', 'FULVIA', 'TRAJET',\n",
       "       '75 LIMOUSINE BVA', 'AVENGER', '156', 'RODIUS', 'EX', 'MAREA',\n",
       "       'GHOST', 'YARIS VERSO', '550', 'SEBRING', 'JET', 'CITAN', '450',\n",
       "       'ESCORT', 'S7', 'NOVA', 'I-MIEV', 'AVENSIS VERSO', '2002', 'TR 5',\n",
       "       '1300', 'AMAROK', 'TREZIA', 'SRX', '126', 'TRACTION', 'XJ12',\n",
       "       '505', '560', 'LEBARON', 'STREAM', 'TESTAROSSA', '130', 'EPICA',\n",
       "       'EXPLORER', 'PALIO', 'ALMERA', 'KANGOO EXPRESS', 'GRANDIS', 'AX',\n",
       "       'STAG', 'MATERIA', 'DINO', 'CROSSBLADE', 'PLUS 4', 'D8', '675 LT',\n",
       "       'DB4', 'CH 26', 'XM', 'VANTAGE', 'CABSTAR', 'MAVERICK', '403',\n",
       "       'CX', 'EVASION', 'SHUTTLE', 'K5 BLAZER', 'EKE', 'CROSSLINE',\n",
       "       'GENESIS', '2600', '145', 'KARMA', 'B', '924', 'X-TOO MAX', 'GTA',\n",
       "       'STS', '3200 GT', 'TRAILBLAZER', 'CHEVELLE', 'NV200', 'CUTLASS',\n",
       "       'M', '166', 'B8', 'X-TOO', 'CERATO', 'TORONADO', 'S2', 'A610',\n",
       "       'ARNAGE', 'IMPALA', 'PLUS 8', 'SEVEN', 'CUBE', 'CX-9', 'DYANE',\n",
       "       'ELF', 'PREVIA', 'LAND', 'DUETTO', 'SILVERADO', 'EL CAMINO',\n",
       "       '2 ELEVEN', 'TC', 'CHARGER', 'BX'], dtype=object)"
      ]
     },
     "execution_count": 51,
     "metadata": {},
     "output_type": "execute_result"
    }
   ],
   "source": [
    "df1['Model'].unique()"
   ]
  },
  {
   "cell_type": "code",
   "execution_count": 52,
   "metadata": {},
   "outputs": [
    {
     "data": {
      "text/plain": [
       "array(['mécanique', 'automatique'], dtype=object)"
      ]
     },
     "execution_count": 52,
     "metadata": {},
     "output_type": "execute_result"
    }
   ],
   "source": [
    "df1['Gearbox'].unique()"
   ]
  },
  {
   "cell_type": "code",
   "execution_count": 53,
   "metadata": {
    "scrolled": true
   },
   "outputs": [
    {
     "name": "stdout",
     "output_type": "stream",
     "text": [
      "make_label = {'INFINITI': 0, 'SMART': 1, 'LIGIER': 2, 'ALPINA': 3, 'DANGEL': 4, 'LANCIA': 5, 'HYUNDAI': 6, 'PEUGEOT': 7, 'AC': 8, 'AUDI': 9, 'SIMCA': 10, 'INTERMECCANICA': 11, 'DODGE': 12, 'FIAT': 13, 'MERCEDES': 14, 'CHRYSLER': 15, 'JEEP': 16, 'MORGAN': 17, 'SHELBY': 18, 'MICROCAR': 19, 'LEXUS': 20, 'BELLIER': 21, 'MINI': 22, 'HUMMER': 23, 'SUZUKI': 24, 'ABARTH': 25, 'BENTLEY': 26, 'HONDA': 27, 'KIA': 28, 'JAGUAR': 29, 'TESLA': 30, 'RENAULT': 31, 'BMW': 32, 'BMW-ALPINA': 33, 'DONKERVOORT': 34, 'LADA': 35, 'ALPINE': 36, 'SSANGYONG': 37, 'MATRA': 38, 'DAEWOO': 39, 'BOLLORE': 40, 'ALFA ROMEO': 41, 'AUTOBIANCHI': 42, 'OLDSMOBILE': 43, 'MERCEDES-AMG': 44, 'AUSTIN': 45, 'SKODA': 46, 'PORSCHE': 47, 'VOLVO': 48, 'TRIUMPH': 49, 'MITSUBISHI': 50, 'LAND ROVER': 51, 'CHEVROLET': 52, 'MAZDA': 53, 'SUBARU': 54, 'DAIHATSU': 55, 'FISKER': 56, 'PACKARD': 57, 'OPEL': 58, 'MCLAREN': 59, 'ROVER': 60, 'INNOCENTI': 61, 'AIXAM': 62, 'SAAB': 63, 'FERRARI': 64, 'DS': 65, 'MG': 66, 'CITROEN': 67, 'RILEY': 68, 'FORD': 69, 'BUGATTI': 70, 'CADILLAC': 71, 'GRECAV': 72, 'VOLKSWAGEN': 73, 'CHATENET': 74, 'TOYOTA': 75, 'SEAT': 76, 'MASERATI': 77, 'AUSTIN HEALEY': 78, 'MPM MOTORS': 79, 'SUNBEAM': 80, 'LOTUS': 81, 'ROLLS ROYCE': 82, 'DACIA': 83, 'LAMBORGHINI': 84, 'JIAYUAN': 85, 'NISSAN': 86, 'ASTON MARTIN': 87}\n",
      "model_label = {'GRANDLAND X': 0, 'B-MAX': 1, 'DS4': 2, 'IX20': 3, 'MOKKA': 4, 'KAROQ': 5, 'Q2': 6, 'NOTE': 7, 'FORTWO': 8, 'KALINA': 9, 'THESIS': 10, 'SEICENTO': 11, 'IS': 12, 'AURIS': 13, 'SAFRANE': 14, 'CLASSE E': 15, 'GLC': 16, 'DEFENDER': 17, 'ALMERA': 18, 'AROSA': 19, 'SHUMA': 20, 'A': 21, 'PASSAT CC': 22, 'S90': 23, 'ATOS PRIME': 24, 'SL': 25, 'MONDEO': 26, '807': 27, 'DISCOVERY': 28, 'CAMARO': 29, 'CLASSE GLK': 30, 'ALLROAD': 31, '205': 32, 'RS7': 33, 'GTV': 34, 'TIGUAN ALLSPACE': 35, 'YARIS': 36, 'ROADSTER V6': 37, 'HURACAN': 38, 'THREEWHEELER': 39, 'RAV 4': 40, 'MACAN': 41, 'S60': 42, 'MUSTANG': 43, 'C-MAX': 44, 'RENEGADE': 45, '130': 46, 'VENGA': 47, 'TIPO': 48, 'DOBLO': 49, 'OUTLANDER': 50, '720S': 51, 'EXEO': 52, '121': 53, 'F': 54, 'TIVOLI': 55, 'TREZIA': 56, 'MATIZ': 57, 'QX30': 58, 'JIMNY': 59, 'TRAILBLAZER': 60, 'XJS': 61, 'E-PACE': 62, 'H2': 63, 'SEBRING': 64, 'REZZO': 65, 'THEMA': 66, 'CHARGER': 67, 'LEVORG': 68, 'MP4-12C': 69, 'LAGUNA': 70, 'INSIGHT': 71, '599': 72, 'BRAVA': 73, 'TERRANO': 74, 'TT RS': 75, 'CORDOBA': 76, 'STRATUS': 77, '504': 78, 'GRAND C4 PICASSO': 79, 'URBAN CRUISER': 80, 'DISCOVERY SPORT': 81, 'JOURNEY': 82, 'DUETTO': 83, 'TUCSON': 84, 'D8': 85, 'R8': 86, 'ALPINE': 87, 'XC60': 88, 'ELAN': 89, 'CEE D': 90, 'SERIE 3 GT': 91, '2008': 92, 'CLIO': 93, 'WIND': 94, 'ACCENT': 95, 'SWIFT': 96, '508': 97, 'TYPE E': 98, '570S': 99, 'T-ROC': 100, 'CASCADA': 101, 'PUNTO': 102, 'MINI ROADSTER': 103, 'PULSAR': 104, 'S80': 105, 'EPICA': 106, 'NEMO': 107, 'X5': 108, 'XV': 109, 'RS3': 110, 'TRACTION': 111, 'GTC4LUSSO': 112, 'DS 5': 113, 'SQ5': 114, 'GENESIS': 115, 'PICANTO': 116, 'PS.160': 117, 'GRAND SANTA FE': 118, 'SERIE 3': 119, 'AGILA': 120, 'BLUECAR': 121, 'SPYDER': 122, '500 L': 123, 'CROSSLINE': 124, 'COMPASS': 125, 'HR-V': 126, 'TOURNEO CONNECT': 127, 'KONA': 128, 'CC': 129, 'GRAND KANGOO': 130, 'AX': 131, 'ESPRIT': 132, 'ZAFIRA TOURER': 133, 'FREEMONT': 134, 'NP300 NAVARA': 135, 'TOURNEO': 136, 'BIPPER TEPEE': 137, 'FLUENCE': 138, 'CHALLENGER': 139, 'TF': 140, 'SPACE STAR': 141, 'TRAX': 142, 'V90 CROSS COUNTRY': 143, '575': 144, 'PRIUS': 145, 'V8 VANTAGE': 146, '108': 147, 'AMI': 148, 'UP!': 149, 'CORVETTE': 150, 'CIVIC': 151, 'DELTA': 152, 'FORD': 153, 'CORNICHE': 154, 'A610': 155, 'KOLEOS': 156, 'BENTAYGA': 157, 'CLA': 158, 'TRAVELLER': 159, 'CONCERTO': 160, 'LOGAN': 161, 'R4': 162, 'TAHOE': 163, 'MODEL S': 164, '6': 165, '400': 166, 'ALHAMBRA': 167, 'RS4': 168, 'SERIE 200': 169, 'ROADSTER': 170, 'STREAM': 171, 'GRAND C4 SPACETOURER': 172, 'EVALIA': 173, 'PUMA': 174, 'STELVIO': 175, 'VOYAGER': 176, 'FULVIA': 177, 'C3 PLURIEL': 178, 'ATOS': 179, 'ACCORD': 180, 'BRZ': 181, 'MITO': 182, 'TIVOLI XLV': 183, 'SEVILLE': 184, 'COBRA': 185, 'DB4': 186, 'FOCUS C-MAX': 187, 'CAPTIVA': 188, 'LATITUDE': 189, 'I3': 190, '4/4': 191, 'CH 26': 192, 'STINGER': 193, 'SMART': 194, 'SLK': 195, '80': 196, 'TERIOS': 197, 'GALAXY': 198, 'DUSTER': 199, '180': 200, '360': 201, 'V60': 202, 'CELERIO': 203, 'WILLYS': 204, 'FLAVIA': 205, '9-3': 206, 'QUATTROPORTE': 207, 'SM': 208, 'CTS': 209, 'STONIC': 210, 'ASCONA': 211, 'DB9': 212, 'ARNAGE': 213, 'S3': 214, '550': 215, 'PIXO': 216, 'CALIBER': 217, 'TORONADO': 218, 'XSARA': 219, 'UNO': 220, 'MK II': 221, 'CX-5': 222, 'RIO': 223, 'I8': 224, '75': 225, 'H1': 226, 'FF': 227, 'DS 4 CROSSBACK': 228, 'C4 AIRCROSS': 229, 'F-TYPE': 230, 'RAPID': 231, 'RANGE ROVER SPORT': 232, 'IBIZA': 233, 'OCTAVIA': 234, 'KYRON': 235, '5': 236, 'SLS': 237, '911': 238, 'AVENSIS': 239, 'X-TOO MAX': 240, 'MINI-MOKE': 241, '190': 242, 'DS 7 CROSSBACK': 243, 'SRX': 244, '2': 245, 'IX55': 246, 'KA+': 247, 'GT': 248, 'IDEA': 249, '626': 250, 'YETI': 251, 'CLASSE CLC': 252, 'TR 6': 253, '650 S': 254, 'CLASSE B': 255, 'Q30': 256, 'AMAROK': 257, 'GRAND TOURNEO CONNECT': 258, 'JUMPY': 259, 'VECTRA': 260, 'CLK': 261, 'SIGNUM': 262, 'A2': 263, 'MX5': 264, '124': 265, 'RANGE ROVER VELAR': 266, 'EXIGE': 267, 'PRIMERA': 268, 'COPEN': 269, 'SQ7': 270, '812 SUPERFAST': 271, 'KADJAR': 272, 'MINI CLUBMAN': 273, 'CUSTOM': 274, 'KARL': 275, 'POLO': 276, 'FLYING SPUR': 277, 'AVENTADOR': 278, 'SANDERO': 279, 'DS 4': 280, '206': 281, 'TALISMAN': 282, 'CROSSFIRE': 283, 'SPORTAGE': 284, 'VANQUISH': 285, 'CLASSE S': 286, 'DS 3': 287, 'COCCINELLE': 288, 'MUSSO': 289, 'JAZZ': 290, 'ELDORADO': 291, 'NIRO': 292, 'F12': 293, 'JET': 294, 'GOLF SPORTSVAN': 295, '300': 296, 'SPLASH': 297, 'COMBO': 298, 'XJ8': 299, 'MAREA': 300, 'ARONA': 301, '307': 302, '207+': 303, 'LACETTI': 304, 'VANTAGE': 305, 'SX4': 306, 'OLYMPIA': 307, 'KALOS': 308, 'LANCER': 309, 'CT': 310, 'Q5': 311, 'MURCIELAGO': 312, 'IMPREZA': 313, 'COLT': 314, 'CHEVELLE': 315, 'KARMA': 316, 'BERLINGO': 317, 'PATRIOT': 318, 'CLASSE V': 319, 'C25': 320, 'ULYSSE': 321, 'PHEDRA': 322, 'GRAND ESPACE': 323, 'FOX': 324, 'CADDY': 325, '106': 326, 'TC': 327, 'C30': 328, 'XK': 329, 'DS3': 330, 'XC90': 331, 'CAPTUR': 332, 'XF': 333, 'RX': 334, 'DOKKER': 335, 'CALIFORNIA': 336, 'MEHARI': 337, 'C15': 338, 'X-TRAIL': 339, 'LEON': 340, 'CITY FUN': 341, 'CABSTAR': 342, '812': 343, '456': 344, '159': 345, '512': 346, 'COROLLA VERSO': 347, 'XC40': 348, 'CLASSE R': 349, 'ECOSPORT': 350, 'TOUAREG': 351, 'A4 ALLROAD': 352, 'MEGANE': 353, 'SERIE 1': 354, 'KUGA': 355, 'PARTNER': 356, 'V70': 357, 'DAIMLER': 358, '147': 359, '25': 360, 'VERSO': 361, 'MICRA': 362, 'TT': 363, 'VIRAGE': 364, 'GT86': 365, 'CHEROKEE': 366, 'TESTAROSSA': 367, 'ORLANDO': 368, 'ALTEA FREETRACK': 369, 'COUGAR': 370, 'GLA': 371, 'A8': 372, 'KANGOO': 373, 'EKE': 374, 'CLASSE G': 375, 'RC': 376, 'DINO': 377, 'PARTNER TEPEE': 378, 'BARCHETTA': 379, 'I10': 380, 'ZOE': 381, '4C': 382, '3008': 383, 'XK8': 384, 'VIPER': 385, 'GALLARDO': 386, 'Z3': 387, 'SERIE 6': 388, 'CITY': 389, 'GRANTURISMO': 390, 'FORESTER': 391, 'CLASSE CLS': 392, 'AYGO': 393, 'F355': 394, '458': 395, 'GT 500': 396, 'HHR': 397, 'ZX': 398, 'RODEO': 399, 'JUKE': 400, '612': 401, 'GETZ': 402, 'MODEL X': 403, 'LAND': 404, 'CX-3': 405, 'ASTRA': 406, 'XC70': 407, 'TOURAN': 408, 'P4': 409, 'SX4 S-CROSS': 410, 'CR-V': 411, 'C-CROSSER': 412, 'SPITFIRE': 413, '500': 414, 'QUBO': 415, 'CAYENNE': 416, 'PLUS 4': 417, 'IMPALA': 418, 'GLE': 419, 'DB7': 420, 'PATROL': 421, 'B': 422, 'RANGE ROVER EVOQUE': 423, 'X-TOO': 424, 'AVEO': 425, 'BORA': 426, 'BLUESUMMER': 427, 'TIGRA': 428, '250': 429, '488': 430, 'A7': 431, 'COUNTRYMAN': 432, 'GRAND VOYAGER': 433, '330': 434, 'BRAVO': 435, 'X1/9': 436, 'RAPIDE': 437, 'CLASSE A': 438, 'R5': 439, '508 RXH': 440, '500 X': 441, 'D3': 442, 'ECLIPSE CROSS': 443, 'MINI': 444, 'ANTARA': 445, '2600': 446, 'NX': 447, 'PACEMAN': 448, 'REXTON': 449, 'PUNTO EVO': 450, 'C2': 451, '404': 452, 'RCZ': 453, 'CROSSLAND X': 454, '924': 455, 'ASX': 456, 'MUSA': 457, 'C4': 458, 'C4 PICASSO': 459, 'YPSILON': 460, 'GOLF PLUS': 461, '146': 462, 'I-MIEV': 463, '126': 464, 'PANDA': 465, 'DB11': 466, 'ROOMSTER': 467, 'A5': 468, '5008': 469, 'ALMERA TINO': 470, 'Q70': 471, 'PROACE VERSO': 472, 'SERIE 5': 473, 'FIESTA': 474, 'ADAM': 475, '309': 476, 'GRAND VITARA XL-7': 477, 'SPIDER': 478, 'X1': 479, 'V40': 480, 'AVENGER': 481, 'TRAJET': 482, 'XANTIA': 483, 'XM': 484, 'X3': 485, 'C4 CACTUS': 486, 'C-ELYSEE': 487, 'TWINGO': 488, 'CARENS': 489, '75 LIMOUSINE BVA': 490, 'LC': 491, '3': 492, 'SORENTO': 493, 'NV200': 494, 'SPARK': 495, 'GRAND SCENIC': 496, 'SERIE 2': 497, 'SPACETOURER': 498, 'S-MAX': 499, 'EDGE': 500, 'GIULIETTA': 501, 'V40 CROSS COUNTRY': 502, 'SIRION': 503, 'H3': 504, 'VANEO': 505, 'RANGE ROVER': 506, 'NEW BEETLE': 507, 'EOS': 508, '200': 509, 'Q3': 510, 'COROLLA': 511, 'FORFOUR': 512, '99': 513, 'SUBURBAN': 514, 'TERRACAN': 515, 'MAGENTIS': 516, 'C-ZERO': 517, 'WRAITH': 518, 'MULSANNE': 519, 'XJ12': 520, 'PLUS 8': 521, 'MII': 522, 'CH 40': 523, 'RS6': 524, '156': 525, 'I20': 526, 'LODGY': 527, 'KA': 528, '718': 529, '505': 530, '1300': 531, 'AERO 8': 532, '403': 533, '4008': 534, 'C-HR': 535, 'QX50': 536, 'A6 ALLROAD': 537, 'VERSO-S': 538, '560': 539, 'TTS': 540, 'LEGACY': 541, 'MODUS': 542, 'S6': 543, 'CROSSOVER': 544, 'DUE': 545, 'TOLEDO': 546, 'COUPE': 547, 'EXPERT TEPEE': 548, 'PROWLER': 549, 'ALFETTA': 550, 'G': 551, 'GRANSPORT': 552, 'B8': 553, 'S5': 554, 'S40': 555, '2 ELEVEN': 556, '420': 557, 'QASHQAI': 558, 'FABIA': 559, 'C10': 560, 'FRONTERA': 561, 'CORSA': 562, 'XJ': 563, 'GLS': 564, 'C4 SPACETOURER': 565, 'F430': 566, 'SILVERADO': 567, 'C3 AIRCROSS': 568, 'WAGON R+': 569, 'T': 570, 'VITARA': 571, 'YARIS VERSO': 572, '944': 573, 'QX70': 574, 'S1': 575, 'JETTA': 576, '160': 577, 'A6': 578, 'PHANTOM': 579, 'FUSION': 580, 'MURANO': 581, 'GRAND MODUS': 582, 'BETA': 583, 'CARAVELLE': 584, '407': 585, 'B3 S': 586, 'SHARAN': 587, 'FREELANDER': 588, 'ESPACE': 589, 'EX': 590, 'BRERA': 591, 'I40': 592, 'PALIO': 593, '604': 594, '350Z': 595, 'S4': 596, 'TOURNEO COURIER': 597, 'SLC': 598, '806': 599, 'NITRO': 600, '230': 601, 'MULTIPLA': 602, 'F150': 603, 'SUPER 5': 604, 'M': 605, 'SUNNY': 606, 'SERIE 5 GT': 607, 'SPRITE': 608, 'PANAMERA': 609, '33': 610, 'AVANTIME': 611, 'PASSAT': 612, 'GLC COUPE': 613, '356': 614, '3.0': 615, 'CLASSE GL': 616, 'OUTBACK': 617, 'SILVER SHADOW': 618, 'X4': 619, 'LEAF': 620, 'LS': 621, 'PRIUS+': 622, 'SC': 623, 'KANGOO EXPRESS': 624, 'LIANA': 625, 'GRANDE PUNTO': 626, 'FR-V': 627, 'C1': 628, 'C3': 629, 'WRANGLER': 630, 'S7': 631, 'CX': 632, 'C': 633, 'AVENSIS VERSO': 634, 'PHAETON': 635, 'GHIBLI': 636, 'BUGGY': 637, '107': 638, 'XKR': 639, 'FX': 640, 'STAG': 641, 'E-MEHARI': 642, 'GIULIA': 643, '607': 644, 'CITAN': 645, 'A112': 646, 'RS Q3': 647, 'MERIVA': 648, 'JS': 649, 'Q7': 650, 'ESCORT': 651, 'IQ': 652, 'ESCALADE': 653, 'LEBARON': 654, 'RS5': 655, 'CERATO': 656, 'C8': 657, '208': 658, 'MINI CABRIOLET': 659, 'CROMA': 660, '166': 661, 'GLE COUPE': 662, 'CARNIVAL': 663, 'JUSTY': 664, 'CITIGO': 665, 'VEYRON': 666, 'CX-7': 667, 'I30': 668, 'SERIE 7': 669, 'S8': 670, 'V60 CROSS COUNTRY': 671, 'TR 5': 672, 'X6': 673, 'C3 PICASSO': 674, 'CL': 675, '300 C': 676, 'CAYMAN': 677, 'S-TYPE': 678, 'GOLF': 679, 'A3': 680, 'PT CRUISER': 681, 'TREVIS': 682, 'STILO': 683, '1000': 684, 'X2': 685, 'Q50': 686, 'EXPLORER': 687, 'SPEEDSTER': 688, 'V90': 689, 'RODIUS': 690, 'ARTEON': 691, 'PAJERO': 692, 'CT6': 693, '2CV': 694, 'SERIE 4': 695, 'SHUTTLE': 696, 'MINI COUPE': 697, 'A4': 698, 'NIVA': 699, 'EVORA': 700, 'PRO CEE D': 701, 'GRAND C-MAX': 702, 'CONTINENTAL': 703, 'M.GO': 704, '2002': 705, 'SEVEN': 706, 'GALLOPER': 707, '3200 GT': 708, 'VELOSTER': 709, 'MATERIA': 710, 'SCENIC': 711, 'LEVANTE': 712, 'SCIROCCO': 713, 'SANTA FE': 714, 'ALTEA': 715, 'XE': 716, '1007': 717, 'WRX STI': 718, '348': 719, 'SIERRA': 720, 'NOVA': 721, 'Z4': 722, '306': 723, '4007': 724, '9-5': 725, 'EVASION': 726, 'F-PACE': 727, 'IX35': 728, 'TWIZY': 729, 'BALENO': 730, 'MATRIX': 731, 'SAMURAI': 732, 'CLIPPER': 733, 'CROSSBLADE': 734, 'VIANO': 735, 'TR 7': 736, 'PROACE': 737, '280': 738, 'BX': 739, 'CX-9': 740, '1200': 741, 'ION': 742, 'INSIGNIA': 743, 'LAND CRUISER SW': 744, 'BOXSTER': 745, 'GMC': 746, 'OMEGA': 747, 'MOKKA X': 748, 'DURANGO': 749, 'CUBE': 750, 'EL CAMINO': 751, 'QASHQAI +2': 752, 'KODIAQ': 753, 'ELISE': 754, '3000': 755, 'MALIBU': 756, 'CR-Z': 757, '145': 758, 'ATECA': 759, 'LAND CRUISER': 760, 'X-TYPE': 761, 'C5': 762, 'TR 3': 763, 'GRAND VITARA': 764, 'A1': 765, 'LUPO': 766, 'SAXO': 767, 'C70': 768, 'IGNIS': 769, '206+': 770, '365': 771, 'DBS': 772, 'MONDIAL': 773, 'VEL SATIS': 774, 'DS': 775, '450': 776, 'PREVIA': 777, '207': 778, 'TRANSIT CUSTOM': 779, '406': 780, 'MAVERICK': 781, 'FOCUS': 782, 'SATELLITE': 783, 'VOLT': 784, 'GRANDIS': 785, 'ELF': 786, 'SOUL': 787, 'S2': 788, 'FIORINO': 789, 'ALTO': 790, '45': 791, '370Z': 792, 'KORANDO': 793, 'Q60': 794, 'CLASSE C': 795, 'SONATA': 796, 'XD3': 797, 'C6': 798, 'SUPERB': 799, '308': 800, 'COMMANDER': 801, 'MINAUTO': 802, 'CLASSE M': 803, 'P1800': 804, 'PICASSO': 805, 'SEDICI': 806, '675 LT': 807, 'GS': 808, 'GHOST': 809, 'DS5': 810, 'MULTIVAN': 811, 'GTA': 812, 'TIGUAN': 813, 'TR 4': 814, 'PATHFINDER': 815, 'GRANCABRIO': 816, 'V50': 817, 'THUNDERBIRD': 818, 'CUTLASS': 819, 'CRUZE': 820, 'STS': 821, 'K5 BLAZER': 822, 'DAWN': 823, 'GRAND CHEROKEE': 824, '928': 825, 'DYANE': 826, 'ZAFIRA': 827, 'IONIQ': 828, 'GT-R': 829, 'OPTIMA': 830}\n",
      "fuel_label = {'Essence': 0, 'Diesel': 1, 'Bicarburation essence bioéthanol': 2, 'Hybride diesel électrique': 3, 'Electrique': 4, 'Bicarburation essence GPL': 5, 'Hybride essence électrique': 6}\n",
      "gearbox_label = {'mécanique': 0, 'automatique': 1}\n"
     ]
    }
   ],
   "source": [
    "print('make_label = {}'.format(make_label))\n",
    "print('model_label = {}'.format(model_label))\n",
    "print('fuel_label = {}'.format(fuel_label))\n",
    "print('gearbox_label = {}'.format(gearbox_label))"
   ]
  },
  {
   "cell_type": "code",
   "execution_count": 54,
   "metadata": {},
   "outputs": [
    {
     "data": {
      "text/html": [
       "<div>\n",
       "<style scoped>\n",
       "    .dataframe tbody tr th:only-of-type {\n",
       "        vertical-align: middle;\n",
       "    }\n",
       "\n",
       "    .dataframe tbody tr th {\n",
       "        vertical-align: top;\n",
       "    }\n",
       "\n",
       "    .dataframe thead th {\n",
       "        text-align: right;\n",
       "    }\n",
       "</style>\n",
       "<table border=\"1\" class=\"dataframe\">\n",
       "  <thead>\n",
       "    <tr style=\"text-align: right;\">\n",
       "      <th></th>\n",
       "      <th>Price</th>\n",
       "      <th>Make</th>\n",
       "      <th>Model</th>\n",
       "      <th>Model_year</th>\n",
       "      <th>Mileage</th>\n",
       "      <th>Fuel</th>\n",
       "      <th>Gearbox</th>\n",
       "      <th>Nbre_porte</th>\n",
       "      <th>CV</th>\n",
       "    </tr>\n",
       "  </thead>\n",
       "  <tbody>\n",
       "    <tr>\n",
       "      <th>0</th>\n",
       "      <td>11220.0</td>\n",
       "      <td>PEUGEOT</td>\n",
       "      <td>308</td>\n",
       "      <td>4</td>\n",
       "      <td>94341.0</td>\n",
       "      <td>Diesel</td>\n",
       "      <td>mécanique</td>\n",
       "      <td>5</td>\n",
       "      <td>4</td>\n",
       "    </tr>\n",
       "    <tr>\n",
       "      <th>1</th>\n",
       "      <td>57526.0</td>\n",
       "      <td>BMW</td>\n",
       "      <td>X6</td>\n",
       "      <td>3</td>\n",
       "      <td>39051.0</td>\n",
       "      <td>Diesel</td>\n",
       "      <td>automatique</td>\n",
       "      <td>5</td>\n",
       "      <td>16</td>\n",
       "    </tr>\n",
       "    <tr>\n",
       "      <th>2</th>\n",
       "      <td>80379.0</td>\n",
       "      <td>AUDI</td>\n",
       "      <td>RS6</td>\n",
       "      <td>4</td>\n",
       "      <td>75381.0</td>\n",
       "      <td>Essence</td>\n",
       "      <td>automatique</td>\n",
       "      <td>5</td>\n",
       "      <td>47</td>\n",
       "    </tr>\n",
       "    <tr>\n",
       "      <th>3</th>\n",
       "      <td>2830.0</td>\n",
       "      <td>FORD</td>\n",
       "      <td>KA</td>\n",
       "      <td>11</td>\n",
       "      <td>92282.0</td>\n",
       "      <td>Essence</td>\n",
       "      <td>mécanique</td>\n",
       "      <td>3</td>\n",
       "      <td>5</td>\n",
       "    </tr>\n",
       "    <tr>\n",
       "      <th>4</th>\n",
       "      <td>12925.0</td>\n",
       "      <td>FIAT</td>\n",
       "      <td>TIPO</td>\n",
       "      <td>0</td>\n",
       "      <td>10.0</td>\n",
       "      <td>Essence</td>\n",
       "      <td>mécanique</td>\n",
       "      <td>5</td>\n",
       "      <td>5</td>\n",
       "    </tr>\n",
       "  </tbody>\n",
       "</table>\n",
       "</div>"
      ],
      "text/plain": [
       "     Price     Make Model  Model_year  Mileage     Fuel      Gearbox  \\\n",
       "0  11220.0  PEUGEOT   308           4  94341.0   Diesel    mécanique   \n",
       "1  57526.0      BMW    X6           3  39051.0   Diesel  automatique   \n",
       "2  80379.0     AUDI   RS6           4  75381.0  Essence  automatique   \n",
       "3   2830.0     FORD    KA          11  92282.0  Essence    mécanique   \n",
       "4  12925.0     FIAT  TIPO           0     10.0  Essence    mécanique   \n",
       "\n",
       "   Nbre_porte  CV  \n",
       "0           5   4  \n",
       "1           5  16  \n",
       "2           5  47  \n",
       "3           3   5  \n",
       "4           5   5  "
      ]
     },
     "execution_count": 54,
     "metadata": {},
     "output_type": "execute_result"
    }
   ],
   "source": [
    "df1.head()"
   ]
  },
  {
   "cell_type": "code",
   "execution_count": 55,
   "metadata": {},
   "outputs": [],
   "source": [
    "df1['Make'] = df1['Make'].map(make_label)\n",
    "df1['Model'] = df1['Model'].map(model_label)\n",
    "df1['Fuel'] = df1['Fuel'].map(fuel_label)\n",
    "df1['Gearbox'] = df1['Gearbox'].map(gearbox_label)"
   ]
  },
  {
   "cell_type": "code",
   "execution_count": 56,
   "metadata": {},
   "outputs": [
    {
     "data": {
      "text/html": [
       "<div>\n",
       "<style scoped>\n",
       "    .dataframe tbody tr th:only-of-type {\n",
       "        vertical-align: middle;\n",
       "    }\n",
       "\n",
       "    .dataframe tbody tr th {\n",
       "        vertical-align: top;\n",
       "    }\n",
       "\n",
       "    .dataframe thead th {\n",
       "        text-align: right;\n",
       "    }\n",
       "</style>\n",
       "<table border=\"1\" class=\"dataframe\">\n",
       "  <thead>\n",
       "    <tr style=\"text-align: right;\">\n",
       "      <th></th>\n",
       "      <th>Price</th>\n",
       "      <th>Make</th>\n",
       "      <th>Model</th>\n",
       "      <th>Model_year</th>\n",
       "      <th>Mileage</th>\n",
       "      <th>Fuel</th>\n",
       "      <th>Gearbox</th>\n",
       "      <th>Nbre_porte</th>\n",
       "      <th>CV</th>\n",
       "    </tr>\n",
       "  </thead>\n",
       "  <tbody>\n",
       "    <tr>\n",
       "      <th>0</th>\n",
       "      <td>11220.0</td>\n",
       "      <td>7</td>\n",
       "      <td>800</td>\n",
       "      <td>4</td>\n",
       "      <td>94341.0</td>\n",
       "      <td>1</td>\n",
       "      <td>0</td>\n",
       "      <td>5</td>\n",
       "      <td>4</td>\n",
       "    </tr>\n",
       "    <tr>\n",
       "      <th>1</th>\n",
       "      <td>57526.0</td>\n",
       "      <td>32</td>\n",
       "      <td>673</td>\n",
       "      <td>3</td>\n",
       "      <td>39051.0</td>\n",
       "      <td>1</td>\n",
       "      <td>1</td>\n",
       "      <td>5</td>\n",
       "      <td>16</td>\n",
       "    </tr>\n",
       "    <tr>\n",
       "      <th>2</th>\n",
       "      <td>80379.0</td>\n",
       "      <td>9</td>\n",
       "      <td>524</td>\n",
       "      <td>4</td>\n",
       "      <td>75381.0</td>\n",
       "      <td>0</td>\n",
       "      <td>1</td>\n",
       "      <td>5</td>\n",
       "      <td>47</td>\n",
       "    </tr>\n",
       "    <tr>\n",
       "      <th>3</th>\n",
       "      <td>2830.0</td>\n",
       "      <td>69</td>\n",
       "      <td>528</td>\n",
       "      <td>11</td>\n",
       "      <td>92282.0</td>\n",
       "      <td>0</td>\n",
       "      <td>0</td>\n",
       "      <td>3</td>\n",
       "      <td>5</td>\n",
       "    </tr>\n",
       "    <tr>\n",
       "      <th>4</th>\n",
       "      <td>12925.0</td>\n",
       "      <td>13</td>\n",
       "      <td>48</td>\n",
       "      <td>0</td>\n",
       "      <td>10.0</td>\n",
       "      <td>0</td>\n",
       "      <td>0</td>\n",
       "      <td>5</td>\n",
       "      <td>5</td>\n",
       "    </tr>\n",
       "  </tbody>\n",
       "</table>\n",
       "</div>"
      ],
      "text/plain": [
       "     Price  Make  Model  Model_year  Mileage  Fuel  Gearbox  Nbre_porte  CV\n",
       "0  11220.0     7    800           4  94341.0     1        0           5   4\n",
       "1  57526.0    32    673           3  39051.0     1        1           5  16\n",
       "2  80379.0     9    524           4  75381.0     0        1           5  47\n",
       "3   2830.0    69    528          11  92282.0     0        0           3   5\n",
       "4  12925.0    13     48           0     10.0     0        0           5   5"
      ]
     },
     "execution_count": 56,
     "metadata": {},
     "output_type": "execute_result"
    }
   ],
   "source": [
    "df1.head()"
   ]
  },
  {
   "cell_type": "code",
   "execution_count": 57,
   "metadata": {},
   "outputs": [],
   "source": [
    "#normalized_df1.head()"
   ]
  },
  {
   "cell_type": "code",
   "execution_count": 58,
   "metadata": {},
   "outputs": [
    {
     "data": {
      "text/plain": [
       "Price         float64\n",
       "Make            int64\n",
       "Model           int64\n",
       "Model_year      int16\n",
       "Mileage       float64\n",
       "Fuel            int64\n",
       "Gearbox         int64\n",
       "Nbre_porte      int64\n",
       "CV              int64\n",
       "dtype: object"
      ]
     },
     "execution_count": 58,
     "metadata": {},
     "output_type": "execute_result"
    }
   ],
   "source": [
    "df1.dtypes"
   ]
  },
  {
   "cell_type": "code",
   "execution_count": 59,
   "metadata": {},
   "outputs": [
    {
     "data": {
      "text/plain": [
       "<matplotlib.axes._subplots.AxesSubplot at 0x1095ceba8>"
      ]
     },
     "execution_count": 59,
     "metadata": {},
     "output_type": "execute_result"
    },
    {
     "data": {
      "image/png": "[encoded data removed]",
      "text/plain": [
       "<Figure size 720x432 with 2 Axes>"
      ]
     },
     "metadata": {
      "needs_background": "light"
     },
     "output_type": "display_data"
    }
   ],
   "source": [
    "plt.figure(figsize=(10,6))\n",
    "sns.heatmap(df1.corr(), annot=True)"
   ]
  },
  {
   "cell_type": "code",
   "execution_count": 60,
   "metadata": {},
   "outputs": [
    {
     "data": {
      "text/html": [
       "<div>\n",
       "<style scoped>\n",
       "    .dataframe tbody tr th:only-of-type {\n",
       "        vertical-align: middle;\n",
       "    }\n",
       "\n",
       "    .dataframe tbody tr th {\n",
       "        vertical-align: top;\n",
       "    }\n",
       "\n",
       "    .dataframe thead th {\n",
       "        text-align: right;\n",
       "    }\n",
       "</style>\n",
       "<table border=\"1\" class=\"dataframe\">\n",
       "  <thead>\n",
       "    <tr style=\"text-align: right;\">\n",
       "      <th></th>\n",
       "      <th>Price</th>\n",
       "      <th>Make</th>\n",
       "      <th>Model</th>\n",
       "      <th>Model_year</th>\n",
       "      <th>Mileage</th>\n",
       "      <th>Fuel</th>\n",
       "      <th>Gearbox</th>\n",
       "      <th>Nbre_porte</th>\n",
       "      <th>CV</th>\n",
       "    </tr>\n",
       "  </thead>\n",
       "  <tbody>\n",
       "    <tr>\n",
       "      <th>count</th>\n",
       "      <td>1.654060e+05</td>\n",
       "      <td>165406.000000</td>\n",
       "      <td>165406.000000</td>\n",
       "      <td>165406.000000</td>\n",
       "      <td>1.654060e+05</td>\n",
       "      <td>165406.000000</td>\n",
       "      <td>165406.000000</td>\n",
       "      <td>165406.000000</td>\n",
       "      <td>165406.000000</td>\n",
       "    </tr>\n",
       "    <tr>\n",
       "      <th>mean</th>\n",
       "      <td>1.932165e+04</td>\n",
       "      <td>38.805624</td>\n",
       "      <td>413.297825</td>\n",
       "      <td>3.378656</td>\n",
       "      <td>4.675428e+04</td>\n",
       "      <td>0.780171</td>\n",
       "      <td>0.322721</td>\n",
       "      <td>4.690785</td>\n",
       "      <td>7.061207</td>\n",
       "    </tr>\n",
       "    <tr>\n",
       "      <th>std</th>\n",
       "      <td>1.635159e+04</td>\n",
       "      <td>26.553032</td>\n",
       "      <td>232.450051</td>\n",
       "      <td>8.298584</td>\n",
       "      <td>4.801981e+04</td>\n",
       "      <td>0.858439</td>\n",
       "      <td>0.467518</td>\n",
       "      <td>0.767870</td>\n",
       "      <td>4.735703</td>\n",
       "    </tr>\n",
       "    <tr>\n",
       "      <th>min</th>\n",
       "      <td>1.000000e+00</td>\n",
       "      <td>0.000000</td>\n",
       "      <td>0.000000</td>\n",
       "      <td>-3000.000000</td>\n",
       "      <td>1.000000e+00</td>\n",
       "      <td>0.000000</td>\n",
       "      <td>0.000000</td>\n",
       "      <td>0.000000</td>\n",
       "      <td>0.000000</td>\n",
       "    </tr>\n",
       "    <tr>\n",
       "      <th>25%</th>\n",
       "      <td>1.131900e+04</td>\n",
       "      <td>13.000000</td>\n",
       "      <td>255.000000</td>\n",
       "      <td>1.000000</td>\n",
       "      <td>9.159000e+03</td>\n",
       "      <td>0.000000</td>\n",
       "      <td>0.000000</td>\n",
       "      <td>5.000000</td>\n",
       "      <td>5.000000</td>\n",
       "    </tr>\n",
       "    <tr>\n",
       "      <th>50%</th>\n",
       "      <td>1.578200e+04</td>\n",
       "      <td>31.000000</td>\n",
       "      <td>408.000000</td>\n",
       "      <td>2.000000</td>\n",
       "      <td>3.040900e+04</td>\n",
       "      <td>1.000000</td>\n",
       "      <td>0.000000</td>\n",
       "      <td>5.000000</td>\n",
       "      <td>6.000000</td>\n",
       "    </tr>\n",
       "    <tr>\n",
       "      <th>75%</th>\n",
       "      <td>2.270800e+04</td>\n",
       "      <td>67.000000</td>\n",
       "      <td>629.000000</td>\n",
       "      <td>5.000000</td>\n",
       "      <td>7.311175e+04</td>\n",
       "      <td>1.000000</td>\n",
       "      <td>1.000000</td>\n",
       "      <td>5.000000</td>\n",
       "      <td>8.000000</td>\n",
       "    </tr>\n",
       "    <tr>\n",
       "      <th>max</th>\n",
       "      <td>1.486500e+06</td>\n",
       "      <td>87.000000</td>\n",
       "      <td>830.000000</td>\n",
       "      <td>118.000000</td>\n",
       "      <td>1.418551e+06</td>\n",
       "      <td>6.000000</td>\n",
       "      <td>1.000000</td>\n",
       "      <td>6.000000</td>\n",
       "      <td>81.000000</td>\n",
       "    </tr>\n",
       "  </tbody>\n",
       "</table>\n",
       "</div>"
      ],
      "text/plain": [
       "              Price           Make          Model     Model_year  \\\n",
       "count  1.654060e+05  165406.000000  165406.000000  165406.000000   \n",
       "mean   1.932165e+04      38.805624     413.297825       3.378656   \n",
       "std    1.635159e+04      26.553032     232.450051       8.298584   \n",
       "min    1.000000e+00       0.000000       0.000000   -3000.000000   \n",
       "25%    1.131900e+04      13.000000     255.000000       1.000000   \n",
       "50%    1.578200e+04      31.000000     408.000000       2.000000   \n",
       "75%    2.270800e+04      67.000000     629.000000       5.000000   \n",
       "max    1.486500e+06      87.000000     830.000000     118.000000   \n",
       "\n",
       "            Mileage           Fuel        Gearbox     Nbre_porte  \\\n",
       "count  1.654060e+05  165406.000000  165406.000000  165406.000000   \n",
       "mean   4.675428e+04       0.780171       0.322721       4.690785   \n",
       "std    4.801981e+04       0.858439       0.467518       0.767870   \n",
       "min    1.000000e+00       0.000000       0.000000       0.000000   \n",
       "25%    9.159000e+03       0.000000       0.000000       5.000000   \n",
       "50%    3.040900e+04       1.000000       0.000000       5.000000   \n",
       "75%    7.311175e+04       1.000000       1.000000       5.000000   \n",
       "max    1.418551e+06       6.000000       1.000000       6.000000   \n",
       "\n",
       "                  CV  \n",
       "count  165406.000000  \n",
       "mean        7.061207  \n",
       "std         4.735703  \n",
       "min         0.000000  \n",
       "25%         5.000000  \n",
       "50%         6.000000  \n",
       "75%         8.000000  \n",
       "max        81.000000  "
      ]
     },
     "execution_count": 60,
     "metadata": {},
     "output_type": "execute_result"
    }
   ],
   "source": [
    "df1.describe()"
   ]
  },
  {
   "cell_type": "markdown",
   "metadata": {},
   "source": [
    "## X & Y "
   ]
  },
  {
   "cell_type": "code",
   "execution_count": 61,
   "metadata": {},
   "outputs": [],
   "source": [
    "Xfeatures1 = df1[[\n",
    "    \"Make\",\n",
    "    \"Model\", \n",
    "    \"Model_year\",\n",
    "    \"Mileage\",\n",
    "    \"Fuel\",\n",
    "    \"CV\",\n",
    "    \"Nbre_porte\",\n",
    "    \"Gearbox\"    \n",
    "]]\n",
    "ylabels1 = df1['Price']"
   ]
  },
  {
   "cell_type": "markdown",
   "metadata": {},
   "source": [
    "## Split Dataset"
   ]
  },
  {
   "cell_type": "code",
   "execution_count": 62,
   "metadata": {},
   "outputs": [],
   "source": [
    "X_train1, X_test1, Y_train1, Y_test1 = train_test_split(Xfeatures1, ylabels1, test_size=0.30, random_state=42)"
   ]
  },
  {
   "cell_type": "code",
   "execution_count": 63,
   "metadata": {},
   "outputs": [],
   "source": [
    "lreg = LinearRegression()"
   ]
  },
  {
   "cell_type": "code",
   "execution_count": 64,
   "metadata": {},
   "outputs": [],
   "source": [
    "lreg.fit(X_train1, Y_train1)\n",
    "y_pred1 = lreg.predict(X_test1)"
   ]
  },
  {
   "cell_type": "code",
   "execution_count": 65,
   "metadata": {},
   "outputs": [
    {
     "data": {
      "text/plain": [
       "134149059.2392767"
      ]
     },
     "execution_count": 65,
     "metadata": {},
     "output_type": "execute_result"
    }
   ],
   "source": [
    "mean_squared_error(Y_test1, y_pred1)"
   ]
  },
  {
   "cell_type": "code",
   "execution_count": 66,
   "metadata": {},
   "outputs": [
    {
     "data": {
      "text/plain": [
       "183.44326883749997"
      ]
     },
     "execution_count": 66,
     "metadata": {},
     "output_type": "execute_result"
    }
   ],
   "source": [
    "mean_absolute_percentage_error(Y_test1, y_pred1)"
   ]
  },
  {
   "cell_type": "code",
   "execution_count": 67,
   "metadata": {},
   "outputs": [
    {
     "data": {
      "text/plain": [
       "0.5523927242536941"
      ]
     },
     "execution_count": 67,
     "metadata": {},
     "output_type": "execute_result"
    }
   ],
   "source": [
    "r2_score(Y_test1, y_pred1)"
   ]
  },
  {
   "cell_type": "code",
   "execution_count": null,
   "metadata": {},
   "outputs": [],
   "source": []
  },
  {
   "cell_type": "code",
   "execution_count": 68,
   "metadata": {},
   "outputs": [
    {
     "name": "stdout",
     "output_type": "stream",
     "text": [
      "250.0\n"
     ]
    }
   ],
   "source": [
    "def mean_absolute_percentage_error(y_true1, y_pred1):\n",
    "    y_true1, y_pred1 = np.array(y_true1), np.array(y_pred1)\n",
    "    return np.mean(np.abs((y_true1 - y_pred1) / y_true1)) * 100\n",
    "\n",
    "\n",
    "y_true1 = np.random.randn(100)\n",
    "y_pred1 = y_true1 * 3.5\n",
    "\n",
    "print(mean_absolute_percentage_error(y_true1, y_pred1))"
   ]
  },
  {
   "cell_type": "code",
   "execution_count": 70,
   "metadata": {},
   "outputs": [
    {
     "data": {
      "image/png": "[encoded data removed]",
      "text/plain": [
       "<Figure size 432x288 with 1 Axes>"
      ]
     },
     "metadata": {
      "needs_background": "light"
     },
     "output_type": "display_data"
    }
   ],
   "source": [
    "plt.plot(y_true1)\n",
    "plt.plot(y_pred1)\n",
    "plt.legend([\"true\", \"pred\"])\n",
    "plt.show()"
   ]
  },
  {
   "cell_type": "code",
   "execution_count": null,
   "metadata": {},
   "outputs": [],
   "source": []
  },
  {
   "cell_type": "code",
   "execution_count": null,
   "metadata": {},
   "outputs": [],
   "source": []
  },
  {
   "cell_type": "code",
   "execution_count": null,
   "metadata": {},
   "outputs": [],
   "source": []
  }
 ],
 "metadata": {
  "kernelspec": {
   "display_name": "Python 3",
   "language": "python",
   "name": "python3"
  },
  "language_info": {
   "codemirror_mode": {
    "name": "ipython",
    "version": 3
   },
   "file_extension": ".py",
   "mimetype": "text/x-python",
   "name": "python",
   "nbconvert_exporter": "python",
   "pygments_lexer": "ipython3",
   "version": "3.6.8"
  }
 },
 "nbformat": 4,
 "nbformat_minor": 2
}
