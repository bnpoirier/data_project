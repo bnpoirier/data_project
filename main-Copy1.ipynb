{
 "cells": [
  {
   "cell_type": "code",
   "execution_count": 3,
   "metadata": {},
   "outputs": [],
   "source": [
    "import os\n",
    "\n",
    "import pandas as pd\n",
    "import numpy as np\n",
    "import seaborn as sns\n",
    "\n",
    "from utils.process import categorize\n",
    "from utils.metrics import mean_absolute_percentage_error\n",
    "\n",
    "from sklearn.model_selection import train_test_split, cross_val_score\n",
    "from sklearn.linear_model import LinearRegression\n",
    "from sklearn.metrics import mean_squared_error, r2_score"
   ]
  },
  {
   "cell_type": "markdown",
   "metadata": {},
   "source": [
    "## Import dataset"
   ]
  },
  {
   "cell_type": "code",
   "execution_count": 4,
   "metadata": {},
   "outputs": [
    {
     "data": {
      "text/plain": [
       "'/Users/stevenr/Documents/Cours_MD5/projet_data/9mai/data_project-master'"
      ]
     },
     "execution_count": 4,
     "metadata": {},
     "output_type": "execute_result"
    }
   ],
   "source": [
    "# See working directory (No need, just for myself)\n",
    "os.getcwd()"
   ]
  },
  {
   "cell_type": "code",
   "execution_count": 5,
   "metadata": {},
   "outputs": [],
   "source": [
    "df = pd.read_csv('./data_cars.csv')"
   ]
  },
  {
   "cell_type": "code",
   "execution_count": 6,
   "metadata": {},
   "outputs": [
    {
     "data": {
      "text/html": [
       "<div>\n",
       "<style scoped>\n",
       "    .dataframe tbody tr th:only-of-type {\n",
       "        vertical-align: middle;\n",
       "    }\n",
       "\n",
       "    .dataframe tbody tr th {\n",
       "        vertical-align: top;\n",
       "    }\n",
       "\n",
       "    .dataframe thead th {\n",
       "        text-align: right;\n",
       "    }\n",
       "</style>\n",
       "<table border=\"1\" class=\"dataframe\">\n",
       "  <thead>\n",
       "    <tr style=\"text-align: right;\">\n",
       "      <th></th>\n",
       "      <th>Price</th>\n",
       "      <th>Make</th>\n",
       "      <th>Model</th>\n",
       "      <th>Model_year</th>\n",
       "      <th>Mileage</th>\n",
       "      <th>Fuel</th>\n",
       "      <th>Gearbox</th>\n",
       "      <th>Online</th>\n",
       "      <th>Description</th>\n",
       "    </tr>\n",
       "  </thead>\n",
       "  <tbody>\n",
       "    <tr>\n",
       "      <th>0</th>\n",
       "      <td>11220.0</td>\n",
       "      <td>PEUGEOT</td>\n",
       "      <td>308</td>\n",
       "      <td>2014</td>\n",
       "      <td>94341.0 km</td>\n",
       "      <td>Diesel</td>\n",
       "      <td>mécanique</td>\n",
       "      <td>06/07/2018 à 3h47</td>\n",
       "      <td>modele: 308 (2E GENERATION), version: 1.6 HDI ...</td>\n",
       "    </tr>\n",
       "    <tr>\n",
       "      <th>1</th>\n",
       "      <td>57526.0</td>\n",
       "      <td>BMW</td>\n",
       "      <td>X6</td>\n",
       "      <td>2015</td>\n",
       "      <td>39051.0 km</td>\n",
       "      <td>Diesel</td>\n",
       "      <td>automatique</td>\n",
       "      <td>03/04/2018 à 16h41</td>\n",
       "      <td>modele: X6 F16, version: (F16) XDRIVE30D 258 M...</td>\n",
       "    </tr>\n",
       "    <tr>\n",
       "      <th>2</th>\n",
       "      <td>80379.0</td>\n",
       "      <td>AUDI</td>\n",
       "      <td>RS6</td>\n",
       "      <td>2014</td>\n",
       "      <td>75381.0 km</td>\n",
       "      <td>Essence</td>\n",
       "      <td>automatique</td>\n",
       "      <td>30/07/2018 à 1h55</td>\n",
       "      <td>modele: RS6 (3E GENERATION) AVANT, version: II...</td>\n",
       "    </tr>\n",
       "    <tr>\n",
       "      <th>3</th>\n",
       "      <td>2830.0</td>\n",
       "      <td>FORD</td>\n",
       "      <td>KA</td>\n",
       "      <td>2007</td>\n",
       "      <td>92282.0 km</td>\n",
       "      <td>Essence</td>\n",
       "      <td>mécanique</td>\n",
       "      <td>09/07/2018 à 14h12</td>\n",
       "      <td>modele: KA, version: 1.3 70 FUN, puissance_fis...</td>\n",
       "    </tr>\n",
       "    <tr>\n",
       "      <th>4</th>\n",
       "      <td>12925.0</td>\n",
       "      <td>FIAT</td>\n",
       "      <td>TIPO</td>\n",
       "      <td>2018</td>\n",
       "      <td>10.0 km</td>\n",
       "      <td>Essence</td>\n",
       "      <td>mécanique</td>\n",
       "      <td>19/05/2018 à 3h52</td>\n",
       "      <td>modele: TIPO 2 SW, version: II SW 1.4 95 POP, ...</td>\n",
       "    </tr>\n",
       "    <tr>\n",
       "      <th>5</th>\n",
       "      <td>27956.0</td>\n",
       "      <td>BMW</td>\n",
       "      <td>X3</td>\n",
       "      <td>2012</td>\n",
       "      <td>95623.0 km</td>\n",
       "      <td>Diesel</td>\n",
       "      <td>automatique</td>\n",
       "      <td>14/03/2018 à 4h24</td>\n",
       "      <td>modele: X3 F25, version: (F25) XDRIVE35D 313 S...</td>\n",
       "    </tr>\n",
       "    <tr>\n",
       "      <th>6</th>\n",
       "      <td>16888.0</td>\n",
       "      <td>AUDI</td>\n",
       "      <td>A3</td>\n",
       "      <td>2013</td>\n",
       "      <td>49018.0 km</td>\n",
       "      <td>Diesel</td>\n",
       "      <td>mécanique</td>\n",
       "      <td>16/04/2018 à 21h35</td>\n",
       "      <td>modele: A3 (2E GENERATION) SPORTBACK, version:...</td>\n",
       "    </tr>\n",
       "    <tr>\n",
       "      <th>7</th>\n",
       "      <td>18188.0</td>\n",
       "      <td>RENAULT</td>\n",
       "      <td>MEGANE</td>\n",
       "      <td>2017</td>\n",
       "      <td>9795.0 km</td>\n",
       "      <td>Diesel</td>\n",
       "      <td>automatique</td>\n",
       "      <td>29/04/2018 à 12h44</td>\n",
       "      <td>modele: MEGANE 4 ESTATE, version: IV ESTATE 1....</td>\n",
       "    </tr>\n",
       "    <tr>\n",
       "      <th>8</th>\n",
       "      <td>10594.0</td>\n",
       "      <td>FORD</td>\n",
       "      <td>C-MAX</td>\n",
       "      <td>2012</td>\n",
       "      <td>126670.0 km</td>\n",
       "      <td>Diesel</td>\n",
       "      <td>mécanique</td>\n",
       "      <td>22/06/2018 à 5h11</td>\n",
       "      <td>modele: C-MAX 2, version: II 1.6 TDCI 115 FAP ...</td>\n",
       "    </tr>\n",
       "    <tr>\n",
       "      <th>9</th>\n",
       "      <td>69131.0</td>\n",
       "      <td>MERCEDES</td>\n",
       "      <td>CLASSE C</td>\n",
       "      <td>2015</td>\n",
       "      <td>39439.0 km</td>\n",
       "      <td>Essence</td>\n",
       "      <td>automatique</td>\n",
       "      <td>08/03/2018 à 17h35</td>\n",
       "      <td>modele: CLASSE C 4 AMG, version: (W205) 63 AMG...</td>\n",
       "    </tr>\n",
       "  </tbody>\n",
       "</table>\n",
       "</div>"
      ],
      "text/plain": [
       "     Price      Make     Model  Model_year      Mileage     Fuel      Gearbox  \\\n",
       "0  11220.0   PEUGEOT       308        2014   94341.0 km   Diesel    mécanique   \n",
       "1  57526.0       BMW        X6        2015   39051.0 km   Diesel  automatique   \n",
       "2  80379.0      AUDI       RS6        2014   75381.0 km  Essence  automatique   \n",
       "3   2830.0      FORD        KA        2007   92282.0 km  Essence    mécanique   \n",
       "4  12925.0      FIAT      TIPO        2018      10.0 km  Essence    mécanique   \n",
       "5  27956.0       BMW        X3        2012   95623.0 km   Diesel  automatique   \n",
       "6  16888.0      AUDI        A3        2013   49018.0 km   Diesel    mécanique   \n",
       "7  18188.0   RENAULT    MEGANE        2017    9795.0 km   Diesel  automatique   \n",
       "8  10594.0      FORD     C-MAX        2012  126670.0 km   Diesel    mécanique   \n",
       "9  69131.0  MERCEDES  CLASSE C        2015   39439.0 km  Essence  automatique   \n",
       "\n",
       "               Online                                        Description  \n",
       "0   06/07/2018 à 3h47  modele: 308 (2E GENERATION), version: 1.6 HDI ...  \n",
       "1  03/04/2018 à 16h41  modele: X6 F16, version: (F16) XDRIVE30D 258 M...  \n",
       "2   30/07/2018 à 1h55  modele: RS6 (3E GENERATION) AVANT, version: II...  \n",
       "3  09/07/2018 à 14h12  modele: KA, version: 1.3 70 FUN, puissance_fis...  \n",
       "4   19/05/2018 à 3h52  modele: TIPO 2 SW, version: II SW 1.4 95 POP, ...  \n",
       "5   14/03/2018 à 4h24  modele: X3 F25, version: (F25) XDRIVE35D 313 S...  \n",
       "6  16/04/2018 à 21h35  modele: A3 (2E GENERATION) SPORTBACK, version:...  \n",
       "7  29/04/2018 à 12h44  modele: MEGANE 4 ESTATE, version: IV ESTATE 1....  \n",
       "8   22/06/2018 à 5h11  modele: C-MAX 2, version: II 1.6 TDCI 115 FAP ...  \n",
       "9  08/03/2018 à 17h35  modele: CLASSE C 4 AMG, version: (W205) 63 AMG...  "
      ]
     },
     "execution_count": 6,
     "metadata": {},
     "output_type": "execute_result"
    }
   ],
   "source": [
    "df.head(10)"
   ]
  },
  {
   "cell_type": "markdown",
   "metadata": {},
   "source": [
    "## Observations"
   ]
  },
  {
   "cell_type": "code",
   "execution_count": 7,
   "metadata": {},
   "outputs": [],
   "source": [
    "import matplotlib.pyplot as plt\n",
    "\n",
    "%matplotlib inline"
   ]
  },
  {
   "cell_type": "code",
   "execution_count": 8,
   "metadata": {},
   "outputs": [
    {
     "data": {
      "image/png": "[encoded data removed]",
      "text/plain": [
       "<Figure size 432x288 with 1 Axes>"
      ]
     },
     "metadata": {
      "needs_background": "light"
     },
     "output_type": "display_data"
    }
   ],
   "source": [
    "# Price repartition\n",
    "plt.hist(df[\"Price\"], 800)\n",
    "plt.xlim(0, 100000)\n",
    "plt.xlabel('Prices')\n",
    "plt.ylabel('Count')\n",
    "plt.show()"
   ]
  },
  {
   "cell_type": "markdown",
   "metadata": {},
   "source": [
    "Les prix semblent s'agglutiner entre 20000 et 25000 €"
   ]
  },
  {
   "cell_type": "code",
   "execution_count": 9,
   "metadata": {},
   "outputs": [],
   "source": [
    "# relation between mileage and price\n",
    "#plt.hist(df['Mileage'],df['Price'])\n",
    "#plt.xlim(0, 100000)\n",
    "#plt.xlabel(\"Mileage\")\n",
    "#plt.ylabel(\"Price\")\n",
    "#plt.xlim(0, 90000)"
   ]
  },
  {
   "cell_type": "code",
   "execution_count": 10,
   "metadata": {},
   "outputs": [
    {
     "data": {
      "text/plain": [
       "Text(0, 0.5, 'Number of cars')"
      ]
     },
     "execution_count": 10,
     "metadata": {},
     "output_type": "execute_result"
    },
    {
     "data": {
      "image/png": "[encoded data removed]",
      "text/plain": [
       "<Figure size 432x288 with 1 Axes>"
      ]
     },
     "metadata": {
      "needs_background": "light"
     },
     "output_type": "display_data"
    }
   ],
   "source": [
    "# Make cars counts\n",
    "counts = df[\"Make\"].value_counts().iloc[0:20]\n",
    "names = counts.keys().to_numpy()\n",
    "values = counts.to_numpy()\n",
    "\n",
    "plt.bar(names, values)\n",
    "plt.xticks(rotation=\"vertical\")\n",
    "plt.xlabel(\"Make\")\n",
    "plt.ylabel(\"Number of cars\")"
   ]
  },
  {
   "cell_type": "markdown",
   "metadata": {},
   "source": [
    "Le dataset contient beaucoup de voitures Renault, Peugeot et Citroen que de voitures de marque étrangère (BMW, Ford, Mercedes)"
   ]
  },
  {
   "cell_type": "markdown",
   "metadata": {},
   "source": [
    "## Some data cleaning"
   ]
  },
  {
   "cell_type": "markdown",
   "metadata": {},
   "source": [
    "### Data Modification"
   ]
  },
  {
   "cell_type": "code",
   "execution_count": 11,
   "metadata": {},
   "outputs": [],
   "source": [
    "# Getting the number of doors on the car\n",
    "import re\n",
    "df['Nbre_porte'] = df['Description'].str.extract(\"portes: (.)\")"
   ]
  },
  {
   "cell_type": "code",
   "execution_count": 12,
   "metadata": {},
   "outputs": [],
   "source": [
    "# Getting the horse power of a car\n",
    "df['CV'] = df['Description'].str.extract(\"puissance_fiscale: (..)\")\n",
    "df['CV'] = df['CV'].str.replace(',', '')"
   ]
  },
  {
   "cell_type": "code",
   "execution_count": 13,
   "metadata": {},
   "outputs": [],
   "source": [
    "# We choose 2018 because it was the year the sellers published their offers\n",
    "df['Model_year'] = df.apply(lambda row: 2018 - row.Model_year, axis = 1)\n",
    "#df.head()"
   ]
  },
  {
   "cell_type": "markdown",
   "metadata": {},
   "source": [
    "### Data checks"
   ]
  },
  {
   "cell_type": "code",
   "execution_count": 14,
   "metadata": {},
   "outputs": [
    {
     "data": {
      "text/plain": [
       "Price          0\n",
       "Make           0\n",
       "Model          0\n",
       "Model_year     0\n",
       "Mileage        0\n",
       "Fuel           0\n",
       "Gearbox        0\n",
       "Online         0\n",
       "Description    0\n",
       "Nbre_porte     0\n",
       "CV             0\n",
       "dtype: int64"
      ]
     },
     "execution_count": 14,
     "metadata": {},
     "output_type": "execute_result"
    }
   ],
   "source": [
    "# Check for null values\n",
    "df.isnull().sum()"
   ]
  },
  {
   "cell_type": "code",
   "execution_count": 15,
   "metadata": {},
   "outputs": [
    {
     "data": {
      "text/plain": [
       "Price          0\n",
       "Make           0\n",
       "Model          0\n",
       "Model_year     0\n",
       "Mileage        0\n",
       "Fuel           0\n",
       "Gearbox        0\n",
       "Online         0\n",
       "Description    0\n",
       "Nbre_porte     0\n",
       "CV             0\n",
       "dtype: int64"
      ]
     },
     "execution_count": 15,
     "metadata": {},
     "output_type": "execute_result"
    }
   ],
   "source": [
    "# Check for invalid numbers\n",
    "df.isna().sum()"
   ]
  },
  {
   "cell_type": "code",
   "execution_count": 16,
   "metadata": {},
   "outputs": [
    {
     "data": {
      "text/plain": [
       "(array([], dtype=int64), array([], dtype=int64))"
      ]
     },
     "execution_count": 16,
     "metadata": {},
     "output_type": "execute_result"
    }
   ],
   "source": [
    "# Find empty strings\n",
    "np.where(df.applymap(lambda x: x == ''))"
   ]
  },
  {
   "cell_type": "markdown",
   "metadata": {},
   "source": [
    "### Data types conversions"
   ]
  },
  {
   "cell_type": "code",
   "execution_count": 17,
   "metadata": {},
   "outputs": [
    {
     "data": {
      "text/html": [
       "<div>\n",
       "<style scoped>\n",
       "    .dataframe tbody tr th:only-of-type {\n",
       "        vertical-align: middle;\n",
       "    }\n",
       "\n",
       "    .dataframe tbody tr th {\n",
       "        vertical-align: top;\n",
       "    }\n",
       "\n",
       "    .dataframe thead th {\n",
       "        text-align: right;\n",
       "    }\n",
       "</style>\n",
       "<table border=\"1\" class=\"dataframe\">\n",
       "  <thead>\n",
       "    <tr style=\"text-align: right;\">\n",
       "      <th></th>\n",
       "      <th>Price</th>\n",
       "      <th>Make</th>\n",
       "      <th>Model</th>\n",
       "      <th>Model_year</th>\n",
       "      <th>Mileage</th>\n",
       "      <th>Fuel</th>\n",
       "      <th>Gearbox</th>\n",
       "      <th>Online</th>\n",
       "      <th>Description</th>\n",
       "      <th>Nbre_porte</th>\n",
       "      <th>CV</th>\n",
       "    </tr>\n",
       "  </thead>\n",
       "  <tbody>\n",
       "    <tr>\n",
       "      <th>0</th>\n",
       "      <td>11220.0</td>\n",
       "      <td>PEUGEOT</td>\n",
       "      <td>308</td>\n",
       "      <td>4</td>\n",
       "      <td>94341.0</td>\n",
       "      <td>Diesel</td>\n",
       "      <td>mécanique</td>\n",
       "      <td>06/07/2018 à 3h47</td>\n",
       "      <td>modele: 308 (2E GENERATION), version: 1.6 HDI ...</td>\n",
       "      <td>5</td>\n",
       "      <td>4</td>\n",
       "    </tr>\n",
       "    <tr>\n",
       "      <th>1</th>\n",
       "      <td>57526.0</td>\n",
       "      <td>BMW</td>\n",
       "      <td>X6</td>\n",
       "      <td>3</td>\n",
       "      <td>39051.0</td>\n",
       "      <td>Diesel</td>\n",
       "      <td>automatique</td>\n",
       "      <td>03/04/2018 à 16h41</td>\n",
       "      <td>modele: X6 F16, version: (F16) XDRIVE30D 258 M...</td>\n",
       "      <td>5</td>\n",
       "      <td>16</td>\n",
       "    </tr>\n",
       "    <tr>\n",
       "      <th>2</th>\n",
       "      <td>80379.0</td>\n",
       "      <td>AUDI</td>\n",
       "      <td>RS6</td>\n",
       "      <td>4</td>\n",
       "      <td>75381.0</td>\n",
       "      <td>Essence</td>\n",
       "      <td>automatique</td>\n",
       "      <td>30/07/2018 à 1h55</td>\n",
       "      <td>modele: RS6 (3E GENERATION) AVANT, version: II...</td>\n",
       "      <td>5</td>\n",
       "      <td>47</td>\n",
       "    </tr>\n",
       "    <tr>\n",
       "      <th>3</th>\n",
       "      <td>2830.0</td>\n",
       "      <td>FORD</td>\n",
       "      <td>KA</td>\n",
       "      <td>11</td>\n",
       "      <td>92282.0</td>\n",
       "      <td>Essence</td>\n",
       "      <td>mécanique</td>\n",
       "      <td>09/07/2018 à 14h12</td>\n",
       "      <td>modele: KA, version: 1.3 70 FUN, puissance_fis...</td>\n",
       "      <td>3</td>\n",
       "      <td>5</td>\n",
       "    </tr>\n",
       "    <tr>\n",
       "      <th>4</th>\n",
       "      <td>12925.0</td>\n",
       "      <td>FIAT</td>\n",
       "      <td>TIPO</td>\n",
       "      <td>0</td>\n",
       "      <td>10.0</td>\n",
       "      <td>Essence</td>\n",
       "      <td>mécanique</td>\n",
       "      <td>19/05/2018 à 3h52</td>\n",
       "      <td>modele: TIPO 2 SW, version: II SW 1.4 95 POP, ...</td>\n",
       "      <td>5</td>\n",
       "      <td>5</td>\n",
       "    </tr>\n",
       "  </tbody>\n",
       "</table>\n",
       "</div>"
      ],
      "text/plain": [
       "     Price     Make Model  Model_year  Mileage     Fuel      Gearbox  \\\n",
       "0  11220.0  PEUGEOT   308           4  94341.0   Diesel    mécanique   \n",
       "1  57526.0      BMW    X6           3  39051.0   Diesel  automatique   \n",
       "2  80379.0     AUDI   RS6           4  75381.0  Essence  automatique   \n",
       "3   2830.0     FORD    KA          11  92282.0  Essence    mécanique   \n",
       "4  12925.0     FIAT  TIPO           0     10.0  Essence    mécanique   \n",
       "\n",
       "               Online                                        Description  \\\n",
       "0   06/07/2018 à 3h47  modele: 308 (2E GENERATION), version: 1.6 HDI ...   \n",
       "1  03/04/2018 à 16h41  modele: X6 F16, version: (F16) XDRIVE30D 258 M...   \n",
       "2   30/07/2018 à 1h55  modele: RS6 (3E GENERATION) AVANT, version: II...   \n",
       "3  09/07/2018 à 14h12  modele: KA, version: 1.3 70 FUN, puissance_fis...   \n",
       "4   19/05/2018 à 3h52  modele: TIPO 2 SW, version: II SW 1.4 95 POP, ...   \n",
       "\n",
       "  Nbre_porte  CV  \n",
       "0          5   4  \n",
       "1          5  16  \n",
       "2          5  47  \n",
       "3          3   5  \n",
       "4          5   5  "
      ]
     },
     "execution_count": 17,
     "metadata": {},
     "output_type": "execute_result"
    }
   ],
   "source": [
    "## Remove kilometers and convert to number\n",
    "df[\"Mileage\"] = df[\"Mileage\"].str.replace(' km', '').astype(\"float64\")\n",
    "df.head(5)"
   ]
  },
  {
   "cell_type": "code",
   "execution_count": 18,
   "metadata": {},
   "outputs": [
    {
     "data": {
      "text/plain": [
       "dtype('float64')"
      ]
     },
     "execution_count": 18,
     "metadata": {},
     "output_type": "execute_result"
    }
   ],
   "source": [
    "df.dtypes['Mileage']"
   ]
  },
  {
   "cell_type": "code",
   "execution_count": 19,
   "metadata": {},
   "outputs": [
    {
     "data": {
      "text/plain": [
       "0"
      ]
     },
     "execution_count": 19,
     "metadata": {},
     "output_type": "execute_result"
    }
   ],
   "source": [
    "df[\"Mileage\"].isna().sum()"
   ]
  },
  {
   "cell_type": "code",
   "execution_count": 20,
   "metadata": {},
   "outputs": [],
   "source": [
    "# Reduce allocated bytes size for \"Model_year\" \n",
    "df[\"Model_year\"] = df[\"Model_year\"].astype(\"int16\")"
   ]
  },
  {
   "cell_type": "code",
   "execution_count": 21,
   "metadata": {},
   "outputs": [],
   "source": [
    "# We don't really need the \"Online\" column as it seems to indicate the last user authentication\n",
    "df = df.drop(\"Online\", axis=1)\n",
    "df = df.drop(\"Description\", axis=1)"
   ]
  },
  {
   "cell_type": "code",
   "execution_count": 22,
   "metadata": {},
   "outputs": [],
   "source": [
    "# This will delete 1000 rows so it not might be the best method\n",
    "indexNames = df[(df['Nbre_porte'] == ',')].index\n",
    "df.drop(indexNames , inplace=True)\n",
    "df['Nbre_porte'] = df['Nbre_porte'].astype(str).astype(int)"
   ]
  },
  {
   "cell_type": "code",
   "execution_count": 23,
   "metadata": {},
   "outputs": [],
   "source": [
    "df['CV'] = df['CV'].astype(int)"
   ]
  },
  {
   "cell_type": "code",
   "execution_count": 25,
   "metadata": {},
   "outputs": [],
   "source": [
    "df1 =df"
   ]
  },
  {
   "cell_type": "markdown",
   "metadata": {},
   "source": [
    "### Hot encoding"
   ]
  },
  {
   "cell_type": "code",
   "execution_count": 26,
   "metadata": {},
   "outputs": [
    {
     "data": {
      "text/plain": [
       "array(['Diesel', 'Essence', 'Hybride essence électrique', 'Electrique',\n",
       "       'Hybride diesel électrique', 'Bicarburation essence GPL',\n",
       "       'Bicarburation essence bioéthanol'], dtype=object)"
      ]
     },
     "execution_count": 26,
     "metadata": {},
     "output_type": "execute_result"
    }
   ],
   "source": [
    "# List categorical columns\n",
    "df[\"Fuel\"].unique()"
   ]
  },
  {
   "cell_type": "code",
   "execution_count": 27,
   "metadata": {},
   "outputs": [
    {
     "data": {
      "text/plain": [
       "array(['mécanique', 'automatique'], dtype=object)"
      ]
     },
     "execution_count": 27,
     "metadata": {},
     "output_type": "execute_result"
    }
   ],
   "source": [
    "# List categorical columns for Gearbox\n",
    "df[\"Gearbox\"].unique()"
   ]
  },
  {
   "cell_type": "code",
   "execution_count": 28,
   "metadata": {},
   "outputs": [],
   "source": [
    "df = pd.get_dummies(df, columns=[\"Gearbox\"], drop_first=True)"
   ]
  },
  {
   "cell_type": "code",
   "execution_count": 29,
   "metadata": {},
   "outputs": [],
   "source": [
    "# List categorical columns\n",
    "df = pd.get_dummies(df, columns=[\"Fuel\"])"
   ]
  },
  {
   "cell_type": "code",
   "execution_count": 30,
   "metadata": {},
   "outputs": [
    {
     "data": {
      "text/html": [
       "<div>\n",
       "<style scoped>\n",
       "    .dataframe tbody tr th:only-of-type {\n",
       "        vertical-align: middle;\n",
       "    }\n",
       "\n",
       "    .dataframe tbody tr th {\n",
       "        vertical-align: top;\n",
       "    }\n",
       "\n",
       "    .dataframe thead th {\n",
       "        text-align: right;\n",
       "    }\n",
       "</style>\n",
       "<table border=\"1\" class=\"dataframe\">\n",
       "  <thead>\n",
       "    <tr style=\"text-align: right;\">\n",
       "      <th></th>\n",
       "      <th>Price</th>\n",
       "      <th>Make</th>\n",
       "      <th>Model</th>\n",
       "      <th>Model_year</th>\n",
       "      <th>Mileage</th>\n",
       "      <th>Nbre_porte</th>\n",
       "      <th>CV</th>\n",
       "      <th>Gearbox_mécanique</th>\n",
       "      <th>Fuel_Bicarburation essence GPL</th>\n",
       "      <th>Fuel_Bicarburation essence bioéthanol</th>\n",
       "      <th>Fuel_Diesel</th>\n",
       "      <th>Fuel_Electrique</th>\n",
       "      <th>Fuel_Essence</th>\n",
       "      <th>Fuel_Hybride diesel électrique</th>\n",
       "      <th>Fuel_Hybride essence électrique</th>\n",
       "    </tr>\n",
       "  </thead>\n",
       "  <tbody>\n",
       "    <tr>\n",
       "      <th>0</th>\n",
       "      <td>11220.0</td>\n",
       "      <td>PEUGEOT</td>\n",
       "      <td>308</td>\n",
       "      <td>4</td>\n",
       "      <td>94341.0</td>\n",
       "      <td>5</td>\n",
       "      <td>4</td>\n",
       "      <td>1</td>\n",
       "      <td>0</td>\n",
       "      <td>0</td>\n",
       "      <td>1</td>\n",
       "      <td>0</td>\n",
       "      <td>0</td>\n",
       "      <td>0</td>\n",
       "      <td>0</td>\n",
       "    </tr>\n",
       "    <tr>\n",
       "      <th>1</th>\n",
       "      <td>57526.0</td>\n",
       "      <td>BMW</td>\n",
       "      <td>X6</td>\n",
       "      <td>3</td>\n",
       "      <td>39051.0</td>\n",
       "      <td>5</td>\n",
       "      <td>16</td>\n",
       "      <td>0</td>\n",
       "      <td>0</td>\n",
       "      <td>0</td>\n",
       "      <td>1</td>\n",
       "      <td>0</td>\n",
       "      <td>0</td>\n",
       "      <td>0</td>\n",
       "      <td>0</td>\n",
       "    </tr>\n",
       "    <tr>\n",
       "      <th>2</th>\n",
       "      <td>80379.0</td>\n",
       "      <td>AUDI</td>\n",
       "      <td>RS6</td>\n",
       "      <td>4</td>\n",
       "      <td>75381.0</td>\n",
       "      <td>5</td>\n",
       "      <td>47</td>\n",
       "      <td>0</td>\n",
       "      <td>0</td>\n",
       "      <td>0</td>\n",
       "      <td>0</td>\n",
       "      <td>0</td>\n",
       "      <td>1</td>\n",
       "      <td>0</td>\n",
       "      <td>0</td>\n",
       "    </tr>\n",
       "    <tr>\n",
       "      <th>3</th>\n",
       "      <td>2830.0</td>\n",
       "      <td>FORD</td>\n",
       "      <td>KA</td>\n",
       "      <td>11</td>\n",
       "      <td>92282.0</td>\n",
       "      <td>3</td>\n",
       "      <td>5</td>\n",
       "      <td>1</td>\n",
       "      <td>0</td>\n",
       "      <td>0</td>\n",
       "      <td>0</td>\n",
       "      <td>0</td>\n",
       "      <td>1</td>\n",
       "      <td>0</td>\n",
       "      <td>0</td>\n",
       "    </tr>\n",
       "    <tr>\n",
       "      <th>4</th>\n",
       "      <td>12925.0</td>\n",
       "      <td>FIAT</td>\n",
       "      <td>TIPO</td>\n",
       "      <td>0</td>\n",
       "      <td>10.0</td>\n",
       "      <td>5</td>\n",
       "      <td>5</td>\n",
       "      <td>1</td>\n",
       "      <td>0</td>\n",
       "      <td>0</td>\n",
       "      <td>0</td>\n",
       "      <td>0</td>\n",
       "      <td>1</td>\n",
       "      <td>0</td>\n",
       "      <td>0</td>\n",
       "    </tr>\n",
       "  </tbody>\n",
       "</table>\n",
       "</div>"
      ],
      "text/plain": [
       "     Price     Make Model  Model_year  Mileage  Nbre_porte  CV  \\\n",
       "0  11220.0  PEUGEOT   308           4  94341.0           5   4   \n",
       "1  57526.0      BMW    X6           3  39051.0           5  16   \n",
       "2  80379.0     AUDI   RS6           4  75381.0           5  47   \n",
       "3   2830.0     FORD    KA          11  92282.0           3   5   \n",
       "4  12925.0     FIAT  TIPO           0     10.0           5   5   \n",
       "\n",
       "   Gearbox_mécanique  Fuel_Bicarburation essence GPL  \\\n",
       "0                  1                               0   \n",
       "1                  0                               0   \n",
       "2                  0                               0   \n",
       "3                  1                               0   \n",
       "4                  1                               0   \n",
       "\n",
       "   Fuel_Bicarburation essence bioéthanol  Fuel_Diesel  Fuel_Electrique  \\\n",
       "0                                      0            1                0   \n",
       "1                                      0            1                0   \n",
       "2                                      0            0                0   \n",
       "3                                      0            0                0   \n",
       "4                                      0            0                0   \n",
       "\n",
       "   Fuel_Essence  Fuel_Hybride diesel électrique  \\\n",
       "0             0                               0   \n",
       "1             0                               0   \n",
       "2             1                               0   \n",
       "3             1                               0   \n",
       "4             1                               0   \n",
       "\n",
       "   Fuel_Hybride essence électrique  \n",
       "0                                0  \n",
       "1                                0  \n",
       "2                                0  \n",
       "3                                0  \n",
       "4                                0  "
      ]
     },
     "execution_count": 30,
     "metadata": {},
     "output_type": "execute_result"
    }
   ],
   "source": [
    "df.head(5)"
   ]
  },
  {
   "cell_type": "code",
   "execution_count": 31,
   "metadata": {},
   "outputs": [
    {
     "data": {
      "text/plain": [
       "array(['ABARTH', 'AC', 'AIXAM', 'ALFA ROMEO', 'ALPINA', 'ALPINE',\n",
       "       'ASTON MARTIN', 'AUDI', 'AUSTIN', 'AUSTIN HEALEY', 'AUTOBIANCHI',\n",
       "       'BELLIER', 'BENTLEY', 'BMW', 'BMW-ALPINA', 'BOLLORE', 'BUGATTI',\n",
       "       'CADILLAC', 'CHATENET', 'CHEVROLET', 'CHRYSLER', 'CITROEN',\n",
       "       'DACIA', 'DAEWOO', 'DAIHATSU', 'DANGEL', 'DODGE', 'DONKERVOORT',\n",
       "       'DS', 'FERRARI', 'FIAT', 'FISKER', 'FORD', 'GRECAV', 'HONDA',\n",
       "       'HUMMER', 'HYUNDAI', 'INFINITI', 'INNOCENTI', 'INTERMECCANICA',\n",
       "       'JAGUAR', 'JEEP', 'JIAYUAN', 'KIA', 'LADA', 'LAMBORGHINI',\n",
       "       'LANCIA', 'LAND ROVER', 'LEXUS', 'LIGIER', 'LOTUS', 'MASERATI',\n",
       "       'MATRA', 'MAZDA', 'MCLAREN', 'MERCEDES', 'MERCEDES-AMG', 'MG',\n",
       "       'MICROCAR', 'MINI', 'MITSUBISHI', 'MORGAN', 'MPM MOTORS', 'NISSAN',\n",
       "       'OLDSMOBILE', 'OPEL', 'PACKARD', 'PEUGEOT', 'PORSCHE', 'RENAULT',\n",
       "       'RILEY', 'ROLLS ROYCE', 'ROVER', 'SAAB', 'SEAT', 'SHELBY', 'SIMCA',\n",
       "       'SKODA', 'SMART', 'SSANGYONG', 'SUBARU', 'SUNBEAM', 'SUZUKI',\n",
       "       'TESLA', 'TOYOTA', 'TRIUMPH', 'VOLKSWAGEN', 'VOLVO'], dtype=object)"
      ]
     },
     "execution_count": 31,
     "metadata": {},
     "output_type": "execute_result"
    }
   ],
   "source": [
    "np.sort(df['Make'].unique())"
   ]
  },
  {
   "cell_type": "code",
   "execution_count": 32,
   "metadata": {},
   "outputs": [
    {
     "data": {
      "text/plain": [
       "0    0\n",
       "1    1\n",
       "2    2\n",
       "3    3\n",
       "4    4\n",
       "Name: Make, dtype: int8"
      ]
     },
     "execution_count": 32,
     "metadata": {},
     "output_type": "execute_result"
    }
   ],
   "source": [
    "# Transform makes to ordinal numbers\n",
    "df['Make'] = categorize(df['Make'])\n",
    "df['Make'].head(5)"
   ]
  },
  {
   "cell_type": "code",
   "execution_count": 33,
   "metadata": {},
   "outputs": [
    {
     "data": {
      "text/plain": [
       "array(['2008', '208', '3008', '308', '407', '500', '500 X', '5008', 'A3',\n",
       "       'A4', 'A5', 'ARONA', 'ASTRA', 'AURIS', 'C-MAX', 'C3', 'C4',\n",
       "       'C4 PICASSO', 'C5', 'CLASSE A', 'CLASSE B', 'CLASSE C', 'CLASSE R',\n",
       "       'CLIO', 'DS3', 'DUSTER', 'GOLF', 'GRAND C-MAX',\n",
       "       'GRAND C4 SPACETOURER', 'GRAND SCENIC', 'I20', 'I30', 'IBIZA',\n",
       "       'KA', 'KADJAR', 'KOLEOS', 'KUGA', 'MACAN', 'MEGANE', 'MINI',\n",
       "       'MONDEO', 'PASSAT', 'POLO', 'QASHQAI', 'RS6', 'SANDERO', 'SCENIC',\n",
       "       'SERIE 1', 'SERIE 2', 'SERIE 3 GT', 'SERIE 5', 'SL', 'TALISMAN',\n",
       "       'TIGUAN', 'TIPO', 'TOURAN', 'TWINGO', 'X3', 'X6', 'XKR'],\n",
       "      dtype=object)"
      ]
     },
     "execution_count": 33,
     "metadata": {},
     "output_type": "execute_result"
    }
   ],
   "source": [
    "np.sort(df['Model'].unique()[0:60])"
   ]
  },
  {
   "cell_type": "code",
   "execution_count": 34,
   "metadata": {},
   "outputs": [
    {
     "data": {
      "text/plain": [
       "0    0\n",
       "1    1\n",
       "2    2\n",
       "3    3\n",
       "4    4\n",
       "Name: Model, dtype: int16"
      ]
     },
     "execution_count": 34,
     "metadata": {},
     "output_type": "execute_result"
    }
   ],
   "source": [
    "# Transform models to ordinal numbers\n",
    "df['Model'] = categorize(df['Model'])\n",
    "df['Model'].head(5)"
   ]
  },
  {
   "cell_type": "code",
   "execution_count": 35,
   "metadata": {},
   "outputs": [
    {
     "data": {
      "text/html": [
       "<div>\n",
       "<style scoped>\n",
       "    .dataframe tbody tr th:only-of-type {\n",
       "        vertical-align: middle;\n",
       "    }\n",
       "\n",
       "    .dataframe tbody tr th {\n",
       "        vertical-align: top;\n",
       "    }\n",
       "\n",
       "    .dataframe thead th {\n",
       "        text-align: right;\n",
       "    }\n",
       "</style>\n",
       "<table border=\"1\" class=\"dataframe\">\n",
       "  <thead>\n",
       "    <tr style=\"text-align: right;\">\n",
       "      <th></th>\n",
       "      <th>Price</th>\n",
       "      <th>Make</th>\n",
       "      <th>Model</th>\n",
       "      <th>Model_year</th>\n",
       "      <th>Mileage</th>\n",
       "      <th>Nbre_porte</th>\n",
       "      <th>CV</th>\n",
       "      <th>Gearbox_mécanique</th>\n",
       "      <th>Fuel_Bicarburation essence GPL</th>\n",
       "      <th>Fuel_Bicarburation essence bioéthanol</th>\n",
       "      <th>Fuel_Diesel</th>\n",
       "      <th>Fuel_Electrique</th>\n",
       "      <th>Fuel_Essence</th>\n",
       "      <th>Fuel_Hybride diesel électrique</th>\n",
       "      <th>Fuel_Hybride essence électrique</th>\n",
       "    </tr>\n",
       "  </thead>\n",
       "  <tbody>\n",
       "    <tr>\n",
       "      <th>0</th>\n",
       "      <td>11220.0</td>\n",
       "      <td>0</td>\n",
       "      <td>0</td>\n",
       "      <td>4</td>\n",
       "      <td>94341.0</td>\n",
       "      <td>5</td>\n",
       "      <td>4</td>\n",
       "      <td>1</td>\n",
       "      <td>0</td>\n",
       "      <td>0</td>\n",
       "      <td>1</td>\n",
       "      <td>0</td>\n",
       "      <td>0</td>\n",
       "      <td>0</td>\n",
       "      <td>0</td>\n",
       "    </tr>\n",
       "    <tr>\n",
       "      <th>1</th>\n",
       "      <td>57526.0</td>\n",
       "      <td>1</td>\n",
       "      <td>1</td>\n",
       "      <td>3</td>\n",
       "      <td>39051.0</td>\n",
       "      <td>5</td>\n",
       "      <td>16</td>\n",
       "      <td>0</td>\n",
       "      <td>0</td>\n",
       "      <td>0</td>\n",
       "      <td>1</td>\n",
       "      <td>0</td>\n",
       "      <td>0</td>\n",
       "      <td>0</td>\n",
       "      <td>0</td>\n",
       "    </tr>\n",
       "    <tr>\n",
       "      <th>2</th>\n",
       "      <td>80379.0</td>\n",
       "      <td>2</td>\n",
       "      <td>2</td>\n",
       "      <td>4</td>\n",
       "      <td>75381.0</td>\n",
       "      <td>5</td>\n",
       "      <td>47</td>\n",
       "      <td>0</td>\n",
       "      <td>0</td>\n",
       "      <td>0</td>\n",
       "      <td>0</td>\n",
       "      <td>0</td>\n",
       "      <td>1</td>\n",
       "      <td>0</td>\n",
       "      <td>0</td>\n",
       "    </tr>\n",
       "    <tr>\n",
       "      <th>3</th>\n",
       "      <td>2830.0</td>\n",
       "      <td>3</td>\n",
       "      <td>3</td>\n",
       "      <td>11</td>\n",
       "      <td>92282.0</td>\n",
       "      <td>3</td>\n",
       "      <td>5</td>\n",
       "      <td>1</td>\n",
       "      <td>0</td>\n",
       "      <td>0</td>\n",
       "      <td>0</td>\n",
       "      <td>0</td>\n",
       "      <td>1</td>\n",
       "      <td>0</td>\n",
       "      <td>0</td>\n",
       "    </tr>\n",
       "    <tr>\n",
       "      <th>4</th>\n",
       "      <td>12925.0</td>\n",
       "      <td>4</td>\n",
       "      <td>4</td>\n",
       "      <td>0</td>\n",
       "      <td>10.0</td>\n",
       "      <td>5</td>\n",
       "      <td>5</td>\n",
       "      <td>1</td>\n",
       "      <td>0</td>\n",
       "      <td>0</td>\n",
       "      <td>0</td>\n",
       "      <td>0</td>\n",
       "      <td>1</td>\n",
       "      <td>0</td>\n",
       "      <td>0</td>\n",
       "    </tr>\n",
       "  </tbody>\n",
       "</table>\n",
       "</div>"
      ],
      "text/plain": [
       "     Price  Make  Model  Model_year  Mileage  Nbre_porte  CV  \\\n",
       "0  11220.0     0      0           4  94341.0           5   4   \n",
       "1  57526.0     1      1           3  39051.0           5  16   \n",
       "2  80379.0     2      2           4  75381.0           5  47   \n",
       "3   2830.0     3      3          11  92282.0           3   5   \n",
       "4  12925.0     4      4           0     10.0           5   5   \n",
       "\n",
       "   Gearbox_mécanique  Fuel_Bicarburation essence GPL  \\\n",
       "0                  1                               0   \n",
       "1                  0                               0   \n",
       "2                  0                               0   \n",
       "3                  1                               0   \n",
       "4                  1                               0   \n",
       "\n",
       "   Fuel_Bicarburation essence bioéthanol  Fuel_Diesel  Fuel_Electrique  \\\n",
       "0                                      0            1                0   \n",
       "1                                      0            1                0   \n",
       "2                                      0            0                0   \n",
       "3                                      0            0                0   \n",
       "4                                      0            0                0   \n",
       "\n",
       "   Fuel_Essence  Fuel_Hybride diesel électrique  \\\n",
       "0             0                               0   \n",
       "1             0                               0   \n",
       "2             1                               0   \n",
       "3             1                               0   \n",
       "4             1                               0   \n",
       "\n",
       "   Fuel_Hybride essence électrique  \n",
       "0                                0  \n",
       "1                                0  \n",
       "2                                0  \n",
       "3                                0  \n",
       "4                                0  "
      ]
     },
     "execution_count": 35,
     "metadata": {},
     "output_type": "execute_result"
    }
   ],
   "source": [
    "df.head()"
   ]
  },
  {
   "cell_type": "code",
   "execution_count": 36,
   "metadata": {},
   "outputs": [
    {
     "data": {
      "text/plain": [
       "Price                                    float64\n",
       "Make                                        int8\n",
       "Model                                      int16\n",
       "Model_year                                 int16\n",
       "Mileage                                  float64\n",
       "Nbre_porte                                 int64\n",
       "CV                                         int64\n",
       "Gearbox_mécanique                          uint8\n",
       "Fuel_Bicarburation essence GPL             uint8\n",
       "Fuel_Bicarburation essence bioéthanol      uint8\n",
       "Fuel_Diesel                                uint8\n",
       "Fuel_Electrique                            uint8\n",
       "Fuel_Essence                               uint8\n",
       "Fuel_Hybride diesel électrique             uint8\n",
       "Fuel_Hybride essence électrique            uint8\n",
       "dtype: object"
      ]
     },
     "execution_count": 36,
     "metadata": {},
     "output_type": "execute_result"
    }
   ],
   "source": [
    "df.dtypes"
   ]
  },
  {
   "cell_type": "markdown",
   "metadata": {},
   "source": [
    "## Features selection"
   ]
  },
  {
   "cell_type": "code",
   "execution_count": 37,
   "metadata": {},
   "outputs": [
    {
     "ename": "NameError",
     "evalue": "name 'corrplot' is not defined",
     "output_type": "error",
     "traceback": [
      "\u001b[0;31m---------------------------------------------------------------------------\u001b[0m",
      "\u001b[0;31mNameError\u001b[0m                                 Traceback (most recent call last)",
      "\u001b[0;32m<ipython-input-37-3ae3139b6068>\u001b[0m in \u001b[0;36m<module>\u001b[0;34m\u001b[0m\n\u001b[1;32m      1\u001b[0m \u001b[0mplt\u001b[0m\u001b[0;34m.\u001b[0m\u001b[0mfigure\u001b[0m\u001b[0;34m(\u001b[0m\u001b[0mfigsize\u001b[0m\u001b[0;34m=\u001b[0m\u001b[0;34m(\u001b[0m\u001b[0;36m10\u001b[0m\u001b[0;34m,\u001b[0m \u001b[0;36m10\u001b[0m\u001b[0;34m)\u001b[0m\u001b[0;34m)\u001b[0m\u001b[0;34m\u001b[0m\u001b[0;34m\u001b[0m\u001b[0m\n\u001b[0;32m----> 2\u001b[0;31m \u001b[0mcorrplot\u001b[0m\u001b[0;34m(\u001b[0m\u001b[0mcorr\u001b[0m\u001b[0;34m)\u001b[0m\u001b[0;34m\u001b[0m\u001b[0;34m\u001b[0m\u001b[0m\n\u001b[0m",
      "\u001b[0;31mNameError\u001b[0m: name 'corrplot' is not defined"
     ]
    },
    {
     "data": {
      "text/plain": [
       "<Figure size 720x720 with 0 Axes>"
      ]
     },
     "metadata": {},
     "output_type": "display_data"
    }
   ],
   "source": [
    "plt.figure(figsize=(10, 10))\n",
    "corrplot(corr)"
   ]
  },
  {
   "cell_type": "code",
   "execution_count": 52,
   "metadata": {},
   "outputs": [],
   "source": [
    "df1=df\n",
    "df1 = (df - df.mean()) / (df.std())"
   ]
  },
  {
   "cell_type": "markdown",
   "metadata": {},
   "source": [
    "Pour l'instant il n'y a que \"CV\" qui a un bon taux de correlation avec \"Price\""
   ]
  },
  {
   "cell_type": "markdown",
   "metadata": {},
   "source": [
    "## Split"
   ]
  },
  {
   "cell_type": "code",
   "execution_count": 38,
   "metadata": {},
   "outputs": [],
   "source": [
    "features = [\n",
    "    \"Make\",\n",
    "    \"Model\", \n",
    "    \"Model_year\",\n",
    "    \"Mileage\",\n",
    "    \"Fuel_Bicarburation essence GPL\",\n",
    "    \"Fuel_Bicarburation essence bioéthanol\",\n",
    "    \"Fuel_Diesel\",\n",
    "    \"Fuel_Electrique\",\n",
    "    \"Fuel_Essence\",\n",
    "    \"Gearbox_mécanique\",\n",
    "]\n",
    "\n",
    "prediction = \"Price\"\n",
    "\n",
    "X = df[features]\n",
    "y = df[prediction]\n",
    "\n",
    "X_train, X_test, y_train, y_test = train_test_split(X, y, test_size=0.30, random_state=42)"
   ]
  },
  {
   "cell_type": "code",
   "execution_count": 39,
   "metadata": {},
   "outputs": [
    {
     "data": {
      "text/plain": [
       "((115784, 10), (49622, 10), (115784,), (49622,))"
      ]
     },
     "execution_count": 39,
     "metadata": {},
     "output_type": "execute_result"
    }
   ],
   "source": [
    "X_train.shape, X_test.shape, y_train.shape, y_test.shape"
   ]
  },
  {
   "cell_type": "code",
   "execution_count": 40,
   "metadata": {},
   "outputs": [
    {
     "data": {
      "text/html": [
       "<div>\n",
       "<style scoped>\n",
       "    .dataframe tbody tr th:only-of-type {\n",
       "        vertical-align: middle;\n",
       "    }\n",
       "\n",
       "    .dataframe tbody tr th {\n",
       "        vertical-align: top;\n",
       "    }\n",
       "\n",
       "    .dataframe thead th {\n",
       "        text-align: right;\n",
       "    }\n",
       "</style>\n",
       "<table border=\"1\" class=\"dataframe\">\n",
       "  <thead>\n",
       "    <tr style=\"text-align: right;\">\n",
       "      <th></th>\n",
       "      <th>Make</th>\n",
       "      <th>Model</th>\n",
       "      <th>Model_year</th>\n",
       "      <th>Mileage</th>\n",
       "      <th>Fuel_Bicarburation essence GPL</th>\n",
       "      <th>Fuel_Bicarburation essence bioéthanol</th>\n",
       "      <th>Fuel_Diesel</th>\n",
       "      <th>Fuel_Electrique</th>\n",
       "      <th>Fuel_Essence</th>\n",
       "      <th>Gearbox_mécanique</th>\n",
       "    </tr>\n",
       "  </thead>\n",
       "  <tbody>\n",
       "    <tr>\n",
       "      <th>53438</th>\n",
       "      <td>5</td>\n",
       "      <td>41</td>\n",
       "      <td>18</td>\n",
       "      <td>117174.0</td>\n",
       "      <td>0</td>\n",
       "      <td>0</td>\n",
       "      <td>0</td>\n",
       "      <td>0</td>\n",
       "      <td>1</td>\n",
       "      <td>1</td>\n",
       "    </tr>\n",
       "    <tr>\n",
       "      <th>77026</th>\n",
       "      <td>6</td>\n",
       "      <td>101</td>\n",
       "      <td>3</td>\n",
       "      <td>47056.0</td>\n",
       "      <td>0</td>\n",
       "      <td>0</td>\n",
       "      <td>1</td>\n",
       "      <td>0</td>\n",
       "      <td>0</td>\n",
       "      <td>0</td>\n",
       "    </tr>\n",
       "    <tr>\n",
       "      <th>145899</th>\n",
       "      <td>12</td>\n",
       "      <td>18</td>\n",
       "      <td>2</td>\n",
       "      <td>26171.0</td>\n",
       "      <td>0</td>\n",
       "      <td>0</td>\n",
       "      <td>1</td>\n",
       "      <td>0</td>\n",
       "      <td>0</td>\n",
       "      <td>1</td>\n",
       "    </tr>\n",
       "    <tr>\n",
       "      <th>137407</th>\n",
       "      <td>1</td>\n",
       "      <td>66</td>\n",
       "      <td>4</td>\n",
       "      <td>120916.0</td>\n",
       "      <td>0</td>\n",
       "      <td>0</td>\n",
       "      <td>1</td>\n",
       "      <td>0</td>\n",
       "      <td>0</td>\n",
       "      <td>0</td>\n",
       "    </tr>\n",
       "    <tr>\n",
       "      <th>152546</th>\n",
       "      <td>5</td>\n",
       "      <td>53</td>\n",
       "      <td>3</td>\n",
       "      <td>40780.0</td>\n",
       "      <td>0</td>\n",
       "      <td>0</td>\n",
       "      <td>1</td>\n",
       "      <td>0</td>\n",
       "      <td>0</td>\n",
       "      <td>1</td>\n",
       "    </tr>\n",
       "  </tbody>\n",
       "</table>\n",
       "</div>"
      ],
      "text/plain": [
       "        Make  Model  Model_year   Mileage  Fuel_Bicarburation essence GPL  \\\n",
       "53438      5     41          18  117174.0                               0   \n",
       "77026      6    101           3   47056.0                               0   \n",
       "145899    12     18           2   26171.0                               0   \n",
       "137407     1     66           4  120916.0                               0   \n",
       "152546     5     53           3   40780.0                               0   \n",
       "\n",
       "        Fuel_Bicarburation essence bioéthanol  Fuel_Diesel  Fuel_Electrique  \\\n",
       "53438                                       0            0                0   \n",
       "77026                                       0            1                0   \n",
       "145899                                      0            1                0   \n",
       "137407                                      0            1                0   \n",
       "152546                                      0            1                0   \n",
       "\n",
       "        Fuel_Essence  Gearbox_mécanique  \n",
       "53438              1                  1  \n",
       "77026              0                  0  \n",
       "145899             0                  1  \n",
       "137407             0                  0  \n",
       "152546             0                  1  "
      ]
     },
     "execution_count": 40,
     "metadata": {},
     "output_type": "execute_result"
    }
   ],
   "source": [
    "X_train.head(5)"
   ]
  },
  {
   "cell_type": "code",
   "execution_count": 41,
   "metadata": {},
   "outputs": [
    {
     "data": {
      "text/plain": [
       "53438      2214.0\n",
       "77026     27088.0\n",
       "145899     9980.0\n",
       "137407    14739.0\n",
       "152546    15868.0\n",
       "Name: Price, dtype: float64"
      ]
     },
     "execution_count": 41,
     "metadata": {},
     "output_type": "execute_result"
    }
   ],
   "source": [
    "y_train.head(5)"
   ]
  },
  {
   "cell_type": "markdown",
   "metadata": {},
   "source": [
    "## Train / Predict"
   ]
  },
  {
   "cell_type": "code",
   "execution_count": 42,
   "metadata": {},
   "outputs": [],
   "source": [
    "lreg = LinearRegression()"
   ]
  },
  {
   "cell_type": "code",
   "execution_count": 43,
   "metadata": {},
   "outputs": [],
   "source": [
    "lreg.fit(X_train, y_train)\n",
    "y_pred = lreg.predict(X_test)"
   ]
  },
  {
   "cell_type": "code",
   "execution_count": 44,
   "metadata": {},
   "outputs": [
    {
     "data": {
      "text/plain": [
       "222820914.39324194"
      ]
     },
     "execution_count": 44,
     "metadata": {},
     "output_type": "execute_result"
    }
   ],
   "source": [
    "mean_squared_error(y_test, y_pred)"
   ]
  },
  {
   "cell_type": "code",
   "execution_count": 45,
   "metadata": {},
   "outputs": [
    {
     "data": {
      "text/plain": [
       "151.49467880971756"
      ]
     },
     "execution_count": 45,
     "metadata": {},
     "output_type": "execute_result"
    }
   ],
   "source": [
    "mean_absolute_percentage_error(y_test, y_pred)"
   ]
  },
  {
   "cell_type": "code",
   "execution_count": 46,
   "metadata": {},
   "outputs": [
    {
     "data": {
      "text/plain": [
       "0.25652656055556833"
      ]
     },
     "execution_count": 46,
     "metadata": {},
     "output_type": "execute_result"
    }
   ],
   "source": [
    "r2_score(y_test, y_pred)"
   ]
  },
  {
   "cell_type": "code",
   "execution_count": null,
   "metadata": {},
   "outputs": [],
   "source": []
  },
  {
   "cell_type": "code",
   "execution_count": null,
   "metadata": {},
   "outputs": [],
   "source": []
  },
  {
   "cell_type": "markdown",
   "metadata": {},
   "source": [
    "##  Test with manual encoding and label encoding"
   ]
  },
  {
   "cell_type": "code",
   "execution_count": 47,
   "metadata": {},
   "outputs": [],
   "source": [
    "make_label = {ni: n for n,ni in enumerate(set(df1['Make']))}\n",
    "model_label = {ni: n for n,ni in enumerate(set(df1['Model']))}\n",
    "fuel_label = {ni: n for n,ni in enumerate(set(df1['Fuel']))}\n",
    "gearbox_label = {ni: n for n,ni in enumerate(set(df1['Gearbox']))}"
   ]
  },
  {
   "cell_type": "code",
   "execution_count": 48,
   "metadata": {},
   "outputs": [
    {
     "data": {
      "text/plain": [
       "{'Bicarburation essence GPL': 0,\n",
       " 'Hybride essence électrique': 1,\n",
       " 'Electrique': 2,\n",
       " 'Hybride diesel électrique': 3,\n",
       " 'Essence': 4,\n",
       " 'Diesel': 5,\n",
       " 'Bicarburation essence bioéthanol': 6}"
      ]
     },
     "execution_count": 48,
     "metadata": {},
     "output_type": "execute_result"
    }
   ],
   "source": [
    "fuel_label"
   ]
  },
  {
   "cell_type": "code",
   "execution_count": 49,
   "metadata": {},
   "outputs": [
    {
     "data": {
      "text/plain": [
       "array(['Diesel', 'Essence', 'Hybride essence électrique', 'Electrique',\n",
       "       'Hybride diesel électrique', 'Bicarburation essence GPL',\n",
       "       'Bicarburation essence bioéthanol'], dtype=object)"
      ]
     },
     "execution_count": 49,
     "metadata": {},
     "output_type": "execute_result"
    }
   ],
   "source": [
    "df1['Fuel'].unique()"
   ]
  },
  {
   "cell_type": "code",
   "execution_count": 50,
   "metadata": {},
   "outputs": [
    {
     "data": {
      "text/plain": [
       "array(['PEUGEOT', 'BMW', 'AUDI', 'FORD', 'FIAT', 'RENAULT', 'MERCEDES',\n",
       "       'SEAT', 'MINI', 'HYUNDAI', 'DACIA', 'VOLKSWAGEN', 'CITROEN',\n",
       "       'TOYOTA', 'JAGUAR', 'OPEL', 'PORSCHE', 'NISSAN', 'LAND ROVER',\n",
       "       'MAZDA', 'VOLVO', 'SKODA', 'DS', 'SSANGYONG', 'SUZUKI', 'HONDA',\n",
       "       'LEXUS', 'INFINITI', 'JEEP', 'KIA', 'DODGE', 'ASTON MARTIN',\n",
       "       'LANCIA', 'LOTUS', 'CHEVROLET', 'SMART', 'ALFA ROMEO', 'BUGATTI',\n",
       "       'MITSUBISHI', 'MERCEDES-AMG', 'AIXAM', 'FERRARI', 'MG',\n",
       "       'LAMBORGHINI', 'MASERATI', 'SUBARU', 'MORGAN', 'CHRYSLER',\n",
       "       'ROLLS ROYCE', 'TESLA', 'ABARTH', 'LADA', 'BMW-ALPINA', 'SAAB',\n",
       "       'PACKARD', 'ROVER', 'SHELBY', 'MICROCAR', 'ALPINA', 'BENTLEY',\n",
       "       'DAIHATSU', 'HUMMER', 'TRIUMPH', 'LIGIER', 'DAEWOO',\n",
       "       'AUSTIN HEALEY', 'JIAYUAN', 'CADILLAC', 'MCLAREN', 'DANGEL',\n",
       "       'CHATENET', 'INTERMECCANICA', 'AC', 'AUTOBIANCHI', 'SUNBEAM',\n",
       "       'BOLLORE', 'AUSTIN', 'MPM MOTORS', 'INNOCENTI', 'MATRA',\n",
       "       'DONKERVOORT', 'GRECAV', 'FISKER', 'ALPINE', 'SIMCA', 'OLDSMOBILE',\n",
       "       'BELLIER', 'RILEY'], dtype=object)"
      ]
     },
     "execution_count": 50,
     "metadata": {},
     "output_type": "execute_result"
    }
   ],
   "source": [
    "df1['Make'].unique()"
   ]
  },
  {
   "cell_type": "code",
   "execution_count": 51,
   "metadata": {},
   "outputs": [
    {
     "data": {
      "text/plain": [
       "array(['308', 'X6', 'RS6', 'KA', 'TIPO', 'X3', 'A3', 'MEGANE', 'C-MAX',\n",
       "       'CLASSE C', 'IBIZA', 'MINI', '500 X', 'MONDEO', 'I20', 'SANDERO',\n",
       "       '208', 'GOLF', 'C3', 'AURIS', 'I30', 'POLO', 'SERIE 1', 'XKR',\n",
       "       'CLASSE B', 'CLIO', 'TOURAN', 'CLASSE R', 'TIGUAN', 'TALISMAN',\n",
       "       'ASTRA', 'GRAND SCENIC', 'A4', 'DS3', '407', 'DUSTER', 'MACAN',\n",
       "       'QASHQAI', 'KADJAR', 'SCENIC', 'A5', 'TWINGO', 'PASSAT', 'ARONA',\n",
       "       'GRAND C-MAX', 'KUGA', 'SERIE 2', 'SL', '500', 'C4', '5008',\n",
       "       '3008', 'GRAND C4 SPACETOURER', 'KOLEOS', 'CLASSE A', 'C4 PICASSO',\n",
       "       '2008', 'SERIE 5', 'C5', 'SERIE 3 GT', 'C3 AIRCROSS', 'LEON',\n",
       "       'TUCSON', 'RANGE ROVER EVOQUE', 'ESPACE', 'A7', 'SERIE 3',\n",
       "       'ZAFIRA', '6', 'XC60', '1007', 'AVENSIS', 'OCTAVIA', 'YARIS',\n",
       "       'JUKE', '508 RXH', 'V40', '108', '508', 'SERIE 4', 'DS 5',\n",
       "       'CAPTUR', 'GLA', '307', 'TRAVELLER', 'CORSA', 'COCCINELLE',\n",
       "       'RAV 4', 'KYRON', 'X5', 'MULTIPLA', 'S-MAX', 'SX4', 'MOKKA X',\n",
       "       'X1', 'LAGUNA', 'PARTNER TEPEE', 'C4 CACTUS', 'SUPERB', 'CLASSE E',\n",
       "       'A6 ALLROAD', 'CLA', 'Q2', 'ADAM', '206', '807', 'YETI', 'Q3',\n",
       "       'MX5', 'GRAND C4 PICASSO', 'Q5', 'IX35', '911', 'LAND CRUISER SW',\n",
       "       'GRAND KANGOO', 'KANGOO', 'JAZZ', 'IS', 'DOKKER', 'FOCUS', 'NX',\n",
       "       'XJ', 'Q30', '3', 'CLASSE S', 'VERSO', 'RENEGADE', 'ZOE', 'MOKKA',\n",
       "       'FABIA', 'SPORTAGE', 'A1', 'MUSTANG', 'CLASSE CLS', 'FIESTA',\n",
       "       'DS4', 'CIVIC', 'MINI CABRIOLET', '207', 'ECOSPORT', 'LS',\n",
       "       'CLASSE M', 'C3 PICASSO', 'C1', 'NOTE', 'V90 CROSS COUNTRY',\n",
       "       'A4 ALLROAD', 'SERIE 6', 'X-TRAIL', 'RCZ', 'CHALLENGER', 'RAPIDE',\n",
       "       'VITARA', 'SAXO', 'PANDA', 'DS 3', 'MERIVA', 'IX20',\n",
       "       'GRAND CHEROKEE', 'MICRA', 'RS4', 'DS 4', 'YPSILON', 'COUNTRYMAN',\n",
       "       'CAYENNE', 'RIO', 'FREEMONT', 'ATECA', 'V50', 'B-MAX', 'ION',\n",
       "       'ELISE', 'SORENTO', 'C4 AIRCROSS', 'MATIZ', 'FORTWO',\n",
       "       'GRANDLAND X', 'V40 CROSS COUNTRY', 'BERLINGO', 'DISCOVERY SPORT',\n",
       "       'GLC', 'DOBLO', 'GIULIETTA', 'R8', 'PARTNER', 'C30', 'V60',\n",
       "       'VEYRON', 'MODUS', 'XC90', '1200', 'COUGAR', 'RANGE ROVER SPORT',\n",
       "       'DEFENDER', 'COMPASS', '718', 'PASSAT CC', 'TOUAREG', 'LOGAN',\n",
       "       'XF', 'KA+', 'QASHQAI +2', '500 L', 'C2', 'OUTLANDER', 'AGILA',\n",
       "       'C-HR', 'TOURNEO COURIER', 'DISCOVERY', 'OPTIMA', 'BOXSTER',\n",
       "       'CHEROKEE', 'EDGE', 'AYGO', 'GRAND MODUS', 'DS5', 'CLASSE V',\n",
       "       'T-ROC', 'KARL', 'IGNIS', 'PANAMERA', 'GRANDE PUNTO', 'I10',\n",
       "       'CX-3', 'C-ZERO', 'F-PACE', 'S60', 'VIANO', 'WIND', 'PRIUS',\n",
       "       'LAND CRUISER', 'CX-7', 'TT', '607', '370Z', 'FREELANDER',\n",
       "       'CARENS', 'GT', 'ALHAMBRA', 'FORFOUR', 'SWIFT', 'GIULIA', 'PAJERO',\n",
       "       'E-PACE', 'STELVIO', 'UP!', 'KODIAQ', 'ZAFIRA TOURER', 'GALLOPER',\n",
       "       'PACEMAN', 'CLASSE G', 'BIPPER TEPEE', 'COLT', '4008', 'INSIGNIA',\n",
       "       'I40', 'GLS', 'COUPE', '107', 'A6', 'CR-V', 'C-ELYSEE', 'ASX',\n",
       "       'SMART', '488', 'DS 4 CROSSBACK', 'C25', 'XC70', 'TIGUAN ALLSPACE',\n",
       "       'SPLASH', 'CRUZE', 'CEE D', 'PULSAR', 'SUBURBAN', 'V70', 'RX',\n",
       "       'UNO', 'A', 'Q7', 'TRAX', 'GALLARDO', 'QUATTROPORTE', 'C8',\n",
       "       'SANTA FE', 'X4', 'FX', 'SPACE STAR', 'FORESTER', 'TTS',\n",
       "       'SPACETOURER', 'C', 'SQ5', 'AERO 8', 'QX30', 'SHARAN', 'CAMARO',\n",
       "       'PUNTO', 'VENGA', 'GOLF SPORTSVAN', 'CX-5', 'ALTO', 'RS5', 'V90',\n",
       "       'CROSSLAND X', 'LODGY', 'SLK', 'GALAXY', 'GRAND TOURNEO CONNECT',\n",
       "       'PT CRUISER', 'EXEO', 'XE', 'CROSSFIRE', 'I3', 'PHANTOM',\n",
       "       'URBAN CRUISER', '206+', 'SX4 S-CROSS', 'S40', 'STONIC', 'PICASSO',\n",
       "       'DELTA', 'HR-V', 'ACCORD', 'FUSION', 'VIRAGE', '612',\n",
       "       'RANGE ROVER VELAR', 'CADDY', 'V8 VANTAGE', 'TWIZY', 'SM',\n",
       "       'LEVANTE', 'E-MEHARI', 'GRANCABRIO', 'CORVETTE', 'MODEL X', '300',\n",
       "       'TERRANO', 'IQ', 'GLE', 'GT-R', 'NIVA', 'KONA', 'B3 S', 'X2',\n",
       "       'SERIE 7', 'COROLLA', 'LATITUDE', 'S3', '147', '160', 'ARTEON',\n",
       "       'KORANDO', 'PATROL', 'ROADSTER', 'NEW BEETLE', 'PRO CEE D', '2',\n",
       "       'MINI CLUBMAN', 'NEMO', 'COROLLA VERSO', 'CLASSE GLK', 'GLE COUPE',\n",
       "       '9-3', 'CELERIO', 'PICANTO', 'IDEA', 'VECTRA', 'INSIGHT',\n",
       "       'FOCUS C-MAX', 'EOS', 'EXPERT TEPEE', 'F355', 'LIANA', 'MITO',\n",
       "       'JIMNY', 'NIRO', 'CITIGO', 'RANGE ROVER', 'GRAND VOYAGER', 'CLK',\n",
       "       'XV', 'SOUL', '5', 'MK II', 'GRAND ESPACE', '2CV', 'RAPID',\n",
       "       'V60 CROSS COUNTRY', 'SLC', 'CAYMAN', 'C3 PLURIEL', 'MINI COUPE',\n",
       "       'F-TYPE', 'GRAND VITARA', 'FIORINO', 'XK8', '106', 'ALTEA',\n",
       "       'MODEL S', 'XK', '200', 'WRAITH', 'CC', 'GS', 'ORLANDO',\n",
       "       'SCIROCCO', 'F430', 'LEAF', 'KAROQ', 'ALTEA FREETRACK', 'S90',\n",
       "       'CROMA', 'Q50', 'FF', 'KALOS', '4/4', 'IONIQ', 'GOLF PLUS', 'CT',\n",
       "       'CARNIVAL', 'CALIFORNIA', 'Z4', 'GRANTURISMO', 'MATRIX', '458',\n",
       "       'TYPE E', 'TOLEDO', 'ANTARA', 'MII', 'S-TYPE', 'LANCER', 'DB11',\n",
       "       'IMPREZA', 'FR-V', 'GT86', 'WILLYS', 'CL', 'RC', 'CLIPPER',\n",
       "       'RS Q3', 'XSARA', 'X-TYPE', 'RS3', 'GETZ', 'S5', 'PUNTO EVO',\n",
       "       'S80', 'ALLROAD', 'VANQUISH', '124', 'SERIE 5 GT', 'A8', '207+',\n",
       "       'GLC COUPE', 'TAHOE', '159', 'GT 500', 'SPARK', 'TERRACAN',\n",
       "       'TRANSIT CUSTOM', 'M.GO', 'XD3', 'PIXO', 'PROACE VERSO', 'PRIMERA',\n",
       "       'ROOMSTER', '300 C', 'ECLIPSE CROSS', '3.0', 'OUTBACK',\n",
       "       'CROSSOVER', 'CONTINENTAL', 'PROACE', 'LACETTI', 'DBS', 'P4',\n",
       "       'SIERRA', '944', 'TREVIS', 'TT RS', 'WRANGLER', 'MUSA', 'I8',\n",
       "       'JETTA', 'CUSTOM', 'FOX', '146', 'EVALIA', '406', 'H3', 'C6',\n",
       "       'NP300 NAVARA', 'VERSO-S', 'XC40', 'ZX', 'VEL SATIS', '306',\n",
       "       'FLAVIA', 'H1', 'DB9', 'FLUENCE', 'S8', 'GHIBLI', '356', 'LEVORG',\n",
       "       'X1/9', 'ULYSSE', 'AMI', 'CAPTIVA', '404', 'TOURNEO CONNECT',\n",
       "       'VOYAGER', 'C-CROSSER', 'AVEO', 'BARCHETTA', 'BALENO', 'CR-Z',\n",
       "       'VELOSTER', 'REXTON', 'S4', 'SAMURAI', '205', 'SLS', 'FLYING SPUR',\n",
       "       'ALFETTA', 'HURACAN', 'IX55', 'CITY', 'CALIBER', 'DUE', 'Z3',\n",
       "       'EXIGE', 'NITRO', 'MALIBU', 'F12', 'THUNDERBIRD', 'Q60', 'STINGER',\n",
       "       'CASCADA', 'C70', '33', 'DAWN', '4007', 'MULTIVAN', 'BRERA',\n",
       "       'TR 6', 'P1800', 'QX70', 'PRIUS+', 'QUBO', 'REZZO', 'SUNNY', 'BRZ',\n",
       "       'JUMPY', '4C', 'AVANTIME', 'CORDOBA', 'SUPER 5', 'DS 7 CROSSBACK',\n",
       "       'CLASSE GL', '504', 'XANTIA', '350Z', 'PHAETON', 'JS', '599',\n",
       "       'MUSSO', 'SHUMA', '812 SUPERFAST', 'SC', 'S6', 'SPRITE',\n",
       "       'SATELLITE', 'SQ7', 'MURCIELAGO', 'F150', 'ROADSTER V6', '99',\n",
       "       'S1', '121', 'CITY FUN', 'CTS', '190', 'Q70', 'STILO', 'COMBO',\n",
       "       '9-5', 'FRONTERA', 'R4', 'ATOS', 'ESCALADE', 'MP4-12C',\n",
       "       'AVENTADOR', '420', 'CLASSE CLC', 'JUSTY', 'CARAVELLE', '330',\n",
       "       '3000', 'A2', 'BRAVA', 'ATOS PRIME', 'SILVER SHADOW', 'SIRION',\n",
       "       'PHEDRA', 'THESIS', 'SPIDER', 'MINI ROADSTER', 'QX50', 'RS7',\n",
       "       'MINAUTO', 'VANEO', 'TOURNEO', 'LUPO', 'DURANGO', 'BRAVO', 'VOLT',\n",
       "       'SIGNUM', 'GTC4LUSSO', 'GMC', 'BENTAYGA', 'TR 7', '812', '626',\n",
       "       'TR 3', 'SEICENTO', 'SPYDER', 'MURANO', 'WRX STI', 'TIVOLI', 'LC',\n",
       "       'ACCENT', 'OLYMPIA', 'TIGRA', 'ALMERA TINO', 'MEHARI', 'CH 40',\n",
       "       'GRAND SANTA FE', 'WAGON R+', 'XJS', 'ELAN', 'THEMA', 'JOURNEY',\n",
       "       '604', 'GRANSPORT', 'VIPER', '400', 'EVORA', '309', 'PATHFINDER',\n",
       "       'MONDIAL', 'MAGENTIS', 'DS', 'SPEEDSTER', 'XJ8', '456', '45',\n",
       "       'SONATA', 'COBRA', 'TERIOS', 'A112', 'SPITFIRE', 'R5', 'C15',\n",
       "       '280', 'RODEO', '25', 'CONCERTO', 'GTV', 'KALINA', '720S',\n",
       "       'GRAND VITARA XL-7', 'ALPINE', 'ASCONA', 'TF', 'BETA', 'C10',\n",
       "       '570S', 'F', 'T', '348', '75', 'G', 'COPEN', '230', 'AROSA', '575',\n",
       "       'TIVOLI XLV', 'CT6', 'HHR', '512', 'BLUECAR', 'DB7', 'H2', 'D3',\n",
       "       'DAIMLER', 'BUGGY', '650 S', 'FORD', 'SEDICI', 'COMMANDER',\n",
       "       'SEVILLE', '80', 'SAFRANE', 'MULSANNE', 'C4 SPACETOURER', '360',\n",
       "       'PROWLER', 'THREEWHEELER', '1000', 'BLUESUMMER', 'OMEGA',\n",
       "       'PATRIOT', 'PUMA', 'ELDORADO', '928', '806', 'MINI-MOKE', 'ESPRIT',\n",
       "       'LEGACY', 'PS.160', 'CORNICHE', '250', 'BORA', 'SERIE 200',\n",
       "       'STRATUS', '180', 'TR 4', '365', 'FULVIA', 'TRAJET',\n",
       "       '75 LIMOUSINE BVA', 'AVENGER', '156', 'RODIUS', 'EX', 'MAREA',\n",
       "       'GHOST', 'YARIS VERSO', '550', 'SEBRING', 'JET', 'CITAN', '450',\n",
       "       'ESCORT', 'S7', 'NOVA', 'I-MIEV', 'AVENSIS VERSO', '2002', 'TR 5',\n",
       "       '1300', 'AMAROK', 'TREZIA', 'SRX', '126', 'TRACTION', 'XJ12',\n",
       "       '505', '560', 'LEBARON', 'STREAM', 'TESTAROSSA', '130', 'EPICA',\n",
       "       'EXPLORER', 'PALIO', 'ALMERA', 'KANGOO EXPRESS', 'GRANDIS', 'AX',\n",
       "       'STAG', 'MATERIA', 'DINO', 'CROSSBLADE', 'PLUS 4', 'D8', '675 LT',\n",
       "       'DB4', 'CH 26', 'XM', 'VANTAGE', 'CABSTAR', 'MAVERICK', '403',\n",
       "       'CX', 'EVASION', 'SHUTTLE', 'K5 BLAZER', 'EKE', 'CROSSLINE',\n",
       "       'GENESIS', '2600', '145', 'KARMA', 'B', '924', 'X-TOO MAX', 'GTA',\n",
       "       'STS', '3200 GT', 'TRAILBLAZER', 'CHEVELLE', 'NV200', 'CUTLASS',\n",
       "       'M', '166', 'B8', 'X-TOO', 'CERATO', 'TORONADO', 'S2', 'A610',\n",
       "       'ARNAGE', 'IMPALA', 'PLUS 8', 'SEVEN', 'CUBE', 'CX-9', 'DYANE',\n",
       "       'ELF', 'PREVIA', 'LAND', 'DUETTO', 'SILVERADO', 'EL CAMINO',\n",
       "       '2 ELEVEN', 'TC', 'CHARGER', 'BX'], dtype=object)"
      ]
     },
     "execution_count": 51,
     "metadata": {},
     "output_type": "execute_result"
    }
   ],
   "source": [
    "df1['Model'].unique()"
   ]
  },
  {
   "cell_type": "code",
   "execution_count": 52,
   "metadata": {},
   "outputs": [
    {
     "data": {
      "text/plain": [
       "array(['mécanique', 'automatique'], dtype=object)"
      ]
     },
     "execution_count": 52,
     "metadata": {},
     "output_type": "execute_result"
    }
   ],
   "source": [
    "df1['Gearbox'].unique()"
   ]
  },
  {
   "cell_type": "code",
   "execution_count": 53,
   "metadata": {},
   "outputs": [
    {
     "name": "stdout",
     "output_type": "stream",
     "text": [
      "make_label = {'HUMMER': 0, 'KIA': 1, 'CHATENET': 2, 'MICROCAR': 3, 'RENAULT': 4, 'ROLLS ROYCE': 5, 'AUSTIN': 6, 'JIAYUAN': 7, 'MASERATI': 8, 'MCLAREN': 9, 'SKODA': 10, 'ASTON MARTIN': 11, 'INTERMECCANICA': 12, 'CADILLAC': 13, 'HYUNDAI': 14, 'MERCEDES': 15, 'ALPINE': 16, 'SIMCA': 17, 'SUZUKI': 18, 'MG': 19, 'CHRYSLER': 20, 'AC': 21, 'AUTOBIANCHI': 22, 'ABARTH': 23, 'BENTLEY': 24, 'DANGEL': 25, 'LAND ROVER': 26, 'FISKER': 27, 'SHELBY': 28, 'MINI': 29, 'SUNBEAM': 30, 'PORSCHE': 31, 'SUBARU': 32, 'CHEVROLET': 33, 'PACKARD': 34, 'ALFA ROMEO': 35, 'LIGIER': 36, 'CITROEN': 37, 'NISSAN': 38, 'DODGE': 39, 'INFINITI': 40, 'SEAT': 41, 'MAZDA': 42, 'BUGATTI': 43, 'LAMBORGHINI': 44, 'FIAT': 45, 'LEXUS': 46, 'AUSTIN HEALEY': 47, 'ROVER': 48, 'JAGUAR': 49, 'DS': 50, 'DACIA': 51, 'BELLIER': 52, 'MERCEDES-AMG': 53, 'BMW-ALPINA': 54, 'DAEWOO': 55, 'VOLVO': 56, 'VOLKSWAGEN': 57, 'SSANGYONG': 58, 'BMW': 59, 'TRIUMPH': 60, 'ALPINA': 61, 'AIXAM': 62, 'PEUGEOT': 63, 'MATRA': 64, 'OPEL': 65, 'SAAB': 66, 'DONKERVOORT': 67, 'LANCIA': 68, 'BOLLORE': 69, 'OLDSMOBILE': 70, 'AUDI': 71, 'FORD': 72, 'INNOCENTI': 73, 'SMART': 74, 'JEEP': 75, 'MPM MOTORS': 76, 'GRECAV': 77, 'LOTUS': 78, 'HONDA': 79, 'LADA': 80, 'TOYOTA': 81, 'FERRARI': 82, 'MORGAN': 83, 'MITSUBISHI': 84, 'DAIHATSU': 85, 'TESLA': 86, 'RILEY': 87}\n",
      "model_label = {'EDGE': 0, '718': 1, 'SERIE 200': 2, 'SERIE 1': 3, 'UNO': 4, 'GRAND ESPACE': 5, 'ZOE': 6, 'Q2': 7, 'T-ROC': 8, 'GS': 9, 'FABIA': 10, 'VOLT': 11, 'INSIGNIA': 12, 'LAND CRUISER SW': 13, '99': 14, 'C4 CACTUS': 15, 'SX4 S-CROSS': 16, '190': 17, 'DYANE': 18, 'RIO': 19, 'CARAVELLE': 20, 'GRAND MODUS': 21, 'C-MAX': 22, 'S5': 23, 'MK II': 24, 'Q7': 25, 'FORESTER': 26, 'BORA': 27, 'LEON': 28, 'YETI': 29, 'X-TRAIL': 30, 'PLUS 8': 31, '200': 32, '159': 33, 'DS5': 34, 'LEAF': 35, 'PATRIOT': 36, '1007': 37, 'XE': 38, '207': 39, 'C15': 40, 'DURANGO': 41, 'POLO': 42, 'V60': 43, 'SLC': 44, 'CLASSE S': 45, 'MATRIX': 46, 'IMPREZA': 47, 'FLAVIA': 48, 'B': 49, 'CLASSE CLC': 50, 'A7': 51, 'MP4-12C': 52, 'ALPINE': 53, 'COUPE': 54, '5': 55, 'GMC': 56, 'S-MAX': 57, 'INSIGHT': 58, 'LODGY': 59, 'XC70': 60, 'CHEROKEE': 61, 'ASTRA': 62, 'XSARA': 63, 'LEBARON': 64, 'AVENSIS': 65, 'C3 AIRCROSS': 66, 'GRAND C-MAX': 67, 'TR 7': 68, 'REZZO': 69, 'C10': 70, 'CLASSE GLK': 71, 'SANDERO': 72, 'MACAN': 73, '4008': 74, 'SWIFT': 75, 'HURACAN': 76, 'A4 ALLROAD': 77, '911': 78, '25': 79, 'GLE COUPE': 80, 'STAG': 81, 'COLT': 82, 'CTS': 83, '307': 84, 'IDEA': 85, '2CV': 86, 'EXPLORER': 87, 'A1': 88, 'TERRACAN': 89, 'TOURNEO': 90, 'KALINA': 91, 'FREELANDER': 92, 'VIPER': 93, '924': 94, 'MX5': 95, '230': 96, 'CORNICHE': 97, 'CR-Z': 98, 'THREEWHEELER': 99, 'S2': 100, 'SAMURAI': 101, 'SUPERB': 102, 'ACCENT': 103, 'EVASION': 104, 'ALMERA TINO': 105, 'VOYAGER': 106, 'VERSO-S': 107, '1200': 108, 'PROACE VERSO': 109, '807': 110, '280': 111, 'MITO': 112, 'COUGAR': 113, 'SERIE 5 GT': 114, 'XC40': 115, '205': 116, 'STONIC': 117, 'A112': 118, 'AVENSIS VERSO': 119, 'ESCORT': 120, 'GT': 121, 'C3': 122, '570S': 123, '550': 124, 'I40': 125, 'CORDOBA': 126, 'FRONTERA': 127, 'NITRO': 128, 'LS': 129, 'KOLEOS': 130, 'IX55': 131, 'KYRON': 132, 'Q60': 133, 'STILO': 134, 'WILLYS': 135, 'PUNTO': 136, 'GRANDLAND X': 137, 'RENEGADE': 138, 'AGILA': 139, 'TESTAROSSA': 140, 'MONDEO': 141, 'K5 BLAZER': 142, 'DOKKER': 143, 'MUSTANG': 144, 'IGNIS': 145, '458': 146, 'FOCUS C-MAX': 147, 'ALHAMBRA': 148, 'MII': 149, 'COUNTRYMAN': 150, 'RS7': 151, 'DBS': 152, 'GRANSPORT': 153, 'SUBURBAN': 154, 'CROMA': 155, 'ANTARA': 156, 'FIESTA': 157, 'DB7': 158, '403': 159, '2008': 160, 'KA': 161, 'NOTE': 162, 'TOURAN': 163, 'ULYSSE': 164, 'CAYENNE': 165, 'XK8': 166, 'QASHQAI': 167, 'GTA': 168, 'Z4': 169, 'TRANSIT CUSTOM': 170, 'EXIGE': 171, 'C4': 172, '309': 173, 'MODEL X': 174, 'X3': 175, 'XD3': 176, 'GRAND SCENIC': 177, 'URBAN CRUISER': 178, 'CITIGO': 179, 'PASSAT CC': 180, 'GRANTURISMO': 181, 'JUMPY': 182, '4C': 183, 'SPACETOURER': 184, 'TR 3': 185, 'XM': 186, 'COPEN': 187, 'XK': 188, '500': 189, 'JS': 190, 'I30': 191, 'SEVILLE': 192, '500 X': 193, 'ECOSPORT': 194, 'TREVIS': 195, 'AVANTIME': 196, 'TYPE E': 197, 'E-PACE': 198, 'PICASSO': 199, '505': 200, 'BERLINGO': 201, 'RANGE ROVER': 202, 'AX': 203, 'SERIE 7': 204, 'LACETTI': 205, 'ALMERA': 206, 'M': 207, 'CARENS': 208, 'PROACE': 209, 'TOLEDO': 210, 'LC': 211, 'MATERIA': 212, 'FR-V': 213, 'DB9': 214, 'CADDY': 215, 'PRIUS+': 216, 'GOLF PLUS': 217, 'ELF': 218, 'SORENTO': 219, 'CT6': 220, 'MINAUTO': 221, 'YARIS': 222, 'P1800': 223, 'S1': 224, 'OCTAVIA': 225, 'GLA': 226, 'MAREA': 227, 'KAROQ': 228, 'CLIPPER': 229, 'C-ZERO': 230, 'TT': 231, '2002': 232, '604': 233, '80': 234, 'A610': 235, '130': 236, 'FOCUS': 237, 'CLASSE R': 238, '350Z': 239, 'XV': 240, 'XF': 241, 'TREZIA': 242, 'GHIBLI': 243, 'FF': 244, '75 LIMOUSINE BVA': 245, 'SUPER 5': 246, '180': 247, 'GHOST': 248, 'BRAVO': 249, 'X1': 250, 'ROOMSTER': 251, 'GALLOPER': 252, 'ESCALADE': 253, 'LAND': 254, '3000': 255, 'GRAND C4 SPACETOURER': 256, 'COBRA': 257, 'PRIMERA': 258, 'I10': 259, 'KUGA': 260, 'DS 7 CROSSBACK': 261, 'QX50': 262, '806': 263, 'CROSSOVER': 264, 'GRANCABRIO': 265, 'CX-7': 266, 'LATITUDE': 267, 'OLYMPIA': 268, 'JET': 269, 'DOBLO': 270, 'TOURNEO COURIER': 271, 'HR-V': 272, 'ACCORD': 273, 'BETA': 274, '928': 275, 'TOURNEO CONNECT': 276, 'R5': 277, '124': 278, '508 RXH': 279, 'TRAVELLER': 280, 'TIGUAN ALLSPACE': 281, 'BUGGY': 282, 'X1/9': 283, 'RANGE ROVER SPORT': 284, 'OMEGA': 285, 'AURIS': 286, 'GLS': 287, 'MEHARI': 288, 'TORONADO': 289, '145': 290, '45': 291, 'JAZZ': 292, 'TWIZY': 293, 'KALOS': 294, 'PLUS 4': 295, 'TC': 296, 'S40': 297, '3.0': 298, 'T': 299, 'GIULIA': 300, '1000': 301, '330': 302, 'PHAETON': 303, 'CLK': 304, 'MONDIAL': 305, 'GRAND CHEROKEE': 306, 'S3': 307, 'SIRION': 308, 'MOKKA': 309, 'DB11': 310, 'TF': 311, 'VENGA': 312, 'CROSSLAND X': 313, 'XJ12': 314, 'S60': 315, 'C-CROSSER': 316, 'RC': 317, 'ALLROAD': 318, 'BRAVA': 319, 'NEMO': 320, 'FORFOUR': 321, 'QUBO': 322, 'V70': 323, 'AROSA': 324, 'SLK': 325, 'NP300 NAVARA': 326, 'ROADSTER': 327, 'SHUMA': 328, 'PRIUS': 329, '944': 330, 'S8': 331, 'WAGON R+': 332, 'CORVETTE': 333, 'CC': 334, 'SATELLITE': 335, 'PATHFINDER': 336, 'YPSILON': 337, 'CITY': 338, 'SHUTTLE': 339, 'YARIS VERSO': 340, 'PHANTOM': 341, 'GT86': 342, 'SUNNY': 343, 'NIRO': 344, 'SPACE STAR': 345, 'PARTNER': 346, 'SERIE 5': 347, 'A6': 348, 'C-HR': 349, 'SPLASH': 350, 'TT RS': 351, 'IBIZA': 352, 'PICANTO': 353, 'SPEEDSTER': 354, 'IX35': 355, 'MULTIVAN': 356, 'NV200': 357, 'Q70': 358, 'CABSTAR': 359, 'TTS': 360, 'E-MEHARI': 361, 'DS': 362, 'ARNAGE': 363, 'DAWN': 364, 'TRAX': 365, 'MAGENTIS': 366, 'PIXO': 367, 'C4 SPACETOURER': 368, '300 C': 369, '306': 370, 'TRAJET': 371, 'TR 6': 372, 'CERATO': 373, 'OUTBACK': 374, 'GT 500': 375, 'KA+': 376, '812 SUPERFAST': 377, 'EXPERT TEPEE': 378, 'KARMA': 379, '2600': 380, 'V40 CROSS COUNTRY': 381, 'UP!': 382, 'RANGE ROVER EVOQUE': 383, 'A6 ALLROAD': 384, 'ATECA': 385, 'QX70': 386, '488': 387, 'TRAILBLAZER': 388, '500 L': 389, 'MALIBU': 390, 'JUKE': 391, 'X5': 392, 'VECTRA': 393, 'CLASSE A': 394, 'V50': 395, 'P4': 396, 'LEVORG': 397, 'AVENGER': 398, 'GRAND C4 PICASSO': 399, 'FIORINO': 400, 'BENTAYGA': 401, 'CONCERTO': 402, 'C2': 403, 'COCCINELLE': 404, 'DAIMLER': 405, 'R8': 406, 'GALAXY': 407, 'CLA': 408, 'SQ7': 409, 'A4': 410, 'CROSSFIRE': 411, 'COROLLA VERSO': 412, 'DB4': 413, 'XJ8': 414, 'EVORA': 415, 'ASCONA': 416, 'CROSSLINE': 417, 'ELAN': 418, 'RS6': 419, 'WRANGLER': 420, 'F': 421, 'AVENTADOR': 422, 'SILVERADO': 423, 'X2': 424, 'IONIQ': 425, 'PROWLER': 426, 'RODEO': 427, 'CUBE': 428, 'LAGUNA': 429, 'C1': 430, '575': 431, 'ECLIPSE CROSS': 432, 'C4 PICASSO': 433, 'A8': 434, 'X-TYPE': 435, 'EL CAMINO': 436, 'GOLF': 437, 'SPRITE': 438, 'SC': 439, 'ZAFIRA': 440, 'MODUS': 441, 'SERIE 4': 442, 'XC90': 443, 'GOLF SPORTSVAN': 444, 'TOUAREG': 445, 'TERIOS': 446, '75': 447, 'R4': 448, 'SPARK': 449, 'VANQUISH': 450, 'KANGOO': 451, 'RAPID': 452, 'CITY FUN': 453, 'PANAMERA': 454, 'ELDORADO': 455, 'S80': 456, '504': 457, '720S': 458, 'CUTLASS': 459, 'X-TOO MAX': 460, '612': 461, 'CX-9': 462, 'ION': 463, '812': 464, 'CH 26': 465, '121': 466, 'GENESIS': 467, 'LAND CRUISER': 468, 'SLS': 469, 'B8': 470, 'SANTA FE': 471, 'SERIE 3': 472, '599': 473, 'DS 4': 474, 'ZAFIRA TOURER': 475, 'PREVIA': 476, 'I20': 477, 'MODEL S': 478, '126': 479, 'VANEO': 480, 'Q5': 481, 'KONA': 482, 'IX20': 483, '420': 484, 'SRX': 485, 'MATIZ': 486, 'COMPASS': 487, 'MURANO': 488, '560': 489, 'VANTAGE': 490, 'CLASSE B': 491, 'F355': 492, 'Z3': 493, 'IS': 494, 'ORLANDO': 495, 'BRERA': 496, 'NX': 497, 'CUSTOM': 498, 'GIULIETTA': 499, 'OUTLANDER': 500, 'M.GO': 501, 'SIERRA': 502, 'SILVER SHADOW': 503, 'TIVOLI': 504, 'I3': 505, '626': 506, '508': 507, 'CT': 508, 'CH 40': 509, 'GLC': 510, 'ADAM': 511, 'A3': 512, 'LUPO': 513, 'SAXO': 514, '33': 515, 'QUATTROPORTE': 516, 'MINI': 517, '3008': 518, 'ELISE': 519, 'DS3': 520, 'AYGO': 521, 'CEE D': 522, 'V60 CROSS COUNTRY': 523, 'SERIE 3 GT': 524, 'THESIS': 525, 'DS 4 CROSSBACK': 526, 'VITARA': 527, 'DISCOVERY': 528, 'PULSAR': 529, '1300': 530, 'C30': 531, 'C8': 532, 'CX-3': 533, 'CITAN': 534, 'D8': 535, 'PUMA': 536, 'C-ELYSEE': 537, 'SEBRING': 538, 'ATOS': 539, 'IMPALA': 540, 'C25': 541, 'TWINGO': 542, 'MUSA': 543, 'SERIE 2': 544, 'CLASSE GL': 545, 'RS Q3': 546, 'SM': 547, 'BIPPER TEPEE': 548, 'FULVIA': 549, 'GRAND TOURNEO CONNECT': 550, 'COMBO': 551, 'MINI CABRIOLET': 552, 'RAV 4': 553, '106': 554, 'SPITFIRE': 555, 'RCZ': 556, '650 S': 557, 'EPICA': 558, 'WRAITH': 559, 'CALIFORNIA': 560, 'CLASSE E': 561, 'CAPTUR': 562, '206+': 563, 'PATROL': 564, 'V90': 565, 'GLE': 566, 'B3 S': 567, 'LEVANTE': 568, 'ESPRIT': 569, 'EXEO': 570, 'STRATUS': 571, 'PUNTO EVO': 572, 'MINI-MOKE': 573, 'ALTEA FREETRACK': 574, 'SONATA': 575, 'X4': 576, 'SCIROCCO': 577, 'H2': 578, 'GRAND VOYAGER': 579, 'H1': 580, 'ASX': 581, 'TUCSON': 582, 'VIRAGE': 583, 'SPORTAGE': 584, 'DS4': 585, 'CROSSBLADE': 586, 'DELTA': 587, 'DISCOVERY SPORT': 588, 'V90 CROSS COUNTRY': 589, 'CIVIC': 590, '250': 591, 'S7': 592, 'WRX STI': 593, 'SQ5': 594, 'PASSAT': 595, 'LOGAN': 596, 'SEICENTO': 597, 'SAFRANE': 598, 'BOXSTER': 599, '9-5': 600, '308': 601, 'XC60': 602, 'CX-5': 603, 'EOS': 604, '107': 605, '146': 606, 'C6': 607, 'MULTIPLA': 608, 'THUNDERBIRD': 609, 'BLUESUMMER': 610, 'SCENIC': 611, 'COMMANDER': 612, 'MULSANNE': 613, '348': 614, 'XKR': 615, 'G': 616, 'FORD': 617, 'SHARAN': 618, 'RX': 619, 'TERRANO': 620, 'SOUL': 621, 'D3': 622, 'STS': 623, 'CLASSE C': 624, 'GTV': 625, 'CAPTIVA': 626, '400': 627, '2 ELEVEN': 628, 'CELERIO': 629, 'KODIAQ': 630, 'GALLARDO': 631, 'VEL SATIS': 632, 'MICRA': 633, 'MEGANE': 634, '3200 GT': 635, 'MINI ROADSTER': 636, 'RODIUS': 637, 'FORTWO': 638, 'JIMNY': 639, 'X6': 640, '356': 641, 'CALIBER': 642, 'EKE': 643, 'PHEDRA': 644, 'ESPACE': 645, 'CAMARO': 646, 'DUE': 647, 'ALTEA': 648, 'RAPIDE': 649, 'CLASSE V': 650, 'ATOS PRIME': 651, 'BLUECAR': 652, '2': 653, 'PS.160': 654, 'DUSTER': 655, 'ALTO': 656, 'GRANDIS': 657, 'GETZ': 658, 'DEFENDER': 659, 'CLASSE G': 660, 'TIGUAN': 661, 'X-TOO': 662, 'VERSO': 663, '6': 664, 'C5': 665, 'QX30': 666, '160': 667, 'MINI CLUBMAN': 668, 'VELOSTER': 669, 'ARONA': 670, 'Q50': 671, 'FOX': 672, 'C': 673, 'AMI': 674, '4007': 675, 'S6': 676, 'B-MAX': 677, 'CL': 678, 'COROLLA': 679, 'BARCHETTA': 680, 'RS3': 681, 'S4': 682, 'STINGER': 683, 'TIGRA': 684, 'KARL': 685, 'IQ': 686, '147': 687, 'RANGE ROVER VELAR': 688, '206': 689, 'TALISMAN': 690, '360': 691, 'C4 AIRCROSS': 692, 'A': 693, 'CHALLENGER': 694, 'GRAND SANTA FE': 695, 'Q3': 696, 'XJ': 697, '456': 698, 'BALENO': 699, 'GTC4LUSSO': 700, 'MUSSO': 701, 'S90': 702, 'MERIVA': 703, 'NIVA': 704, 'JETTA': 705, 'XJS': 706, '365': 707, 'NEW BEETLE': 708, 'MINI COUPE': 709, 'C3 PLURIEL': 710, 'C3 PICASSO': 711, 'S-TYPE': 712, 'DS 3': 713, 'HHR': 714, '5008': 715, 'ROADSTER V6': 716, '512': 717, 'TIPO': 718, 'I8': 719, 'TIVOLI XLV': 720, 'TRACTION': 721, 'KANGOO EXPRESS': 722, 'KADJAR': 723, 'ZX': 724, 'EX': 725, 'F150': 726, 'CX': 727, 'Q30': 728, 'CONTINENTAL': 729, 'AMAROK': 730, '4/4': 731, 'EVALIA': 732, 'PALIO': 733, 'TAHOE': 734, '407': 735, 'C70': 736, 'SEDICI': 737, '156': 738, 'SEVEN': 739, 'V8 VANTAGE': 740, 'REXTON': 741, 'SPYDER': 742, '208': 743, 'XANTIA': 744, '607': 745, 'CAYMAN': 746, 'LIANA': 747, 'BX': 748, 'PACEMAN': 749, 'TR 5': 750, 'PRO CEE D': 751, 'I-MIEV': 752, 'A5': 753, 'FLYING SPUR': 754, 'A2': 755, 'BRZ': 756, 'OPTIMA': 757, 'CHARGER': 758, 'CHEVELLE': 759, 'SERIE 6': 760, 'PAJERO': 761, 'CR-V': 762, 'ARTEON': 763, 'RS4': 764, 'FREEMONT': 765, 'RS5': 766, 'GRANDE PUNTO': 767, 'SIGNUM': 768, 'AVEO': 769, 'CRUZE': 770, 'F-PACE': 771, 'THEMA': 772, 'SX4': 773, 'GRAND KANGOO': 774, 'QASHQAI +2': 775, 'MURCIELAGO': 776, 'H3': 777, 'FLUENCE': 778, 'CLASSE CLS': 779, 'LEGACY': 780, 'MOKKA X': 781, '675 LT': 782, '370Z': 783, 'F-TYPE': 784, 'CLIO': 785, 'VIANO': 786, 'PARTNER TEPEE': 787, 'PANDA': 788, '300': 789, 'DUETTO': 790, 'GRAND VITARA': 791, 'DS 5': 792, '406': 793, '108': 794, 'CORSA': 795, 'GRAND VITARA XL-7': 796, 'WIND': 797, 'V40': 798, 'FX': 799, 'LANCER': 800, 'STREAM': 801, '3': 802, 'F12': 803, '9-3': 804, 'MAVERICK': 805, 'CASCADA': 806, 'SMART': 807, 'VEYRON': 808, 'CARNIVAL': 809, 'JUSTY': 810, '450': 811, '166': 812, 'F430': 813, 'KORANDO': 814, 'TR 4': 815, 'JOURNEY': 816, 'ALFETTA': 817, 'FUSION': 818, '404': 819, 'DINO': 820, 'GT-R': 821, 'AERO 8': 822, 'CLASSE M': 823, 'PT CRUISER': 824, 'SPIDER': 825, 'NOVA': 826, 'SL': 827, 'STELVIO': 828, '207+': 829, 'GLC COUPE': 830}\n",
      "fuel_label = {'Bicarburation essence GPL': 0, 'Hybride essence électrique': 1, 'Electrique': 2, 'Hybride diesel électrique': 3, 'Essence': 4, 'Diesel': 5, 'Bicarburation essence bioéthanol': 6}\n",
      "gearbox_label = {'automatique': 0, 'mécanique': 1}\n"
     ]
    }
   ],
   "source": [
    "print('make_label = {}'.format(make_label))\n",
    "print('model_label = {}'.format(model_label))\n",
    "print('fuel_label = {}'.format(fuel_label))\n",
    "print('gearbox_label = {}'.format(gearbox_label))"
   ]
  },
  {
   "cell_type": "code",
   "execution_count": 54,
   "metadata": {},
   "outputs": [
    {
     "data": {
      "text/html": [
       "<div>\n",
       "<style scoped>\n",
       "    .dataframe tbody tr th:only-of-type {\n",
       "        vertical-align: middle;\n",
       "    }\n",
       "\n",
       "    .dataframe tbody tr th {\n",
       "        vertical-align: top;\n",
       "    }\n",
       "\n",
       "    .dataframe thead th {\n",
       "        text-align: right;\n",
       "    }\n",
       "</style>\n",
       "<table border=\"1\" class=\"dataframe\">\n",
       "  <thead>\n",
       "    <tr style=\"text-align: right;\">\n",
       "      <th></th>\n",
       "      <th>Price</th>\n",
       "      <th>Make</th>\n",
       "      <th>Model</th>\n",
       "      <th>Model_year</th>\n",
       "      <th>Mileage</th>\n",
       "      <th>Fuel</th>\n",
       "      <th>Gearbox</th>\n",
       "      <th>Nbre_porte</th>\n",
       "      <th>CV</th>\n",
       "    </tr>\n",
       "  </thead>\n",
       "  <tbody>\n",
       "    <tr>\n",
       "      <th>0</th>\n",
       "      <td>11220.0</td>\n",
       "      <td>PEUGEOT</td>\n",
       "      <td>308</td>\n",
       "      <td>4</td>\n",
       "      <td>94341.0</td>\n",
       "      <td>Diesel</td>\n",
       "      <td>mécanique</td>\n",
       "      <td>5</td>\n",
       "      <td>4</td>\n",
       "    </tr>\n",
       "    <tr>\n",
       "      <th>1</th>\n",
       "      <td>57526.0</td>\n",
       "      <td>BMW</td>\n",
       "      <td>X6</td>\n",
       "      <td>3</td>\n",
       "      <td>39051.0</td>\n",
       "      <td>Diesel</td>\n",
       "      <td>automatique</td>\n",
       "      <td>5</td>\n",
       "      <td>16</td>\n",
       "    </tr>\n",
       "    <tr>\n",
       "      <th>2</th>\n",
       "      <td>80379.0</td>\n",
       "      <td>AUDI</td>\n",
       "      <td>RS6</td>\n",
       "      <td>4</td>\n",
       "      <td>75381.0</td>\n",
       "      <td>Essence</td>\n",
       "      <td>automatique</td>\n",
       "      <td>5</td>\n",
       "      <td>47</td>\n",
       "    </tr>\n",
       "    <tr>\n",
       "      <th>3</th>\n",
       "      <td>2830.0</td>\n",
       "      <td>FORD</td>\n",
       "      <td>KA</td>\n",
       "      <td>11</td>\n",
       "      <td>92282.0</td>\n",
       "      <td>Essence</td>\n",
       "      <td>mécanique</td>\n",
       "      <td>3</td>\n",
       "      <td>5</td>\n",
       "    </tr>\n",
       "    <tr>\n",
       "      <th>4</th>\n",
       "      <td>12925.0</td>\n",
       "      <td>FIAT</td>\n",
       "      <td>TIPO</td>\n",
       "      <td>0</td>\n",
       "      <td>10.0</td>\n",
       "      <td>Essence</td>\n",
       "      <td>mécanique</td>\n",
       "      <td>5</td>\n",
       "      <td>5</td>\n",
       "    </tr>\n",
       "  </tbody>\n",
       "</table>\n",
       "</div>"
      ],
      "text/plain": [
       "     Price     Make Model  Model_year  Mileage     Fuel      Gearbox  \\\n",
       "0  11220.0  PEUGEOT   308           4  94341.0   Diesel    mécanique   \n",
       "1  57526.0      BMW    X6           3  39051.0   Diesel  automatique   \n",
       "2  80379.0     AUDI   RS6           4  75381.0  Essence  automatique   \n",
       "3   2830.0     FORD    KA          11  92282.0  Essence    mécanique   \n",
       "4  12925.0     FIAT  TIPO           0     10.0  Essence    mécanique   \n",
       "\n",
       "   Nbre_porte  CV  \n",
       "0           5   4  \n",
       "1           5  16  \n",
       "2           5  47  \n",
       "3           3   5  \n",
       "4           5   5  "
      ]
     },
     "execution_count": 54,
     "metadata": {},
     "output_type": "execute_result"
    }
   ],
   "source": [
    "df1.head()"
   ]
  },
  {
   "cell_type": "code",
   "execution_count": 55,
   "metadata": {},
   "outputs": [],
   "source": [
    "df1['Make'] = df1['Make'].map(make_label)\n",
    "df1['Model'] = df1['Model'].map(model_label)\n",
    "df1['Fuel'] = df1['Fuel'].map(fuel_label)\n",
    "df1['Gearbox'] = df1['Gearbox'].map(gearbox_label)"
   ]
  },
  {
   "cell_type": "code",
   "execution_count": 57,
   "metadata": {},
   "outputs": [],
   "source": [
    "df2 = (df1 - df1.mean()) / (df1.std())"
   ]
  },
  {
   "cell_type": "code",
   "execution_count": 58,
   "metadata": {},
   "outputs": [
    {
     "data": {
      "text/html": [
       "<div>\n",
       "<style scoped>\n",
       "    .dataframe tbody tr th:only-of-type {\n",
       "        vertical-align: middle;\n",
       "    }\n",
       "\n",
       "    .dataframe tbody tr th {\n",
       "        vertical-align: top;\n",
       "    }\n",
       "\n",
       "    .dataframe thead th {\n",
       "        text-align: right;\n",
       "    }\n",
       "</style>\n",
       "<table border=\"1\" class=\"dataframe\">\n",
       "  <thead>\n",
       "    <tr style=\"text-align: right;\">\n",
       "      <th></th>\n",
       "      <th>Price</th>\n",
       "      <th>Make</th>\n",
       "      <th>Model</th>\n",
       "      <th>Model_year</th>\n",
       "      <th>Mileage</th>\n",
       "      <th>Fuel</th>\n",
       "      <th>Gearbox</th>\n",
       "      <th>Nbre_porte</th>\n",
       "      <th>CV</th>\n",
       "    </tr>\n",
       "  </thead>\n",
       "  <tbody>\n",
       "    <tr>\n",
       "      <th>0</th>\n",
       "      <td>11220.0</td>\n",
       "      <td>63</td>\n",
       "      <td>601</td>\n",
       "      <td>4</td>\n",
       "      <td>94341.0</td>\n",
       "      <td>5</td>\n",
       "      <td>1</td>\n",
       "      <td>5</td>\n",
       "      <td>4</td>\n",
       "    </tr>\n",
       "    <tr>\n",
       "      <th>1</th>\n",
       "      <td>57526.0</td>\n",
       "      <td>59</td>\n",
       "      <td>640</td>\n",
       "      <td>3</td>\n",
       "      <td>39051.0</td>\n",
       "      <td>5</td>\n",
       "      <td>0</td>\n",
       "      <td>5</td>\n",
       "      <td>16</td>\n",
       "    </tr>\n",
       "    <tr>\n",
       "      <th>2</th>\n",
       "      <td>80379.0</td>\n",
       "      <td>71</td>\n",
       "      <td>419</td>\n",
       "      <td>4</td>\n",
       "      <td>75381.0</td>\n",
       "      <td>4</td>\n",
       "      <td>0</td>\n",
       "      <td>5</td>\n",
       "      <td>47</td>\n",
       "    </tr>\n",
       "    <tr>\n",
       "      <th>3</th>\n",
       "      <td>2830.0</td>\n",
       "      <td>72</td>\n",
       "      <td>161</td>\n",
       "      <td>11</td>\n",
       "      <td>92282.0</td>\n",
       "      <td>4</td>\n",
       "      <td>1</td>\n",
       "      <td>3</td>\n",
       "      <td>5</td>\n",
       "    </tr>\n",
       "    <tr>\n",
       "      <th>4</th>\n",
       "      <td>12925.0</td>\n",
       "      <td>45</td>\n",
       "      <td>718</td>\n",
       "      <td>0</td>\n",
       "      <td>10.0</td>\n",
       "      <td>4</td>\n",
       "      <td>1</td>\n",
       "      <td>5</td>\n",
       "      <td>5</td>\n",
       "    </tr>\n",
       "  </tbody>\n",
       "</table>\n",
       "</div>"
      ],
      "text/plain": [
       "     Price  Make  Model  Model_year  Mileage  Fuel  Gearbox  Nbre_porte  CV\n",
       "0  11220.0    63    601           4  94341.0     5        1           5   4\n",
       "1  57526.0    59    640           3  39051.0     5        0           5  16\n",
       "2  80379.0    71    419           4  75381.0     4        0           5  47\n",
       "3   2830.0    72    161          11  92282.0     4        1           3   5\n",
       "4  12925.0    45    718           0     10.0     4        1           5   5"
      ]
     },
     "execution_count": 58,
     "metadata": {},
     "output_type": "execute_result"
    }
   ],
   "source": [
    "df1.head()"
   ]
  },
  {
   "cell_type": "code",
   "execution_count": 59,
   "metadata": {},
   "outputs": [
    {
     "data": {
      "text/plain": [
       "Price         float64\n",
       "Make            int64\n",
       "Model           int64\n",
       "Model_year      int16\n",
       "Mileage       float64\n",
       "Fuel            int64\n",
       "Gearbox         int64\n",
       "Nbre_porte      int64\n",
       "CV              int64\n",
       "dtype: object"
      ]
     },
     "execution_count": 59,
     "metadata": {},
     "output_type": "execute_result"
    }
   ],
   "source": [
    "df1.dtypes"
   ]
  },
  {
   "cell_type": "code",
   "execution_count": 60,
   "metadata": {},
   "outputs": [
    {
     "data": {
      "text/plain": [
       "<matplotlib.axes._subplots.AxesSubplot at 0x118784cc0>"
      ]
     },
     "execution_count": 60,
     "metadata": {},
     "output_type": "execute_result"
    },
    {
     "data": {
      "image/png": "[encoded data removed]",
      "text/plain": [
       "<Figure size 720x432 with 2 Axes>"
      ]
     },
     "metadata": {
      "needs_background": "light"
     },
     "output_type": "display_data"
    }
   ],
   "source": [
    "plt.figure(figsize=(10,6))\n",
    "sns.heatmap(df1.corr(), annot=True)"
   ]
  },
  {
   "cell_type": "code",
   "execution_count": 61,
   "metadata": {},
   "outputs": [
    {
     "data": {
      "text/html": [
       "<div>\n",
       "<style scoped>\n",
       "    .dataframe tbody tr th:only-of-type {\n",
       "        vertical-align: middle;\n",
       "    }\n",
       "\n",
       "    .dataframe tbody tr th {\n",
       "        vertical-align: top;\n",
       "    }\n",
       "\n",
       "    .dataframe thead th {\n",
       "        text-align: right;\n",
       "    }\n",
       "</style>\n",
       "<table border=\"1\" class=\"dataframe\">\n",
       "  <thead>\n",
       "    <tr style=\"text-align: right;\">\n",
       "      <th></th>\n",
       "      <th>Price</th>\n",
       "      <th>Make</th>\n",
       "      <th>Model</th>\n",
       "      <th>Model_year</th>\n",
       "      <th>Mileage</th>\n",
       "      <th>Fuel</th>\n",
       "      <th>Gearbox</th>\n",
       "      <th>Nbre_porte</th>\n",
       "      <th>CV</th>\n",
       "    </tr>\n",
       "  </thead>\n",
       "  <tbody>\n",
       "    <tr>\n",
       "      <th>count</th>\n",
       "      <td>1.654060e+05</td>\n",
       "      <td>165406.000000</td>\n",
       "      <td>165406.000000</td>\n",
       "      <td>165406.000000</td>\n",
       "      <td>1.654060e+05</td>\n",
       "      <td>165406.000000</td>\n",
       "      <td>165406.000000</td>\n",
       "      <td>165406.000000</td>\n",
       "      <td>165406.000000</td>\n",
       "    </tr>\n",
       "    <tr>\n",
       "      <th>mean</th>\n",
       "      <td>1.932165e+04</td>\n",
       "      <td>41.810321</td>\n",
       "      <td>441.015761</td>\n",
       "      <td>3.378656</td>\n",
       "      <td>4.675428e+04</td>\n",
       "      <td>4.594749</td>\n",
       "      <td>0.677279</td>\n",
       "      <td>4.690785</td>\n",
       "      <td>7.061207</td>\n",
       "    </tr>\n",
       "    <tr>\n",
       "      <th>std</th>\n",
       "      <td>1.635159e+04</td>\n",
       "      <td>24.823871</td>\n",
       "      <td>242.676161</td>\n",
       "      <td>8.298584</td>\n",
       "      <td>4.801981e+04</td>\n",
       "      <td>0.691782</td>\n",
       "      <td>0.467518</td>\n",
       "      <td>0.767870</td>\n",
       "      <td>4.735703</td>\n",
       "    </tr>\n",
       "    <tr>\n",
       "      <th>min</th>\n",
       "      <td>1.000000e+00</td>\n",
       "      <td>0.000000</td>\n",
       "      <td>0.000000</td>\n",
       "      <td>-3000.000000</td>\n",
       "      <td>1.000000e+00</td>\n",
       "      <td>0.000000</td>\n",
       "      <td>0.000000</td>\n",
       "      <td>0.000000</td>\n",
       "      <td>0.000000</td>\n",
       "    </tr>\n",
       "    <tr>\n",
       "      <th>25%</th>\n",
       "      <td>1.131900e+04</td>\n",
       "      <td>15.000000</td>\n",
       "      <td>189.000000</td>\n",
       "      <td>1.000000</td>\n",
       "      <td>9.159000e+03</td>\n",
       "      <td>4.000000</td>\n",
       "      <td>0.000000</td>\n",
       "      <td>5.000000</td>\n",
       "      <td>5.000000</td>\n",
       "    </tr>\n",
       "    <tr>\n",
       "      <th>50%</th>\n",
       "      <td>1.578200e+04</td>\n",
       "      <td>45.000000</td>\n",
       "      <td>499.000000</td>\n",
       "      <td>2.000000</td>\n",
       "      <td>3.040900e+04</td>\n",
       "      <td>5.000000</td>\n",
       "      <td>1.000000</td>\n",
       "      <td>5.000000</td>\n",
       "      <td>6.000000</td>\n",
       "    </tr>\n",
       "    <tr>\n",
       "      <th>75%</th>\n",
       "      <td>2.270800e+04</td>\n",
       "      <td>63.000000</td>\n",
       "      <td>634.000000</td>\n",
       "      <td>5.000000</td>\n",
       "      <td>7.311175e+04</td>\n",
       "      <td>5.000000</td>\n",
       "      <td>1.000000</td>\n",
       "      <td>5.000000</td>\n",
       "      <td>8.000000</td>\n",
       "    </tr>\n",
       "    <tr>\n",
       "      <th>max</th>\n",
       "      <td>1.486500e+06</td>\n",
       "      <td>87.000000</td>\n",
       "      <td>830.000000</td>\n",
       "      <td>118.000000</td>\n",
       "      <td>1.418551e+06</td>\n",
       "      <td>6.000000</td>\n",
       "      <td>1.000000</td>\n",
       "      <td>6.000000</td>\n",
       "      <td>81.000000</td>\n",
       "    </tr>\n",
       "  </tbody>\n",
       "</table>\n",
       "</div>"
      ],
      "text/plain": [
       "              Price           Make          Model     Model_year  \\\n",
       "count  1.654060e+05  165406.000000  165406.000000  165406.000000   \n",
       "mean   1.932165e+04      41.810321     441.015761       3.378656   \n",
       "std    1.635159e+04      24.823871     242.676161       8.298584   \n",
       "min    1.000000e+00       0.000000       0.000000   -3000.000000   \n",
       "25%    1.131900e+04      15.000000     189.000000       1.000000   \n",
       "50%    1.578200e+04      45.000000     499.000000       2.000000   \n",
       "75%    2.270800e+04      63.000000     634.000000       5.000000   \n",
       "max    1.486500e+06      87.000000     830.000000     118.000000   \n",
       "\n",
       "            Mileage           Fuel        Gearbox     Nbre_porte  \\\n",
       "count  1.654060e+05  165406.000000  165406.000000  165406.000000   \n",
       "mean   4.675428e+04       4.594749       0.677279       4.690785   \n",
       "std    4.801981e+04       0.691782       0.467518       0.767870   \n",
       "min    1.000000e+00       0.000000       0.000000       0.000000   \n",
       "25%    9.159000e+03       4.000000       0.000000       5.000000   \n",
       "50%    3.040900e+04       5.000000       1.000000       5.000000   \n",
       "75%    7.311175e+04       5.000000       1.000000       5.000000   \n",
       "max    1.418551e+06       6.000000       1.000000       6.000000   \n",
       "\n",
       "                  CV  \n",
       "count  165406.000000  \n",
       "mean        7.061207  \n",
       "std         4.735703  \n",
       "min         0.000000  \n",
       "25%         5.000000  \n",
       "50%         6.000000  \n",
       "75%         8.000000  \n",
       "max        81.000000  "
      ]
     },
     "execution_count": 61,
     "metadata": {},
     "output_type": "execute_result"
    }
   ],
   "source": [
    "df1.describe()"
   ]
  },
  {
   "cell_type": "markdown",
   "metadata": {},
   "source": [
    "## X & Y "
   ]
  },
  {
   "cell_type": "code",
   "execution_count": 62,
   "metadata": {},
   "outputs": [],
   "source": [
    "Xfeatures = df1[[\n",
    "    \"Make\",\n",
    "    \"Model\", \n",
    "    \"Model_year\",\n",
    "    \"Mileage\",\n",
    "    \"Fuel\",\n",
    "    \"CV\",\n",
    "    \"Nbre_porte\",\n",
    "    \"Gearbox\"   \n",
    "]]\n",
    "ylabels = df1['Price']"
   ]
  },
  {
   "cell_type": "markdown",
   "metadata": {},
   "source": [
    "## Split Dataset"
   ]
  },
  {
   "cell_type": "code",
   "execution_count": 65,
   "metadata": {},
   "outputs": [],
   "source": [
    "X_train, X_test, Y_train, Y_test = train_test_split(Xfeatures, ylabels, test_size=0.30, random_state=42)"
   ]
  },
  {
   "cell_type": "code",
   "execution_count": 66,
   "metadata": {},
   "outputs": [],
   "source": [
    "lreg = LinearRegression()"
   ]
  },
  {
   "cell_type": "code",
   "execution_count": 67,
   "metadata": {},
   "outputs": [],
   "source": [
    "lreg.fit(X_train, Y_train)\n",
    "y_pred = lreg.predict(X_test)"
   ]
  },
  {
   "cell_type": "code",
   "execution_count": 68,
   "metadata": {},
   "outputs": [
    {
     "data": {
      "text/plain": [
       "136248550.4193922"
      ]
     },
     "execution_count": 68,
     "metadata": {},
     "output_type": "execute_result"
    }
   ],
   "source": [
    "mean_squared_error(Y_test, y_pred)"
   ]
  },
  {
   "cell_type": "code",
   "execution_count": 69,
   "metadata": {},
   "outputs": [
    {
     "data": {
      "text/plain": [
       "187.9901191896427"
      ]
     },
     "execution_count": 69,
     "metadata": {},
     "output_type": "execute_result"
    }
   ],
   "source": [
    "mean_absolute_percentage_error(Y_test, y_pred)"
   ]
  },
  {
   "cell_type": "code",
   "execution_count": 70,
   "metadata": {},
   "outputs": [
    {
     "data": {
      "text/plain": [
       "0.5453874755183399"
      ]
     },
     "execution_count": 70,
     "metadata": {},
     "output_type": "execute_result"
    }
   ],
   "source": [
    "r2_score(Y_test, y_pred)"
   ]
  },
  {
   "cell_type": "code",
   "execution_count": null,
   "metadata": {},
   "outputs": [],
   "source": []
  }
 ],
 "metadata": {
  "kernelspec": {
   "display_name": "Python 3",
   "language": "python",
   "name": "python3"
  },
  "language_info": {
   "codemirror_mode": {
    "name": "ipython",
    "version": 3
   },
   "file_extension": ".py",
   "mimetype": "text/x-python",
   "name": "python",
   "nbconvert_exporter": "python",
   "pygments_lexer": "ipython3",
   "version": "3.6.8"
  }
 },
 "nbformat": 4,
 "nbformat_minor": 2
}
